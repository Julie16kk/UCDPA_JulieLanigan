{
 "cells": [
  {
   "cell_type": "markdown",
   "metadata": {},
   "source": [
    "## Step 1:\n",
    "Create new project folder and Python file - UCDPA_JulieLanigan<br>\n",
    "Import required libraries, pandas/seaborn/Numpy/Matplotlib"
   ]
  },
  {
   "cell_type": "code",
   "execution_count": 2,
   "metadata": {},
   "outputs": [],
   "source": [
    "import pandas as pd\n",
    "import seaborn as sns\n",
    "from datetime import datetime\n",
    "import numpy as np\n",
    "import matplotlib.pyplot as plt"
   ]
  },
  {
   "cell_type": "markdown",
   "metadata": {},
   "source": [
    "# Section 2: Importing data"
   ]
  },
  {
   "cell_type": "markdown",
   "metadata": {},
   "source": [
    "## Step 2:\n",
    "**Importing:** <br> Download .csv files to Data folder within project file<br>\n",
    "Import files to project using pandas"
   ]
  },
  {
   "cell_type": "code",
   "execution_count": 3,
   "metadata": {},
   "outputs": [],
   "source": [
    "aaplData = pd.read_csv('Data/AAPL.csv', engine='python')"
   ]
  },
  {
   "cell_type": "code",
   "execution_count": 4,
   "metadata": {},
   "outputs": [],
   "source": [
    "amazonData = pd.read_csv('Data/Amazon.csv', engine='python')"
   ]
  },
  {
   "cell_type": "markdown",
   "metadata": {},
   "source": [
    "## Step 3:\n",
    "**API:** <br> Import data from an online API<br>\n",
    "Data used is Quarterly Market Information Indices from data.gov.ie<br>\n",
    "The requests.get(api_path).text pulls the data from the API we used.<br>\n",
    "The json.loads() function then parses the data into a JSON format."
   ]
  },
  {
   "cell_type": "code",
   "execution_count": 5,
   "metadata": {},
   "outputs": [],
   "source": [
    "import requests\n",
    "import json \n",
    "res = requests.get('https://api.usmart.io/org/ae1d5c14-c392-4c3f-9705-537427eeb413/3d37b27e-df36-45dc-b4b7-706847b4b4ef/1/urql')\n",
    "response = json.loads(res.text)"
   ]
  },
  {
   "cell_type": "code",
   "execution_count": 6,
   "metadata": {},
   "outputs": [],
   "source": [
    "data = res.text"
   ]
  },
  {
   "cell_type": "code",
   "execution_count": 7,
   "metadata": {},
   "outputs": [
    {
     "data": {
      "text/plain": [
       "[{'PRICE / MORTGAGE INTEREST RATES / EARNINGS / COST INDICES - Quarterly': '',\n",
       "  '': '',\n",
       "  'usmart_id': 'AWGu3xVuQhKRCdiEZ5de'},\n",
       " {'PRICE / MORTGAGE INTEREST RATES / EARNINGS / COST INDICES - Quarterly': '1990Q2',\n",
       "  '': '98.3',\n",
       "  'usmart_id': 'AWGu3xVuQhKRCdiEZ5dg'},\n",
       " {'PRICE / MORTGAGE INTEREST RATES / EARNINGS / COST INDICES - Quarterly': '1990Q3',\n",
       "  '': '',\n",
       "  'usmart_id': 'AWGu3xVuQhKRCdiEZ5dh'},\n",
       " {'PRICE / MORTGAGE INTEREST RATES / EARNINGS / COST INDICES - Quarterly': '1990Q4',\n",
       "  '': '',\n",
       "  'usmart_id': 'AWGu3xVuQhKRCdiEZ5di'},\n",
       " {'PRICE / MORTGAGE INTEREST RATES / EARNINGS / COST INDICES - Quarterly': '1991Q1',\n",
       "  '': '',\n",
       "  'usmart_id': 'AWGu3xVuQhKRCdiEZ5dj'},\n",
       " {'PRICE / MORTGAGE INTEREST RATES / EARNINGS / COST INDICES - Quarterly': '1991Q2',\n",
       "  '': '101.4',\n",
       "  'usmart_id': 'AWGu3xVuQhKRCdiEZ5dk'},\n",
       " {'PRICE / MORTGAGE INTEREST RATES / EARNINGS / COST INDICES - Quarterly': '1991Q3',\n",
       "  '': '',\n",
       "  'usmart_id': 'AWGu3xVuQhKRCdiEZ5dl'},\n",
       " {'PRICE / MORTGAGE INTEREST RATES / EARNINGS / COST INDICES - Quarterly': '1992Q1',\n",
       "  '': '',\n",
       "  'usmart_id': 'AWGu3xVuQhKRCdiEZ5dn'},\n",
       " {'PRICE / MORTGAGE INTEREST RATES / EARNINGS / COST INDICES - Quarterly': '1992Q3',\n",
       "  '': '',\n",
       "  'usmart_id': 'AWGu3xVuQhKRCdiEZ5dp'},\n",
       " {'PRICE / MORTGAGE INTEREST RATES / EARNINGS / COST INDICES - Quarterly': '1992Q4',\n",
       "  '': '',\n",
       "  'usmart_id': 'AWGu3xVuQhKRCdiEZ5dq'},\n",
       " {'PRICE / MORTGAGE INTEREST RATES / EARNINGS / COST INDICES - Quarterly': '1993Q1',\n",
       "  '': '',\n",
       "  'usmart_id': 'AWGu3xVuQhKRCdiEZ5dr'},\n",
       " {'PRICE / MORTGAGE INTEREST RATES / EARNINGS / COST INDICES - Quarterly': '1993Q3',\n",
       "  '': '',\n",
       "  'usmart_id': 'AWGu3xVuQhKRCdiEZ5dt'},\n",
       " {'PRICE / MORTGAGE INTEREST RATES / EARNINGS / COST INDICES - Quarterly': '1993Q4',\n",
       "  '': '',\n",
       "  'usmart_id': 'AWGu3xVuQhKRCdiEZ5du'},\n",
       " {'PRICE / MORTGAGE INTEREST RATES / EARNINGS / COST INDICES - Quarterly': '1994Q4',\n",
       "  '': '',\n",
       "  'usmart_id': 'AWGu3xVuQhKRCdiEZ5dy'},\n",
       " {'PRICE / MORTGAGE INTEREST RATES / EARNINGS / COST INDICES - Quarterly': '1995Q4',\n",
       "  '': '',\n",
       "  'usmart_id': 'AWGu3xVuQhKRCdiEZ5d2'},\n",
       " {'PRICE / MORTGAGE INTEREST RATES / EARNINGS / COST INDICES - Quarterly': '1996Q1',\n",
       "  '': '',\n",
       "  'usmart_id': 'AWGu3xVuQhKRCdiEZ5d3'},\n",
       " {'PRICE / MORTGAGE INTEREST RATES / EARNINGS / COST INDICES - Quarterly': '1996Q2',\n",
       "  '': '113.2',\n",
       "  'usmart_id': 'AWGu3xVuQhKRCdiEZ5d4'},\n",
       " {'PRICE / MORTGAGE INTEREST RATES / EARNINGS / COST INDICES - Quarterly': '1996Q3',\n",
       "  '': '',\n",
       "  'usmart_id': 'AWGu3xVuQhKRCdiEZ5d5'},\n",
       " {'PRICE / MORTGAGE INTEREST RATES / EARNINGS / COST INDICES - Quarterly': '1996Q4',\n",
       "  '': '',\n",
       "  'usmart_id': 'AWGu3xVuQhKRCdiEZ5d6'},\n",
       " {'PRICE / MORTGAGE INTEREST RATES / EARNINGS / COST INDICES - Quarterly': '1997Q4',\n",
       "  '': '',\n",
       "  'usmart_id': 'AWGu3xVuQhKRCdiEZ5d-'},\n",
       " {'PRICE / MORTGAGE INTEREST RATES / EARNINGS / COST INDICES - Quarterly': '1998Q4',\n",
       "  '': '',\n",
       "  'usmart_id': 'AWGu3xVuQhKRCdiEZ5eC'},\n",
       " {'PRICE / MORTGAGE INTEREST RATES / EARNINGS / COST INDICES - Quarterly': '1999Q3',\n",
       "  '': '',\n",
       "  'usmart_id': 'AWGu3xVuQhKRCdiEZ5eF'},\n",
       " {'PRICE / MORTGAGE INTEREST RATES / EARNINGS / COST INDICES - Quarterly': '2000Q2',\n",
       "  '': '126.2',\n",
       "  'usmart_id': 'AWGu3xVuQhKRCdiEZ5eI'},\n",
       " {'PRICE / MORTGAGE INTEREST RATES / EARNINGS / COST INDICES - Quarterly': '2002Q1',\n",
       "  '': '',\n",
       "  'usmart_id': 'AWGu3xVuQhKRCdiEZ5eP'},\n",
       " {'PRICE / MORTGAGE INTEREST RATES / EARNINGS / COST INDICES - Quarterly': '2002Q2',\n",
       "  '': '138.5',\n",
       "  'usmart_id': 'AWGu3xVuQhKRCdiEZ5eQ'},\n",
       " {'PRICE / MORTGAGE INTEREST RATES / EARNINGS / COST INDICES - Quarterly': '2002Q3',\n",
       "  '': '',\n",
       "  'usmart_id': 'AWGu3xVuQhKRCdiEZ5eR'},\n",
       " {'PRICE / MORTGAGE INTEREST RATES / EARNINGS / COST INDICES - Quarterly': '2004Q1',\n",
       "  '': '',\n",
       "  'usmart_id': 'AWGu3xVuQhKRCdiEZ5eX'},\n",
       " {'PRICE / MORTGAGE INTEREST RATES / EARNINGS / COST INDICES - Quarterly': '2004Q4',\n",
       "  '': '',\n",
       "  'usmart_id': 'AWGu3xVuQhKRCdiEZ5ea'},\n",
       " {'PRICE / MORTGAGE INTEREST RATES / EARNINGS / COST INDICES - Quarterly': '2005Q1',\n",
       "  '': '',\n",
       "  'usmart_id': 'AWGu3xVuQhKRCdiEZ5eb'},\n",
       " {'PRICE / MORTGAGE INTEREST RATES / EARNINGS / COST INDICES - Quarterly': '2006Q1',\n",
       "  '': '',\n",
       "  'usmart_id': 'AWGu3xVuQhKRCdiEZ5ef'},\n",
       " {'PRICE / MORTGAGE INTEREST RATES / EARNINGS / COST INDICES - Quarterly': '2006Q2',\n",
       "  '': '',\n",
       "  'usmart_id': 'AWGu3xVuQhKRCdiEZ5eg'},\n",
       " {'PRICE / MORTGAGE INTEREST RATES / EARNINGS / COST INDICES - Quarterly': '2007Q1',\n",
       "  '': '',\n",
       "  'usmart_id': 'AWGu3xVuQhKRCdiEZ5ej'},\n",
       " {'PRICE / MORTGAGE INTEREST RATES / EARNINGS / COST INDICES - Quarterly': '2009Q3',\n",
       "  '': '162.6',\n",
       "  'usmart_id': 'AWGu3xVuQhKRCdiEZ5et'},\n",
       " {'PRICE / MORTGAGE INTEREST RATES / EARNINGS / COST INDICES - Quarterly': '2009Q4',\n",
       "  '': '',\n",
       "  'usmart_id': 'AWGu3xVuQhKRCdiEZ5eu'},\n",
       " {'PRICE / MORTGAGE INTEREST RATES / EARNINGS / COST INDICES - Quarterly': '2010Q3',\n",
       "  '': '161',\n",
       "  'usmart_id': 'AWGu3xVuQhKRCdiEZ5ex'},\n",
       " {'PRICE / MORTGAGE INTEREST RATES / EARNINGS / COST INDICES - Quarterly': '2011Q2',\n",
       "  '': '',\n",
       "  'usmart_id': 'AWGu3xVuQhKRCdiEZ5e0'},\n",
       " {'PRICE / MORTGAGE INTEREST RATES / EARNINGS / COST INDICES - Quarterly': '2014Q3',\n",
       "  '': '',\n",
       "  'usmart_id': 'AWGu3xVuQhKRCdiEZ5fB'},\n",
       " {'PRICE / MORTGAGE INTEREST RATES / EARNINGS / COST INDICES - Quarterly': '2015Q2',\n",
       "  '': '168.6',\n",
       "  'usmart_id': 'AWGu3xVuQhKRCdiEZ5fE'},\n",
       " {'PRICE / MORTGAGE INTEREST RATES / EARNINGS / COST INDICES - Quarterly': '2015Q3',\n",
       "  '': '',\n",
       "  'usmart_id': 'AWGu3xVuQhKRCdiEZ5fF'},\n",
       " {'PRICE / MORTGAGE INTEREST RATES / EARNINGS / COST INDICES - Quarterly': 'Trends in private new house prices, mortgage interest rates, earnings, house building costs and consumer prices',\n",
       "  '': '',\n",
       "  'usmart_id': 'AWGu3xVuQhKRCdiEZ5dZ'},\n",
       " {'PRICE / MORTGAGE INTEREST RATES / EARNINGS / COST INDICES - Quarterly': 'Base: 1st Quarter 1991 = 100',\n",
       "  '': '',\n",
       "  'usmart_id': 'AWGu3xVuQhKRCdiEZ5da'},\n",
       " {'PRICE / MORTGAGE INTEREST RATES / EARNINGS / COST INDICES - Quarterly': '',\n",
       "  '': '',\n",
       "  'usmart_id': 'AWGu3xVuQhKRCdiEZ5dd'},\n",
       " {'PRICE / MORTGAGE INTEREST RATES / EARNINGS / COST INDICES - Quarterly': '1992Q2',\n",
       "  '': '104.6',\n",
       "  'usmart_id': 'AWGu3xVuQhKRCdiEZ5do'},\n",
       " {'PRICE / MORTGAGE INTEREST RATES / EARNINGS / COST INDICES - Quarterly': '1994Q1',\n",
       "  '': '',\n",
       "  'usmart_id': 'AWGu3xVuQhKRCdiEZ5dv'},\n",
       " {'PRICE / MORTGAGE INTEREST RATES / EARNINGS / COST INDICES - Quarterly': '1994Q2',\n",
       "  '': '',\n",
       "  'usmart_id': 'AWGu3xVuQhKRCdiEZ5dw'},\n",
       " {'PRICE / MORTGAGE INTEREST RATES / EARNINGS / COST INDICES - Quarterly': '1995Q2',\n",
       "  '': '111.3',\n",
       "  'usmart_id': 'AWGu3xVuQhKRCdiEZ5d0'},\n",
       " {'PRICE / MORTGAGE INTEREST RATES / EARNINGS / COST INDICES - Quarterly': '1997Q1',\n",
       "  '': '',\n",
       "  'usmart_id': 'AWGu3xVuQhKRCdiEZ5d7'},\n",
       " {'PRICE / MORTGAGE INTEREST RATES / EARNINGS / COST INDICES - Quarterly': '1998Q1',\n",
       "  '': '',\n",
       "  'usmart_id': 'AWGu3xVuQhKRCdiEZ5d_'},\n",
       " {'PRICE / MORTGAGE INTEREST RATES / EARNINGS / COST INDICES - Quarterly': '1999Q2',\n",
       "  '': '119.5',\n",
       "  'usmart_id': 'AWGu3xVuQhKRCdiEZ5eE'},\n",
       " {'PRICE / MORTGAGE INTEREST RATES / EARNINGS / COST INDICES - Quarterly': '2000Q1',\n",
       "  '': '',\n",
       "  'usmart_id': 'AWGu3xVuQhKRCdiEZ5eH'},\n",
       " {'PRICE / MORTGAGE INTEREST RATES / EARNINGS / COST INDICES - Quarterly': '2000Q4',\n",
       "  '': '',\n",
       "  'usmart_id': 'AWGu3xVuQhKRCdiEZ5eK'},\n",
       " {'PRICE / MORTGAGE INTEREST RATES / EARNINGS / COST INDICES - Quarterly': '2001Q1',\n",
       "  '': '',\n",
       "  'usmart_id': 'AWGu3xVuQhKRCdiEZ5eL'},\n",
       " {'PRICE / MORTGAGE INTEREST RATES / EARNINGS / COST INDICES - Quarterly': '2001Q2',\n",
       "  '': '132.3',\n",
       "  'usmart_id': 'AWGu3xVuQhKRCdiEZ5eM'},\n",
       " {'PRICE / MORTGAGE INTEREST RATES / EARNINGS / COST INDICES - Quarterly': '2001Q4',\n",
       "  '': '',\n",
       "  'usmart_id': 'AWGu3xVuQhKRCdiEZ5eO'},\n",
       " {'PRICE / MORTGAGE INTEREST RATES / EARNINGS / COST INDICES - Quarterly': '2003Q4',\n",
       "  '': '',\n",
       "  'usmart_id': 'AWGu3xVuQhKRCdiEZ5eW'},\n",
       " {'PRICE / MORTGAGE INTEREST RATES / EARNINGS / COST INDICES - Quarterly': '2004Q2',\n",
       "  '': '146.4',\n",
       "  'usmart_id': 'AWGu3xVuQhKRCdiEZ5eY'},\n",
       " {'PRICE / MORTGAGE INTEREST RATES / EARNINGS / COST INDICES - Quarterly': '2005Q2',\n",
       "  '': '',\n",
       "  'usmart_id': 'AWGu3xVuQhKRCdiEZ5ec'},\n",
       " {'PRICE / MORTGAGE INTEREST RATES / EARNINGS / COST INDICES - Quarterly': '2005Q3',\n",
       "  '': '149.9',\n",
       "  'usmart_id': 'AWGu3xVuQhKRCdiEZ5ed'},\n",
       " {'PRICE / MORTGAGE INTEREST RATES / EARNINGS / COST INDICES - Quarterly': '2006Q3',\n",
       "  '': '155.9',\n",
       "  'usmart_id': 'AWGu3xVuQhKRCdiEZ5eh'},\n",
       " {'PRICE / MORTGAGE INTEREST RATES / EARNINGS / COST INDICES - Quarterly': '2007Q2',\n",
       "  '': '',\n",
       "  'usmart_id': 'AWGu3xVuQhKRCdiEZ5ek'},\n",
       " {'PRICE / MORTGAGE INTEREST RATES / EARNINGS / COST INDICES - Quarterly': '2007Q3',\n",
       "  '': '163.5',\n",
       "  'usmart_id': 'AWGu3xVuQhKRCdiEZ5el'},\n",
       " {'PRICE / MORTGAGE INTEREST RATES / EARNINGS / COST INDICES - Quarterly': '2008Q1',\n",
       "  '': '',\n",
       "  'usmart_id': 'AWGu3xVuQhKRCdiEZ5en'},\n",
       " {'PRICE / MORTGAGE INTEREST RATES / EARNINGS / COST INDICES - Quarterly': '2008Q3',\n",
       "  '': '170.2',\n",
       "  'usmart_id': 'AWGu3xVuQhKRCdiEZ5ep'},\n",
       " {'PRICE / MORTGAGE INTEREST RATES / EARNINGS / COST INDICES - Quarterly': '2008Q4',\n",
       "  '': '',\n",
       "  'usmart_id': 'AWGu3xVuQhKRCdiEZ5eq'},\n",
       " {'PRICE / MORTGAGE INTEREST RATES / EARNINGS / COST INDICES - Quarterly': '2009Q2',\n",
       "  '': '',\n",
       "  'usmart_id': 'AWGu3xVuQhKRCdiEZ5es'},\n",
       " {'PRICE / MORTGAGE INTEREST RATES / EARNINGS / COST INDICES - Quarterly': '2010Q1',\n",
       "  '': '',\n",
       "  'usmart_id': 'AWGu3xVuQhKRCdiEZ5ev'},\n",
       " {'PRICE / MORTGAGE INTEREST RATES / EARNINGS / COST INDICES - Quarterly': '2010Q2',\n",
       "  '': '',\n",
       "  'usmart_id': 'AWGu3xVuQhKRCdiEZ5ew'},\n",
       " {'PRICE / MORTGAGE INTEREST RATES / EARNINGS / COST INDICES - Quarterly': '2011Q1',\n",
       "  '': '',\n",
       "  'usmart_id': 'AWGu3xVuQhKRCdiEZ5ez'},\n",
       " {'PRICE / MORTGAGE INTEREST RATES / EARNINGS / COST INDICES - Quarterly': '2011Q3',\n",
       "  '': '165.1',\n",
       "  'usmart_id': 'AWGu3xVuQhKRCdiEZ5e1'},\n",
       " {'PRICE / MORTGAGE INTEREST RATES / EARNINGS / COST INDICES - Quarterly': '2012Q1',\n",
       "  '': '',\n",
       "  'usmart_id': 'AWGu3xVuQhKRCdiEZ5e3'},\n",
       " {'PRICE / MORTGAGE INTEREST RATES / EARNINGS / COST INDICES - Quarterly': '2012Q3',\n",
       "  '': '168',\n",
       "  'usmart_id': 'AWGu3xVuQhKRCdiEZ5e5'},\n",
       " {'PRICE / MORTGAGE INTEREST RATES / EARNINGS / COST INDICES - Quarterly': '2013Q2',\n",
       "  '': '168.8',\n",
       "  'usmart_id': 'AWGu3xVuQhKRCdiEZ5e8'},\n",
       " {'PRICE / MORTGAGE INTEREST RATES / EARNINGS / COST INDICES - Quarterly': '2014Q1',\n",
       "  '': '',\n",
       "  'usmart_id': 'AWGu3xVuQhKRCdiEZ5e_'},\n",
       " {'PRICE / MORTGAGE INTEREST RATES / EARNINGS / COST INDICES - Quarterly': '',\n",
       "  '': '',\n",
       "  'usmart_id': 'AWGu3xVuQhKRCdiEZ5db'},\n",
       " {'PRICE / MORTGAGE INTEREST RATES / EARNINGS / COST INDICES - Quarterly': '',\n",
       "  '': 'Annual',\n",
       "  'usmart_id': 'AWGu3xVuQhKRCdiEZ5dc'},\n",
       " {'PRICE / MORTGAGE INTEREST RATES / EARNINGS / COST INDICES - Quarterly': '1990Q1',\n",
       "  '': '',\n",
       "  'usmart_id': 'AWGu3xVuQhKRCdiEZ5df'},\n",
       " {'PRICE / MORTGAGE INTEREST RATES / EARNINGS / COST INDICES - Quarterly': '1991Q4',\n",
       "  '': '',\n",
       "  'usmart_id': 'AWGu3xVuQhKRCdiEZ5dm'},\n",
       " {'PRICE / MORTGAGE INTEREST RATES / EARNINGS / COST INDICES - Quarterly': '1993Q2',\n",
       "  '': '106.1',\n",
       "  'usmart_id': 'AWGu3xVuQhKRCdiEZ5ds'},\n",
       " {'PRICE / MORTGAGE INTEREST RATES / EARNINGS / COST INDICES - Quarterly': '1994Q3',\n",
       "  '': '108.5',\n",
       "  'usmart_id': 'AWGu3xVuQhKRCdiEZ5dx'},\n",
       " {'PRICE / MORTGAGE INTEREST RATES / EARNINGS / COST INDICES - Quarterly': '1995Q1',\n",
       "  '': '',\n",
       "  'usmart_id': 'AWGu3xVuQhKRCdiEZ5dz'},\n",
       " {'PRICE / MORTGAGE INTEREST RATES / EARNINGS / COST INDICES - Quarterly': '1995Q3',\n",
       "  '': '',\n",
       "  'usmart_id': 'AWGu3xVuQhKRCdiEZ5d1'},\n",
       " {'PRICE / MORTGAGE INTEREST RATES / EARNINGS / COST INDICES - Quarterly': '1997Q2',\n",
       "  '': '114.9',\n",
       "  'usmart_id': 'AWGu3xVuQhKRCdiEZ5d8'},\n",
       " {'PRICE / MORTGAGE INTEREST RATES / EARNINGS / COST INDICES - Quarterly': '1997Q3',\n",
       "  '': '',\n",
       "  'usmart_id': 'AWGu3xVuQhKRCdiEZ5d9'},\n",
       " {'PRICE / MORTGAGE INTEREST RATES / EARNINGS / COST INDICES - Quarterly': '1998Q2',\n",
       "  '': '117.6',\n",
       "  'usmart_id': 'AWGu3xVuQhKRCdiEZ5eA'},\n",
       " {'PRICE / MORTGAGE INTEREST RATES / EARNINGS / COST INDICES - Quarterly': '1998Q3',\n",
       "  '': '',\n",
       "  'usmart_id': 'AWGu3xVuQhKRCdiEZ5eB'},\n",
       " {'PRICE / MORTGAGE INTEREST RATES / EARNINGS / COST INDICES - Quarterly': '1999Q1',\n",
       "  '': '',\n",
       "  'usmart_id': 'AWGu3xVuQhKRCdiEZ5eD'},\n",
       " {'PRICE / MORTGAGE INTEREST RATES / EARNINGS / COST INDICES - Quarterly': '1999Q4',\n",
       "  '': '',\n",
       "  'usmart_id': 'AWGu3xVuQhKRCdiEZ5eG'},\n",
       " {'PRICE / MORTGAGE INTEREST RATES / EARNINGS / COST INDICES - Quarterly': '2000Q3',\n",
       "  '': '',\n",
       "  'usmart_id': 'AWGu3xVuQhKRCdiEZ5eJ'},\n",
       " {'PRICE / MORTGAGE INTEREST RATES / EARNINGS / COST INDICES - Quarterly': '2001Q3',\n",
       "  '': '',\n",
       "  'usmart_id': 'AWGu3xVuQhKRCdiEZ5eN'},\n",
       " {'PRICE / MORTGAGE INTEREST RATES / EARNINGS / COST INDICES - Quarterly': '2002Q4',\n",
       "  '': '',\n",
       "  'usmart_id': 'AWGu3xVuQhKRCdiEZ5eS'},\n",
       " {'PRICE / MORTGAGE INTEREST RATES / EARNINGS / COST INDICES - Quarterly': '2003Q1',\n",
       "  '': '',\n",
       "  'usmart_id': 'AWGu3xVuQhKRCdiEZ5eT'},\n",
       " {'PRICE / MORTGAGE INTEREST RATES / EARNINGS / COST INDICES - Quarterly': '2003Q2',\n",
       "  '': '143.3',\n",
       "  'usmart_id': 'AWGu3xVuQhKRCdiEZ5eU'},\n",
       " {'PRICE / MORTGAGE INTEREST RATES / EARNINGS / COST INDICES - Quarterly': '2003Q3',\n",
       "  '': '',\n",
       "  'usmart_id': 'AWGu3xVuQhKRCdiEZ5eV'},\n",
       " {'PRICE / MORTGAGE INTEREST RATES / EARNINGS / COST INDICES - Quarterly': '2004Q3',\n",
       "  '': '',\n",
       "  'usmart_id': 'AWGu3xVuQhKRCdiEZ5eZ'},\n",
       " {'PRICE / MORTGAGE INTEREST RATES / EARNINGS / COST INDICES - Quarterly': '2005Q4',\n",
       "  '': '',\n",
       "  'usmart_id': 'AWGu3xVuQhKRCdiEZ5ee'},\n",
       " {'PRICE / MORTGAGE INTEREST RATES / EARNINGS / COST INDICES - Quarterly': '2006Q4',\n",
       "  '': '',\n",
       "  'usmart_id': 'AWGu3xVuQhKRCdiEZ5ei'},\n",
       " {'PRICE / MORTGAGE INTEREST RATES / EARNINGS / COST INDICES - Quarterly': '2007Q4',\n",
       "  '': '',\n",
       "  'usmart_id': 'AWGu3xVuQhKRCdiEZ5em'},\n",
       " {'PRICE / MORTGAGE INTEREST RATES / EARNINGS / COST INDICES - Quarterly': '2008Q2',\n",
       "  '': '',\n",
       "  'usmart_id': 'AWGu3xVuQhKRCdiEZ5eo'},\n",
       " {'PRICE / MORTGAGE INTEREST RATES / EARNINGS / COST INDICES - Quarterly': '2009Q1',\n",
       "  '': '',\n",
       "  'usmart_id': 'AWGu3xVuQhKRCdiEZ5er'},\n",
       " {'PRICE / MORTGAGE INTEREST RATES / EARNINGS / COST INDICES - Quarterly': '2010Q4',\n",
       "  '': '',\n",
       "  'usmart_id': 'AWGu3xVuQhKRCdiEZ5ey'},\n",
       " {'PRICE / MORTGAGE INTEREST RATES / EARNINGS / COST INDICES - Quarterly': '2011Q4',\n",
       "  '': '',\n",
       "  'usmart_id': 'AWGu3xVuQhKRCdiEZ5e2'},\n",
       " {'PRICE / MORTGAGE INTEREST RATES / EARNINGS / COST INDICES - Quarterly': '2012Q2',\n",
       "  '': '',\n",
       "  'usmart_id': 'AWGu3xVuQhKRCdiEZ5e4'},\n",
       " {'PRICE / MORTGAGE INTEREST RATES / EARNINGS / COST INDICES - Quarterly': '2012Q4',\n",
       "  '': '',\n",
       "  'usmart_id': 'AWGu3xVuQhKRCdiEZ5e6'},\n",
       " {'PRICE / MORTGAGE INTEREST RATES / EARNINGS / COST INDICES - Quarterly': '2013Q1',\n",
       "  '': '',\n",
       "  'usmart_id': 'AWGu3xVuQhKRCdiEZ5e7'},\n",
       " {'PRICE / MORTGAGE INTEREST RATES / EARNINGS / COST INDICES - Quarterly': '2013Q3',\n",
       "  '': '',\n",
       "  'usmart_id': 'AWGu3xVuQhKRCdiEZ5e9'},\n",
       " {'PRICE / MORTGAGE INTEREST RATES / EARNINGS / COST INDICES - Quarterly': '2013Q4',\n",
       "  '': '',\n",
       "  'usmart_id': 'AWGu3xVuQhKRCdiEZ5e-'},\n",
       " {'PRICE / MORTGAGE INTEREST RATES / EARNINGS / COST INDICES - Quarterly': '2014Q2',\n",
       "  '': '169.1',\n",
       "  'usmart_id': 'AWGu3xVuQhKRCdiEZ5fA'},\n",
       " {'PRICE / MORTGAGE INTEREST RATES / EARNINGS / COST INDICES - Quarterly': '2014Q4',\n",
       "  '': '',\n",
       "  'usmart_id': 'AWGu3xVuQhKRCdiEZ5fC'},\n",
       " {'PRICE / MORTGAGE INTEREST RATES / EARNINGS / COST INDICES - Quarterly': '2015Q1',\n",
       "  '': '',\n",
       "  'usmart_id': 'AWGu3xVuQhKRCdiEZ5fD'},\n",
       " {'PRICE / MORTGAGE INTEREST RATES / EARNINGS / COST INDICES - Quarterly': '2015Q4',\n",
       "  '': '',\n",
       "  'usmart_id': 'AWGu3xVuQhKRCdiEZ5fG'},\n",
       " {'PRICE / MORTGAGE INTEREST RATES / EARNINGS / COST INDICES - Quarterly': '2016Q1',\n",
       "  '': '',\n",
       "  'usmart_id': 'AWGu3xVuQhKRCdiEZ5fH'}]"
      ]
     },
     "execution_count": 7,
     "metadata": {},
     "output_type": "execute_result"
    }
   ],
   "source": [
    "json.loads(data)"
   ]
  },
  {
   "cell_type": "markdown",
   "metadata": {},
   "source": [
    "# Section 3: Analysing data"
   ]
  },
  {
   "cell_type": "markdown",
   "metadata": {},
   "source": [
    "## Step 4:\n",
    "**Analysing:** <br> The below functions are used to investigate the datasets<br>\n",
    "First to look at the aaplData dataset<br>\n",
    "the .head function returns the first 5 rows of the dataset<br>\n",
    "the .tail function returns the last 5 rows<br>\n",
    "The.info function shows the datatypes of each column<br>\n",
    "The .describe shows statistics relating to each column"
   ]
  },
  {
   "cell_type": "code",
   "execution_count": 8,
   "metadata": {},
   "outputs": [
    {
     "data": {
      "text/html": [
       "<div>\n",
       "<style scoped>\n",
       "    .dataframe tbody tr th:only-of-type {\n",
       "        vertical-align: middle;\n",
       "    }\n",
       "\n",
       "    .dataframe tbody tr th {\n",
       "        vertical-align: top;\n",
       "    }\n",
       "\n",
       "    .dataframe thead th {\n",
       "        text-align: right;\n",
       "    }\n",
       "</style>\n",
       "<table border=\"1\" class=\"dataframe\">\n",
       "  <thead>\n",
       "    <tr style=\"text-align: right;\">\n",
       "      <th></th>\n",
       "      <th>Unnamed: 0</th>\n",
       "      <th>symbol</th>\n",
       "      <th>date</th>\n",
       "      <th>close</th>\n",
       "      <th>high</th>\n",
       "      <th>low</th>\n",
       "      <th>open</th>\n",
       "      <th>volume</th>\n",
       "      <th>adjClose</th>\n",
       "      <th>adjHigh</th>\n",
       "      <th>adjLow</th>\n",
       "      <th>adjOpen</th>\n",
       "      <th>adjVolume</th>\n",
       "      <th>divCash</th>\n",
       "      <th>splitFactor</th>\n",
       "    </tr>\n",
       "  </thead>\n",
       "  <tbody>\n",
       "    <tr>\n",
       "      <th>0</th>\n",
       "      <td>0</td>\n",
       "      <td>AAPL</td>\n",
       "      <td>2015-05-27 00:00:00+00:00</td>\n",
       "      <td>132.045</td>\n",
       "      <td>132.260</td>\n",
       "      <td>130.05</td>\n",
       "      <td>130.34</td>\n",
       "      <td>45833246</td>\n",
       "      <td>121.682558</td>\n",
       "      <td>121.880685</td>\n",
       "      <td>119.844118</td>\n",
       "      <td>120.111360</td>\n",
       "      <td>45833246</td>\n",
       "      <td>0.0</td>\n",
       "      <td>1.0</td>\n",
       "    </tr>\n",
       "    <tr>\n",
       "      <th>1</th>\n",
       "      <td>1</td>\n",
       "      <td>AAPL</td>\n",
       "      <td>2015-05-28 00:00:00+00:00</td>\n",
       "      <td>131.780</td>\n",
       "      <td>131.950</td>\n",
       "      <td>131.10</td>\n",
       "      <td>131.86</td>\n",
       "      <td>30733309</td>\n",
       "      <td>121.438354</td>\n",
       "      <td>121.595013</td>\n",
       "      <td>120.811718</td>\n",
       "      <td>121.512076</td>\n",
       "      <td>30733309</td>\n",
       "      <td>0.0</td>\n",
       "      <td>1.0</td>\n",
       "    </tr>\n",
       "    <tr>\n",
       "      <th>2</th>\n",
       "      <td>2</td>\n",
       "      <td>AAPL</td>\n",
       "      <td>2015-05-29 00:00:00+00:00</td>\n",
       "      <td>130.280</td>\n",
       "      <td>131.450</td>\n",
       "      <td>129.90</td>\n",
       "      <td>131.23</td>\n",
       "      <td>50884452</td>\n",
       "      <td>120.056069</td>\n",
       "      <td>121.134251</td>\n",
       "      <td>119.705890</td>\n",
       "      <td>120.931516</td>\n",
       "      <td>50884452</td>\n",
       "      <td>0.0</td>\n",
       "      <td>1.0</td>\n",
       "    </tr>\n",
       "    <tr>\n",
       "      <th>3</th>\n",
       "      <td>3</td>\n",
       "      <td>AAPL</td>\n",
       "      <td>2015-06-01 00:00:00+00:00</td>\n",
       "      <td>130.535</td>\n",
       "      <td>131.390</td>\n",
       "      <td>130.05</td>\n",
       "      <td>131.20</td>\n",
       "      <td>32112797</td>\n",
       "      <td>120.291057</td>\n",
       "      <td>121.078960</td>\n",
       "      <td>119.844118</td>\n",
       "      <td>120.903870</td>\n",
       "      <td>32112797</td>\n",
       "      <td>0.0</td>\n",
       "      <td>1.0</td>\n",
       "    </tr>\n",
       "    <tr>\n",
       "      <th>4</th>\n",
       "      <td>4</td>\n",
       "      <td>AAPL</td>\n",
       "      <td>2015-06-02 00:00:00+00:00</td>\n",
       "      <td>129.960</td>\n",
       "      <td>130.655</td>\n",
       "      <td>129.32</td>\n",
       "      <td>129.86</td>\n",
       "      <td>33667627</td>\n",
       "      <td>119.761181</td>\n",
       "      <td>120.401640</td>\n",
       "      <td>119.171406</td>\n",
       "      <td>119.669029</td>\n",
       "      <td>33667627</td>\n",
       "      <td>0.0</td>\n",
       "      <td>1.0</td>\n",
       "    </tr>\n",
       "  </tbody>\n",
       "</table>\n",
       "</div>"
      ],
      "text/plain": [
       "   Unnamed: 0 symbol                       date    close     high     low  \\\n",
       "0           0   AAPL  2015-05-27 00:00:00+00:00  132.045  132.260  130.05   \n",
       "1           1   AAPL  2015-05-28 00:00:00+00:00  131.780  131.950  131.10   \n",
       "2           2   AAPL  2015-05-29 00:00:00+00:00  130.280  131.450  129.90   \n",
       "3           3   AAPL  2015-06-01 00:00:00+00:00  130.535  131.390  130.05   \n",
       "4           4   AAPL  2015-06-02 00:00:00+00:00  129.960  130.655  129.32   \n",
       "\n",
       "     open    volume    adjClose     adjHigh      adjLow     adjOpen  \\\n",
       "0  130.34  45833246  121.682558  121.880685  119.844118  120.111360   \n",
       "1  131.86  30733309  121.438354  121.595013  120.811718  121.512076   \n",
       "2  131.23  50884452  120.056069  121.134251  119.705890  120.931516   \n",
       "3  131.20  32112797  120.291057  121.078960  119.844118  120.903870   \n",
       "4  129.86  33667627  119.761181  120.401640  119.171406  119.669029   \n",
       "\n",
       "   adjVolume  divCash  splitFactor  \n",
       "0   45833246      0.0          1.0  \n",
       "1   30733309      0.0          1.0  \n",
       "2   50884452      0.0          1.0  \n",
       "3   32112797      0.0          1.0  \n",
       "4   33667627      0.0          1.0  "
      ]
     },
     "execution_count": 8,
     "metadata": {},
     "output_type": "execute_result"
    }
   ],
   "source": [
    "aaplData.head()"
   ]
  },
  {
   "cell_type": "code",
   "execution_count": 9,
   "metadata": {},
   "outputs": [
    {
     "data": {
      "text/html": [
       "<div>\n",
       "<style scoped>\n",
       "    .dataframe tbody tr th:only-of-type {\n",
       "        vertical-align: middle;\n",
       "    }\n",
       "\n",
       "    .dataframe tbody tr th {\n",
       "        vertical-align: top;\n",
       "    }\n",
       "\n",
       "    .dataframe thead th {\n",
       "        text-align: right;\n",
       "    }\n",
       "</style>\n",
       "<table border=\"1\" class=\"dataframe\">\n",
       "  <thead>\n",
       "    <tr style=\"text-align: right;\">\n",
       "      <th></th>\n",
       "      <th>Unnamed: 0</th>\n",
       "      <th>symbol</th>\n",
       "      <th>date</th>\n",
       "      <th>close</th>\n",
       "      <th>high</th>\n",
       "      <th>low</th>\n",
       "      <th>open</th>\n",
       "      <th>volume</th>\n",
       "      <th>adjClose</th>\n",
       "      <th>adjHigh</th>\n",
       "      <th>adjLow</th>\n",
       "      <th>adjOpen</th>\n",
       "      <th>adjVolume</th>\n",
       "      <th>divCash</th>\n",
       "      <th>splitFactor</th>\n",
       "    </tr>\n",
       "  </thead>\n",
       "  <tbody>\n",
       "    <tr>\n",
       "      <th>1253</th>\n",
       "      <td>1253</td>\n",
       "      <td>AAPL</td>\n",
       "      <td>2020-05-18 00:00:00+00:00</td>\n",
       "      <td>314.96</td>\n",
       "      <td>316.50</td>\n",
       "      <td>310.3241</td>\n",
       "      <td>313.17</td>\n",
       "      <td>33843125</td>\n",
       "      <td>314.96</td>\n",
       "      <td>316.50</td>\n",
       "      <td>310.3241</td>\n",
       "      <td>313.17</td>\n",
       "      <td>33843125</td>\n",
       "      <td>0.0</td>\n",
       "      <td>1.0</td>\n",
       "    </tr>\n",
       "    <tr>\n",
       "      <th>1254</th>\n",
       "      <td>1254</td>\n",
       "      <td>AAPL</td>\n",
       "      <td>2020-05-19 00:00:00+00:00</td>\n",
       "      <td>313.14</td>\n",
       "      <td>318.52</td>\n",
       "      <td>313.0100</td>\n",
       "      <td>315.03</td>\n",
       "      <td>25432385</td>\n",
       "      <td>313.14</td>\n",
       "      <td>318.52</td>\n",
       "      <td>313.0100</td>\n",
       "      <td>315.03</td>\n",
       "      <td>25432385</td>\n",
       "      <td>0.0</td>\n",
       "      <td>1.0</td>\n",
       "    </tr>\n",
       "    <tr>\n",
       "      <th>1255</th>\n",
       "      <td>1255</td>\n",
       "      <td>AAPL</td>\n",
       "      <td>2020-05-20 00:00:00+00:00</td>\n",
       "      <td>319.23</td>\n",
       "      <td>319.52</td>\n",
       "      <td>316.2000</td>\n",
       "      <td>316.68</td>\n",
       "      <td>27876215</td>\n",
       "      <td>319.23</td>\n",
       "      <td>319.52</td>\n",
       "      <td>316.2000</td>\n",
       "      <td>316.68</td>\n",
       "      <td>27876215</td>\n",
       "      <td>0.0</td>\n",
       "      <td>1.0</td>\n",
       "    </tr>\n",
       "    <tr>\n",
       "      <th>1256</th>\n",
       "      <td>1256</td>\n",
       "      <td>AAPL</td>\n",
       "      <td>2020-05-21 00:00:00+00:00</td>\n",
       "      <td>316.85</td>\n",
       "      <td>320.89</td>\n",
       "      <td>315.8700</td>\n",
       "      <td>318.66</td>\n",
       "      <td>25672211</td>\n",
       "      <td>316.85</td>\n",
       "      <td>320.89</td>\n",
       "      <td>315.8700</td>\n",
       "      <td>318.66</td>\n",
       "      <td>25672211</td>\n",
       "      <td>0.0</td>\n",
       "      <td>1.0</td>\n",
       "    </tr>\n",
       "    <tr>\n",
       "      <th>1257</th>\n",
       "      <td>1257</td>\n",
       "      <td>AAPL</td>\n",
       "      <td>2020-05-22 00:00:00+00:00</td>\n",
       "      <td>318.89</td>\n",
       "      <td>319.23</td>\n",
       "      <td>315.3500</td>\n",
       "      <td>315.77</td>\n",
       "      <td>20450754</td>\n",
       "      <td>318.89</td>\n",
       "      <td>319.23</td>\n",
       "      <td>315.3500</td>\n",
       "      <td>315.77</td>\n",
       "      <td>20450754</td>\n",
       "      <td>0.0</td>\n",
       "      <td>1.0</td>\n",
       "    </tr>\n",
       "  </tbody>\n",
       "</table>\n",
       "</div>"
      ],
      "text/plain": [
       "      Unnamed: 0 symbol                       date   close    high       low  \\\n",
       "1253        1253   AAPL  2020-05-18 00:00:00+00:00  314.96  316.50  310.3241   \n",
       "1254        1254   AAPL  2020-05-19 00:00:00+00:00  313.14  318.52  313.0100   \n",
       "1255        1255   AAPL  2020-05-20 00:00:00+00:00  319.23  319.52  316.2000   \n",
       "1256        1256   AAPL  2020-05-21 00:00:00+00:00  316.85  320.89  315.8700   \n",
       "1257        1257   AAPL  2020-05-22 00:00:00+00:00  318.89  319.23  315.3500   \n",
       "\n",
       "        open    volume  adjClose  adjHigh    adjLow  adjOpen  adjVolume  \\\n",
       "1253  313.17  33843125    314.96   316.50  310.3241   313.17   33843125   \n",
       "1254  315.03  25432385    313.14   318.52  313.0100   315.03   25432385   \n",
       "1255  316.68  27876215    319.23   319.52  316.2000   316.68   27876215   \n",
       "1256  318.66  25672211    316.85   320.89  315.8700   318.66   25672211   \n",
       "1257  315.77  20450754    318.89   319.23  315.3500   315.77   20450754   \n",
       "\n",
       "      divCash  splitFactor  \n",
       "1253      0.0          1.0  \n",
       "1254      0.0          1.0  \n",
       "1255      0.0          1.0  \n",
       "1256      0.0          1.0  \n",
       "1257      0.0          1.0  "
      ]
     },
     "execution_count": 9,
     "metadata": {},
     "output_type": "execute_result"
    }
   ],
   "source": [
    "aaplData.tail()"
   ]
  },
  {
   "cell_type": "code",
   "execution_count": 10,
   "metadata": {},
   "outputs": [
    {
     "name": "stdout",
     "output_type": "stream",
     "text": [
      "<class 'pandas.core.frame.DataFrame'>\n",
      "RangeIndex: 1258 entries, 0 to 1257\n",
      "Data columns (total 15 columns):\n",
      " #   Column       Non-Null Count  Dtype  \n",
      "---  ------       --------------  -----  \n",
      " 0   Unnamed: 0   1258 non-null   int64  \n",
      " 1   symbol       1258 non-null   object \n",
      " 2   date         1258 non-null   object \n",
      " 3   close        1258 non-null   float64\n",
      " 4   high         1258 non-null   float64\n",
      " 5   low          1258 non-null   float64\n",
      " 6   open         1258 non-null   float64\n",
      " 7   volume       1258 non-null   int64  \n",
      " 8   adjClose     1258 non-null   float64\n",
      " 9   adjHigh      1258 non-null   float64\n",
      " 10  adjLow       1258 non-null   float64\n",
      " 11  adjOpen      1258 non-null   float64\n",
      " 12  adjVolume    1258 non-null   int64  \n",
      " 13  divCash      1258 non-null   float64\n",
      " 14  splitFactor  1258 non-null   float64\n",
      "dtypes: float64(10), int64(3), object(2)\n",
      "memory usage: 147.5+ KB\n"
     ]
    }
   ],
   "source": [
    "aaplData.info()"
   ]
  },
  {
   "cell_type": "code",
   "execution_count": 11,
   "metadata": {},
   "outputs": [
    {
     "data": {
      "text/html": [
       "<div>\n",
       "<style scoped>\n",
       "    .dataframe tbody tr th:only-of-type {\n",
       "        vertical-align: middle;\n",
       "    }\n",
       "\n",
       "    .dataframe tbody tr th {\n",
       "        vertical-align: top;\n",
       "    }\n",
       "\n",
       "    .dataframe thead th {\n",
       "        text-align: right;\n",
       "    }\n",
       "</style>\n",
       "<table border=\"1\" class=\"dataframe\">\n",
       "  <thead>\n",
       "    <tr style=\"text-align: right;\">\n",
       "      <th></th>\n",
       "      <th>Unnamed: 0</th>\n",
       "      <th>close</th>\n",
       "      <th>high</th>\n",
       "      <th>low</th>\n",
       "      <th>open</th>\n",
       "      <th>volume</th>\n",
       "      <th>adjClose</th>\n",
       "      <th>adjHigh</th>\n",
       "      <th>adjLow</th>\n",
       "      <th>adjOpen</th>\n",
       "      <th>adjVolume</th>\n",
       "      <th>divCash</th>\n",
       "      <th>splitFactor</th>\n",
       "    </tr>\n",
       "  </thead>\n",
       "  <tbody>\n",
       "    <tr>\n",
       "      <th>count</th>\n",
       "      <td>1258.000000</td>\n",
       "      <td>1258.000000</td>\n",
       "      <td>1258.000000</td>\n",
       "      <td>1258.000000</td>\n",
       "      <td>1258.000000</td>\n",
       "      <td>1.258000e+03</td>\n",
       "      <td>1258.000000</td>\n",
       "      <td>1258.000000</td>\n",
       "      <td>1258.000000</td>\n",
       "      <td>1258.000000</td>\n",
       "      <td>1.258000e+03</td>\n",
       "      <td>1258.000000</td>\n",
       "      <td>1258.0</td>\n",
       "    </tr>\n",
       "    <tr>\n",
       "      <th>mean</th>\n",
       "      <td>628.500000</td>\n",
       "      <td>167.723998</td>\n",
       "      <td>169.230475</td>\n",
       "      <td>166.039780</td>\n",
       "      <td>167.548266</td>\n",
       "      <td>3.500397e+07</td>\n",
       "      <td>162.666715</td>\n",
       "      <td>164.131054</td>\n",
       "      <td>161.028013</td>\n",
       "      <td>162.493082</td>\n",
       "      <td>3.500397e+07</td>\n",
       "      <td>0.010477</td>\n",
       "      <td>1.0</td>\n",
       "    </tr>\n",
       "    <tr>\n",
       "      <th>std</th>\n",
       "      <td>363.297628</td>\n",
       "      <td>56.850796</td>\n",
       "      <td>57.500128</td>\n",
       "      <td>56.006773</td>\n",
       "      <td>56.612707</td>\n",
       "      <td>1.729100e+07</td>\n",
       "      <td>58.733820</td>\n",
       "      <td>59.402842</td>\n",
       "      <td>57.869246</td>\n",
       "      <td>58.494560</td>\n",
       "      <td>1.729100e+07</td>\n",
       "      <td>0.083366</td>\n",
       "      <td>0.0</td>\n",
       "    </tr>\n",
       "    <tr>\n",
       "      <th>min</th>\n",
       "      <td>0.000000</td>\n",
       "      <td>90.340000</td>\n",
       "      <td>91.670000</td>\n",
       "      <td>89.470000</td>\n",
       "      <td>90.000000</td>\n",
       "      <td>1.136204e+07</td>\n",
       "      <td>84.954351</td>\n",
       "      <td>86.205062</td>\n",
       "      <td>84.136216</td>\n",
       "      <td>84.634620</td>\n",
       "      <td>1.136204e+07</td>\n",
       "      <td>0.000000</td>\n",
       "      <td>1.0</td>\n",
       "    </tr>\n",
       "    <tr>\n",
       "      <th>25%</th>\n",
       "      <td>314.250000</td>\n",
       "      <td>116.327500</td>\n",
       "      <td>117.405000</td>\n",
       "      <td>115.602500</td>\n",
       "      <td>116.482500</td>\n",
       "      <td>2.359205e+07</td>\n",
       "      <td>109.484490</td>\n",
       "      <td>110.393556</td>\n",
       "      <td>107.962457</td>\n",
       "      <td>109.135002</td>\n",
       "      <td>2.359205e+07</td>\n",
       "      <td>0.000000</td>\n",
       "      <td>1.0</td>\n",
       "    </tr>\n",
       "    <tr>\n",
       "      <th>50%</th>\n",
       "      <td>628.500000</td>\n",
       "      <td>160.485000</td>\n",
       "      <td>162.080000</td>\n",
       "      <td>158.974250</td>\n",
       "      <td>160.345000</td>\n",
       "      <td>3.064771e+07</td>\n",
       "      <td>154.710645</td>\n",
       "      <td>156.091874</td>\n",
       "      <td>153.054341</td>\n",
       "      <td>154.410017</td>\n",
       "      <td>3.064771e+07</td>\n",
       "      <td>0.000000</td>\n",
       "      <td>1.0</td>\n",
       "    </tr>\n",
       "    <tr>\n",
       "      <th>75%</th>\n",
       "      <td>942.750000</td>\n",
       "      <td>199.785000</td>\n",
       "      <td>201.277500</td>\n",
       "      <td>198.170000</td>\n",
       "      <td>199.520000</td>\n",
       "      <td>4.100487e+07</td>\n",
       "      <td>196.960053</td>\n",
       "      <td>198.428438</td>\n",
       "      <td>195.281553</td>\n",
       "      <td>196.452903</td>\n",
       "      <td>4.100487e+07</td>\n",
       "      <td>0.000000</td>\n",
       "      <td>1.0</td>\n",
       "    </tr>\n",
       "    <tr>\n",
       "      <th>max</th>\n",
       "      <td>1257.000000</td>\n",
       "      <td>327.200000</td>\n",
       "      <td>327.850000</td>\n",
       "      <td>323.350000</td>\n",
       "      <td>324.730000</td>\n",
       "      <td>1.622063e+08</td>\n",
       "      <td>326.337147</td>\n",
       "      <td>326.357095</td>\n",
       "      <td>322.497300</td>\n",
       "      <td>323.873661</td>\n",
       "      <td>1.622063e+08</td>\n",
       "      <td>0.820000</td>\n",
       "      <td>1.0</td>\n",
       "    </tr>\n",
       "  </tbody>\n",
       "</table>\n",
       "</div>"
      ],
      "text/plain": [
       "        Unnamed: 0        close         high          low         open  \\\n",
       "count  1258.000000  1258.000000  1258.000000  1258.000000  1258.000000   \n",
       "mean    628.500000   167.723998   169.230475   166.039780   167.548266   \n",
       "std     363.297628    56.850796    57.500128    56.006773    56.612707   \n",
       "min       0.000000    90.340000    91.670000    89.470000    90.000000   \n",
       "25%     314.250000   116.327500   117.405000   115.602500   116.482500   \n",
       "50%     628.500000   160.485000   162.080000   158.974250   160.345000   \n",
       "75%     942.750000   199.785000   201.277500   198.170000   199.520000   \n",
       "max    1257.000000   327.200000   327.850000   323.350000   324.730000   \n",
       "\n",
       "             volume     adjClose      adjHigh       adjLow      adjOpen  \\\n",
       "count  1.258000e+03  1258.000000  1258.000000  1258.000000  1258.000000   \n",
       "mean   3.500397e+07   162.666715   164.131054   161.028013   162.493082   \n",
       "std    1.729100e+07    58.733820    59.402842    57.869246    58.494560   \n",
       "min    1.136204e+07    84.954351    86.205062    84.136216    84.634620   \n",
       "25%    2.359205e+07   109.484490   110.393556   107.962457   109.135002   \n",
       "50%    3.064771e+07   154.710645   156.091874   153.054341   154.410017   \n",
       "75%    4.100487e+07   196.960053   198.428438   195.281553   196.452903   \n",
       "max    1.622063e+08   326.337147   326.357095   322.497300   323.873661   \n",
       "\n",
       "          adjVolume      divCash  splitFactor  \n",
       "count  1.258000e+03  1258.000000       1258.0  \n",
       "mean   3.500397e+07     0.010477          1.0  \n",
       "std    1.729100e+07     0.083366          0.0  \n",
       "min    1.136204e+07     0.000000          1.0  \n",
       "25%    2.359205e+07     0.000000          1.0  \n",
       "50%    3.064771e+07     0.000000          1.0  \n",
       "75%    4.100487e+07     0.000000          1.0  \n",
       "max    1.622063e+08     0.820000          1.0  "
      ]
     },
     "execution_count": 11,
     "metadata": {},
     "output_type": "execute_result"
    }
   ],
   "source": [
    "aaplData.describe()"
   ]
  },
  {
   "cell_type": "markdown",
   "metadata": {},
   "source": [
    "## Step 5:\n",
    "Below the same functions are to investigate the other dataset amazonData"
   ]
  },
  {
   "cell_type": "code",
   "execution_count": 12,
   "metadata": {},
   "outputs": [
    {
     "data": {
      "text/html": [
       "<div>\n",
       "<style scoped>\n",
       "    .dataframe tbody tr th:only-of-type {\n",
       "        vertical-align: middle;\n",
       "    }\n",
       "\n",
       "    .dataframe tbody tr th {\n",
       "        vertical-align: top;\n",
       "    }\n",
       "\n",
       "    .dataframe thead th {\n",
       "        text-align: right;\n",
       "    }\n",
       "</style>\n",
       "<table border=\"1\" class=\"dataframe\">\n",
       "  <thead>\n",
       "    <tr style=\"text-align: right;\">\n",
       "      <th></th>\n",
       "      <th>Date</th>\n",
       "      <th>Open</th>\n",
       "      <th>High</th>\n",
       "      <th>Low</th>\n",
       "      <th>Close</th>\n",
       "      <th>Adj Close</th>\n",
       "      <th>Volume</th>\n",
       "    </tr>\n",
       "  </thead>\n",
       "  <tbody>\n",
       "    <tr>\n",
       "      <th>0</th>\n",
       "      <td>1997-05-15</td>\n",
       "      <td>2.437500</td>\n",
       "      <td>2.500000</td>\n",
       "      <td>1.927083</td>\n",
       "      <td>1.958333</td>\n",
       "      <td>1.958333</td>\n",
       "      <td>72156000</td>\n",
       "    </tr>\n",
       "    <tr>\n",
       "      <th>1</th>\n",
       "      <td>1997-05-16</td>\n",
       "      <td>1.968750</td>\n",
       "      <td>1.979167</td>\n",
       "      <td>1.708333</td>\n",
       "      <td>1.729167</td>\n",
       "      <td>1.729167</td>\n",
       "      <td>14700000</td>\n",
       "    </tr>\n",
       "    <tr>\n",
       "      <th>2</th>\n",
       "      <td>1997-05-19</td>\n",
       "      <td>1.760417</td>\n",
       "      <td>1.770833</td>\n",
       "      <td>1.625000</td>\n",
       "      <td>1.708333</td>\n",
       "      <td>1.708333</td>\n",
       "      <td>6106800</td>\n",
       "    </tr>\n",
       "    <tr>\n",
       "      <th>3</th>\n",
       "      <td>1997-05-20</td>\n",
       "      <td>1.729167</td>\n",
       "      <td>1.750000</td>\n",
       "      <td>1.635417</td>\n",
       "      <td>1.635417</td>\n",
       "      <td>1.635417</td>\n",
       "      <td>5467200</td>\n",
       "    </tr>\n",
       "    <tr>\n",
       "      <th>4</th>\n",
       "      <td>1997-05-21</td>\n",
       "      <td>1.635417</td>\n",
       "      <td>1.645833</td>\n",
       "      <td>1.375000</td>\n",
       "      <td>1.427083</td>\n",
       "      <td>1.427083</td>\n",
       "      <td>18853200</td>\n",
       "    </tr>\n",
       "  </tbody>\n",
       "</table>\n",
       "</div>"
      ],
      "text/plain": [
       "         Date      Open      High       Low     Close  Adj Close    Volume\n",
       "0  1997-05-15  2.437500  2.500000  1.927083  1.958333   1.958333  72156000\n",
       "1  1997-05-16  1.968750  1.979167  1.708333  1.729167   1.729167  14700000\n",
       "2  1997-05-19  1.760417  1.770833  1.625000  1.708333   1.708333   6106800\n",
       "3  1997-05-20  1.729167  1.750000  1.635417  1.635417   1.635417   5467200\n",
       "4  1997-05-21  1.635417  1.645833  1.375000  1.427083   1.427083  18853200"
      ]
     },
     "execution_count": 12,
     "metadata": {},
     "output_type": "execute_result"
    }
   ],
   "source": [
    "amazonData.head()"
   ]
  },
  {
   "cell_type": "code",
   "execution_count": 13,
   "metadata": {},
   "outputs": [
    {
     "data": {
      "text/html": [
       "<div>\n",
       "<style scoped>\n",
       "    .dataframe tbody tr th:only-of-type {\n",
       "        vertical-align: middle;\n",
       "    }\n",
       "\n",
       "    .dataframe tbody tr th {\n",
       "        vertical-align: top;\n",
       "    }\n",
       "\n",
       "    .dataframe thead th {\n",
       "        text-align: right;\n",
       "    }\n",
       "</style>\n",
       "<table border=\"1\" class=\"dataframe\">\n",
       "  <thead>\n",
       "    <tr style=\"text-align: right;\">\n",
       "      <th></th>\n",
       "      <th>Date</th>\n",
       "      <th>Open</th>\n",
       "      <th>High</th>\n",
       "      <th>Low</th>\n",
       "      <th>Close</th>\n",
       "      <th>Adj Close</th>\n",
       "      <th>Volume</th>\n",
       "    </tr>\n",
       "  </thead>\n",
       "  <tbody>\n",
       "    <tr>\n",
       "      <th>5837</th>\n",
       "      <td>2020-07-27</td>\n",
       "      <td>3062.00000</td>\n",
       "      <td>3098.000000</td>\n",
       "      <td>3015.77002</td>\n",
       "      <td>3055.209961</td>\n",
       "      <td>3055.209961</td>\n",
       "      <td>4170500</td>\n",
       "    </tr>\n",
       "    <tr>\n",
       "      <th>5838</th>\n",
       "      <td>2020-07-28</td>\n",
       "      <td>3054.27002</td>\n",
       "      <td>3077.090088</td>\n",
       "      <td>2995.76001</td>\n",
       "      <td>3000.330078</td>\n",
       "      <td>3000.330078</td>\n",
       "      <td>3126700</td>\n",
       "    </tr>\n",
       "    <tr>\n",
       "      <th>5839</th>\n",
       "      <td>2020-07-29</td>\n",
       "      <td>3030.98999</td>\n",
       "      <td>3039.159912</td>\n",
       "      <td>2996.77002</td>\n",
       "      <td>3033.530029</td>\n",
       "      <td>3033.530029</td>\n",
       "      <td>2974100</td>\n",
       "    </tr>\n",
       "    <tr>\n",
       "      <th>5840</th>\n",
       "      <td>2020-07-30</td>\n",
       "      <td>3014.00000</td>\n",
       "      <td>3092.000000</td>\n",
       "      <td>3005.00000</td>\n",
       "      <td>3051.879883</td>\n",
       "      <td>3051.879883</td>\n",
       "      <td>6128300</td>\n",
       "    </tr>\n",
       "    <tr>\n",
       "      <th>5841</th>\n",
       "      <td>2020-07-31</td>\n",
       "      <td>3244.00000</td>\n",
       "      <td>3246.820068</td>\n",
       "      <td>3151.00000</td>\n",
       "      <td>3164.679932</td>\n",
       "      <td>3164.679932</td>\n",
       "      <td>8085500</td>\n",
       "    </tr>\n",
       "  </tbody>\n",
       "</table>\n",
       "</div>"
      ],
      "text/plain": [
       "            Date        Open         High         Low        Close  \\\n",
       "5837  2020-07-27  3062.00000  3098.000000  3015.77002  3055.209961   \n",
       "5838  2020-07-28  3054.27002  3077.090088  2995.76001  3000.330078   \n",
       "5839  2020-07-29  3030.98999  3039.159912  2996.77002  3033.530029   \n",
       "5840  2020-07-30  3014.00000  3092.000000  3005.00000  3051.879883   \n",
       "5841  2020-07-31  3244.00000  3246.820068  3151.00000  3164.679932   \n",
       "\n",
       "        Adj Close   Volume  \n",
       "5837  3055.209961  4170500  \n",
       "5838  3000.330078  3126700  \n",
       "5839  3033.530029  2974100  \n",
       "5840  3051.879883  6128300  \n",
       "5841  3164.679932  8085500  "
      ]
     },
     "execution_count": 13,
     "metadata": {},
     "output_type": "execute_result"
    }
   ],
   "source": [
    "amazonData.tail()"
   ]
  },
  {
   "cell_type": "code",
   "execution_count": 14,
   "metadata": {},
   "outputs": [
    {
     "name": "stdout",
     "output_type": "stream",
     "text": [
      "<class 'pandas.core.frame.DataFrame'>\n",
      "RangeIndex: 5842 entries, 0 to 5841\n",
      "Data columns (total 7 columns):\n",
      " #   Column     Non-Null Count  Dtype  \n",
      "---  ------     --------------  -----  \n",
      " 0   Date       5842 non-null   object \n",
      " 1   Open       5842 non-null   float64\n",
      " 2   High       5842 non-null   float64\n",
      " 3   Low        5842 non-null   float64\n",
      " 4   Close      5842 non-null   float64\n",
      " 5   Adj Close  5842 non-null   float64\n",
      " 6   Volume     5842 non-null   int64  \n",
      "dtypes: float64(5), int64(1), object(1)\n",
      "memory usage: 319.6+ KB\n"
     ]
    }
   ],
   "source": [
    "amazonData.info()"
   ]
  },
  {
   "cell_type": "code",
   "execution_count": 15,
   "metadata": {},
   "outputs": [
    {
     "data": {
      "text/html": [
       "<div>\n",
       "<style scoped>\n",
       "    .dataframe tbody tr th:only-of-type {\n",
       "        vertical-align: middle;\n",
       "    }\n",
       "\n",
       "    .dataframe tbody tr th {\n",
       "        vertical-align: top;\n",
       "    }\n",
       "\n",
       "    .dataframe thead th {\n",
       "        text-align: right;\n",
       "    }\n",
       "</style>\n",
       "<table border=\"1\" class=\"dataframe\">\n",
       "  <thead>\n",
       "    <tr style=\"text-align: right;\">\n",
       "      <th></th>\n",
       "      <th>Open</th>\n",
       "      <th>High</th>\n",
       "      <th>Low</th>\n",
       "      <th>Close</th>\n",
       "      <th>Adj Close</th>\n",
       "      <th>Volume</th>\n",
       "    </tr>\n",
       "  </thead>\n",
       "  <tbody>\n",
       "    <tr>\n",
       "      <th>count</th>\n",
       "      <td>5842.000000</td>\n",
       "      <td>5842.000000</td>\n",
       "      <td>5842.000000</td>\n",
       "      <td>5842.000000</td>\n",
       "      <td>5842.000000</td>\n",
       "      <td>5.842000e+03</td>\n",
       "    </tr>\n",
       "    <tr>\n",
       "      <th>mean</th>\n",
       "      <td>372.707174</td>\n",
       "      <td>376.921392</td>\n",
       "      <td>368.114569</td>\n",
       "      <td>372.746660</td>\n",
       "      <td>372.746660</td>\n",
       "      <td>7.519048e+06</td>\n",
       "    </tr>\n",
       "    <tr>\n",
       "      <th>std</th>\n",
       "      <td>585.571802</td>\n",
       "      <td>591.766458</td>\n",
       "      <td>578.660700</td>\n",
       "      <td>585.607655</td>\n",
       "      <td>585.607655</td>\n",
       "      <td>7.282683e+06</td>\n",
       "    </tr>\n",
       "    <tr>\n",
       "      <th>min</th>\n",
       "      <td>1.406250</td>\n",
       "      <td>1.447917</td>\n",
       "      <td>1.312500</td>\n",
       "      <td>1.395833</td>\n",
       "      <td>1.395833</td>\n",
       "      <td>4.872000e+05</td>\n",
       "    </tr>\n",
       "    <tr>\n",
       "      <th>25%</th>\n",
       "      <td>37.955001</td>\n",
       "      <td>38.547501</td>\n",
       "      <td>37.207500</td>\n",
       "      <td>37.927499</td>\n",
       "      <td>37.927499</td>\n",
       "      <td>3.684900e+06</td>\n",
       "    </tr>\n",
       "    <tr>\n",
       "      <th>50%</th>\n",
       "      <td>83.428749</td>\n",
       "      <td>84.945000</td>\n",
       "      <td>81.656250</td>\n",
       "      <td>83.459999</td>\n",
       "      <td>83.459999</td>\n",
       "      <td>5.657200e+06</td>\n",
       "    </tr>\n",
       "    <tr>\n",
       "      <th>75%</th>\n",
       "      <td>359.729988</td>\n",
       "      <td>363.439987</td>\n",
       "      <td>356.280006</td>\n",
       "      <td>360.047501</td>\n",
       "      <td>360.047501</td>\n",
       "      <td>8.533400e+06</td>\n",
       "    </tr>\n",
       "    <tr>\n",
       "      <th>max</th>\n",
       "      <td>3251.060059</td>\n",
       "      <td>3344.290039</td>\n",
       "      <td>3151.000000</td>\n",
       "      <td>3200.000000</td>\n",
       "      <td>3200.000000</td>\n",
       "      <td>1.043292e+08</td>\n",
       "    </tr>\n",
       "  </tbody>\n",
       "</table>\n",
       "</div>"
      ],
      "text/plain": [
       "              Open         High          Low        Close    Adj Close  \\\n",
       "count  5842.000000  5842.000000  5842.000000  5842.000000  5842.000000   \n",
       "mean    372.707174   376.921392   368.114569   372.746660   372.746660   \n",
       "std     585.571802   591.766458   578.660700   585.607655   585.607655   \n",
       "min       1.406250     1.447917     1.312500     1.395833     1.395833   \n",
       "25%      37.955001    38.547501    37.207500    37.927499    37.927499   \n",
       "50%      83.428749    84.945000    81.656250    83.459999    83.459999   \n",
       "75%     359.729988   363.439987   356.280006   360.047501   360.047501   \n",
       "max    3251.060059  3344.290039  3151.000000  3200.000000  3200.000000   \n",
       "\n",
       "             Volume  \n",
       "count  5.842000e+03  \n",
       "mean   7.519048e+06  \n",
       "std    7.282683e+06  \n",
       "min    4.872000e+05  \n",
       "25%    3.684900e+06  \n",
       "50%    5.657200e+06  \n",
       "75%    8.533400e+06  \n",
       "max    1.043292e+08  "
      ]
     },
     "execution_count": 15,
     "metadata": {},
     "output_type": "execute_result"
    }
   ],
   "source": [
    "amazonData.describe()"
   ]
  },
  {
   "cell_type": "markdown",
   "metadata": {},
   "source": [
    "## Step 6:\n",
    "**Cleaning:** <br> In order to clean the datasets, first the unnecessary columns are dropped<br>\n",
    "The columns kept (date, open, high, low, close, adjusted close) are shared by both datasets and can then be used to compare the datasets later using charts"
   ]
  },
  {
   "cell_type": "code",
   "execution_count": 16,
   "metadata": {},
   "outputs": [],
   "source": [
    "aaplData=aaplData[['date','open','high','low','close','adjClose']]"
   ]
  },
  {
   "cell_type": "code",
   "execution_count": 17,
   "metadata": {},
   "outputs": [
    {
     "data": {
      "text/html": [
       "<div>\n",
       "<style scoped>\n",
       "    .dataframe tbody tr th:only-of-type {\n",
       "        vertical-align: middle;\n",
       "    }\n",
       "\n",
       "    .dataframe tbody tr th {\n",
       "        vertical-align: top;\n",
       "    }\n",
       "\n",
       "    .dataframe thead th {\n",
       "        text-align: right;\n",
       "    }\n",
       "</style>\n",
       "<table border=\"1\" class=\"dataframe\">\n",
       "  <thead>\n",
       "    <tr style=\"text-align: right;\">\n",
       "      <th></th>\n",
       "      <th>date</th>\n",
       "      <th>open</th>\n",
       "      <th>high</th>\n",
       "      <th>low</th>\n",
       "      <th>close</th>\n",
       "      <th>adjClose</th>\n",
       "    </tr>\n",
       "  </thead>\n",
       "  <tbody>\n",
       "    <tr>\n",
       "      <th>0</th>\n",
       "      <td>2015-05-27 00:00:00+00:00</td>\n",
       "      <td>130.34</td>\n",
       "      <td>132.260</td>\n",
       "      <td>130.05</td>\n",
       "      <td>132.045</td>\n",
       "      <td>121.682558</td>\n",
       "    </tr>\n",
       "    <tr>\n",
       "      <th>1</th>\n",
       "      <td>2015-05-28 00:00:00+00:00</td>\n",
       "      <td>131.86</td>\n",
       "      <td>131.950</td>\n",
       "      <td>131.10</td>\n",
       "      <td>131.780</td>\n",
       "      <td>121.438354</td>\n",
       "    </tr>\n",
       "    <tr>\n",
       "      <th>2</th>\n",
       "      <td>2015-05-29 00:00:00+00:00</td>\n",
       "      <td>131.23</td>\n",
       "      <td>131.450</td>\n",
       "      <td>129.90</td>\n",
       "      <td>130.280</td>\n",
       "      <td>120.056069</td>\n",
       "    </tr>\n",
       "    <tr>\n",
       "      <th>3</th>\n",
       "      <td>2015-06-01 00:00:00+00:00</td>\n",
       "      <td>131.20</td>\n",
       "      <td>131.390</td>\n",
       "      <td>130.05</td>\n",
       "      <td>130.535</td>\n",
       "      <td>120.291057</td>\n",
       "    </tr>\n",
       "    <tr>\n",
       "      <th>4</th>\n",
       "      <td>2015-06-02 00:00:00+00:00</td>\n",
       "      <td>129.86</td>\n",
       "      <td>130.655</td>\n",
       "      <td>129.32</td>\n",
       "      <td>129.960</td>\n",
       "      <td>119.761181</td>\n",
       "    </tr>\n",
       "  </tbody>\n",
       "</table>\n",
       "</div>"
      ],
      "text/plain": [
       "                        date    open     high     low    close    adjClose\n",
       "0  2015-05-27 00:00:00+00:00  130.34  132.260  130.05  132.045  121.682558\n",
       "1  2015-05-28 00:00:00+00:00  131.86  131.950  131.10  131.780  121.438354\n",
       "2  2015-05-29 00:00:00+00:00  131.23  131.450  129.90  130.280  120.056069\n",
       "3  2015-06-01 00:00:00+00:00  131.20  131.390  130.05  130.535  120.291057\n",
       "4  2015-06-02 00:00:00+00:00  129.86  130.655  129.32  129.960  119.761181"
      ]
     },
     "execution_count": 17,
     "metadata": {},
     "output_type": "execute_result"
    }
   ],
   "source": [
    "aaplData.head()"
   ]
  },
  {
   "cell_type": "code",
   "execution_count": 18,
   "metadata": {},
   "outputs": [],
   "source": [
    "amazonData=amazonData[['Date','Open','High','Low','Close','Adj Close']]"
   ]
  },
  {
   "cell_type": "code",
   "execution_count": 19,
   "metadata": {},
   "outputs": [
    {
     "data": {
      "text/html": [
       "<div>\n",
       "<style scoped>\n",
       "    .dataframe tbody tr th:only-of-type {\n",
       "        vertical-align: middle;\n",
       "    }\n",
       "\n",
       "    .dataframe tbody tr th {\n",
       "        vertical-align: top;\n",
       "    }\n",
       "\n",
       "    .dataframe thead th {\n",
       "        text-align: right;\n",
       "    }\n",
       "</style>\n",
       "<table border=\"1\" class=\"dataframe\">\n",
       "  <thead>\n",
       "    <tr style=\"text-align: right;\">\n",
       "      <th></th>\n",
       "      <th>Date</th>\n",
       "      <th>Open</th>\n",
       "      <th>High</th>\n",
       "      <th>Low</th>\n",
       "      <th>Close</th>\n",
       "      <th>Adj Close</th>\n",
       "    </tr>\n",
       "  </thead>\n",
       "  <tbody>\n",
       "    <tr>\n",
       "      <th>0</th>\n",
       "      <td>1997-05-15</td>\n",
       "      <td>2.437500</td>\n",
       "      <td>2.500000</td>\n",
       "      <td>1.927083</td>\n",
       "      <td>1.958333</td>\n",
       "      <td>1.958333</td>\n",
       "    </tr>\n",
       "    <tr>\n",
       "      <th>1</th>\n",
       "      <td>1997-05-16</td>\n",
       "      <td>1.968750</td>\n",
       "      <td>1.979167</td>\n",
       "      <td>1.708333</td>\n",
       "      <td>1.729167</td>\n",
       "      <td>1.729167</td>\n",
       "    </tr>\n",
       "    <tr>\n",
       "      <th>2</th>\n",
       "      <td>1997-05-19</td>\n",
       "      <td>1.760417</td>\n",
       "      <td>1.770833</td>\n",
       "      <td>1.625000</td>\n",
       "      <td>1.708333</td>\n",
       "      <td>1.708333</td>\n",
       "    </tr>\n",
       "    <tr>\n",
       "      <th>3</th>\n",
       "      <td>1997-05-20</td>\n",
       "      <td>1.729167</td>\n",
       "      <td>1.750000</td>\n",
       "      <td>1.635417</td>\n",
       "      <td>1.635417</td>\n",
       "      <td>1.635417</td>\n",
       "    </tr>\n",
       "    <tr>\n",
       "      <th>4</th>\n",
       "      <td>1997-05-21</td>\n",
       "      <td>1.635417</td>\n",
       "      <td>1.645833</td>\n",
       "      <td>1.375000</td>\n",
       "      <td>1.427083</td>\n",
       "      <td>1.427083</td>\n",
       "    </tr>\n",
       "  </tbody>\n",
       "</table>\n",
       "</div>"
      ],
      "text/plain": [
       "         Date      Open      High       Low     Close  Adj Close\n",
       "0  1997-05-15  2.437500  2.500000  1.927083  1.958333   1.958333\n",
       "1  1997-05-16  1.968750  1.979167  1.708333  1.729167   1.729167\n",
       "2  1997-05-19  1.760417  1.770833  1.625000  1.708333   1.708333\n",
       "3  1997-05-20  1.729167  1.750000  1.635417  1.635417   1.635417\n",
       "4  1997-05-21  1.635417  1.645833  1.375000  1.427083   1.427083"
      ]
     },
     "execution_count": 19,
     "metadata": {},
     "output_type": "execute_result"
    }
   ],
   "source": [
    "amazonData.head()"
   ]
  },
  {
   "cell_type": "markdown",
   "metadata": {},
   "source": [
    "The .head and .info functions show that the Apple dataset has results 15/05/1997 to 22/05/2020 whereas the Amazon dataset has results from 27/05/2015 to 31/07/2020 <br>\n",
    "The below code removes all rows in both datasets before 01/01/2016 and 22/05/2020 <br>\n",
    "This will ensure that there is data in both datasets for the selected period"
   ]
  },
  {
   "cell_type": "code",
   "execution_count": 20,
   "metadata": {},
   "outputs": [],
   "source": [
    "amazonData = amazonData[amazonData.Date >= '2016-01-01']"
   ]
  },
  {
   "cell_type": "code",
   "execution_count": 21,
   "metadata": {},
   "outputs": [],
   "source": [
    "amazonData = amazonData[amazonData.Date < '2020-05-22']"
   ]
  },
  {
   "cell_type": "code",
   "execution_count": 22,
   "metadata": {},
   "outputs": [],
   "source": [
    "aaplData = aaplData[aaplData.date >= '2016-01-01']"
   ]
  },
  {
   "cell_type": "code",
   "execution_count": 23,
   "metadata": {},
   "outputs": [],
   "source": [
    "aaplData = aaplData[aaplData.date < '2020-05-22']"
   ]
  },
  {
   "cell_type": "markdown",
   "metadata": {},
   "source": [
    "## Step 7:\n",
    "the date column in the Apple dataset contains hours/mins/secs which aren't needed when comparing dates<br>\n",
    "The .to_datetime function below is used to remove this and display the date column as yyyy-mm-dd as with the Amazon dataset"
   ]
  },
  {
   "cell_type": "code",
   "execution_count": 24,
   "metadata": {},
   "outputs": [],
   "source": [
    "aaplData['date'] = pd.to_datetime(aaplData['date']).dt.date"
   ]
  },
  {
   "cell_type": "code",
   "execution_count": 25,
   "metadata": {},
   "outputs": [
    {
     "data": {
      "text/html": [
       "<div>\n",
       "<style scoped>\n",
       "    .dataframe tbody tr th:only-of-type {\n",
       "        vertical-align: middle;\n",
       "    }\n",
       "\n",
       "    .dataframe tbody tr th {\n",
       "        vertical-align: top;\n",
       "    }\n",
       "\n",
       "    .dataframe thead th {\n",
       "        text-align: right;\n",
       "    }\n",
       "</style>\n",
       "<table border=\"1\" class=\"dataframe\">\n",
       "  <thead>\n",
       "    <tr style=\"text-align: right;\">\n",
       "      <th></th>\n",
       "      <th>date</th>\n",
       "      <th>open</th>\n",
       "      <th>high</th>\n",
       "      <th>low</th>\n",
       "      <th>close</th>\n",
       "      <th>adjClose</th>\n",
       "    </tr>\n",
       "  </thead>\n",
       "  <tbody>\n",
       "    <tr>\n",
       "      <th>153</th>\n",
       "      <td>2016-01-04</td>\n",
       "      <td>102.61</td>\n",
       "      <td>105.368</td>\n",
       "      <td>102.00</td>\n",
       "      <td>105.35</td>\n",
       "      <td>97.940352</td>\n",
       "    </tr>\n",
       "    <tr>\n",
       "      <th>154</th>\n",
       "      <td>2016-01-05</td>\n",
       "      <td>105.75</td>\n",
       "      <td>105.850</td>\n",
       "      <td>102.41</td>\n",
       "      <td>102.71</td>\n",
       "      <td>95.486033</td>\n",
       "    </tr>\n",
       "    <tr>\n",
       "      <th>155</th>\n",
       "      <td>2016-01-06</td>\n",
       "      <td>100.56</td>\n",
       "      <td>102.370</td>\n",
       "      <td>99.87</td>\n",
       "      <td>100.70</td>\n",
       "      <td>93.617403</td>\n",
       "    </tr>\n",
       "    <tr>\n",
       "      <th>156</th>\n",
       "      <td>2016-01-07</td>\n",
       "      <td>98.68</td>\n",
       "      <td>100.130</td>\n",
       "      <td>96.43</td>\n",
       "      <td>96.45</td>\n",
       "      <td>89.666321</td>\n",
       "    </tr>\n",
       "    <tr>\n",
       "      <th>157</th>\n",
       "      <td>2016-01-08</td>\n",
       "      <td>98.55</td>\n",
       "      <td>99.110</td>\n",
       "      <td>96.76</td>\n",
       "      <td>96.96</td>\n",
       "      <td>90.140451</td>\n",
       "    </tr>\n",
       "  </tbody>\n",
       "</table>\n",
       "</div>"
      ],
      "text/plain": [
       "           date    open     high     low   close   adjClose\n",
       "153  2016-01-04  102.61  105.368  102.00  105.35  97.940352\n",
       "154  2016-01-05  105.75  105.850  102.41  102.71  95.486033\n",
       "155  2016-01-06  100.56  102.370   99.87  100.70  93.617403\n",
       "156  2016-01-07   98.68  100.130   96.43   96.45  89.666321\n",
       "157  2016-01-08   98.55   99.110   96.76   96.96  90.140451"
      ]
     },
     "execution_count": 25,
     "metadata": {},
     "output_type": "execute_result"
    }
   ],
   "source": [
    "aaplData.head()"
   ]
  },
  {
   "cell_type": "code",
   "execution_count": 26,
   "metadata": {},
   "outputs": [],
   "source": [
    "amazonData['Date'] = pd.to_datetime(amazonData['Date']).dt.date"
   ]
  },
  {
   "cell_type": "markdown",
   "metadata": {},
   "source": [
    "## Step 8:\n",
    "The below code is used to rename the columns in the Apple dataset<br>\n",
    "These have been renamed to be consistent with the Amazon dataset it will be compared with"
   ]
  },
  {
   "cell_type": "code",
   "execution_count": 27,
   "metadata": {},
   "outputs": [],
   "source": [
    "aaplData = aaplData.rename(columns={'date': 'Date', 'open': 'Open', 'high':'High', 'low': 'Low', 'close': 'Close', 'adjClose': 'Adj Close'})"
   ]
  },
  {
   "cell_type": "code",
   "execution_count": 28,
   "metadata": {},
   "outputs": [
    {
     "data": {
      "text/html": [
       "<div>\n",
       "<style scoped>\n",
       "    .dataframe tbody tr th:only-of-type {\n",
       "        vertical-align: middle;\n",
       "    }\n",
       "\n",
       "    .dataframe tbody tr th {\n",
       "        vertical-align: top;\n",
       "    }\n",
       "\n",
       "    .dataframe thead th {\n",
       "        text-align: right;\n",
       "    }\n",
       "</style>\n",
       "<table border=\"1\" class=\"dataframe\">\n",
       "  <thead>\n",
       "    <tr style=\"text-align: right;\">\n",
       "      <th></th>\n",
       "      <th>Date</th>\n",
       "      <th>Open</th>\n",
       "      <th>High</th>\n",
       "      <th>Low</th>\n",
       "      <th>Close</th>\n",
       "      <th>Adj Close</th>\n",
       "    </tr>\n",
       "  </thead>\n",
       "  <tbody>\n",
       "    <tr>\n",
       "      <th>153</th>\n",
       "      <td>2016-01-04</td>\n",
       "      <td>102.61</td>\n",
       "      <td>105.368</td>\n",
       "      <td>102.00</td>\n",
       "      <td>105.35</td>\n",
       "      <td>97.940352</td>\n",
       "    </tr>\n",
       "    <tr>\n",
       "      <th>154</th>\n",
       "      <td>2016-01-05</td>\n",
       "      <td>105.75</td>\n",
       "      <td>105.850</td>\n",
       "      <td>102.41</td>\n",
       "      <td>102.71</td>\n",
       "      <td>95.486033</td>\n",
       "    </tr>\n",
       "    <tr>\n",
       "      <th>155</th>\n",
       "      <td>2016-01-06</td>\n",
       "      <td>100.56</td>\n",
       "      <td>102.370</td>\n",
       "      <td>99.87</td>\n",
       "      <td>100.70</td>\n",
       "      <td>93.617403</td>\n",
       "    </tr>\n",
       "    <tr>\n",
       "      <th>156</th>\n",
       "      <td>2016-01-07</td>\n",
       "      <td>98.68</td>\n",
       "      <td>100.130</td>\n",
       "      <td>96.43</td>\n",
       "      <td>96.45</td>\n",
       "      <td>89.666321</td>\n",
       "    </tr>\n",
       "    <tr>\n",
       "      <th>157</th>\n",
       "      <td>2016-01-08</td>\n",
       "      <td>98.55</td>\n",
       "      <td>99.110</td>\n",
       "      <td>96.76</td>\n",
       "      <td>96.96</td>\n",
       "      <td>90.140451</td>\n",
       "    </tr>\n",
       "  </tbody>\n",
       "</table>\n",
       "</div>"
      ],
      "text/plain": [
       "           Date    Open     High     Low   Close  Adj Close\n",
       "153  2016-01-04  102.61  105.368  102.00  105.35  97.940352\n",
       "154  2016-01-05  105.75  105.850  102.41  102.71  95.486033\n",
       "155  2016-01-06  100.56  102.370   99.87  100.70  93.617403\n",
       "156  2016-01-07   98.68  100.130   96.43   96.45  89.666321\n",
       "157  2016-01-08   98.55   99.110   96.76   96.96  90.140451"
      ]
     },
     "execution_count": 28,
     "metadata": {},
     "output_type": "execute_result"
    }
   ],
   "source": [
    "aaplData.head()"
   ]
  },
  {
   "cell_type": "markdown",
   "metadata": {},
   "source": [
    "**Rounding values** <br>\n",
    "The columns in the chosen dataframes use a high number of decimal places <br>\n",
    "The code below is used to round the numbers within the dataframes to 2 decimal places"
   ]
  },
  {
   "cell_type": "code",
   "execution_count": 29,
   "metadata": {},
   "outputs": [],
   "source": [
    "amazonData = amazonData.round(decimals = 2)"
   ]
  },
  {
   "cell_type": "code",
   "execution_count": 30,
   "metadata": {},
   "outputs": [],
   "source": [
    "aaplData = aaplData.round(decimals = 2)"
   ]
  },
  {
   "cell_type": "markdown",
   "metadata": {},
   "source": [
    "## Step 9:\n",
    "**Sorting/Indexing:** <br> The columns in the datafile were already sorted by date<br>\n",
    "The below is an example of how the datasets could be sorted by date if the .csv file used was not sorted correctly/had rows in the incorrect order"
   ]
  },
  {
   "cell_type": "code",
   "execution_count": 31,
   "metadata": {},
   "outputs": [
    {
     "data": {
      "text/html": [
       "<div>\n",
       "<style scoped>\n",
       "    .dataframe tbody tr th:only-of-type {\n",
       "        vertical-align: middle;\n",
       "    }\n",
       "\n",
       "    .dataframe tbody tr th {\n",
       "        vertical-align: top;\n",
       "    }\n",
       "\n",
       "    .dataframe thead th {\n",
       "        text-align: right;\n",
       "    }\n",
       "</style>\n",
       "<table border=\"1\" class=\"dataframe\">\n",
       "  <thead>\n",
       "    <tr style=\"text-align: right;\">\n",
       "      <th></th>\n",
       "      <th>Date</th>\n",
       "      <th>Open</th>\n",
       "      <th>High</th>\n",
       "      <th>Low</th>\n",
       "      <th>Close</th>\n",
       "      <th>Adj Close</th>\n",
       "    </tr>\n",
       "  </thead>\n",
       "  <tbody>\n",
       "    <tr>\n",
       "      <th>153</th>\n",
       "      <td>2016-01-04</td>\n",
       "      <td>102.61</td>\n",
       "      <td>105.37</td>\n",
       "      <td>102.00</td>\n",
       "      <td>105.35</td>\n",
       "      <td>97.94</td>\n",
       "    </tr>\n",
       "    <tr>\n",
       "      <th>154</th>\n",
       "      <td>2016-01-05</td>\n",
       "      <td>105.75</td>\n",
       "      <td>105.85</td>\n",
       "      <td>102.41</td>\n",
       "      <td>102.71</td>\n",
       "      <td>95.49</td>\n",
       "    </tr>\n",
       "    <tr>\n",
       "      <th>155</th>\n",
       "      <td>2016-01-06</td>\n",
       "      <td>100.56</td>\n",
       "      <td>102.37</td>\n",
       "      <td>99.87</td>\n",
       "      <td>100.70</td>\n",
       "      <td>93.62</td>\n",
       "    </tr>\n",
       "    <tr>\n",
       "      <th>156</th>\n",
       "      <td>2016-01-07</td>\n",
       "      <td>98.68</td>\n",
       "      <td>100.13</td>\n",
       "      <td>96.43</td>\n",
       "      <td>96.45</td>\n",
       "      <td>89.67</td>\n",
       "    </tr>\n",
       "    <tr>\n",
       "      <th>157</th>\n",
       "      <td>2016-01-08</td>\n",
       "      <td>98.55</td>\n",
       "      <td>99.11</td>\n",
       "      <td>96.76</td>\n",
       "      <td>96.96</td>\n",
       "      <td>90.14</td>\n",
       "    </tr>\n",
       "    <tr>\n",
       "      <th>...</th>\n",
       "      <td>...</td>\n",
       "      <td>...</td>\n",
       "      <td>...</td>\n",
       "      <td>...</td>\n",
       "      <td>...</td>\n",
       "      <td>...</td>\n",
       "    </tr>\n",
       "    <tr>\n",
       "      <th>1252</th>\n",
       "      <td>2020-05-15</td>\n",
       "      <td>300.35</td>\n",
       "      <td>307.90</td>\n",
       "      <td>300.21</td>\n",
       "      <td>307.71</td>\n",
       "      <td>307.71</td>\n",
       "    </tr>\n",
       "    <tr>\n",
       "      <th>1253</th>\n",
       "      <td>2020-05-18</td>\n",
       "      <td>313.17</td>\n",
       "      <td>316.50</td>\n",
       "      <td>310.32</td>\n",
       "      <td>314.96</td>\n",
       "      <td>314.96</td>\n",
       "    </tr>\n",
       "    <tr>\n",
       "      <th>1254</th>\n",
       "      <td>2020-05-19</td>\n",
       "      <td>315.03</td>\n",
       "      <td>318.52</td>\n",
       "      <td>313.01</td>\n",
       "      <td>313.14</td>\n",
       "      <td>313.14</td>\n",
       "    </tr>\n",
       "    <tr>\n",
       "      <th>1255</th>\n",
       "      <td>2020-05-20</td>\n",
       "      <td>316.68</td>\n",
       "      <td>319.52</td>\n",
       "      <td>316.20</td>\n",
       "      <td>319.23</td>\n",
       "      <td>319.23</td>\n",
       "    </tr>\n",
       "    <tr>\n",
       "      <th>1256</th>\n",
       "      <td>2020-05-21</td>\n",
       "      <td>318.66</td>\n",
       "      <td>320.89</td>\n",
       "      <td>315.87</td>\n",
       "      <td>316.85</td>\n",
       "      <td>316.85</td>\n",
       "    </tr>\n",
       "  </tbody>\n",
       "</table>\n",
       "<p>1104 rows × 6 columns</p>\n",
       "</div>"
      ],
      "text/plain": [
       "            Date    Open    High     Low   Close  Adj Close\n",
       "153   2016-01-04  102.61  105.37  102.00  105.35      97.94\n",
       "154   2016-01-05  105.75  105.85  102.41  102.71      95.49\n",
       "155   2016-01-06  100.56  102.37   99.87  100.70      93.62\n",
       "156   2016-01-07   98.68  100.13   96.43   96.45      89.67\n",
       "157   2016-01-08   98.55   99.11   96.76   96.96      90.14\n",
       "...          ...     ...     ...     ...     ...        ...\n",
       "1252  2020-05-15  300.35  307.90  300.21  307.71     307.71\n",
       "1253  2020-05-18  313.17  316.50  310.32  314.96     314.96\n",
       "1254  2020-05-19  315.03  318.52  313.01  313.14     313.14\n",
       "1255  2020-05-20  316.68  319.52  316.20  319.23     319.23\n",
       "1256  2020-05-21  318.66  320.89  315.87  316.85     316.85\n",
       "\n",
       "[1104 rows x 6 columns]"
      ]
     },
     "execution_count": 31,
     "metadata": {},
     "output_type": "execute_result"
    }
   ],
   "source": [
    "aaplData.sort_values(by=['Date'])"
   ]
  },
  {
   "cell_type": "code",
   "execution_count": 32,
   "metadata": {},
   "outputs": [
    {
     "data": {
      "text/html": [
       "<div>\n",
       "<style scoped>\n",
       "    .dataframe tbody tr th:only-of-type {\n",
       "        vertical-align: middle;\n",
       "    }\n",
       "\n",
       "    .dataframe tbody tr th {\n",
       "        vertical-align: top;\n",
       "    }\n",
       "\n",
       "    .dataframe thead th {\n",
       "        text-align: right;\n",
       "    }\n",
       "</style>\n",
       "<table border=\"1\" class=\"dataframe\">\n",
       "  <thead>\n",
       "    <tr style=\"text-align: right;\">\n",
       "      <th></th>\n",
       "      <th>Date</th>\n",
       "      <th>Open</th>\n",
       "      <th>High</th>\n",
       "      <th>Low</th>\n",
       "      <th>Close</th>\n",
       "      <th>Adj Close</th>\n",
       "    </tr>\n",
       "  </thead>\n",
       "  <tbody>\n",
       "    <tr>\n",
       "      <th>4689</th>\n",
       "      <td>2016-01-04</td>\n",
       "      <td>656.29</td>\n",
       "      <td>657.72</td>\n",
       "      <td>627.51</td>\n",
       "      <td>636.99</td>\n",
       "      <td>636.99</td>\n",
       "    </tr>\n",
       "    <tr>\n",
       "      <th>4690</th>\n",
       "      <td>2016-01-05</td>\n",
       "      <td>646.86</td>\n",
       "      <td>646.91</td>\n",
       "      <td>627.65</td>\n",
       "      <td>633.79</td>\n",
       "      <td>633.79</td>\n",
       "    </tr>\n",
       "    <tr>\n",
       "      <th>4691</th>\n",
       "      <td>2016-01-06</td>\n",
       "      <td>622.00</td>\n",
       "      <td>639.79</td>\n",
       "      <td>620.31</td>\n",
       "      <td>632.65</td>\n",
       "      <td>632.65</td>\n",
       "    </tr>\n",
       "    <tr>\n",
       "      <th>4692</th>\n",
       "      <td>2016-01-07</td>\n",
       "      <td>621.80</td>\n",
       "      <td>630.00</td>\n",
       "      <td>605.21</td>\n",
       "      <td>607.94</td>\n",
       "      <td>607.94</td>\n",
       "    </tr>\n",
       "    <tr>\n",
       "      <th>4693</th>\n",
       "      <td>2016-01-08</td>\n",
       "      <td>619.66</td>\n",
       "      <td>624.14</td>\n",
       "      <td>606.00</td>\n",
       "      <td>607.05</td>\n",
       "      <td>607.05</td>\n",
       "    </tr>\n",
       "    <tr>\n",
       "      <th>...</th>\n",
       "      <td>...</td>\n",
       "      <td>...</td>\n",
       "      <td>...</td>\n",
       "      <td>...</td>\n",
       "      <td>...</td>\n",
       "      <td>...</td>\n",
       "    </tr>\n",
       "    <tr>\n",
       "      <th>5788</th>\n",
       "      <td>2020-05-15</td>\n",
       "      <td>2368.52</td>\n",
       "      <td>2411.00</td>\n",
       "      <td>2356.37</td>\n",
       "      <td>2409.78</td>\n",
       "      <td>2409.78</td>\n",
       "    </tr>\n",
       "    <tr>\n",
       "      <th>5789</th>\n",
       "      <td>2020-05-18</td>\n",
       "      <td>2404.35</td>\n",
       "      <td>2433.00</td>\n",
       "      <td>2384.01</td>\n",
       "      <td>2426.26</td>\n",
       "      <td>2426.26</td>\n",
       "    </tr>\n",
       "    <tr>\n",
       "      <th>5790</th>\n",
       "      <td>2020-05-19</td>\n",
       "      <td>2429.83</td>\n",
       "      <td>2485.00</td>\n",
       "      <td>2428.97</td>\n",
       "      <td>2449.33</td>\n",
       "      <td>2449.33</td>\n",
       "    </tr>\n",
       "    <tr>\n",
       "      <th>5791</th>\n",
       "      <td>2020-05-20</td>\n",
       "      <td>2477.87</td>\n",
       "      <td>2500.01</td>\n",
       "      <td>2467.27</td>\n",
       "      <td>2497.94</td>\n",
       "      <td>2497.94</td>\n",
       "    </tr>\n",
       "    <tr>\n",
       "      <th>5792</th>\n",
       "      <td>2020-05-21</td>\n",
       "      <td>2500.00</td>\n",
       "      <td>2525.45</td>\n",
       "      <td>2442.54</td>\n",
       "      <td>2446.74</td>\n",
       "      <td>2446.74</td>\n",
       "    </tr>\n",
       "  </tbody>\n",
       "</table>\n",
       "<p>1104 rows × 6 columns</p>\n",
       "</div>"
      ],
      "text/plain": [
       "            Date     Open     High      Low    Close  Adj Close\n",
       "4689  2016-01-04   656.29   657.72   627.51   636.99     636.99\n",
       "4690  2016-01-05   646.86   646.91   627.65   633.79     633.79\n",
       "4691  2016-01-06   622.00   639.79   620.31   632.65     632.65\n",
       "4692  2016-01-07   621.80   630.00   605.21   607.94     607.94\n",
       "4693  2016-01-08   619.66   624.14   606.00   607.05     607.05\n",
       "...          ...      ...      ...      ...      ...        ...\n",
       "5788  2020-05-15  2368.52  2411.00  2356.37  2409.78    2409.78\n",
       "5789  2020-05-18  2404.35  2433.00  2384.01  2426.26    2426.26\n",
       "5790  2020-05-19  2429.83  2485.00  2428.97  2449.33    2449.33\n",
       "5791  2020-05-20  2477.87  2500.01  2467.27  2497.94    2497.94\n",
       "5792  2020-05-21  2500.00  2525.45  2442.54  2446.74    2446.74\n",
       "\n",
       "[1104 rows x 6 columns]"
      ]
     },
     "execution_count": 32,
     "metadata": {},
     "output_type": "execute_result"
    }
   ],
   "source": [
    "amazonData.sort_values(by=['Date'])"
   ]
  },
  {
   "cell_type": "markdown",
   "metadata": {},
   "source": [
    "## Step 10:\n",
    "**Missing values:** <br> below the isnull function is used to check if any of the columns have null values<br>\n",
    "In this case there weren't any<br><br>\n",
    "If there were a large number of null values in a column the entire column could be dropped as below<br>\n",
    "*aaplData=aaplData.drop(columns=['Open'])*<br><br>\n",
    "If there were a small number of null values we could choose to remove the rows with null values as below <br>\n",
    "*aaplData=aaplData.dropna()*"
   ]
  },
  {
   "cell_type": "code",
   "execution_count": 33,
   "metadata": {},
   "outputs": [
    {
     "data": {
      "text/plain": [
       "Date         0\n",
       "Open         0\n",
       "High         0\n",
       "Low          0\n",
       "Close        0\n",
       "Adj Close    0\n",
       "dtype: int64"
      ]
     },
     "execution_count": 33,
     "metadata": {},
     "output_type": "execute_result"
    }
   ],
   "source": [
    "aaplData.isnull().sum()"
   ]
  },
  {
   "cell_type": "code",
   "execution_count": 34,
   "metadata": {},
   "outputs": [
    {
     "data": {
      "text/plain": [
       "Date         0\n",
       "Open         0\n",
       "High         0\n",
       "Low          0\n",
       "Close        0\n",
       "Adj Close    0\n",
       "dtype: int64"
      ]
     },
     "execution_count": 34,
     "metadata": {},
     "output_type": "execute_result"
    }
   ],
   "source": [
    "amazonData.isnull().sum()"
   ]
  },
  {
   "cell_type": "markdown",
   "metadata": {},
   "source": [
    "## Step 11:\n",
    "**Checking for duplicates:** <br>\n",
    "The below code is used to check if there are any duplicated rows within the datasets <br>\n",
    "The print function then gives an index of any duplicated rows which can be removed <br>"
   ]
  },
  {
   "cell_type": "code",
   "execution_count": 35,
   "metadata": {},
   "outputs": [
    {
     "name": "stdout",
     "output_type": "stream",
     "text": [
      "Empty DataFrame\n",
      "Columns: [Date, Open, High, Low, Close, Adj Close]\n",
      "Index: []\n"
     ]
    }
   ],
   "source": [
    "appleDuplicate = aaplData[aaplData.duplicated()]\n",
    "  \n",
    "print(appleDuplicate)"
   ]
  },
  {
   "cell_type": "code",
   "execution_count": 36,
   "metadata": {},
   "outputs": [
    {
     "name": "stdout",
     "output_type": "stream",
     "text": [
      "Empty DataFrame\n",
      "Columns: [Date, Open, High, Low, Close, Adj Close]\n",
      "Index: []\n"
     ]
    }
   ],
   "source": [
    "amazonDuplicate = amazonData[amazonData.duplicated()]\n",
    "  \n",
    "print(appleDuplicate)"
   ]
  },
  {
   "cell_type": "markdown",
   "metadata": {},
   "source": [
    "## Step 12:\n",
    "**Grouping:** <br>\n",
    "The below code can be used to group the data by a specified column <br>\n",
    "The .first function then prints the first entry in each group<br>\n",
    "In this case the date column has unique values so grouping is not needed"
   ]
  },
  {
   "cell_type": "code",
   "execution_count": 37,
   "metadata": {},
   "outputs": [
    {
     "data": {
      "text/html": [
       "<div>\n",
       "<style scoped>\n",
       "    .dataframe tbody tr th:only-of-type {\n",
       "        vertical-align: middle;\n",
       "    }\n",
       "\n",
       "    .dataframe tbody tr th {\n",
       "        vertical-align: top;\n",
       "    }\n",
       "\n",
       "    .dataframe thead th {\n",
       "        text-align: right;\n",
       "    }\n",
       "</style>\n",
       "<table border=\"1\" class=\"dataframe\">\n",
       "  <thead>\n",
       "    <tr style=\"text-align: right;\">\n",
       "      <th></th>\n",
       "      <th>Open</th>\n",
       "      <th>High</th>\n",
       "      <th>Low</th>\n",
       "      <th>Close</th>\n",
       "      <th>Adj Close</th>\n",
       "    </tr>\n",
       "    <tr>\n",
       "      <th>Date</th>\n",
       "      <th></th>\n",
       "      <th></th>\n",
       "      <th></th>\n",
       "      <th></th>\n",
       "      <th></th>\n",
       "    </tr>\n",
       "  </thead>\n",
       "  <tbody>\n",
       "    <tr>\n",
       "      <th>2016-01-04</th>\n",
       "      <td>102.61</td>\n",
       "      <td>105.37</td>\n",
       "      <td>102.00</td>\n",
       "      <td>105.35</td>\n",
       "      <td>97.94</td>\n",
       "    </tr>\n",
       "    <tr>\n",
       "      <th>2016-01-05</th>\n",
       "      <td>105.75</td>\n",
       "      <td>105.85</td>\n",
       "      <td>102.41</td>\n",
       "      <td>102.71</td>\n",
       "      <td>95.49</td>\n",
       "    </tr>\n",
       "    <tr>\n",
       "      <th>2016-01-06</th>\n",
       "      <td>100.56</td>\n",
       "      <td>102.37</td>\n",
       "      <td>99.87</td>\n",
       "      <td>100.70</td>\n",
       "      <td>93.62</td>\n",
       "    </tr>\n",
       "    <tr>\n",
       "      <th>2016-01-07</th>\n",
       "      <td>98.68</td>\n",
       "      <td>100.13</td>\n",
       "      <td>96.43</td>\n",
       "      <td>96.45</td>\n",
       "      <td>89.67</td>\n",
       "    </tr>\n",
       "    <tr>\n",
       "      <th>2016-01-08</th>\n",
       "      <td>98.55</td>\n",
       "      <td>99.11</td>\n",
       "      <td>96.76</td>\n",
       "      <td>96.96</td>\n",
       "      <td>90.14</td>\n",
       "    </tr>\n",
       "    <tr>\n",
       "      <th>...</th>\n",
       "      <td>...</td>\n",
       "      <td>...</td>\n",
       "      <td>...</td>\n",
       "      <td>...</td>\n",
       "      <td>...</td>\n",
       "    </tr>\n",
       "    <tr>\n",
       "      <th>2020-05-15</th>\n",
       "      <td>300.35</td>\n",
       "      <td>307.90</td>\n",
       "      <td>300.21</td>\n",
       "      <td>307.71</td>\n",
       "      <td>307.71</td>\n",
       "    </tr>\n",
       "    <tr>\n",
       "      <th>2020-05-18</th>\n",
       "      <td>313.17</td>\n",
       "      <td>316.50</td>\n",
       "      <td>310.32</td>\n",
       "      <td>314.96</td>\n",
       "      <td>314.96</td>\n",
       "    </tr>\n",
       "    <tr>\n",
       "      <th>2020-05-19</th>\n",
       "      <td>315.03</td>\n",
       "      <td>318.52</td>\n",
       "      <td>313.01</td>\n",
       "      <td>313.14</td>\n",
       "      <td>313.14</td>\n",
       "    </tr>\n",
       "    <tr>\n",
       "      <th>2020-05-20</th>\n",
       "      <td>316.68</td>\n",
       "      <td>319.52</td>\n",
       "      <td>316.20</td>\n",
       "      <td>319.23</td>\n",
       "      <td>319.23</td>\n",
       "    </tr>\n",
       "    <tr>\n",
       "      <th>2020-05-21</th>\n",
       "      <td>318.66</td>\n",
       "      <td>320.89</td>\n",
       "      <td>315.87</td>\n",
       "      <td>316.85</td>\n",
       "      <td>316.85</td>\n",
       "    </tr>\n",
       "  </tbody>\n",
       "</table>\n",
       "<p>1104 rows × 5 columns</p>\n",
       "</div>"
      ],
      "text/plain": [
       "              Open    High     Low   Close  Adj Close\n",
       "Date                                                 \n",
       "2016-01-04  102.61  105.37  102.00  105.35      97.94\n",
       "2016-01-05  105.75  105.85  102.41  102.71      95.49\n",
       "2016-01-06  100.56  102.37   99.87  100.70      93.62\n",
       "2016-01-07   98.68  100.13   96.43   96.45      89.67\n",
       "2016-01-08   98.55   99.11   96.76   96.96      90.14\n",
       "...            ...     ...     ...     ...        ...\n",
       "2020-05-15  300.35  307.90  300.21  307.71     307.71\n",
       "2020-05-18  313.17  316.50  310.32  314.96     314.96\n",
       "2020-05-19  315.03  318.52  313.01  313.14     313.14\n",
       "2020-05-20  316.68  319.52  316.20  319.23     319.23\n",
       "2020-05-21  318.66  320.89  315.87  316.85     316.85\n",
       "\n",
       "[1104 rows x 5 columns]"
      ]
     },
     "execution_count": 37,
     "metadata": {},
     "output_type": "execute_result"
    }
   ],
   "source": [
    "groupApple = aaplData.groupby('Date')\n",
    "groupApple.first()"
   ]
  },
  {
   "cell_type": "code",
   "execution_count": 38,
   "metadata": {},
   "outputs": [
    {
     "data": {
      "text/html": [
       "<div>\n",
       "<style scoped>\n",
       "    .dataframe tbody tr th:only-of-type {\n",
       "        vertical-align: middle;\n",
       "    }\n",
       "\n",
       "    .dataframe tbody tr th {\n",
       "        vertical-align: top;\n",
       "    }\n",
       "\n",
       "    .dataframe thead th {\n",
       "        text-align: right;\n",
       "    }\n",
       "</style>\n",
       "<table border=\"1\" class=\"dataframe\">\n",
       "  <thead>\n",
       "    <tr style=\"text-align: right;\">\n",
       "      <th></th>\n",
       "      <th>Open</th>\n",
       "      <th>High</th>\n",
       "      <th>Low</th>\n",
       "      <th>Close</th>\n",
       "      <th>Adj Close</th>\n",
       "    </tr>\n",
       "    <tr>\n",
       "      <th>Date</th>\n",
       "      <th></th>\n",
       "      <th></th>\n",
       "      <th></th>\n",
       "      <th></th>\n",
       "      <th></th>\n",
       "    </tr>\n",
       "  </thead>\n",
       "  <tbody>\n",
       "    <tr>\n",
       "      <th>2016-01-04</th>\n",
       "      <td>656.29</td>\n",
       "      <td>657.72</td>\n",
       "      <td>627.51</td>\n",
       "      <td>636.99</td>\n",
       "      <td>636.99</td>\n",
       "    </tr>\n",
       "    <tr>\n",
       "      <th>2016-01-05</th>\n",
       "      <td>646.86</td>\n",
       "      <td>646.91</td>\n",
       "      <td>627.65</td>\n",
       "      <td>633.79</td>\n",
       "      <td>633.79</td>\n",
       "    </tr>\n",
       "    <tr>\n",
       "      <th>2016-01-06</th>\n",
       "      <td>622.00</td>\n",
       "      <td>639.79</td>\n",
       "      <td>620.31</td>\n",
       "      <td>632.65</td>\n",
       "      <td>632.65</td>\n",
       "    </tr>\n",
       "    <tr>\n",
       "      <th>2016-01-07</th>\n",
       "      <td>621.80</td>\n",
       "      <td>630.00</td>\n",
       "      <td>605.21</td>\n",
       "      <td>607.94</td>\n",
       "      <td>607.94</td>\n",
       "    </tr>\n",
       "    <tr>\n",
       "      <th>2016-01-08</th>\n",
       "      <td>619.66</td>\n",
       "      <td>624.14</td>\n",
       "      <td>606.00</td>\n",
       "      <td>607.05</td>\n",
       "      <td>607.05</td>\n",
       "    </tr>\n",
       "    <tr>\n",
       "      <th>...</th>\n",
       "      <td>...</td>\n",
       "      <td>...</td>\n",
       "      <td>...</td>\n",
       "      <td>...</td>\n",
       "      <td>...</td>\n",
       "    </tr>\n",
       "    <tr>\n",
       "      <th>2020-05-15</th>\n",
       "      <td>2368.52</td>\n",
       "      <td>2411.00</td>\n",
       "      <td>2356.37</td>\n",
       "      <td>2409.78</td>\n",
       "      <td>2409.78</td>\n",
       "    </tr>\n",
       "    <tr>\n",
       "      <th>2020-05-18</th>\n",
       "      <td>2404.35</td>\n",
       "      <td>2433.00</td>\n",
       "      <td>2384.01</td>\n",
       "      <td>2426.26</td>\n",
       "      <td>2426.26</td>\n",
       "    </tr>\n",
       "    <tr>\n",
       "      <th>2020-05-19</th>\n",
       "      <td>2429.83</td>\n",
       "      <td>2485.00</td>\n",
       "      <td>2428.97</td>\n",
       "      <td>2449.33</td>\n",
       "      <td>2449.33</td>\n",
       "    </tr>\n",
       "    <tr>\n",
       "      <th>2020-05-20</th>\n",
       "      <td>2477.87</td>\n",
       "      <td>2500.01</td>\n",
       "      <td>2467.27</td>\n",
       "      <td>2497.94</td>\n",
       "      <td>2497.94</td>\n",
       "    </tr>\n",
       "    <tr>\n",
       "      <th>2020-05-21</th>\n",
       "      <td>2500.00</td>\n",
       "      <td>2525.45</td>\n",
       "      <td>2442.54</td>\n",
       "      <td>2446.74</td>\n",
       "      <td>2446.74</td>\n",
       "    </tr>\n",
       "  </tbody>\n",
       "</table>\n",
       "<p>1104 rows × 5 columns</p>\n",
       "</div>"
      ],
      "text/plain": [
       "               Open     High      Low    Close  Adj Close\n",
       "Date                                                     \n",
       "2016-01-04   656.29   657.72   627.51   636.99     636.99\n",
       "2016-01-05   646.86   646.91   627.65   633.79     633.79\n",
       "2016-01-06   622.00   639.79   620.31   632.65     632.65\n",
       "2016-01-07   621.80   630.00   605.21   607.94     607.94\n",
       "2016-01-08   619.66   624.14   606.00   607.05     607.05\n",
       "...             ...      ...      ...      ...        ...\n",
       "2020-05-15  2368.52  2411.00  2356.37  2409.78    2409.78\n",
       "2020-05-18  2404.35  2433.00  2384.01  2426.26    2426.26\n",
       "2020-05-19  2429.83  2485.00  2428.97  2449.33    2449.33\n",
       "2020-05-20  2477.87  2500.01  2467.27  2497.94    2497.94\n",
       "2020-05-21  2500.00  2525.45  2442.54  2446.74    2446.74\n",
       "\n",
       "[1104 rows x 5 columns]"
      ]
     },
     "execution_count": 38,
     "metadata": {},
     "output_type": "execute_result"
    }
   ],
   "source": [
    "groupAmazon = amazonData.groupby('Date')\n",
    "groupAmazon.first()"
   ]
  },
  {
   "cell_type": "markdown",
   "metadata": {},
   "source": [
    "## Step 13:\n",
    "**Merging dataframes:** <br>\n",
    "The below code creates a new column in each dataset to note which stock the row relates to<br>\n",
    "The dataframes are then merged into one dataframe (stockData) using the concatenate function to stack one on top of the other"
   ]
  },
  {
   "cell_type": "code",
   "execution_count": 39,
   "metadata": {},
   "outputs": [],
   "source": [
    "aaplData['Stock'] = \"Apple\""
   ]
  },
  {
   "cell_type": "code",
   "execution_count": 40,
   "metadata": {},
   "outputs": [],
   "source": [
    "amazonData['Stock'] = \"Amazon\""
   ]
  },
  {
   "cell_type": "code",
   "execution_count": 41,
   "metadata": {},
   "outputs": [],
   "source": [
    "stockData = pd.concat([aaplData, amazonData], axis=0)"
   ]
  },
  {
   "cell_type": "code",
   "execution_count": 42,
   "metadata": {},
   "outputs": [
    {
     "name": "stdout",
     "output_type": "stream",
     "text": [
      "<class 'pandas.core.frame.DataFrame'>\n",
      "Int64Index: 2208 entries, 153 to 5792\n",
      "Data columns (total 7 columns):\n",
      " #   Column     Non-Null Count  Dtype  \n",
      "---  ------     --------------  -----  \n",
      " 0   Date       2208 non-null   object \n",
      " 1   Open       2208 non-null   float64\n",
      " 2   High       2208 non-null   float64\n",
      " 3   Low        2208 non-null   float64\n",
      " 4   Close      2208 non-null   float64\n",
      " 5   Adj Close  2208 non-null   float64\n",
      " 6   Stock      2208 non-null   object \n",
      "dtypes: float64(5), object(2)\n",
      "memory usage: 138.0+ KB\n"
     ]
    }
   ],
   "source": [
    "stockData.info()"
   ]
  },
  {
   "cell_type": "markdown",
   "metadata": {},
   "source": [
    "## Step 14:\n",
    "**Looping/iterrows:** <br>\n",
    "The below code is an example of a for loop <br>\n",
    "This for loop looks at the merged dataframe we created (stockData) and  gives a tuple of the column name and series for each column in the dataframe"
   ]
  },
  {
   "cell_type": "code",
   "execution_count": 43,
   "metadata": {},
   "outputs": [
    {
     "name": "stdout",
     "output_type": "stream",
     "text": [
      "Column Name :  Date\n",
      "Column Contents :  [datetime.date(2016, 1, 4) datetime.date(2016, 1, 5)\n",
      " datetime.date(2016, 1, 6) ... datetime.date(2020, 5, 19)\n",
      " datetime.date(2020, 5, 20) datetime.date(2020, 5, 21)]\n",
      "Column Name :  Open\n",
      "Column Contents :  [ 102.61  105.75  100.56 ... 2429.83 2477.87 2500.  ]\n",
      "Column Name :  High\n",
      "Column Contents :  [ 105.37  105.85  102.37 ... 2485.   2500.01 2525.45]\n",
      "Column Name :  Low\n",
      "Column Contents :  [ 102.    102.41   99.87 ... 2428.97 2467.27 2442.54]\n",
      "Column Name :  Close\n",
      "Column Contents :  [ 105.35  102.71  100.7  ... 2449.33 2497.94 2446.74]\n",
      "Column Name :  Adj Close\n",
      "Column Contents :  [  97.94   95.49   93.62 ... 2449.33 2497.94 2446.74]\n",
      "Column Name :  Stock\n",
      "Column Contents :  ['Apple' 'Apple' 'Apple' ... 'Amazon' 'Amazon' 'Amazon']\n"
     ]
    }
   ],
   "source": [
    "for (columnName, columnData) in stockData.iteritems():\n",
    "    print('Column Name : ', columnName)\n",
    "    print('Column Contents : ', columnData.values)"
   ]
  },
  {
   "cell_type": "markdown",
   "metadata": {},
   "source": [
    "# Section 4: Python"
   ]
  },
  {
   "cell_type": "markdown",
   "metadata": {},
   "source": [
    "## Step 15:\n",
    "**Numpy:** <br>\n",
    "NumPy is a Python library used for working with arrays<br>\n",
    "The code below uses Numpy to create an array called stockArray from the chosen elements of our dataframe <br>\n",
    "In the below case the new array is made up of the data from the Open, High and Low columns of the dataframe <br>\n",
    "The .shape function is then used to view the shape of the array <br>\n",
    "the .max function for example can be used to display the largest result in each of the array columns"
   ]
  },
  {
   "cell_type": "code",
   "execution_count": 44,
   "metadata": {},
   "outputs": [],
   "source": [
    "stockArray = stockData[[\"Open\", \"High\", \"Low\"]].to_numpy()"
   ]
  },
  {
   "cell_type": "code",
   "execution_count": 45,
   "metadata": {},
   "outputs": [
    {
     "name": "stdout",
     "output_type": "stream",
     "text": [
      "(2208, 3)\n"
     ]
    }
   ],
   "source": [
    "print(stockArray.shape)"
   ]
  },
  {
   "cell_type": "code",
   "execution_count": 46,
   "metadata": {},
   "outputs": [
    {
     "data": {
      "text/plain": [
       "array([2500.  , 2525.45, 2467.27])"
      ]
     },
     "execution_count": 46,
     "metadata": {},
     "output_type": "execute_result"
    }
   ],
   "source": [
    "np.max(stockArray, axis = 0)"
   ]
  },
  {
   "cell_type": "markdown",
   "metadata": {},
   "source": [
    "## Step 16:\n",
    "**Lists:** <br>\n",
    "A list is a dynamic type of data structure <br>\n",
    "At times it may be easier to work with our data in a list structure rather than a dataframe or array <br>\n",
    "The below code gives an example of how we can convert our dataframe to a new list, declared as stockList <br>\n",
    "We could use the append() or remove() functions to add or remove items from the list if needed."
   ]
  },
  {
   "cell_type": "code",
   "execution_count": 47,
   "metadata": {},
   "outputs": [],
   "source": [
    "stockList = stockData.values.tolist()"
   ]
  },
  {
   "cell_type": "code",
   "execution_count": 48,
   "metadata": {},
   "outputs": [
    {
     "name": "stdout",
     "output_type": "stream",
     "text": [
      "[[datetime.date(2016, 1, 4), 102.61, 105.37, 102.0, 105.35, 97.94, 'Apple'], [datetime.date(2016, 1, 5), 105.75, 105.85, 102.41, 102.71, 95.49, 'Apple'], [datetime.date(2016, 1, 6), 100.56, 102.37, 99.87, 100.7, 93.62, 'Apple'], [datetime.date(2016, 1, 7), 98.68, 100.13, 96.43, 96.45, 89.67, 'Apple'], [datetime.date(2016, 1, 8), 98.55, 99.11, 96.76, 96.96, 90.14, 'Apple'], [datetime.date(2016, 1, 11), 98.97, 99.06, 97.34, 98.53, 91.6, 'Apple'], [datetime.date(2016, 1, 12), 100.55, 100.69, 98.84, 99.96, 92.93, 'Apple'], [datetime.date(2016, 1, 13), 100.32, 101.19, 97.3, 97.39, 90.54, 'Apple'], [datetime.date(2016, 1, 14), 97.96, 100.48, 95.74, 99.52, 92.52, 'Apple'], [datetime.date(2016, 1, 15), 96.2, 97.71, 95.36, 97.13, 90.3, 'Apple'], [datetime.date(2016, 1, 19), 98.41, 98.65, 95.5, 96.66, 89.86, 'Apple'], [datetime.date(2016, 1, 20), 95.1, 98.19, 93.42, 96.79, 89.98, 'Apple'], [datetime.date(2016, 1, 21), 97.06, 97.88, 94.94, 96.3, 89.53, 'Apple'], [datetime.date(2016, 1, 22), 98.63, 101.46, 98.37, 101.42, 94.29, 'Apple'], [datetime.date(2016, 1, 25), 101.52, 101.53, 99.21, 99.44, 92.45, 'Apple'], [datetime.date(2016, 1, 26), 99.93, 100.88, 98.07, 99.99, 92.96, 'Apple'], [datetime.date(2016, 1, 27), 96.04, 96.63, 93.34, 93.42, 86.85, 'Apple'], [datetime.date(2016, 1, 28), 93.79, 94.52, 92.39, 94.09, 87.47, 'Apple'], [datetime.date(2016, 1, 29), 94.79, 97.34, 94.35, 97.34, 90.49, 'Apple'], [datetime.date(2016, 2, 1), 96.47, 96.71, 95.4, 96.43, 89.65, 'Apple'], [datetime.date(2016, 2, 2), 95.42, 96.04, 94.28, 94.48, 87.83, 'Apple'], [datetime.date(2016, 2, 3), 95.0, 96.84, 94.08, 96.35, 89.57, 'Apple'], [datetime.date(2016, 2, 4), 95.86, 97.33, 95.19, 96.6, 90.29, 'Apple'], [datetime.date(2016, 2, 5), 96.52, 96.92, 93.69, 94.02, 87.88, 'Apple'], [datetime.date(2016, 2, 8), 93.13, 95.7, 93.04, 95.01, 88.8, 'Apple'], [datetime.date(2016, 2, 9), 94.29, 95.94, 93.93, 94.99, 88.78, 'Apple'], [datetime.date(2016, 2, 10), 95.92, 96.35, 94.1, 94.27, 88.11, 'Apple'], [datetime.date(2016, 2, 11), 93.79, 94.72, 92.59, 93.7, 87.58, 'Apple'], [datetime.date(2016, 2, 12), 94.19, 94.5, 93.01, 93.99, 87.85, 'Apple'], [datetime.date(2016, 2, 16), 95.02, 96.85, 94.61, 96.64, 90.33, 'Apple'], [datetime.date(2016, 2, 17), 96.67, 98.21, 96.15, 98.12, 91.71, 'Apple'], [datetime.date(2016, 2, 18), 98.84, 98.89, 96.09, 96.26, 89.97, 'Apple'], [datetime.date(2016, 2, 19), 96.0, 96.76, 95.8, 96.04, 89.77, 'Apple'], [datetime.date(2016, 2, 22), 96.31, 96.9, 95.92, 96.88, 90.55, 'Apple'], [datetime.date(2016, 2, 23), 96.4, 96.5, 94.55, 94.69, 88.5, 'Apple'], [datetime.date(2016, 2, 24), 93.98, 96.38, 93.32, 96.1, 89.82, 'Apple'], [datetime.date(2016, 2, 25), 96.05, 96.76, 95.25, 96.76, 90.44, 'Apple'], [datetime.date(2016, 2, 26), 97.2, 98.02, 96.58, 96.91, 90.58, 'Apple'], [datetime.date(2016, 2, 29), 96.86, 98.23, 96.65, 96.69, 90.37, 'Apple'], [datetime.date(2016, 3, 1), 97.65, 100.77, 97.42, 100.53, 93.96, 'Apple'], [datetime.date(2016, 3, 2), 100.51, 100.89, 99.64, 100.75, 94.17, 'Apple'], [datetime.date(2016, 3, 3), 100.58, 101.71, 100.45, 101.5, 94.87, 'Apple'], [datetime.date(2016, 3, 4), 102.37, 103.75, 101.37, 103.01, 96.28, 'Apple'], [datetime.date(2016, 3, 7), 102.39, 102.83, 100.96, 101.87, 95.21, 'Apple'], [datetime.date(2016, 3, 8), 100.78, 101.76, 100.4, 101.03, 94.43, 'Apple'], [datetime.date(2016, 3, 9), 101.31, 101.58, 100.27, 101.12, 94.51, 'Apple'], [datetime.date(2016, 3, 10), 101.41, 102.24, 100.15, 101.17, 94.56, 'Apple'], [datetime.date(2016, 3, 11), 102.24, 102.28, 101.5, 102.26, 95.58, 'Apple'], [datetime.date(2016, 3, 14), 101.91, 102.91, 101.78, 102.52, 95.82, 'Apple'], [datetime.date(2016, 3, 15), 103.96, 105.18, 103.85, 104.58, 97.75, 'Apple'], [datetime.date(2016, 3, 16), 104.61, 106.31, 104.59, 105.97, 99.05, 'Apple'], [datetime.date(2016, 3, 17), 105.52, 106.47, 104.96, 105.8, 98.89, 'Apple'], [datetime.date(2016, 3, 18), 106.34, 106.5, 105.19, 105.92, 99.0, 'Apple'], [datetime.date(2016, 3, 21), 105.93, 107.65, 105.14, 105.91, 98.99, 'Apple'], [datetime.date(2016, 3, 22), 105.25, 107.29, 105.21, 106.72, 99.75, 'Apple'], [datetime.date(2016, 3, 23), 106.48, 107.07, 105.9, 106.13, 99.2, 'Apple'], [datetime.date(2016, 3, 24), 105.47, 106.25, 104.89, 105.67, 98.77, 'Apple'], [datetime.date(2016, 3, 28), 106.0, 106.19, 105.06, 105.19, 98.32, 'Apple'], [datetime.date(2016, 3, 29), 104.89, 107.79, 104.88, 107.68, 100.65, 'Apple'], [datetime.date(2016, 3, 30), 108.65, 110.42, 108.6, 109.56, 102.4, 'Apple'], [datetime.date(2016, 3, 31), 109.72, 109.9, 108.88, 108.99, 101.87, 'Apple'], [datetime.date(2016, 4, 1), 108.78, 110.0, 108.2, 109.99, 102.8, 'Apple'], [datetime.date(2016, 4, 4), 110.42, 112.19, 110.27, 111.12, 103.86, 'Apple'], [datetime.date(2016, 4, 5), 109.51, 110.73, 109.42, 109.81, 102.64, 'Apple'], [datetime.date(2016, 4, 6), 110.23, 110.98, 109.2, 110.96, 103.71, 'Apple'], [datetime.date(2016, 4, 7), 109.95, 110.42, 108.12, 108.54, 101.45, 'Apple'], [datetime.date(2016, 4, 8), 108.91, 109.77, 108.17, 108.66, 101.56, 'Apple'], [datetime.date(2016, 4, 11), 108.97, 110.61, 108.83, 109.02, 101.9, 'Apple'], [datetime.date(2016, 4, 12), 109.34, 110.5, 108.66, 110.44, 103.23, 'Apple'], [datetime.date(2016, 4, 13), 110.8, 112.34, 110.8, 112.04, 104.72, 'Apple'], [datetime.date(2016, 4, 14), 111.62, 112.39, 111.33, 112.1, 104.78, 'Apple'], [datetime.date(2016, 4, 15), 112.11, 112.3, 109.73, 109.85, 102.67, 'Apple'], [datetime.date(2016, 4, 18), 108.89, 108.95, 106.94, 107.48, 100.46, 'Apple'], [datetime.date(2016, 4, 19), 107.88, 108.0, 106.23, 106.91, 99.93, 'Apple'], [datetime.date(2016, 4, 20), 106.64, 108.09, 106.06, 107.13, 100.13, 'Apple'], [datetime.date(2016, 4, 21), 106.93, 106.93, 105.52, 105.97, 99.05, 'Apple'], [datetime.date(2016, 4, 22), 105.01, 106.48, 104.62, 105.68, 98.78, 'Apple'], [datetime.date(2016, 4, 25), 105.0, 105.65, 104.51, 105.08, 98.22, 'Apple'], [datetime.date(2016, 4, 26), 103.91, 105.3, 103.91, 104.35, 97.53, 'Apple'], [datetime.date(2016, 4, 27), 96.0, 98.71, 95.68, 97.82, 91.43, 'Apple'], [datetime.date(2016, 4, 28), 97.61, 97.88, 94.25, 94.83, 88.63, 'Apple'], [datetime.date(2016, 4, 29), 93.99, 94.72, 92.51, 93.74, 87.62, 'Apple'], [datetime.date(2016, 5, 2), 93.96, 94.08, 92.4, 93.64, 87.52, 'Apple'], [datetime.date(2016, 5, 3), 94.2, 95.74, 93.68, 95.18, 88.96, 'Apple'], [datetime.date(2016, 5, 4), 95.2, 95.9, 93.82, 94.19, 88.04, 'Apple'], [datetime.date(2016, 5, 5), 94.0, 94.07, 92.68, 93.24, 87.68, 'Apple'], [datetime.date(2016, 5, 6), 93.37, 93.45, 91.85, 92.72, 87.19, 'Apple'], [datetime.date(2016, 5, 9), 93.0, 93.77, 92.59, 92.79, 87.26, 'Apple'], [datetime.date(2016, 5, 10), 93.33, 93.57, 92.11, 93.42, 87.85, 'Apple'], [datetime.date(2016, 5, 11), 93.48, 93.57, 92.46, 92.51, 86.99, 'Apple'], [datetime.date(2016, 5, 12), 92.72, 92.78, 89.47, 90.34, 84.95, 'Apple'], [datetime.date(2016, 5, 13), 90.0, 91.67, 90.0, 90.52, 85.12, 'Apple'], [datetime.date(2016, 5, 16), 92.39, 94.39, 91.65, 93.88, 88.28, 'Apple'], [datetime.date(2016, 5, 17), 94.55, 94.7, 93.01, 93.49, 87.92, 'Apple'], [datetime.date(2016, 5, 18), 94.16, 95.21, 93.89, 94.56, 88.92, 'Apple'], [datetime.date(2016, 5, 19), 94.64, 94.64, 93.57, 94.2, 88.58, 'Apple'], [datetime.date(2016, 5, 20), 94.64, 95.43, 94.52, 95.22, 89.54, 'Apple'], [datetime.date(2016, 5, 23), 95.87, 97.19, 95.67, 96.43, 90.68, 'Apple'], [datetime.date(2016, 5, 24), 97.22, 98.09, 96.84, 97.9, 92.06, 'Apple'], [datetime.date(2016, 5, 25), 98.67, 99.74, 98.11, 99.62, 93.68, 'Apple'], [datetime.date(2016, 5, 26), 99.68, 100.73, 98.64, 100.41, 94.42, 'Apple'], [datetime.date(2016, 5, 27), 99.44, 100.47, 99.24, 100.35, 94.37, 'Apple'], [datetime.date(2016, 5, 31), 99.6, 100.4, 98.82, 99.86, 93.91, 'Apple'], [datetime.date(2016, 6, 1), 99.02, 99.54, 98.33, 98.46, 92.59, 'Apple'], [datetime.date(2016, 6, 2), 97.6, 97.84, 96.63, 97.72, 91.89, 'Apple'], [datetime.date(2016, 6, 3), 97.79, 98.27, 97.45, 97.92, 92.08, 'Apple'], [datetime.date(2016, 6, 6), 97.99, 101.89, 97.55, 98.63, 92.75, 'Apple'], [datetime.date(2016, 6, 7), 99.25, 99.87, 98.96, 99.03, 93.13, 'Apple'], [datetime.date(2016, 6, 8), 99.02, 99.56, 98.68, 98.94, 93.04, 'Apple'], [datetime.date(2016, 6, 9), 98.5, 99.99, 98.46, 99.65, 93.71, 'Apple'], [datetime.date(2016, 6, 10), 98.53, 99.35, 98.48, 98.83, 92.94, 'Apple'], [datetime.date(2016, 6, 13), 98.69, 99.12, 97.1, 97.34, 91.54, 'Apple'], [datetime.date(2016, 6, 14), 97.32, 98.48, 96.75, 97.46, 91.65, 'Apple'], [datetime.date(2016, 6, 15), 97.82, 98.41, 97.03, 97.14, 91.35, 'Apple'], [datetime.date(2016, 6, 16), 96.45, 97.75, 96.07, 97.55, 91.73, 'Apple'], [datetime.date(2016, 6, 17), 96.62, 96.65, 95.3, 95.33, 89.65, 'Apple'], [datetime.date(2016, 6, 20), 96.0, 96.57, 95.03, 95.1, 89.43, 'Apple'], [datetime.date(2016, 6, 21), 94.94, 96.35, 94.68, 95.91, 90.19, 'Apple'], [datetime.date(2016, 6, 22), 96.25, 96.89, 95.35, 95.55, 89.85, 'Apple'], [datetime.date(2016, 6, 23), 95.94, 96.29, 95.25, 96.1, 90.37, 'Apple'], [datetime.date(2016, 6, 24), 92.91, 94.66, 92.65, 93.4, 87.83, 'Apple'], [datetime.date(2016, 6, 27), 93.0, 93.05, 91.5, 92.04, 86.55, 'Apple'], [datetime.date(2016, 6, 28), 92.9, 93.66, 92.14, 93.59, 88.01, 'Apple'], [datetime.date(2016, 6, 29), 93.97, 94.55, 93.63, 94.4, 88.77, 'Apple'], [datetime.date(2016, 6, 30), 94.44, 95.77, 94.3, 95.6, 89.9, 'Apple'], [datetime.date(2016, 7, 1), 95.49, 96.46, 95.33, 95.89, 90.17, 'Apple'], [datetime.date(2016, 7, 5), 95.39, 95.4, 94.46, 94.99, 89.33, 'Apple'], [datetime.date(2016, 7, 6), 94.6, 95.66, 94.37, 95.53, 89.83, 'Apple'], [datetime.date(2016, 7, 7), 95.7, 96.5, 95.62, 95.94, 90.22, 'Apple'], [datetime.date(2016, 7, 8), 96.49, 96.89, 96.05, 96.68, 90.92, 'Apple'], [datetime.date(2016, 7, 11), 96.75, 97.65, 96.73, 96.98, 91.2, 'Apple'], [datetime.date(2016, 7, 12), 97.17, 97.7, 97.12, 97.42, 91.61, 'Apple'], [datetime.date(2016, 7, 13), 97.41, 97.67, 96.84, 96.87, 91.1, 'Apple'], [datetime.date(2016, 7, 14), 97.39, 98.99, 97.32, 98.79, 92.9, 'Apple'], [datetime.date(2016, 7, 15), 98.92, 99.3, 98.5, 98.78, 92.89, 'Apple'], [datetime.date(2016, 7, 18), 98.7, 100.13, 98.6, 99.83, 93.88, 'Apple'], [datetime.date(2016, 7, 19), 99.56, 100.0, 99.34, 99.87, 93.92, 'Apple'], [datetime.date(2016, 7, 20), 100.0, 100.46, 99.74, 99.96, 94.0, 'Apple'], [datetime.date(2016, 7, 21), 99.83, 101.0, 99.13, 99.43, 93.5, 'Apple'], [datetime.date(2016, 7, 22), 99.26, 99.3, 98.31, 98.66, 92.78, 'Apple'], [datetime.date(2016, 7, 25), 98.25, 98.84, 96.92, 97.34, 91.54, 'Apple'], [datetime.date(2016, 7, 26), 96.82, 97.97, 96.42, 96.67, 90.91, 'Apple'], [datetime.date(2016, 7, 27), 104.26, 104.35, 102.75, 102.95, 96.81, 'Apple'], [datetime.date(2016, 7, 28), 102.83, 104.45, 102.82, 104.34, 98.12, 'Apple'], [datetime.date(2016, 7, 29), 104.19, 104.55, 103.68, 104.21, 98.0, 'Apple'], [datetime.date(2016, 8, 1), 104.41, 106.15, 104.41, 106.05, 99.73, 'Apple'], [datetime.date(2016, 8, 2), 106.05, 106.07, 104.0, 104.48, 98.25, 'Apple'], [datetime.date(2016, 8, 3), 104.81, 105.84, 104.77, 105.79, 99.48, 'Apple'], [datetime.date(2016, 8, 4), 105.58, 106.0, 105.28, 105.87, 100.09, 'Apple'], [datetime.date(2016, 8, 5), 106.27, 107.65, 106.18, 107.48, 101.62, 'Apple'], [datetime.date(2016, 8, 8), 107.52, 108.37, 107.16, 108.37, 102.46, 'Apple'], [datetime.date(2016, 8, 9), 108.23, 108.94, 108.01, 108.81, 102.87, 'Apple'], [datetime.date(2016, 8, 10), 108.71, 108.9, 107.76, 108.0, 102.11, 'Apple'], [datetime.date(2016, 8, 11), 108.52, 108.93, 107.85, 107.93, 102.04, 'Apple'], [datetime.date(2016, 8, 12), 107.78, 108.44, 107.78, 108.18, 102.28, 'Apple'], [datetime.date(2016, 8, 15), 108.14, 109.54, 108.08, 109.48, 103.51, 'Apple'], [datetime.date(2016, 8, 16), 109.63, 110.23, 109.21, 109.38, 103.41, 'Apple'], [datetime.date(2016, 8, 17), 109.1, 109.37, 108.34, 109.22, 103.26, 'Apple'], [datetime.date(2016, 8, 18), 109.23, 109.6, 109.02, 109.08, 103.13, 'Apple'], [datetime.date(2016, 8, 19), 108.77, 109.69, 108.36, 109.36, 103.39, 'Apple'], [datetime.date(2016, 8, 22), 108.86, 109.1, 107.85, 108.51, 102.59, 'Apple'], [datetime.date(2016, 8, 23), 108.59, 109.32, 108.53, 108.85, 102.91, 'Apple'], [datetime.date(2016, 8, 24), 108.56, 108.75, 107.68, 108.03, 102.14, 'Apple'], [datetime.date(2016, 8, 25), 107.39, 107.88, 106.68, 107.57, 101.7, 'Apple'], [datetime.date(2016, 8, 26), 107.41, 107.95, 106.31, 106.94, 101.11, 'Apple'], [datetime.date(2016, 8, 29), 106.62, 107.44, 106.29, 106.82, 100.99, 'Apple'], [datetime.date(2016, 8, 30), 105.8, 106.5, 105.5, 106.0, 100.22, 'Apple'], [datetime.date(2016, 8, 31), 105.66, 106.57, 105.64, 106.1, 100.31, 'Apple'], [datetime.date(2016, 9, 1), 106.14, 106.8, 105.62, 106.73, 100.91, 'Apple'], [datetime.date(2016, 9, 2), 107.7, 108.0, 106.82, 107.73, 101.85, 'Apple'], [datetime.date(2016, 9, 6), 107.9, 108.3, 107.51, 107.7, 101.82, 'Apple'], [datetime.date(2016, 9, 7), 107.83, 108.76, 107.07, 108.36, 102.45, 'Apple'], [datetime.date(2016, 9, 8), 107.25, 107.27, 105.24, 105.52, 99.76, 'Apple'], [datetime.date(2016, 9, 9), 104.64, 105.72, 103.13, 103.13, 97.5, 'Apple'], [datetime.date(2016, 9, 12), 102.65, 105.72, 102.53, 105.44, 99.69, 'Apple'], [datetime.date(2016, 9, 13), 107.51, 108.79, 107.24, 107.95, 102.06, 'Apple'], [datetime.date(2016, 9, 14), 108.73, 113.03, 108.6, 111.77, 105.67, 'Apple'], [datetime.date(2016, 9, 15), 113.86, 115.73, 113.49, 115.57, 109.27, 'Apple'], [datetime.date(2016, 9, 16), 115.12, 116.13, 114.04, 114.92, 108.65, 'Apple'], [datetime.date(2016, 9, 19), 115.19, 116.18, 113.25, 113.58, 107.38, 'Apple'], [datetime.date(2016, 9, 20), 113.05, 114.12, 112.51, 113.57, 107.37, 'Apple'], [datetime.date(2016, 9, 21), 113.85, 113.99, 112.44, 113.55, 107.36, 'Apple'], [datetime.date(2016, 9, 22), 114.35, 114.94, 114.0, 114.62, 108.37, 'Apple'], [datetime.date(2016, 9, 23), 114.42, 114.79, 111.55, 112.71, 106.56, 'Apple'], [datetime.date(2016, 9, 26), 111.64, 113.39, 111.55, 112.88, 106.72, 'Apple'], [datetime.date(2016, 9, 27), 113.0, 113.18, 112.34, 113.09, 106.92, 'Apple'], [datetime.date(2016, 9, 28), 113.69, 114.64, 113.43, 113.95, 107.73, 'Apple'], [datetime.date(2016, 9, 29), 113.16, 113.8, 111.8, 112.18, 106.06, 'Apple'], [datetime.date(2016, 9, 30), 112.46, 113.37, 111.8, 113.05, 106.88, 'Apple'], [datetime.date(2016, 10, 3), 112.71, 113.05, 112.28, 112.52, 106.38, 'Apple'], [datetime.date(2016, 10, 4), 113.06, 114.31, 112.63, 113.0, 106.84, 'Apple'], [datetime.date(2016, 10, 5), 113.4, 113.66, 112.69, 113.05, 106.88, 'Apple'], [datetime.date(2016, 10, 6), 113.7, 114.34, 113.13, 113.89, 107.68, 'Apple'], [datetime.date(2016, 10, 7), 114.31, 114.56, 113.51, 114.06, 107.84, 'Apple'], [datetime.date(2016, 10, 10), 115.02, 116.75, 114.72, 116.05, 109.72, 'Apple'], [datetime.date(2016, 10, 11), 117.7, 118.69, 116.2, 116.3, 109.96, 'Apple'], [datetime.date(2016, 10, 12), 117.35, 117.98, 116.75, 117.34, 110.94, 'Apple'], [datetime.date(2016, 10, 13), 116.79, 117.44, 115.72, 116.98, 110.6, 'Apple'], [datetime.date(2016, 10, 14), 117.88, 118.17, 117.13, 117.63, 111.21, 'Apple'], [datetime.date(2016, 10, 17), 117.33, 117.84, 116.78, 117.55, 111.14, 'Apple'], [datetime.date(2016, 10, 18), 118.18, 118.21, 117.45, 117.47, 111.06, 'Apple'], [datetime.date(2016, 10, 19), 117.25, 117.76, 113.8, 117.12, 110.73, 'Apple'], [datetime.date(2016, 10, 20), 116.86, 117.38, 116.33, 117.06, 110.67, 'Apple'], [datetime.date(2016, 10, 21), 116.81, 116.91, 116.28, 116.6, 110.24, 'Apple'], [datetime.date(2016, 10, 24), 117.1, 117.74, 117.0, 117.65, 111.23, 'Apple'], [datetime.date(2016, 10, 25), 117.95, 118.36, 117.31, 118.25, 111.8, 'Apple'], [datetime.date(2016, 10, 26), 114.31, 115.7, 113.31, 115.59, 109.28, 'Apple'], [datetime.date(2016, 10, 27), 115.39, 115.86, 114.1, 114.48, 108.23, 'Apple'], [datetime.date(2016, 10, 28), 113.87, 115.21, 113.45, 113.72, 107.52, 'Apple'], [datetime.date(2016, 10, 31), 113.65, 114.23, 113.2, 113.54, 107.35, 'Apple'], [datetime.date(2016, 11, 1), 113.46, 113.77, 110.53, 111.49, 105.41, 'Apple'], [datetime.date(2016, 11, 2), 111.4, 112.35, 111.23, 111.59, 105.5, 'Apple'], [datetime.date(2016, 11, 3), 110.98, 111.46, 109.55, 109.83, 104.38, 'Apple'], [datetime.date(2016, 11, 4), 108.53, 110.25, 108.11, 108.84, 103.44, 'Apple'], [datetime.date(2016, 11, 7), 110.08, 110.51, 109.46, 110.41, 104.93, 'Apple'], [datetime.date(2016, 11, 8), 110.31, 111.72, 109.7, 111.06, 105.55, 'Apple'], [datetime.date(2016, 11, 9), 109.88, 111.32, 108.05, 110.88, 105.38, 'Apple'], [datetime.date(2016, 11, 10), 111.09, 111.09, 105.83, 107.79, 102.44, 'Apple'], [datetime.date(2016, 11, 11), 107.12, 108.87, 106.55, 108.43, 103.05, 'Apple'], [datetime.date(2016, 11, 14), 107.71, 107.81, 104.08, 105.71, 100.46, 'Apple'], [datetime.date(2016, 11, 15), 106.57, 107.68, 106.16, 107.11, 101.79, 'Apple'], [datetime.date(2016, 11, 16), 106.7, 110.23, 106.6, 109.99, 104.53, 'Apple'], [datetime.date(2016, 11, 17), 109.81, 110.35, 108.83, 109.95, 104.49, 'Apple'], [datetime.date(2016, 11, 18), 109.72, 110.54, 109.66, 110.06, 104.6, 'Apple'], [datetime.date(2016, 11, 21), 110.12, 111.99, 110.01, 111.73, 106.18, 'Apple'], [datetime.date(2016, 11, 22), 111.95, 112.42, 111.4, 111.8, 106.25, 'Apple'], [datetime.date(2016, 11, 23), 111.36, 111.51, 110.33, 111.23, 105.71, 'Apple'], [datetime.date(2016, 11, 25), 111.13, 111.87, 110.95, 111.79, 106.24, 'Apple'], [datetime.date(2016, 11, 28), 111.43, 112.46, 111.39, 111.57, 106.03, 'Apple'], [datetime.date(2016, 11, 29), 110.78, 112.03, 110.07, 111.46, 105.93, 'Apple'], [datetime.date(2016, 11, 30), 111.6, 112.2, 110.27, 110.52, 105.03, 'Apple'], [datetime.date(2016, 12, 1), 110.36, 110.94, 109.03, 109.49, 104.05, 'Apple'], [datetime.date(2016, 12, 2), 109.17, 110.09, 108.85, 109.9, 104.44, 'Apple'], [datetime.date(2016, 12, 5), 110.0, 110.03, 108.25, 109.11, 103.69, 'Apple'], [datetime.date(2016, 12, 6), 109.5, 110.36, 109.19, 109.95, 104.49, 'Apple'], [datetime.date(2016, 12, 7), 109.26, 111.19, 109.16, 111.03, 105.52, 'Apple'], [datetime.date(2016, 12, 8), 110.86, 112.43, 110.6, 112.12, 106.55, 'Apple'], [datetime.date(2016, 12, 9), 112.31, 114.7, 112.31, 113.95, 108.29, 'Apple'], [datetime.date(2016, 12, 12), 113.29, 115.0, 112.49, 113.3, 107.68, 'Apple'], [datetime.date(2016, 12, 13), 113.84, 115.92, 113.75, 115.19, 109.47, 'Apple'], [datetime.date(2016, 12, 14), 115.04, 116.2, 114.98, 115.19, 109.47, 'Apple'], [datetime.date(2016, 12, 15), 115.38, 116.73, 115.23, 115.82, 110.07, 'Apple'], [datetime.date(2016, 12, 16), 116.47, 116.5, 115.64, 115.97, 110.21, 'Apple'], [datetime.date(2016, 12, 19), 115.8, 117.38, 115.75, 116.64, 110.85, 'Apple'], [datetime.date(2016, 12, 20), 116.74, 117.5, 116.68, 116.95, 111.14, 'Apple'], [datetime.date(2016, 12, 21), 116.8, 117.4, 116.78, 117.06, 111.25, 'Apple'], [datetime.date(2016, 12, 22), 116.35, 116.51, 115.64, 116.29, 110.52, 'Apple'], [datetime.date(2016, 12, 23), 115.59, 116.52, 115.59, 116.52, 110.74, 'Apple'], [datetime.date(2016, 12, 27), 116.52, 117.8, 116.49, 117.26, 111.44, 'Apple'], [datetime.date(2016, 12, 28), 117.52, 118.02, 116.2, 116.76, 110.96, 'Apple'], [datetime.date(2016, 12, 29), 116.45, 117.11, 116.4, 116.73, 110.93, 'Apple'], [datetime.date(2016, 12, 30), 116.65, 117.2, 115.43, 115.82, 110.07, 'Apple'], [datetime.date(2017, 1, 3), 115.8, 116.33, 114.76, 116.15, 110.38, 'Apple'], [datetime.date(2017, 1, 4), 115.85, 116.51, 115.75, 116.02, 110.26, 'Apple'], [datetime.date(2017, 1, 5), 115.92, 116.86, 115.81, 116.61, 110.82, 'Apple'], [datetime.date(2017, 1, 6), 116.78, 118.16, 116.47, 117.91, 112.06, 'Apple'], [datetime.date(2017, 1, 9), 117.95, 119.43, 117.94, 118.99, 113.08, 'Apple'], [datetime.date(2017, 1, 10), 118.77, 119.38, 118.3, 119.11, 113.2, 'Apple'], [datetime.date(2017, 1, 11), 118.74, 119.93, 118.6, 119.75, 113.8, 'Apple'], [datetime.date(2017, 1, 12), 118.9, 119.3, 118.21, 119.25, 113.33, 'Apple'], [datetime.date(2017, 1, 13), 119.11, 119.62, 118.81, 119.04, 113.13, 'Apple'], [datetime.date(2017, 1, 17), 118.34, 120.24, 118.22, 120.0, 114.04, 'Apple'], [datetime.date(2017, 1, 18), 120.0, 120.5, 119.71, 119.99, 114.03, 'Apple'], [datetime.date(2017, 1, 19), 119.4, 120.09, 119.37, 119.78, 113.83, 'Apple'], [datetime.date(2017, 1, 20), 120.45, 120.45, 119.73, 120.0, 114.04, 'Apple'], [datetime.date(2017, 1, 23), 120.0, 120.81, 119.77, 120.08, 114.12, 'Apple'], [datetime.date(2017, 1, 24), 119.55, 120.1, 119.5, 119.97, 114.01, 'Apple'], [datetime.date(2017, 1, 25), 120.42, 122.1, 120.28, 121.88, 115.83, 'Apple'], [datetime.date(2017, 1, 26), 121.67, 122.44, 121.6, 121.94, 115.89, 'Apple'], [datetime.date(2017, 1, 27), 122.14, 122.35, 121.6, 121.95, 115.9, 'Apple'], [datetime.date(2017, 1, 30), 120.93, 121.63, 120.66, 121.63, 115.59, 'Apple'], [datetime.date(2017, 1, 31), 121.15, 121.39, 120.62, 121.35, 115.33, 'Apple'], [datetime.date(2017, 2, 1), 127.03, 130.49, 127.01, 128.75, 122.36, 'Apple'], [datetime.date(2017, 2, 2), 127.98, 129.39, 127.78, 128.53, 122.15, 'Apple'], [datetime.date(2017, 2, 3), 128.31, 129.19, 128.16, 129.08, 122.67, 'Apple'], [datetime.date(2017, 2, 6), 129.13, 130.5, 128.9, 130.29, 123.82, 'Apple'], [datetime.date(2017, 2, 7), 130.54, 132.09, 130.45, 131.53, 125.0, 'Apple'], [datetime.date(2017, 2, 8), 131.35, 132.22, 131.22, 132.04, 125.48, 'Apple'], [datetime.date(2017, 2, 9), 131.65, 132.44, 131.12, 132.42, 126.39, 'Apple'], [datetime.date(2017, 2, 10), 132.46, 132.94, 132.05, 132.12, 126.1, 'Apple'], [datetime.date(2017, 2, 13), 133.08, 133.82, 132.75, 133.29, 127.22, 'Apple'], [datetime.date(2017, 2, 14), 133.47, 135.09, 133.25, 135.02, 128.87, 'Apple'], [datetime.date(2017, 2, 15), 135.52, 136.27, 134.62, 135.51, 129.34, 'Apple'], [datetime.date(2017, 2, 16), 135.67, 135.9, 134.84, 135.34, 129.18, 'Apple'], [datetime.date(2017, 2, 17), 135.1, 135.83, 135.1, 135.72, 129.54, 'Apple'], [datetime.date(2017, 2, 21), 136.23, 136.75, 135.98, 136.7, 130.47, 'Apple'], [datetime.date(2017, 2, 22), 136.43, 137.12, 136.11, 137.11, 130.86, 'Apple'], [datetime.date(2017, 2, 23), 137.38, 137.48, 136.3, 136.53, 130.31, 'Apple'], [datetime.date(2017, 2, 24), 135.91, 136.66, 135.28, 136.66, 130.43, 'Apple'], [datetime.date(2017, 2, 27), 137.14, 137.44, 136.28, 136.93, 130.69, 'Apple'], [datetime.date(2017, 2, 28), 137.08, 137.44, 136.7, 136.99, 130.75, 'Apple'], [datetime.date(2017, 3, 1), 137.89, 140.15, 137.6, 139.79, 133.42, 'Apple'], [datetime.date(2017, 3, 2), 140.0, 140.28, 138.76, 138.96, 132.63, 'Apple'], [datetime.date(2017, 3, 3), 138.78, 139.83, 138.59, 139.78, 133.41, 'Apple'], [datetime.date(2017, 3, 6), 139.36, 139.77, 138.6, 139.34, 132.99, 'Apple'], [datetime.date(2017, 3, 7), 139.06, 139.98, 138.79, 139.52, 133.16, 'Apple'], [datetime.date(2017, 3, 8), 138.95, 139.8, 138.82, 139.0, 132.67, 'Apple'], [datetime.date(2017, 3, 9), 138.74, 138.79, 137.05, 138.68, 132.36, 'Apple'], [datetime.date(2017, 3, 10), 139.25, 139.36, 138.64, 139.14, 132.8, 'Apple'], [datetime.date(2017, 3, 13), 138.85, 139.43, 138.82, 139.2, 132.86, 'Apple'], [datetime.date(2017, 3, 14), 139.3, 139.65, 138.84, 138.99, 132.66, 'Apple'], [datetime.date(2017, 3, 15), 139.41, 140.75, 139.02, 140.46, 134.06, 'Apple'], [datetime.date(2017, 3, 16), 140.72, 141.02, 140.26, 140.69, 134.28, 'Apple'], [datetime.date(2017, 3, 17), 141.0, 141.0, 139.89, 139.99, 133.61, 'Apple'], [datetime.date(2017, 3, 20), 140.4, 141.5, 140.23, 141.46, 135.02, 'Apple'], [datetime.date(2017, 3, 21), 142.11, 142.8, 139.73, 139.84, 133.47, 'Apple'], [datetime.date(2017, 3, 22), 139.84, 141.6, 139.76, 141.42, 134.98, 'Apple'], [datetime.date(2017, 3, 23), 141.26, 141.58, 140.61, 140.92, 134.5, 'Apple'], [datetime.date(2017, 3, 24), 141.5, 141.74, 140.35, 140.64, 134.23, 'Apple'], [datetime.date(2017, 3, 27), 139.39, 141.22, 138.62, 140.88, 134.46, 'Apple'], [datetime.date(2017, 3, 28), 140.91, 144.04, 140.62, 143.8, 137.25, 'Apple'], [datetime.date(2017, 3, 29), 143.68, 144.49, 143.19, 144.12, 137.55, 'Apple'], [datetime.date(2017, 3, 30), 144.19, 144.5, 143.5, 143.93, 137.37, 'Apple'], [datetime.date(2017, 3, 31), 143.72, 144.27, 143.01, 143.66, 137.12, 'Apple'], [datetime.date(2017, 4, 3), 143.71, 144.12, 143.05, 143.7, 137.15, 'Apple'], [datetime.date(2017, 4, 4), 143.25, 144.89, 143.17, 144.77, 138.18, 'Apple'], [datetime.date(2017, 4, 5), 144.22, 145.46, 143.81, 144.02, 137.46, 'Apple'], [datetime.date(2017, 4, 6), 144.29, 144.52, 143.45, 143.66, 137.12, 'Apple'], [datetime.date(2017, 4, 7), 143.73, 144.18, 143.27, 143.34, 136.81, 'Apple'], [datetime.date(2017, 4, 10), 143.6, 143.88, 142.9, 143.17, 136.65, 'Apple'], [datetime.date(2017, 4, 11), 142.94, 143.35, 140.06, 141.63, 135.18, 'Apple'], [datetime.date(2017, 4, 12), 141.6, 142.15, 141.01, 141.8, 135.34, 'Apple'], [datetime.date(2017, 4, 13), 141.91, 142.38, 141.05, 141.05, 134.62, 'Apple'], [datetime.date(2017, 4, 17), 141.48, 141.88, 140.87, 141.83, 135.37, 'Apple'], [datetime.date(2017, 4, 18), 141.41, 142.04, 141.11, 141.2, 134.77, 'Apple'], [datetime.date(2017, 4, 19), 141.88, 142.0, 140.45, 140.68, 134.27, 'Apple'], [datetime.date(2017, 4, 20), 141.22, 142.92, 141.16, 142.44, 135.95, 'Apple'], [datetime.date(2017, 4, 21), 142.44, 142.68, 141.85, 142.27, 135.79, 'Apple'], [datetime.date(2017, 4, 24), 143.5, 143.95, 143.18, 143.64, 137.1, 'Apple'], [datetime.date(2017, 4, 25), 143.91, 144.9, 143.87, 144.53, 137.95, 'Apple'], [datetime.date(2017, 4, 26), 144.47, 144.6, 143.38, 143.68, 137.13, 'Apple'], [datetime.date(2017, 4, 27), 143.92, 144.16, 143.31, 143.79, 137.24, 'Apple'], [datetime.date(2017, 4, 28), 144.09, 144.3, 143.27, 143.65, 137.11, 'Apple'], [datetime.date(2017, 5, 1), 145.1, 147.2, 144.96, 146.58, 139.9, 'Apple'], [datetime.date(2017, 5, 2), 147.54, 148.09, 146.84, 147.51, 140.79, 'Apple'], [datetime.date(2017, 5, 3), 145.59, 147.49, 144.27, 147.06, 140.36, 'Apple'], [datetime.date(2017, 5, 4), 146.52, 147.14, 145.81, 146.53, 139.85, 'Apple'], [datetime.date(2017, 5, 5), 146.76, 148.98, 146.76, 148.96, 142.17, 'Apple'], [datetime.date(2017, 5, 8), 149.03, 153.7, 149.03, 153.01, 146.04, 'Apple'], [datetime.date(2017, 5, 9), 153.87, 154.88, 153.45, 153.99, 146.98, 'Apple'], [datetime.date(2017, 5, 10), 153.63, 153.94, 152.11, 153.26, 146.28, 'Apple'], [datetime.date(2017, 5, 11), 152.45, 154.07, 152.31, 153.95, 147.54, 'Apple'], [datetime.date(2017, 5, 12), 154.7, 156.42, 154.67, 156.1, 149.6, 'Apple'], [datetime.date(2017, 5, 15), 156.01, 156.65, 155.05, 155.7, 149.22, 'Apple'], [datetime.date(2017, 5, 16), 155.94, 156.06, 154.72, 155.47, 148.99, 'Apple'], [datetime.date(2017, 5, 17), 153.6, 154.57, 149.71, 150.25, 143.99, 'Apple'], [datetime.date(2017, 5, 18), 151.27, 153.34, 151.13, 152.54, 146.19, 'Apple'], [datetime.date(2017, 5, 19), 153.38, 153.98, 152.63, 153.06, 146.69, 'Apple'], [datetime.date(2017, 5, 22), 154.0, 154.58, 152.91, 153.99, 147.58, 'Apple'], [datetime.date(2017, 5, 23), 154.9, 154.9, 153.31, 153.8, 147.39, 'Apple'], [datetime.date(2017, 5, 24), 153.84, 154.17, 152.67, 153.34, 146.95, 'Apple'], [datetime.date(2017, 5, 25), 153.73, 154.35, 153.03, 153.87, 147.46, 'Apple'], [datetime.date(2017, 5, 26), 154.0, 154.24, 153.31, 153.61, 147.21, 'Apple'], [datetime.date(2017, 5, 30), 153.42, 154.43, 153.33, 153.67, 147.27, 'Apple'], [datetime.date(2017, 5, 31), 153.97, 154.17, 152.38, 152.76, 146.4, 'Apple'], [datetime.date(2017, 6, 1), 153.17, 153.33, 152.22, 153.18, 146.8, 'Apple'], [datetime.date(2017, 6, 2), 153.58, 155.45, 152.89, 155.45, 148.98, 'Apple'], [datetime.date(2017, 6, 5), 154.34, 154.45, 153.46, 153.93, 147.52, 'Apple'], [datetime.date(2017, 6, 6), 153.9, 155.81, 153.78, 154.45, 148.02, 'Apple'], [datetime.date(2017, 6, 7), 155.02, 155.98, 154.48, 155.37, 148.9, 'Apple'], [datetime.date(2017, 6, 8), 155.25, 155.54, 154.4, 154.99, 148.53, 'Apple'], [datetime.date(2017, 6, 9), 155.19, 155.19, 146.02, 148.98, 142.78, 'Apple'], [datetime.date(2017, 6, 12), 145.74, 146.09, 142.51, 145.42, 139.36, 'Apple'], [datetime.date(2017, 6, 13), 147.16, 147.45, 145.15, 146.59, 140.48, 'Apple'], [datetime.date(2017, 6, 14), 147.5, 147.5, 143.84, 145.16, 139.11, 'Apple'], [datetime.date(2017, 6, 15), 143.32, 144.48, 142.21, 144.29, 138.28, 'Apple'], [datetime.date(2017, 6, 16), 143.78, 144.5, 142.2, 142.27, 136.34, 'Apple'], [datetime.date(2017, 6, 19), 143.66, 146.74, 143.66, 146.34, 140.25, 'Apple'], [datetime.date(2017, 6, 20), 146.87, 146.87, 144.94, 145.01, 138.97, 'Apple'], [datetime.date(2017, 6, 21), 145.52, 146.07, 144.61, 145.87, 139.79, 'Apple'], [datetime.date(2017, 6, 22), 145.77, 146.7, 145.12, 145.63, 139.56, 'Apple'], [datetime.date(2017, 6, 23), 145.13, 147.16, 145.11, 146.28, 140.19, 'Apple'], [datetime.date(2017, 6, 26), 147.17, 148.28, 145.38, 145.82, 139.75, 'Apple'], [datetime.date(2017, 6, 27), 145.01, 146.16, 143.62, 143.73, 137.74, 'Apple'], [datetime.date(2017, 6, 28), 144.49, 146.11, 143.16, 145.83, 139.76, 'Apple'], [datetime.date(2017, 6, 29), 144.71, 145.13, 142.28, 143.68, 137.7, 'Apple'], [datetime.date(2017, 6, 30), 144.45, 144.96, 143.78, 144.02, 138.02, 'Apple'], [datetime.date(2017, 7, 3), 144.88, 145.3, 143.1, 143.5, 137.52, 'Apple'], [datetime.date(2017, 7, 5), 143.69, 144.79, 142.72, 144.09, 138.09, 'Apple'], [datetime.date(2017, 7, 6), 143.02, 143.5, 142.41, 142.73, 136.79, 'Apple'], [datetime.date(2017, 7, 7), 142.9, 144.75, 142.9, 144.18, 138.18, 'Apple'], [datetime.date(2017, 7, 10), 144.11, 145.95, 143.37, 145.06, 139.02, 'Apple'], [datetime.date(2017, 7, 11), 144.73, 145.85, 144.38, 145.53, 139.47, 'Apple'], [datetime.date(2017, 7, 12), 145.87, 146.18, 144.82, 145.74, 139.67, 'Apple'], [datetime.date(2017, 7, 13), 145.5, 148.49, 145.44, 147.77, 141.62, 'Apple'], [datetime.date(2017, 7, 14), 147.97, 149.33, 147.33, 149.04, 142.83, 'Apple'], [datetime.date(2017, 7, 17), 148.82, 150.9, 148.57, 149.56, 143.33, 'Apple'], [datetime.date(2017, 7, 18), 149.2, 150.13, 148.67, 150.08, 143.83, 'Apple'], [datetime.date(2017, 7, 19), 150.48, 151.42, 149.95, 151.02, 144.73, 'Apple'], [datetime.date(2017, 7, 20), 151.5, 151.74, 150.19, 150.34, 144.08, 'Apple'], [datetime.date(2017, 7, 21), 149.99, 150.44, 148.88, 150.27, 144.01, 'Apple'], [datetime.date(2017, 7, 24), 150.58, 152.44, 149.9, 152.09, 145.76, 'Apple'], [datetime.date(2017, 7, 25), 151.8, 153.84, 151.8, 152.74, 146.38, 'Apple'], [datetime.date(2017, 7, 26), 153.35, 153.93, 153.06, 153.46, 147.07, 'Apple'], [datetime.date(2017, 7, 27), 153.75, 153.99, 147.3, 150.56, 144.29, 'Apple'], [datetime.date(2017, 7, 28), 149.89, 150.23, 149.19, 149.5, 143.27, 'Apple'], [datetime.date(2017, 7, 31), 149.9, 150.33, 148.13, 148.73, 142.54, 'Apple'], [datetime.date(2017, 8, 1), 149.1, 150.22, 148.41, 150.05, 143.8, 'Apple'], [datetime.date(2017, 8, 2), 159.28, 159.75, 156.16, 157.14, 150.6, 'Apple'], [datetime.date(2017, 8, 3), 157.05, 157.21, 155.02, 155.57, 149.09, 'Apple'], [datetime.date(2017, 8, 4), 156.07, 157.4, 155.69, 156.39, 149.88, 'Apple'], [datetime.date(2017, 8, 7), 157.06, 158.92, 156.67, 158.81, 152.2, 'Apple'], [datetime.date(2017, 8, 8), 158.6, 161.83, 158.27, 160.08, 153.41, 'Apple'], [datetime.date(2017, 8, 9), 159.26, 161.27, 159.11, 161.06, 154.35, 'Apple'], [datetime.date(2017, 8, 10), 159.9, 160.0, 154.63, 155.32, 149.45, 'Apple'], [datetime.date(2017, 8, 11), 156.6, 158.57, 156.07, 157.48, 151.53, 'Apple'], [datetime.date(2017, 8, 14), 159.32, 160.21, 158.75, 159.85, 153.81, 'Apple'], [datetime.date(2017, 8, 15), 160.66, 162.2, 160.14, 161.6, 155.5, 'Apple'], [datetime.date(2017, 8, 16), 161.94, 162.51, 160.15, 160.95, 154.87, 'Apple'], [datetime.date(2017, 8, 17), 160.52, 160.71, 157.84, 157.86, 151.9, 'Apple'], [datetime.date(2017, 8, 18), 157.86, 159.5, 156.72, 157.5, 151.55, 'Apple'], [datetime.date(2017, 8, 21), 157.5, 157.89, 155.11, 157.21, 151.27, 'Apple'], [datetime.date(2017, 8, 22), 158.23, 160.0, 158.02, 159.78, 153.75, 'Apple'], [datetime.date(2017, 8, 23), 159.07, 160.47, 158.88, 159.98, 153.94, 'Apple'], [datetime.date(2017, 8, 24), 160.43, 160.74, 158.55, 159.27, 153.26, 'Apple'], [datetime.date(2017, 8, 25), 159.65, 160.56, 159.27, 159.86, 153.82, 'Apple'], [datetime.date(2017, 8, 28), 160.14, 162.0, 159.93, 161.47, 155.37, 'Apple'], [datetime.date(2017, 8, 29), 160.1, 163.12, 160.0, 162.91, 156.76, 'Apple'], [datetime.date(2017, 8, 30), 163.8, 163.89, 162.61, 163.35, 157.18, 'Apple'], [datetime.date(2017, 8, 31), 163.64, 164.52, 163.48, 164.0, 157.81, 'Apple'], [datetime.date(2017, 9, 1), 164.8, 164.94, 163.63, 164.05, 157.86, 'Apple'], [datetime.date(2017, 9, 5), 163.75, 164.25, 160.56, 162.08, 155.96, 'Apple'], [datetime.date(2017, 9, 6), 162.71, 162.99, 160.52, 161.91, 155.8, 'Apple'], [datetime.date(2017, 9, 7), 162.09, 162.24, 160.36, 161.26, 155.17, 'Apple'], [datetime.date(2017, 9, 8), 160.86, 161.15, 158.53, 158.63, 152.64, 'Apple'], [datetime.date(2017, 9, 11), 160.5, 162.05, 159.89, 161.5, 155.4, 'Apple'], [datetime.date(2017, 9, 12), 162.61, 163.96, 158.77, 160.86, 154.79, 'Apple'], [datetime.date(2017, 9, 13), 159.87, 159.96, 157.91, 159.65, 153.62, 'Apple'], [datetime.date(2017, 9, 14), 158.99, 159.4, 158.09, 158.28, 152.3, 'Apple'], [datetime.date(2017, 9, 15), 158.47, 160.97, 158.0, 159.88, 153.84, 'Apple'], [datetime.date(2017, 9, 18), 160.11, 160.5, 158.0, 158.67, 152.68, 'Apple'], [datetime.date(2017, 9, 19), 159.51, 159.77, 158.44, 158.73, 152.74, 'Apple'], [datetime.date(2017, 9, 20), 157.9, 158.26, 153.83, 156.07, 150.18, 'Apple'], [datetime.date(2017, 9, 21), 155.8, 155.8, 152.75, 153.39, 147.6, 'Apple'], [datetime.date(2017, 9, 22), 152.02, 152.27, 150.56, 151.89, 146.15, 'Apple'], [datetime.date(2017, 9, 25), 149.99, 151.83, 149.16, 150.55, 144.86, 'Apple'], [datetime.date(2017, 9, 26), 151.78, 153.92, 151.69, 153.14, 147.36, 'Apple'], [datetime.date(2017, 9, 27), 153.8, 154.72, 153.54, 154.23, 148.41, 'Apple'], [datetime.date(2017, 9, 28), 153.89, 154.28, 152.7, 153.28, 147.49, 'Apple'], [datetime.date(2017, 9, 29), 153.21, 154.13, 152.0, 154.12, 148.3, 'Apple'], [datetime.date(2017, 10, 2), 154.26, 154.45, 152.72, 153.81, 148.0, 'Apple'], [datetime.date(2017, 10, 3), 154.01, 155.09, 153.91, 154.48, 148.65, 'Apple'], [datetime.date(2017, 10, 4), 153.63, 153.86, 152.46, 153.48, 147.68, 'Apple'], [datetime.date(2017, 10, 5), 154.18, 155.44, 154.05, 155.39, 149.52, 'Apple'], [datetime.date(2017, 10, 6), 154.97, 155.49, 154.56, 155.3, 149.44, 'Apple'], [datetime.date(2017, 10, 9), 155.81, 156.73, 155.49, 155.84, 149.96, 'Apple'], [datetime.date(2017, 10, 10), 156.06, 158.0, 155.1, 155.9, 150.01, 'Apple'], [datetime.date(2017, 10, 11), 155.97, 156.98, 155.75, 156.55, 150.64, 'Apple'], [datetime.date(2017, 10, 12), 156.35, 157.37, 155.73, 156.0, 150.11, 'Apple'], [datetime.date(2017, 10, 13), 156.73, 157.28, 156.41, 156.99, 151.06, 'Apple'], [datetime.date(2017, 10, 16), 157.9, 160.0, 157.65, 159.88, 153.84, 'Apple'], [datetime.date(2017, 10, 17), 159.78, 160.87, 159.23, 160.47, 154.41, 'Apple'], [datetime.date(2017, 10, 18), 160.42, 160.71, 159.6, 159.76, 153.73, 'Apple'], [datetime.date(2017, 10, 19), 156.75, 157.08, 155.02, 155.98, 150.09, 'Apple'], [datetime.date(2017, 10, 20), 156.61, 157.75, 155.96, 156.25, 150.35, 'Apple'], [datetime.date(2017, 10, 23), 156.89, 157.69, 155.5, 156.17, 150.27, 'Apple'], [datetime.date(2017, 10, 24), 156.29, 157.42, 156.2, 157.1, 151.17, 'Apple'], [datetime.date(2017, 10, 25), 156.91, 157.55, 155.27, 156.41, 150.5, 'Apple'], [datetime.date(2017, 10, 26), 157.23, 157.83, 156.78, 157.41, 151.47, 'Apple'], [datetime.date(2017, 10, 27), 159.29, 163.6, 158.7, 163.05, 156.89, 'Apple'], [datetime.date(2017, 10, 30), 163.89, 168.07, 163.72, 166.72, 160.42, 'Apple'], [datetime.date(2017, 10, 31), 167.9, 169.65, 166.94, 169.04, 162.66, 'Apple'], [datetime.date(2017, 11, 1), 169.87, 169.94, 165.61, 166.89, 160.59, 'Apple'], [datetime.date(2017, 11, 2), 167.64, 168.5, 165.28, 168.11, 161.76, 'Apple'], [datetime.date(2017, 11, 3), 174.0, 174.26, 171.12, 172.5, 165.99, 'Apple'], [datetime.date(2017, 11, 6), 172.36, 174.99, 171.72, 174.25, 167.67, 'Apple'], [datetime.date(2017, 11, 7), 173.91, 175.25, 173.6, 174.81, 168.21, 'Apple'], [datetime.date(2017, 11, 8), 174.66, 176.24, 174.33, 176.24, 169.58, 'Apple'], [datetime.date(2017, 11, 9), 175.11, 176.1, 173.14, 175.88, 169.24, 'Apple'], [datetime.date(2017, 11, 10), 175.11, 175.38, 174.27, 174.67, 168.68, 'Apple'], [datetime.date(2017, 11, 13), 173.5, 174.5, 173.4, 173.97, 168.0, 'Apple'], [datetime.date(2017, 11, 14), 173.04, 173.48, 171.18, 171.34, 165.46, 'Apple'], [datetime.date(2017, 11, 15), 169.97, 170.32, 168.38, 169.08, 163.28, 'Apple'], [datetime.date(2017, 11, 16), 171.18, 171.87, 170.3, 171.1, 165.23, 'Apple'], [datetime.date(2017, 11, 17), 171.04, 171.39, 169.64, 170.15, 164.32, 'Apple'], [datetime.date(2017, 11, 20), 170.29, 170.56, 169.56, 169.98, 164.15, 'Apple'], [datetime.date(2017, 11, 21), 170.78, 173.7, 170.78, 173.14, 167.2, 'Apple'], [datetime.date(2017, 11, 22), 173.36, 175.0, 173.05, 174.96, 168.96, 'Apple'], [datetime.date(2017, 11, 24), 175.1, 175.5, 174.65, 174.97, 168.97, 'Apple'], [datetime.date(2017, 11, 27), 175.05, 175.08, 173.34, 174.09, 168.12, 'Apple'], [datetime.date(2017, 11, 28), 174.3, 174.87, 171.86, 173.07, 167.14, 'Apple'], [datetime.date(2017, 11, 29), 172.63, 172.92, 167.16, 169.48, 163.67, 'Apple'], [datetime.date(2017, 11, 30), 170.43, 172.14, 168.44, 171.85, 165.96, 'Apple'], [datetime.date(2017, 12, 1), 169.95, 171.67, 168.5, 171.05, 165.18, 'Apple'], [datetime.date(2017, 12, 4), 172.48, 172.62, 169.63, 169.8, 163.98, 'Apple'], [datetime.date(2017, 12, 5), 169.06, 171.52, 168.4, 169.64, 163.82, 'Apple'], [datetime.date(2017, 12, 6), 167.5, 170.2, 166.46, 169.01, 163.21, 'Apple'], [datetime.date(2017, 12, 7), 169.03, 170.44, 168.91, 169.32, 163.51, 'Apple'], [datetime.date(2017, 12, 8), 170.49, 171.0, 168.82, 169.37, 163.56, 'Apple'], [datetime.date(2017, 12, 11), 169.2, 172.89, 168.79, 172.67, 166.75, 'Apple'], [datetime.date(2017, 12, 12), 172.15, 172.39, 171.46, 171.7, 165.81, 'Apple'], [datetime.date(2017, 12, 13), 172.5, 173.54, 172.0, 172.27, 166.36, 'Apple'], [datetime.date(2017, 12, 14), 172.4, 173.13, 171.65, 172.22, 166.31, 'Apple'], [datetime.date(2017, 12, 15), 173.63, 174.17, 172.46, 173.97, 168.0, 'Apple'], [datetime.date(2017, 12, 18), 174.88, 177.2, 174.86, 176.42, 170.37, 'Apple'], [datetime.date(2017, 12, 19), 175.03, 175.39, 174.09, 174.54, 168.55, 'Apple'], [datetime.date(2017, 12, 20), 174.87, 175.42, 173.25, 174.35, 168.37, 'Apple'], [datetime.date(2017, 12, 21), 174.17, 176.02, 174.1, 175.01, 169.01, 'Apple'], [datetime.date(2017, 12, 22), 174.68, 175.42, 174.5, 175.01, 169.01, 'Apple'], [datetime.date(2017, 12, 26), 170.8, 171.47, 169.68, 170.57, 164.72, 'Apple'], [datetime.date(2017, 12, 27), 170.1, 170.78, 169.71, 170.6, 164.75, 'Apple'], [datetime.date(2017, 12, 28), 171.0, 171.85, 170.48, 171.08, 165.21, 'Apple'], [datetime.date(2017, 12, 29), 170.52, 170.59, 169.22, 169.23, 163.43, 'Apple'], [datetime.date(2018, 1, 2), 170.16, 172.3, 169.26, 172.26, 166.35, 'Apple'], [datetime.date(2018, 1, 3), 172.53, 174.55, 171.96, 172.23, 166.32, 'Apple'], [datetime.date(2018, 1, 4), 172.54, 173.47, 172.08, 173.03, 167.1, 'Apple'], [datetime.date(2018, 1, 5), 173.44, 175.37, 173.05, 175.0, 169.0, 'Apple'], [datetime.date(2018, 1, 8), 174.35, 175.61, 173.93, 174.35, 168.37, 'Apple'], [datetime.date(2018, 1, 9), 174.55, 175.06, 173.41, 174.33, 168.35, 'Apple'], [datetime.date(2018, 1, 10), 173.16, 174.3, 173.0, 174.29, 168.31, 'Apple'], [datetime.date(2018, 1, 11), 174.59, 175.49, 174.49, 175.28, 169.27, 'Apple'], [datetime.date(2018, 1, 12), 176.18, 177.36, 175.65, 177.09, 171.02, 'Apple'], [datetime.date(2018, 1, 16), 177.9, 179.39, 176.14, 176.19, 170.15, 'Apple'], [datetime.date(2018, 1, 17), 176.15, 179.25, 175.07, 179.1, 172.96, 'Apple'], [datetime.date(2018, 1, 18), 179.37, 180.1, 178.25, 179.26, 173.11, 'Apple'], [datetime.date(2018, 1, 19), 178.61, 179.58, 177.41, 178.46, 172.34, 'Apple'], [datetime.date(2018, 1, 22), 177.3, 177.78, 176.6, 177.0, 170.93, 'Apple'], [datetime.date(2018, 1, 23), 177.3, 179.44, 176.82, 177.04, 170.97, 'Apple'], [datetime.date(2018, 1, 24), 177.25, 177.3, 173.2, 174.22, 168.25, 'Apple'], [datetime.date(2018, 1, 25), 174.5, 174.95, 170.53, 171.11, 165.24, 'Apple'], [datetime.date(2018, 1, 26), 172.0, 172.0, 170.06, 171.51, 165.63, 'Apple'], [datetime.date(2018, 1, 29), 170.16, 170.16, 167.07, 167.96, 162.2, 'Apple'], [datetime.date(2018, 1, 30), 165.52, 167.37, 164.7, 166.97, 161.24, 'Apple'], [datetime.date(2018, 1, 31), 166.87, 168.44, 166.5, 167.43, 161.69, 'Apple'], [datetime.date(2018, 2, 1), 167.16, 168.62, 166.76, 167.78, 162.03, 'Apple'], [datetime.date(2018, 2, 2), 166.0, 166.8, 160.1, 160.5, 155.0, 'Apple'], [datetime.date(2018, 2, 5), 159.1, 163.88, 156.0, 156.49, 151.12, 'Apple'], [datetime.date(2018, 2, 6), 154.83, 163.72, 154.0, 163.03, 157.44, 'Apple'], [datetime.date(2018, 2, 7), 163.08, 163.4, 159.07, 159.54, 154.07, 'Apple'], [datetime.date(2018, 2, 8), 160.29, 161.0, 155.03, 155.15, 149.83, 'Apple'], [datetime.date(2018, 2, 9), 157.07, 157.89, 150.24, 156.41, 151.65, 'Apple'], [datetime.date(2018, 2, 12), 158.5, 163.89, 157.51, 162.71, 157.76, 'Apple'], [datetime.date(2018, 2, 13), 161.95, 164.75, 161.65, 164.34, 159.34, 'Apple'], [datetime.date(2018, 2, 14), 163.04, 167.54, 162.88, 167.37, 162.28, 'Apple'], [datetime.date(2018, 2, 15), 169.79, 173.09, 169.0, 172.99, 167.73, 'Apple'], [datetime.date(2018, 2, 16), 172.36, 174.82, 171.77, 172.43, 167.19, 'Apple'], [datetime.date(2018, 2, 20), 172.05, 174.26, 171.42, 171.85, 166.63, 'Apple'], [datetime.date(2018, 2, 21), 172.83, 174.12, 171.01, 171.07, 165.87, 'Apple'], [datetime.date(2018, 2, 22), 171.8, 173.95, 171.71, 172.5, 167.26, 'Apple'], [datetime.date(2018, 2, 23), 173.67, 175.65, 173.54, 175.5, 170.16, 'Apple'], [datetime.date(2018, 2, 26), 176.35, 179.39, 176.21, 178.97, 173.53, 'Apple'], [datetime.date(2018, 2, 27), 179.1, 180.48, 178.16, 178.39, 172.97, 'Apple'], [datetime.date(2018, 2, 28), 179.26, 180.62, 178.05, 178.12, 172.7, 'Apple'], [datetime.date(2018, 3, 1), 178.54, 179.78, 172.66, 175.0, 169.68, 'Apple'], [datetime.date(2018, 3, 2), 172.8, 176.3, 172.45, 176.21, 170.85, 'Apple'], [datetime.date(2018, 3, 5), 175.21, 177.74, 174.52, 176.82, 171.44, 'Apple'], [datetime.date(2018, 3, 6), 177.91, 178.25, 176.13, 176.67, 171.3, 'Apple'], [datetime.date(2018, 3, 7), 174.94, 175.85, 174.27, 175.03, 169.71, 'Apple'], [datetime.date(2018, 3, 8), 175.48, 177.12, 175.07, 176.94, 171.56, 'Apple'], [datetime.date(2018, 3, 9), 177.96, 180.0, 177.39, 179.98, 174.51, 'Apple'], [datetime.date(2018, 3, 12), 180.29, 182.39, 180.21, 181.72, 176.2, 'Apple'], [datetime.date(2018, 3, 13), 182.59, 183.5, 179.24, 179.97, 174.5, 'Apple'], [datetime.date(2018, 3, 14), 180.32, 180.52, 177.81, 178.44, 173.02, 'Apple'], [datetime.date(2018, 3, 15), 178.5, 180.24, 178.07, 178.65, 173.22, 'Apple'], [datetime.date(2018, 3, 16), 178.65, 179.12, 177.62, 178.02, 172.61, 'Apple'], [datetime.date(2018, 3, 19), 177.32, 177.47, 173.66, 175.3, 169.97, 'Apple'], [datetime.date(2018, 3, 20), 175.24, 176.8, 174.94, 175.24, 169.91, 'Apple'], [datetime.date(2018, 3, 21), 175.04, 175.09, 171.26, 171.27, 166.06, 'Apple'], [datetime.date(2018, 3, 22), 170.0, 172.68, 168.6, 168.85, 163.72, 'Apple'], [datetime.date(2018, 3, 23), 168.39, 169.92, 164.94, 164.94, 159.93, 'Apple'], [datetime.date(2018, 3, 26), 168.07, 173.1, 166.44, 172.77, 167.52, 'Apple'], [datetime.date(2018, 3, 27), 173.68, 175.15, 166.92, 168.34, 163.22, 'Apple'], [datetime.date(2018, 3, 28), 167.25, 170.02, 165.19, 166.48, 161.42, 'Apple'], [datetime.date(2018, 3, 29), 167.8, 171.75, 166.9, 167.78, 162.68, 'Apple'], [datetime.date(2018, 4, 2), 167.88, 168.94, 164.47, 166.68, 161.61, 'Apple'], [datetime.date(2018, 4, 3), 167.64, 168.75, 164.88, 168.39, 163.27, 'Apple'], [datetime.date(2018, 4, 4), 164.88, 172.01, 164.77, 171.61, 166.39, 'Apple'], [datetime.date(2018, 4, 5), 172.58, 174.23, 172.08, 172.8, 167.55, 'Apple'], [datetime.date(2018, 4, 6), 170.97, 172.48, 168.2, 168.38, 163.26, 'Apple'], [datetime.date(2018, 4, 9), 169.88, 173.09, 169.84, 170.05, 164.88, 'Apple'], [datetime.date(2018, 4, 10), 173.0, 174.0, 171.53, 173.25, 167.98, 'Apple'], [datetime.date(2018, 4, 11), 172.23, 173.92, 171.7, 172.44, 167.2, 'Apple'], [datetime.date(2018, 4, 12), 173.41, 175.0, 173.04, 174.14, 168.85, 'Apple'], [datetime.date(2018, 4, 13), 174.78, 175.84, 173.85, 174.73, 169.42, 'Apple'], [datetime.date(2018, 4, 16), 175.03, 176.19, 174.83, 175.82, 170.47, 'Apple'], [datetime.date(2018, 4, 17), 176.49, 178.94, 176.41, 178.24, 172.82, 'Apple'], [datetime.date(2018, 4, 18), 177.81, 178.82, 176.88, 177.84, 172.43, 'Apple'], [datetime.date(2018, 4, 19), 174.95, 175.39, 172.66, 172.8, 167.55, 'Apple'], [datetime.date(2018, 4, 20), 170.6, 171.22, 165.43, 165.72, 160.68, 'Apple'], [datetime.date(2018, 4, 23), 166.83, 166.92, 164.09, 165.24, 160.22, 'Apple'], [datetime.date(2018, 4, 24), 165.67, 166.33, 161.22, 162.94, 157.99, 'Apple'], [datetime.date(2018, 4, 25), 162.62, 165.42, 162.41, 163.65, 158.67, 'Apple'], [datetime.date(2018, 4, 26), 164.12, 165.73, 163.37, 164.22, 159.23, 'Apple'], [datetime.date(2018, 4, 27), 164.0, 164.33, 160.63, 162.32, 157.39, 'Apple'], [datetime.date(2018, 4, 30), 162.13, 167.26, 161.84, 165.26, 160.24, 'Apple'], [datetime.date(2018, 5, 1), 166.41, 169.2, 165.27, 169.1, 163.96, 'Apple'], [datetime.date(2018, 5, 2), 175.22, 177.75, 173.8, 176.57, 171.2, 'Apple'], [datetime.date(2018, 5, 3), 175.88, 177.5, 174.44, 176.89, 171.51, 'Apple'], [datetime.date(2018, 5, 4), 178.25, 184.25, 178.17, 183.83, 178.24, 'Apple'], [datetime.date(2018, 5, 7), 185.18, 187.67, 184.75, 185.16, 179.53, 'Apple'], [datetime.date(2018, 5, 8), 184.99, 186.22, 183.66, 186.05, 180.39, 'Apple'], [datetime.date(2018, 5, 9), 186.55, 187.4, 185.22, 187.36, 181.66, 'Apple'], [datetime.date(2018, 5, 10), 187.74, 190.37, 187.65, 190.04, 184.26, 'Apple'], [datetime.date(2018, 5, 11), 189.49, 190.06, 187.45, 188.59, 183.56, 'Apple'], [datetime.date(2018, 5, 14), 189.01, 189.53, 187.86, 188.15, 183.14, 'Apple'], [datetime.date(2018, 5, 15), 186.78, 187.07, 185.1, 186.44, 181.47, 'Apple'], [datetime.date(2018, 5, 16), 186.07, 188.46, 186.0, 188.18, 183.17, 'Apple'], [datetime.date(2018, 5, 17), 188.0, 188.91, 186.36, 186.99, 182.01, 'Apple'], [datetime.date(2018, 5, 18), 187.19, 187.81, 186.13, 186.31, 181.35, 'Apple'], [datetime.date(2018, 5, 21), 188.0, 189.27, 186.91, 187.63, 182.63, 'Apple'], [datetime.date(2018, 5, 22), 188.38, 188.88, 186.78, 187.16, 182.17, 'Apple'], [datetime.date(2018, 5, 23), 186.35, 188.5, 185.76, 188.36, 183.34, 'Apple'], [datetime.date(2018, 5, 24), 188.77, 188.84, 186.21, 188.15, 183.14, 'Apple'], [datetime.date(2018, 5, 25), 188.23, 189.65, 187.65, 188.58, 183.55, 'Apple'], [datetime.date(2018, 5, 29), 187.6, 188.75, 186.87, 187.9, 182.89, 'Apple'], [datetime.date(2018, 5, 30), 187.72, 188.0, 186.78, 187.5, 182.5, 'Apple'], [datetime.date(2018, 5, 31), 187.22, 188.23, 186.14, 186.87, 181.89, 'Apple'], [datetime.date(2018, 6, 1), 187.99, 190.26, 187.75, 190.24, 185.17, 'Apple'], [datetime.date(2018, 6, 4), 191.64, 193.42, 191.35, 191.83, 186.72, 'Apple'], [datetime.date(2018, 6, 5), 193.06, 193.94, 192.36, 193.31, 188.16, 'Apple'], [datetime.date(2018, 6, 6), 193.63, 194.08, 191.92, 193.98, 188.81, 'Apple'], [datetime.date(2018, 6, 7), 194.14, 194.2, 192.34, 193.46, 188.3, 'Apple'], [datetime.date(2018, 6, 8), 191.17, 192.0, 189.77, 191.7, 186.59, 'Apple'], [datetime.date(2018, 6, 11), 191.35, 191.97, 190.21, 191.23, 186.13, 'Apple'], [datetime.date(2018, 6, 12), 191.38, 192.61, 191.15, 192.28, 187.16, 'Apple'], [datetime.date(2018, 6, 13), 192.42, 192.88, 190.44, 190.7, 185.62, 'Apple'], [datetime.date(2018, 6, 14), 191.55, 191.57, 190.22, 190.8, 185.72, 'Apple'], [datetime.date(2018, 6, 15), 190.03, 190.16, 188.26, 188.84, 183.81, 'Apple'], [datetime.date(2018, 6, 18), 187.88, 189.22, 187.2, 188.74, 183.71, 'Apple'], [datetime.date(2018, 6, 19), 185.14, 186.33, 183.45, 185.69, 180.74, 'Apple'], [datetime.date(2018, 6, 20), 186.35, 187.2, 185.73, 186.5, 181.53, 'Apple'], [datetime.date(2018, 6, 21), 187.25, 188.35, 184.94, 185.46, 180.52, 'Apple'], [datetime.date(2018, 6, 22), 186.12, 186.15, 184.7, 184.92, 179.99, 'Apple'], [datetime.date(2018, 6, 25), 183.4, 184.92, 180.73, 182.17, 177.32, 'Apple'], [datetime.date(2018, 6, 26), 182.99, 186.53, 182.54, 184.43, 179.52, 'Apple'], [datetime.date(2018, 6, 27), 185.23, 187.28, 184.03, 184.16, 179.25, 'Apple'], [datetime.date(2018, 6, 28), 184.1, 186.21, 183.8, 185.5, 180.56, 'Apple'], [datetime.date(2018, 6, 29), 186.29, 187.19, 182.91, 185.11, 180.18, 'Apple'], [datetime.date(2018, 7, 2), 183.82, 187.3, 183.42, 187.18, 182.19, 'Apple'], [datetime.date(2018, 7, 3), 187.79, 187.95, 183.54, 183.92, 179.02, 'Apple'], [datetime.date(2018, 7, 5), 185.26, 186.41, 184.28, 185.4, 180.46, 'Apple'], [datetime.date(2018, 7, 6), 185.42, 188.43, 185.2, 187.97, 182.96, 'Apple'], [datetime.date(2018, 7, 9), 189.5, 190.68, 189.3, 190.58, 185.5, 'Apple'], [datetime.date(2018, 7, 10), 190.71, 191.28, 190.18, 190.35, 185.28, 'Apple'], [datetime.date(2018, 7, 11), 188.5, 189.78, 187.61, 187.88, 182.87, 'Apple'], [datetime.date(2018, 7, 12), 189.53, 191.41, 189.31, 191.03, 185.94, 'Apple'], [datetime.date(2018, 7, 13), 191.08, 191.84, 190.9, 191.33, 186.23, 'Apple'], [datetime.date(2018, 7, 16), 191.52, 192.65, 190.42, 190.91, 185.82, 'Apple'], [datetime.date(2018, 7, 17), 189.75, 191.87, 189.2, 191.45, 186.35, 'Apple'], [datetime.date(2018, 7, 18), 191.78, 191.8, 189.93, 190.4, 185.33, 'Apple'], [datetime.date(2018, 7, 19), 189.69, 192.55, 189.69, 191.88, 186.77, 'Apple'], [datetime.date(2018, 7, 20), 191.78, 192.43, 190.17, 191.44, 186.34, 'Apple'], [datetime.date(2018, 7, 23), 190.68, 191.96, 189.56, 191.61, 186.5, 'Apple'], [datetime.date(2018, 7, 24), 192.45, 193.66, 192.05, 193.0, 187.86, 'Apple'], [datetime.date(2018, 7, 25), 193.06, 194.85, 192.43, 194.82, 189.63, 'Apple'], [datetime.date(2018, 7, 26), 194.61, 195.96, 193.61, 194.21, 189.03, 'Apple'], [datetime.date(2018, 7, 27), 194.99, 195.19, 190.1, 190.98, 185.89, 'Apple'], [datetime.date(2018, 7, 30), 191.9, 192.2, 189.07, 189.91, 184.85, 'Apple'], [datetime.date(2018, 7, 31), 190.3, 192.14, 189.34, 190.29, 185.22, 'Apple'], [datetime.date(2018, 8, 1), 199.13, 201.76, 197.31, 201.5, 196.13, 'Apple'], [datetime.date(2018, 8, 2), 200.58, 208.38, 200.35, 207.39, 201.86, 'Apple'], [datetime.date(2018, 8, 3), 207.03, 208.74, 205.48, 207.99, 202.45, 'Apple'], [datetime.date(2018, 8, 6), 208.0, 209.25, 207.07, 209.07, 203.5, 'Apple'], [datetime.date(2018, 8, 7), 209.32, 209.5, 206.76, 207.11, 201.59, 'Apple'], [datetime.date(2018, 8, 8), 206.05, 207.81, 204.52, 207.25, 201.73, 'Apple'], [datetime.date(2018, 8, 9), 207.28, 209.78, 207.2, 208.88, 203.31, 'Apple'], [datetime.date(2018, 8, 10), 207.36, 209.1, 206.67, 207.53, 202.71, 'Apple'], [datetime.date(2018, 8, 13), 207.7, 210.95, 207.7, 208.87, 204.02, 'Apple'], [datetime.date(2018, 8, 14), 210.16, 210.56, 208.26, 209.75, 204.88, 'Apple'], [datetime.date(2018, 8, 15), 209.22, 210.74, 208.33, 210.24, 205.36, 'Apple'], [datetime.date(2018, 8, 16), 211.75, 213.81, 211.47, 213.32, 208.37, 'Apple'], [datetime.date(2018, 8, 17), 213.44, 217.95, 213.16, 217.58, 212.53, 'Apple'], [datetime.date(2018, 8, 20), 218.1, 219.18, 215.11, 215.46, 210.46, 'Apple'], [datetime.date(2018, 8, 21), 216.8, 217.19, 214.02, 215.04, 210.05, 'Apple'], [datetime.date(2018, 8, 22), 214.1, 216.36, 213.84, 215.05, 210.06, 'Apple'], [datetime.date(2018, 8, 23), 214.65, 217.05, 214.6, 215.49, 210.49, 'Apple'], [datetime.date(2018, 8, 24), 216.6, 216.9, 215.11, 216.16, 211.14, 'Apple'], [datetime.date(2018, 8, 27), 217.15, 218.74, 216.33, 217.94, 212.88, 'Apple'], [datetime.date(2018, 8, 28), 219.01, 220.54, 218.92, 219.7, 214.6, 'Apple'], [datetime.date(2018, 8, 29), 220.15, 223.49, 219.41, 222.98, 217.8, 'Apple'], [datetime.date(2018, 8, 30), 223.25, 228.26, 222.4, 225.03, 219.8, 'Apple'], [datetime.date(2018, 8, 31), 226.51, 228.87, 226.0, 227.63, 222.34, 'Apple'], [datetime.date(2018, 9, 4), 228.41, 229.18, 226.63, 228.36, 223.06, 'Apple'], [datetime.date(2018, 9, 5), 228.99, 229.67, 225.1, 226.87, 221.6, 'Apple'], [datetime.date(2018, 9, 6), 226.23, 227.35, 221.3, 223.1, 217.92, 'Apple'], [datetime.date(2018, 9, 7), 221.85, 225.37, 220.71, 221.3, 216.16, 'Apple'], [datetime.date(2018, 9, 10), 220.95, 221.85, 216.47, 218.33, 213.26, 'Apple'], [datetime.date(2018, 9, 11), 218.01, 224.3, 216.56, 223.85, 218.65, 'Apple'], [datetime.date(2018, 9, 12), 224.94, 225.0, 219.84, 221.07, 215.94, 'Apple'], [datetime.date(2018, 9, 13), 223.52, 228.35, 222.57, 226.41, 221.15, 'Apple'], [datetime.date(2018, 9, 14), 225.75, 226.84, 222.52, 223.84, 218.64, 'Apple'], [datetime.date(2018, 9, 17), 222.15, 222.95, 217.27, 217.88, 212.82, 'Apple'], [datetime.date(2018, 9, 18), 217.79, 221.85, 217.12, 218.24, 213.17, 'Apple'], [datetime.date(2018, 9, 19), 218.5, 219.62, 215.3, 218.37, 213.3, 'Apple'], [datetime.date(2018, 9, 20), 220.24, 222.28, 219.15, 220.03, 214.92, 'Apple'], [datetime.date(2018, 9, 21), 220.78, 221.36, 217.29, 217.66, 212.6, 'Apple'], [datetime.date(2018, 9, 24), 216.82, 221.26, 216.63, 220.79, 215.66, 'Apple'], [datetime.date(2018, 9, 25), 219.75, 222.82, 219.7, 222.19, 217.03, 'Apple'], [datetime.date(2018, 9, 26), 221.0, 223.75, 219.76, 220.42, 215.3, 'Apple'], [datetime.date(2018, 9, 27), 223.82, 226.44, 223.54, 224.95, 219.73, 'Apple'], [datetime.date(2018, 9, 28), 224.79, 225.84, 224.02, 225.74, 220.5, 'Apple'], [datetime.date(2018, 10, 1), 227.95, 229.42, 226.35, 227.26, 221.98, 'Apple'], [datetime.date(2018, 10, 2), 227.25, 230.0, 226.63, 229.28, 223.96, 'Apple'], [datetime.date(2018, 10, 3), 230.05, 233.47, 229.78, 232.07, 226.68, 'Apple'], [datetime.date(2018, 10, 4), 230.78, 232.35, 226.73, 227.99, 222.7, 'Apple'], [datetime.date(2018, 10, 5), 227.96, 228.41, 220.58, 224.29, 219.08, 'Apple'], [datetime.date(2018, 10, 8), 222.21, 224.8, 220.2, 223.77, 218.57, 'Apple'], [datetime.date(2018, 10, 9), 223.64, 227.27, 222.25, 226.87, 221.6, 'Apple'], [datetime.date(2018, 10, 10), 225.46, 226.35, 216.05, 216.36, 211.34, 'Apple'], [datetime.date(2018, 10, 11), 214.52, 219.5, 212.32, 214.45, 209.47, 'Apple'], [datetime.date(2018, 10, 12), 220.42, 222.88, 216.84, 222.11, 216.95, 'Apple'], [datetime.date(2018, 10, 15), 221.16, 221.83, 217.27, 217.36, 212.31, 'Apple'], [datetime.date(2018, 10, 16), 218.93, 222.99, 216.76, 222.15, 216.99, 'Apple'], [datetime.date(2018, 10, 17), 222.3, 222.64, 219.34, 221.19, 216.05, 'Apple'], [datetime.date(2018, 10, 18), 217.86, 219.74, 213.0, 216.02, 211.0, 'Apple'], [datetime.date(2018, 10, 19), 218.06, 221.26, 217.43, 219.31, 214.22, 'Apple'], [datetime.date(2018, 10, 22), 219.79, 223.36, 218.94, 220.65, 215.53, 'Apple'], [datetime.date(2018, 10, 23), 215.83, 223.25, 214.7, 222.73, 217.56, 'Apple'], [datetime.date(2018, 10, 24), 222.6, 224.23, 214.54, 215.09, 210.09, 'Apple'], [datetime.date(2018, 10, 25), 217.71, 221.38, 216.75, 219.8, 214.7, 'Apple'], [datetime.date(2018, 10, 26), 215.9, 220.19, 212.67, 216.3, 211.28, 'Apple'], [datetime.date(2018, 10, 29), 219.19, 219.69, 206.09, 212.24, 207.31, 'Apple'], [datetime.date(2018, 10, 30), 211.15, 215.18, 209.27, 213.3, 208.35, 'Apple'], [datetime.date(2018, 10, 31), 216.88, 220.45, 216.62, 218.86, 213.78, 'Apple'], [datetime.date(2018, 11, 1), 219.05, 222.36, 216.81, 222.22, 217.06, 'Apple'], [datetime.date(2018, 11, 2), 209.55, 213.65, 205.43, 207.48, 202.66, 'Apple'], [datetime.date(2018, 11, 5), 204.3, 204.39, 198.17, 201.59, 196.91, 'Apple'], [datetime.date(2018, 11, 6), 201.92, 204.72, 201.69, 203.77, 199.04, 'Apple'], [datetime.date(2018, 11, 7), 205.97, 210.06, 204.13, 209.95, 205.07, 'Apple'], [datetime.date(2018, 11, 8), 209.98, 210.12, 206.75, 208.49, 204.36, 'Apple'], [datetime.date(2018, 11, 9), 205.55, 206.01, 202.25, 204.47, 200.42, 'Apple'], [datetime.date(2018, 11, 12), 199.0, 199.85, 193.79, 194.17, 190.32, 'Apple'], [datetime.date(2018, 11, 13), 191.63, 197.18, 191.45, 192.23, 188.42, 'Apple'], [datetime.date(2018, 11, 14), 193.9, 194.48, 185.93, 186.8, 183.1, 'Apple'], [datetime.date(2018, 11, 15), 188.39, 191.97, 186.9, 191.41, 187.62, 'Apple'], [datetime.date(2018, 11, 16), 190.5, 194.97, 189.46, 193.53, 189.7, 'Apple'], [datetime.date(2018, 11, 19), 190.0, 190.7, 184.99, 185.86, 182.18, 'Apple'], [datetime.date(2018, 11, 20), 178.37, 181.47, 175.51, 176.98, 173.48, 'Apple'], [datetime.date(2018, 11, 21), 179.73, 180.27, 176.55, 176.78, 173.28, 'Apple'], [datetime.date(2018, 11, 23), 174.94, 176.6, 172.1, 172.29, 168.88, 'Apple'], [datetime.date(2018, 11, 26), 174.24, 174.95, 170.26, 174.62, 171.16, 'Apple'], [datetime.date(2018, 11, 27), 171.51, 174.77, 170.88, 174.24, 170.79, 'Apple'], [datetime.date(2018, 11, 28), 176.73, 181.29, 174.93, 180.94, 177.36, 'Apple'], [datetime.date(2018, 11, 29), 182.66, 182.8, 177.7, 179.55, 175.99, 'Apple'], [datetime.date(2018, 11, 30), 180.29, 180.33, 177.03, 178.58, 175.04, 'Apple'], [datetime.date(2018, 12, 3), 184.46, 184.94, 181.21, 184.82, 181.16, 'Apple'], [datetime.date(2018, 12, 4), 180.95, 182.39, 176.27, 176.69, 173.19, 'Apple'], [datetime.date(2018, 12, 6), 171.76, 174.78, 170.42, 174.72, 171.26, 'Apple'], [datetime.date(2018, 12, 7), 173.49, 174.49, 168.3, 168.49, 165.15, 'Apple'], [datetime.date(2018, 12, 10), 165.0, 170.09, 163.33, 169.6, 166.24, 'Apple'], [datetime.date(2018, 12, 11), 171.66, 171.79, 167.0, 168.63, 165.29, 'Apple'], [datetime.date(2018, 12, 12), 170.4, 171.92, 169.02, 169.1, 165.75, 'Apple'], [datetime.date(2018, 12, 13), 170.49, 172.57, 169.55, 170.95, 167.56, 'Apple'], [datetime.date(2018, 12, 14), 169.0, 169.08, 165.28, 165.48, 162.2, 'Apple'], [datetime.date(2018, 12, 17), 165.45, 168.35, 162.73, 163.94, 160.69, 'Apple'], [datetime.date(2018, 12, 18), 165.38, 167.53, 164.39, 166.07, 162.78, 'Apple'], [datetime.date(2018, 12, 19), 166.0, 167.45, 159.09, 160.89, 157.7, 'Apple'], [datetime.date(2018, 12, 20), 160.4, 162.11, 155.3, 156.83, 153.72, 'Apple'], [datetime.date(2018, 12, 21), 156.86, 158.16, 149.63, 150.73, 147.74, 'Apple'], [datetime.date(2018, 12, 24), 148.15, 151.55, 146.59, 146.83, 143.92, 'Apple'], [datetime.date(2018, 12, 26), 148.3, 157.23, 146.72, 157.17, 154.06, 'Apple'], [datetime.date(2018, 12, 27), 155.84, 156.77, 150.07, 156.15, 153.06, 'Apple'], [datetime.date(2018, 12, 28), 157.5, 158.52, 154.55, 156.23, 153.14, 'Apple'], [datetime.date(2018, 12, 31), 158.53, 159.36, 156.48, 157.74, 154.62, 'Apple'], [datetime.date(2019, 1, 2), 154.89, 158.85, 154.23, 157.92, 154.79, 'Apple'], [datetime.date(2019, 1, 3), 143.98, 145.72, 142.0, 142.19, 139.37, 'Apple'], [datetime.date(2019, 1, 4), 144.53, 148.55, 143.8, 148.26, 145.32, 'Apple'], [datetime.date(2019, 1, 7), 148.7, 148.83, 145.9, 147.93, 145.0, 'Apple'], [datetime.date(2019, 1, 8), 149.56, 151.82, 148.52, 150.75, 147.76, 'Apple'], [datetime.date(2019, 1, 9), 151.29, 154.53, 149.63, 153.31, 150.27, 'Apple'], [datetime.date(2019, 1, 10), 152.5, 153.97, 150.86, 153.8, 150.75, 'Apple'], [datetime.date(2019, 1, 11), 152.88, 153.7, 151.51, 152.29, 149.27, 'Apple'], [datetime.date(2019, 1, 14), 150.85, 151.27, 149.22, 150.0, 147.03, 'Apple'], [datetime.date(2019, 1, 15), 150.27, 153.39, 150.05, 153.07, 150.04, 'Apple'], [datetime.date(2019, 1, 16), 153.08, 155.88, 153.0, 154.94, 151.87, 'Apple'], [datetime.date(2019, 1, 17), 154.2, 157.66, 153.26, 155.86, 152.77, 'Apple'], [datetime.date(2019, 1, 18), 157.5, 157.88, 155.98, 156.82, 153.71, 'Apple'], [datetime.date(2019, 1, 22), 156.41, 156.73, 152.62, 153.3, 150.26, 'Apple'], [datetime.date(2019, 1, 23), 154.15, 155.14, 151.7, 153.92, 150.87, 'Apple'], [datetime.date(2019, 1, 24), 154.11, 154.48, 151.74, 152.7, 149.68, 'Apple'], [datetime.date(2019, 1, 25), 155.48, 158.13, 154.32, 157.76, 154.64, 'Apple'], [datetime.date(2019, 1, 28), 155.79, 156.33, 153.66, 156.3, 153.2, 'Apple'], [datetime.date(2019, 1, 29), 156.25, 158.13, 154.11, 154.68, 151.62, 'Apple'], [datetime.date(2019, 1, 30), 163.25, 166.15, 160.23, 165.25, 161.98, 'Apple'], [datetime.date(2019, 1, 31), 166.11, 169.0, 164.56, 166.44, 163.14, 'Apple'], [datetime.date(2019, 2, 1), 166.96, 168.98, 165.93, 166.52, 163.22, 'Apple'], [datetime.date(2019, 2, 4), 167.41, 171.66, 167.28, 171.25, 167.86, 'Apple'], [datetime.date(2019, 2, 5), 172.86, 175.08, 172.35, 174.18, 170.73, 'Apple'], [datetime.date(2019, 2, 6), 174.65, 175.57, 172.85, 174.24, 170.79, 'Apple'], [datetime.date(2019, 2, 7), 172.4, 173.94, 170.34, 170.94, 167.55, 'Apple'], [datetime.date(2019, 2, 8), 168.99, 170.66, 168.42, 170.41, 167.75, 'Apple'], [datetime.date(2019, 2, 11), 171.05, 171.21, 169.25, 169.43, 166.79, 'Apple'], [datetime.date(2019, 2, 12), 170.1, 171.0, 169.7, 170.89, 168.22, 'Apple'], [datetime.date(2019, 2, 13), 171.39, 172.48, 169.92, 170.18, 167.52, 'Apple'], [datetime.date(2019, 2, 14), 169.71, 171.26, 169.38, 170.8, 168.13, 'Apple'], [datetime.date(2019, 2, 15), 171.25, 171.7, 169.75, 170.42, 167.76, 'Apple'], [datetime.date(2019, 2, 19), 169.71, 171.44, 169.49, 170.93, 168.26, 'Apple'], [datetime.date(2019, 2, 20), 171.19, 173.32, 170.99, 172.03, 169.35, 'Apple'], [datetime.date(2019, 2, 21), 171.8, 172.37, 170.3, 171.06, 168.39, 'Apple'], [datetime.date(2019, 2, 22), 171.58, 173.0, 171.38, 172.97, 170.27, 'Apple'], [datetime.date(2019, 2, 25), 174.16, 175.87, 173.95, 174.23, 171.51, 'Apple'], [datetime.date(2019, 2, 26), 173.71, 175.3, 173.17, 174.33, 171.61, 'Apple'], [datetime.date(2019, 2, 27), 173.21, 175.0, 172.73, 174.87, 172.14, 'Apple'], [datetime.date(2019, 2, 28), 174.32, 174.91, 172.92, 173.15, 170.45, 'Apple'], [datetime.date(2019, 3, 1), 174.28, 175.15, 172.89, 174.97, 172.24, 'Apple'], [datetime.date(2019, 3, 4), 175.69, 177.75, 173.97, 175.85, 173.11, 'Apple'], [datetime.date(2019, 3, 5), 175.94, 176.0, 174.54, 175.53, 172.79, 'Apple'], [datetime.date(2019, 3, 6), 174.67, 175.49, 173.94, 174.52, 171.8, 'Apple'], [datetime.date(2019, 3, 7), 173.87, 174.44, 172.02, 172.5, 169.81, 'Apple'], [datetime.date(2019, 3, 8), 170.32, 173.07, 169.5, 172.91, 170.21, 'Apple'], [datetime.date(2019, 3, 11), 175.49, 179.12, 175.35, 178.9, 176.11, 'Apple'], [datetime.date(2019, 3, 12), 180.0, 182.67, 179.37, 180.91, 178.09, 'Apple'], [datetime.date(2019, 3, 13), 182.25, 183.3, 180.92, 181.71, 178.87, 'Apple'], [datetime.date(2019, 3, 14), 183.9, 184.1, 182.56, 183.73, 180.86, 'Apple'], [datetime.date(2019, 3, 15), 184.85, 187.33, 183.74, 186.12, 183.22, 'Apple'], [datetime.date(2019, 3, 18), 185.8, 188.39, 185.79, 188.02, 185.09, 'Apple'], [datetime.date(2019, 3, 19), 188.35, 188.99, 185.92, 186.53, 183.62, 'Apple'], [datetime.date(2019, 3, 20), 186.23, 189.49, 184.73, 188.16, 185.22, 'Apple'], [datetime.date(2019, 3, 21), 190.02, 196.33, 189.81, 195.09, 192.05, 'Apple'], [datetime.date(2019, 3, 22), 195.34, 197.69, 190.78, 191.05, 188.07, 'Apple'], [datetime.date(2019, 3, 25), 191.51, 191.98, 186.6, 188.74, 185.79, 'Apple'], [datetime.date(2019, 3, 26), 191.66, 192.88, 184.58, 186.79, 183.88, 'Apple'], [datetime.date(2019, 3, 27), 188.75, 189.76, 186.55, 188.47, 185.53, 'Apple'], [datetime.date(2019, 3, 28), 188.95, 189.56, 187.53, 188.72, 185.77, 'Apple'], [datetime.date(2019, 3, 29), 189.83, 190.08, 188.54, 189.95, 186.99, 'Apple'], [datetime.date(2019, 4, 1), 191.64, 191.68, 188.38, 191.24, 188.26, 'Apple'], [datetime.date(2019, 4, 2), 191.09, 194.46, 191.05, 194.02, 190.99, 'Apple'], [datetime.date(2019, 4, 3), 193.25, 196.5, 193.15, 195.35, 192.3, 'Apple'], [datetime.date(2019, 4, 4), 194.79, 196.37, 193.14, 195.69, 192.64, 'Apple'], [datetime.date(2019, 4, 5), 196.45, 197.1, 195.93, 197.0, 193.93, 'Apple'], [datetime.date(2019, 4, 8), 196.42, 200.23, 196.34, 200.1, 196.98, 'Apple'], [datetime.date(2019, 4, 9), 200.32, 202.85, 199.23, 199.5, 196.39, 'Apple'], [datetime.date(2019, 4, 10), 198.68, 200.74, 198.18, 200.62, 197.49, 'Apple'], [datetime.date(2019, 4, 11), 200.85, 201.0, 198.44, 198.95, 195.85, 'Apple'], [datetime.date(2019, 4, 12), 199.2, 200.14, 196.21, 198.87, 195.77, 'Apple'], [datetime.date(2019, 4, 15), 198.58, 199.85, 198.01, 199.23, 196.12, 'Apple'], [datetime.date(2019, 4, 16), 199.46, 201.37, 198.56, 199.25, 196.14, 'Apple'], [datetime.date(2019, 4, 17), 199.54, 203.38, 198.61, 203.13, 199.96, 'Apple'], [datetime.date(2019, 4, 18), 203.12, 204.15, 202.52, 203.86, 200.68, 'Apple'], [datetime.date(2019, 4, 22), 202.83, 204.94, 202.34, 204.53, 201.34, 'Apple'], [datetime.date(2019, 4, 23), 204.43, 207.75, 203.9, 207.48, 204.24, 'Apple'], [datetime.date(2019, 4, 24), 207.36, 208.48, 207.05, 207.16, 203.93, 'Apple'], [datetime.date(2019, 4, 25), 206.83, 207.76, 205.12, 205.28, 202.08, 'Apple'], [datetime.date(2019, 4, 26), 204.9, 205.0, 202.12, 204.3, 201.11, 'Apple'], [datetime.date(2019, 4, 29), 204.4, 205.97, 203.86, 204.61, 201.42, 'Apple'], [datetime.date(2019, 4, 30), 203.06, 203.4, 199.11, 200.67, 197.54, 'Apple'], [datetime.date(2019, 5, 1), 209.88, 215.31, 209.23, 210.52, 207.23, 'Apple'], [datetime.date(2019, 5, 2), 209.84, 212.65, 208.13, 209.15, 205.89, 'Apple'], [datetime.date(2019, 5, 3), 210.89, 211.84, 210.23, 211.75, 208.45, 'Apple'], [datetime.date(2019, 5, 6), 204.29, 208.84, 203.5, 208.48, 205.23, 'Apple'], [datetime.date(2019, 5, 7), 205.88, 207.42, 200.82, 202.86, 199.69, 'Apple'], [datetime.date(2019, 5, 8), 201.9, 205.34, 201.75, 202.9, 199.73, 'Apple'], [datetime.date(2019, 5, 9), 200.4, 201.68, 196.66, 200.72, 197.59, 'Apple'], [datetime.date(2019, 5, 10), 197.42, 198.85, 192.77, 197.18, 194.86, 'Apple'], [datetime.date(2019, 5, 13), 187.71, 189.48, 182.85, 185.72, 183.54, 'Apple'], [datetime.date(2019, 5, 14), 186.41, 189.7, 185.41, 188.66, 186.44, 'Apple'], [datetime.date(2019, 5, 15), 186.27, 191.75, 186.02, 190.92, 188.67, 'Apple'], [datetime.date(2019, 5, 16), 189.91, 192.47, 188.84, 190.08, 187.84, 'Apple'], [datetime.date(2019, 5, 17), 186.93, 190.9, 186.76, 189.0, 186.78, 'Apple'], [datetime.date(2019, 5, 20), 183.52, 184.35, 180.28, 183.09, 180.94, 'Apple'], [datetime.date(2019, 5, 21), 185.22, 188.0, 184.7, 186.6, 184.41, 'Apple'], [datetime.date(2019, 5, 22), 184.66, 185.71, 182.55, 182.78, 180.63, 'Apple'], [datetime.date(2019, 5, 23), 179.8, 180.54, 177.81, 179.66, 177.55, 'Apple'], [datetime.date(2019, 5, 24), 180.2, 182.14, 178.62, 178.97, 176.87, 'Apple'], [datetime.date(2019, 5, 28), 178.92, 180.59, 177.91, 178.23, 176.13, 'Apple'], [datetime.date(2019, 5, 29), 176.42, 179.35, 176.0, 177.38, 175.29, 'Apple'], [datetime.date(2019, 5, 30), 177.95, 179.23, 176.67, 178.3, 176.2, 'Apple'], [datetime.date(2019, 5, 31), 176.23, 177.99, 174.99, 175.07, 173.01, 'Apple'], [datetime.date(2019, 6, 3), 175.6, 177.92, 170.27, 173.3, 171.26, 'Apple'], [datetime.date(2019, 6, 4), 175.44, 179.83, 174.52, 179.64, 177.53, 'Apple'], [datetime.date(2019, 6, 5), 184.28, 184.99, 181.14, 182.54, 180.39, 'Apple'], [datetime.date(2019, 6, 6), 183.08, 185.47, 182.15, 185.22, 183.04, 'Apple'], [datetime.date(2019, 6, 7), 186.51, 191.92, 185.77, 190.15, 187.91, 'Apple'], [datetime.date(2019, 6, 10), 191.81, 195.37, 191.62, 192.58, 190.31, 'Apple'], [datetime.date(2019, 6, 11), 194.86, 196.0, 193.6, 194.81, 192.52, 'Apple'], [datetime.date(2019, 6, 12), 193.95, 195.97, 193.38, 194.19, 191.91, 'Apple'], [datetime.date(2019, 6, 13), 194.7, 196.79, 193.6, 194.15, 191.87, 'Apple'], [datetime.date(2019, 6, 14), 191.54, 193.59, 190.3, 192.74, 190.47, 'Apple'], [datetime.date(2019, 6, 17), 192.9, 194.96, 192.17, 193.89, 191.61, 'Apple'], [datetime.date(2019, 6, 18), 196.05, 200.29, 195.21, 198.45, 196.12, 'Apple'], [datetime.date(2019, 6, 19), 199.68, 199.88, 197.31, 197.87, 195.54, 'Apple'], [datetime.date(2019, 6, 20), 200.37, 200.61, 198.03, 199.46, 197.11, 'Apple'], [datetime.date(2019, 6, 21), 198.8, 200.85, 198.15, 198.78, 196.44, 'Apple'], [datetime.date(2019, 6, 24), 198.54, 200.16, 198.17, 198.58, 196.24, 'Apple'], [datetime.date(2019, 6, 25), 198.43, 199.26, 195.29, 195.57, 193.27, 'Apple'], [datetime.date(2019, 6, 26), 197.77, 200.99, 197.35, 199.8, 197.45, 'Apple'], [datetime.date(2019, 6, 27), 200.29, 201.57, 199.57, 199.74, 197.39, 'Apple'], [datetime.date(2019, 6, 28), 198.68, 199.5, 197.05, 197.92, 195.59, 'Apple'], [datetime.date(2019, 7, 1), 203.17, 204.49, 200.65, 201.55, 199.18, 'Apple'], [datetime.date(2019, 7, 2), 201.41, 203.13, 201.36, 202.73, 200.35, 'Apple'], [datetime.date(2019, 7, 3), 203.28, 204.44, 202.69, 204.41, 202.01, 'Apple'], [datetime.date(2019, 7, 5), 203.35, 205.08, 202.9, 204.23, 201.83, 'Apple'], [datetime.date(2019, 7, 8), 200.81, 201.4, 198.41, 200.02, 197.67, 'Apple'], [datetime.date(2019, 7, 9), 199.2, 201.51, 198.81, 201.24, 198.87, 'Apple'], [datetime.date(2019, 7, 10), 201.85, 203.73, 201.56, 203.23, 200.84, 'Apple'], [datetime.date(2019, 7, 11), 203.31, 204.39, 201.71, 201.75, 199.38, 'Apple'], [datetime.date(2019, 7, 12), 202.45, 204.0, 202.2, 203.3, 200.91, 'Apple'], [datetime.date(2019, 7, 15), 204.09, 205.87, 204.0, 205.21, 202.8, 'Apple'], [datetime.date(2019, 7, 16), 204.59, 206.11, 203.5, 204.5, 202.09, 'Apple'], [datetime.date(2019, 7, 17), 204.05, 205.09, 203.27, 203.35, 200.96, 'Apple'], [datetime.date(2019, 7, 18), 204.0, 205.88, 203.7, 205.66, 203.24, 'Apple'], [datetime.date(2019, 7, 19), 205.79, 206.5, 202.36, 202.59, 200.21, 'Apple'], [datetime.date(2019, 7, 22), 203.65, 207.23, 203.61, 207.22, 204.78, 'Apple'], [datetime.date(2019, 7, 23), 208.46, 208.91, 207.29, 208.84, 206.38, 'Apple'], [datetime.date(2019, 7, 24), 207.67, 209.15, 207.17, 208.67, 206.22, 'Apple'], [datetime.date(2019, 7, 25), 208.89, 209.24, 206.73, 207.02, 204.59, 'Apple'], [datetime.date(2019, 7, 26), 207.48, 209.73, 207.14, 207.74, 205.3, 'Apple'], [datetime.date(2019, 7, 29), 208.46, 210.64, 208.44, 209.68, 207.21, 'Apple'], [datetime.date(2019, 7, 30), 208.76, 210.16, 207.31, 208.78, 206.32, 'Apple'], [datetime.date(2019, 7, 31), 216.42, 221.37, 211.3, 213.04, 210.53, 'Apple'], [datetime.date(2019, 8, 1), 213.9, 218.03, 206.74, 208.43, 205.98, 'Apple'], [datetime.date(2019, 8, 2), 205.53, 206.43, 201.63, 204.02, 201.62, 'Apple'], [datetime.date(2019, 8, 5), 197.99, 198.65, 192.58, 193.34, 191.07, 'Apple'], [datetime.date(2019, 8, 6), 196.31, 198.07, 194.04, 197.0, 194.68, 'Apple'], [datetime.date(2019, 8, 7), 195.41, 199.56, 193.82, 199.04, 196.7, 'Apple'], [datetime.date(2019, 8, 8), 200.2, 203.53, 199.39, 203.43, 201.04, 'Apple'], [datetime.date(2019, 8, 9), 201.3, 202.76, 199.29, 200.99, 199.39, 'Apple'], [datetime.date(2019, 8, 12), 199.62, 202.05, 199.15, 200.48, 198.88, 'Apple'], [datetime.date(2019, 8, 13), 201.02, 212.14, 200.83, 208.97, 207.3, 'Apple'], [datetime.date(2019, 8, 14), 203.16, 206.44, 202.59, 202.75, 201.13, 'Apple'], [datetime.date(2019, 8, 15), 203.46, 205.14, 199.67, 201.74, 200.13, 'Apple'], [datetime.date(2019, 8, 16), 204.28, 207.16, 203.84, 206.5, 204.85, 'Apple'], [datetime.date(2019, 8, 19), 210.62, 212.73, 210.02, 210.35, 208.67, 'Apple'], [datetime.date(2019, 8, 20), 210.88, 213.35, 210.32, 210.36, 208.68, 'Apple'], [datetime.date(2019, 8, 21), 212.99, 213.65, 211.6, 212.64, 210.94, 'Apple'], [datetime.date(2019, 8, 22), 213.19, 214.44, 210.75, 212.46, 210.77, 'Apple'], [datetime.date(2019, 8, 23), 209.43, 212.05, 201.0, 202.64, 201.02, 'Apple'], [datetime.date(2019, 8, 26), 205.86, 207.19, 205.06, 206.49, 204.84, 'Apple'], [datetime.date(2019, 8, 27), 207.86, 208.55, 203.53, 204.16, 202.53, 'Apple'], [datetime.date(2019, 8, 28), 204.1, 205.72, 203.32, 205.53, 203.89, 'Apple'], [datetime.date(2019, 8, 29), 208.5, 209.32, 206.66, 209.01, 207.34, 'Apple'], [datetime.date(2019, 8, 30), 210.16, 210.45, 207.2, 208.74, 207.08, 'Apple'], [datetime.date(2019, 9, 3), 206.43, 206.98, 204.22, 205.7, 204.06, 'Apple'], [datetime.date(2019, 9, 4), 208.39, 209.48, 207.32, 209.19, 207.52, 'Apple'], [datetime.date(2019, 9, 5), 212.0, 213.97, 211.51, 213.28, 211.58, 'Apple'], [datetime.date(2019, 9, 6), 214.05, 214.42, 212.51, 213.26, 211.56, 'Apple'], [datetime.date(2019, 9, 9), 214.84, 216.44, 211.07, 214.17, 212.46, 'Apple'], [datetime.date(2019, 9, 10), 213.86, 216.78, 211.71, 216.7, 214.97, 'Apple'], [datetime.date(2019, 9, 11), 218.07, 223.71, 217.73, 223.59, 221.81, 'Apple'], [datetime.date(2019, 9, 12), 224.8, 226.42, 222.86, 223.08, 221.31, 'Apple'], [datetime.date(2019, 9, 13), 220.0, 220.79, 217.02, 218.75, 217.01, 'Apple'], [datetime.date(2019, 9, 16), 217.73, 220.13, 217.56, 219.9, 218.15, 'Apple'], [datetime.date(2019, 9, 17), 219.96, 220.82, 219.12, 220.7, 218.94, 'Apple'], [datetime.date(2019, 9, 18), 221.06, 222.85, 219.44, 222.77, 220.99, 'Apple'], [datetime.date(2019, 9, 19), 222.01, 223.76, 220.37, 220.96, 219.2, 'Apple'], [datetime.date(2019, 9, 20), 221.38, 222.56, 217.47, 217.73, 215.99, 'Apple'], [datetime.date(2019, 9, 23), 218.95, 219.84, 217.65, 218.72, 216.98, 'Apple'], [datetime.date(2019, 9, 24), 221.06, 222.49, 217.19, 217.68, 215.94, 'Apple'], [datetime.date(2019, 9, 25), 218.55, 221.5, 217.14, 221.03, 219.27, 'Apple'], [datetime.date(2019, 9, 26), 220.0, 220.94, 218.83, 219.89, 218.14, 'Apple'], [datetime.date(2019, 9, 27), 220.54, 220.96, 217.28, 218.82, 217.07, 'Apple'], [datetime.date(2019, 9, 30), 220.9, 224.58, 220.79, 223.97, 222.18, 'Apple'], [datetime.date(2019, 10, 1), 225.07, 228.22, 224.2, 224.59, 222.8, 'Apple'], [datetime.date(2019, 10, 2), 223.06, 223.58, 217.93, 218.96, 217.21, 'Apple'], [datetime.date(2019, 10, 3), 218.43, 220.96, 215.13, 220.82, 219.06, 'Apple'], [datetime.date(2019, 10, 4), 225.64, 227.49, 223.89, 227.01, 225.2, 'Apple'], [datetime.date(2019, 10, 7), 226.27, 229.93, 225.84, 227.06, 225.25, 'Apple'], [datetime.date(2019, 10, 8), 225.82, 228.06, 224.33, 224.4, 222.61, 'Apple'], [datetime.date(2019, 10, 9), 227.03, 227.79, 225.64, 227.03, 225.22, 'Apple'], [datetime.date(2019, 10, 10), 227.93, 230.44, 227.3, 230.09, 228.25, 'Apple'], [datetime.date(2019, 10, 11), 232.95, 237.64, 232.31, 236.21, 234.33, 'Apple'], [datetime.date(2019, 10, 14), 234.9, 238.13, 234.67, 235.87, 233.99, 'Apple'], [datetime.date(2019, 10, 15), 236.39, 237.65, 234.88, 235.32, 233.44, 'Apple'], [datetime.date(2019, 10, 16), 233.37, 235.24, 233.2, 234.37, 232.5, 'Apple'], [datetime.date(2019, 10, 17), 235.09, 236.15, 233.52, 235.28, 233.4, 'Apple'], [datetime.date(2019, 10, 18), 234.59, 237.58, 234.29, 236.41, 234.52, 'Apple'], [datetime.date(2019, 10, 21), 237.52, 240.99, 237.32, 240.51, 238.59, 'Apple'], [datetime.date(2019, 10, 22), 241.16, 242.2, 239.62, 239.96, 238.05, 'Apple'], [datetime.date(2019, 10, 23), 242.1, 243.24, 241.22, 243.18, 241.24, 'Apple'], [datetime.date(2019, 10, 24), 244.51, 244.8, 241.8, 243.58, 241.64, 'Apple'], [datetime.date(2019, 10, 25), 243.16, 246.73, 242.88, 246.58, 244.61, 'Apple'], [datetime.date(2019, 10, 28), 247.42, 249.25, 246.72, 249.05, 247.06, 'Apple'], [datetime.date(2019, 10, 29), 248.97, 249.75, 242.57, 243.29, 241.35, 'Apple'], [datetime.date(2019, 10, 30), 244.76, 245.3, 241.21, 243.26, 241.32, 'Apple'], [datetime.date(2019, 10, 31), 247.24, 249.17, 237.26, 248.76, 246.78, 'Apple'], [datetime.date(2019, 11, 1), 249.54, 255.93, 249.16, 255.82, 253.78, 'Apple'], [datetime.date(2019, 11, 4), 257.33, 257.85, 255.38, 257.5, 255.45, 'Apple'], [datetime.date(2019, 11, 5), 257.05, 258.19, 256.32, 257.13, 255.08, 'Apple'], [datetime.date(2019, 11, 6), 256.77, 257.49, 255.36, 257.24, 255.19, 'Apple'], [datetime.date(2019, 11, 7), 258.74, 260.35, 258.11, 259.43, 258.12, 'Apple'], [datetime.date(2019, 11, 8), 258.69, 260.44, 256.85, 260.14, 258.83, 'Apple'], [datetime.date(2019, 11, 11), 258.3, 262.47, 258.28, 262.2, 260.88, 'Apple'], [datetime.date(2019, 11, 12), 261.55, 262.79, 260.92, 261.96, 260.64, 'Apple'], [datetime.date(2019, 11, 13), 261.13, 264.78, 261.07, 264.47, 263.14, 'Apple'], [datetime.date(2019, 11, 14), 263.75, 264.88, 262.1, 262.64, 261.32, 'Apple'], [datetime.date(2019, 11, 15), 263.68, 265.78, 263.01, 265.76, 264.42, 'Apple'], [datetime.date(2019, 11, 18), 265.8, 267.43, 264.23, 267.1, 265.76, 'Apple'], [datetime.date(2019, 11, 19), 267.9, 268.0, 265.39, 266.29, 264.95, 'Apple'], [datetime.date(2019, 11, 20), 265.54, 266.08, 260.4, 263.19, 261.87, 'Apple'], [datetime.date(2019, 11, 21), 263.69, 264.0, 261.18, 262.01, 260.69, 'Apple'], [datetime.date(2019, 11, 22), 262.59, 263.18, 260.84, 261.78, 260.46, 'Apple'], [datetime.date(2019, 11, 25), 262.71, 266.44, 262.52, 266.37, 265.03, 'Apple'], [datetime.date(2019, 11, 26), 266.94, 267.16, 262.5, 264.29, 262.96, 'Apple'], [datetime.date(2019, 11, 27), 265.58, 267.98, 265.31, 267.84, 266.49, 'Apple'], [datetime.date(2019, 11, 29), 266.6, 268.0, 265.9, 267.25, 265.91, 'Apple'], [datetime.date(2019, 12, 2), 267.27, 268.25, 263.45, 264.16, 262.83, 'Apple'], [datetime.date(2019, 12, 3), 258.31, 259.53, 256.29, 259.45, 258.14, 'Apple'], [datetime.date(2019, 12, 4), 261.07, 263.31, 260.68, 261.74, 260.42, 'Apple'], [datetime.date(2019, 12, 5), 263.79, 265.89, 262.73, 265.58, 264.24, 'Apple'], [datetime.date(2019, 12, 6), 267.48, 271.0, 267.3, 270.71, 269.35, 'Apple'], [datetime.date(2019, 12, 9), 270.0, 270.8, 264.91, 266.92, 265.58, 'Apple'], [datetime.date(2019, 12, 10), 268.6, 270.07, 265.86, 268.48, 267.13, 'Apple'], [datetime.date(2019, 12, 11), 268.81, 271.1, 268.5, 270.77, 269.41, 'Apple'], [datetime.date(2019, 12, 12), 267.78, 272.56, 267.32, 271.46, 270.09, 'Apple'], [datetime.date(2019, 12, 13), 271.46, 275.3, 270.93, 275.15, 273.77, 'Apple'], [datetime.date(2019, 12, 16), 277.0, 280.79, 276.98, 279.86, 278.45, 'Apple'], [datetime.date(2019, 12, 17), 279.57, 281.77, 278.8, 280.41, 279.0, 'Apple'], [datetime.date(2019, 12, 18), 279.8, 281.9, 279.12, 279.74, 278.33, 'Apple'], [datetime.date(2019, 12, 19), 279.5, 281.18, 278.95, 280.02, 278.61, 'Apple'], [datetime.date(2019, 12, 20), 282.23, 282.65, 278.56, 279.44, 278.03, 'Apple'], [datetime.date(2019, 12, 23), 280.53, 284.25, 280.37, 284.0, 282.57, 'Apple'], [datetime.date(2019, 12, 24), 284.69, 284.89, 282.92, 284.27, 282.84, 'Apple'], [datetime.date(2019, 12, 26), 284.82, 289.98, 284.7, 289.91, 288.45, 'Apple'], [datetime.date(2019, 12, 27), 291.12, 293.97, 288.12, 289.8, 288.34, 'Apple'], [datetime.date(2019, 12, 30), 289.46, 292.69, 285.22, 291.52, 290.05, 'Apple'], [datetime.date(2019, 12, 31), 289.93, 293.68, 289.52, 293.65, 292.17, 'Apple'], [datetime.date(2020, 1, 2), 296.24, 300.6, 295.19, 300.35, 298.84, 'Apple'], [datetime.date(2020, 1, 3), 297.15, 300.58, 296.5, 297.43, 295.93, 'Apple'], [datetime.date(2020, 1, 6), 293.79, 299.96, 292.75, 299.8, 298.29, 'Apple'], [datetime.date(2020, 1, 7), 299.84, 300.9, 297.48, 298.39, 296.89, 'Apple'], [datetime.date(2020, 1, 8), 297.16, 304.44, 297.16, 303.19, 301.66, 'Apple'], [datetime.date(2020, 1, 9), 307.24, 310.43, 306.2, 309.63, 308.07, 'Apple'], [datetime.date(2020, 1, 10), 310.6, 312.67, 308.25, 310.33, 308.77, 'Apple'], [datetime.date(2020, 1, 13), 311.64, 317.07, 311.15, 316.96, 315.37, 'Apple'], [datetime.date(2020, 1, 14), 316.7, 317.57, 312.17, 312.68, 311.11, 'Apple'], [datetime.date(2020, 1, 15), 311.85, 315.5, 309.55, 311.34, 309.77, 'Apple'], [datetime.date(2020, 1, 16), 313.59, 315.7, 312.09, 315.24, 313.65, 'Apple'], [datetime.date(2020, 1, 17), 316.27, 318.74, 315.0, 318.73, 317.13, 'Apple'], [datetime.date(2020, 1, 21), 317.19, 319.02, 316.0, 316.57, 314.98, 'Apple'], [datetime.date(2020, 1, 22), 318.58, 319.99, 317.31, 317.7, 316.1, 'Apple'], [datetime.date(2020, 1, 23), 317.92, 319.56, 315.65, 319.23, 317.62, 'Apple'], [datetime.date(2020, 1, 24), 320.25, 323.33, 317.52, 318.31, 316.71, 'Apple'], [datetime.date(2020, 1, 27), 310.06, 311.77, 304.88, 308.95, 307.4, 'Apple'], [datetime.date(2020, 1, 28), 312.6, 318.4, 312.19, 317.69, 316.09, 'Apple'], [datetime.date(2020, 1, 29), 324.45, 327.85, 321.38, 324.34, 322.71, 'Apple'], [datetime.date(2020, 1, 30), 320.54, 324.09, 318.75, 323.87, 322.24, 'Apple'], [datetime.date(2020, 1, 31), 320.93, 322.68, 308.29, 309.51, 307.95, 'Apple'], [datetime.date(2020, 2, 3), 304.3, 313.49, 302.22, 308.66, 307.11, 'Apple'], [datetime.date(2020, 2, 4), 315.31, 319.64, 313.63, 318.85, 317.25, 'Apple'], [datetime.date(2020, 2, 5), 323.52, 324.76, 318.95, 321.45, 319.83, 'Apple'], [datetime.date(2020, 2, 6), 322.57, 325.22, 320.26, 325.21, 323.57, 'Apple'], [datetime.date(2020, 2, 7), 322.37, 323.4, 318.0, 320.03, 319.19, 'Apple'], [datetime.date(2020, 2, 10), 314.18, 321.55, 313.85, 321.55, 320.7, 'Apple'], [datetime.date(2020, 2, 11), 323.6, 323.9, 318.71, 319.61, 318.77, 'Apple'], [datetime.date(2020, 2, 12), 321.47, 327.22, 321.47, 327.2, 326.34, 'Apple'], [datetime.date(2020, 2, 13), 324.19, 326.22, 323.35, 324.87, 324.01, 'Apple'], [datetime.date(2020, 2, 14), 324.73, 325.98, 322.85, 324.95, 324.09, 'Apple'], [datetime.date(2020, 2, 18), 315.36, 319.75, 314.61, 319.0, 318.16, 'Apple'], [datetime.date(2020, 2, 19), 320.0, 324.57, 320.0, 323.62, 322.77, 'Apple'], [datetime.date(2020, 2, 20), 322.63, 324.65, 318.21, 320.3, 319.46, 'Apple'], [datetime.date(2020, 2, 21), 318.62, 320.45, 310.5, 313.05, 312.22, 'Apple'], [datetime.date(2020, 2, 24), 297.26, 304.18, 289.23, 298.18, 297.39, 'Apple'], [datetime.date(2020, 2, 25), 300.95, 302.53, 286.13, 288.08, 287.32, 'Apple'], [datetime.date(2020, 2, 26), 286.53, 297.88, 286.5, 292.65, 291.88, 'Apple'], [datetime.date(2020, 2, 27), 281.1, 286.0, 272.96, 273.52, 272.8, 'Apple'], [datetime.date(2020, 2, 28), 257.26, 278.41, 256.37, 273.36, 272.64, 'Apple'], [datetime.date(2020, 3, 2), 282.28, 301.44, 277.72, 298.81, 298.02, 'Apple'], [datetime.date(2020, 3, 3), 303.67, 304.0, 285.8, 289.32, 288.56, 'Apple'], [datetime.date(2020, 3, 4), 296.44, 303.4, 293.13, 302.74, 301.94, 'Apple'], [datetime.date(2020, 3, 5), 295.52, 299.55, 291.41, 292.92, 292.15, 'Apple'], [datetime.date(2020, 3, 6), 282.0, 290.82, 281.23, 289.03, 288.27, 'Apple'], [datetime.date(2020, 3, 9), 263.75, 278.09, 263.0, 266.17, 265.47, 'Apple'], [datetime.date(2020, 3, 10), 277.14, 286.44, 269.37, 285.34, 284.59, 'Apple'], [datetime.date(2020, 3, 11), 277.39, 281.22, 271.86, 275.43, 274.7, 'Apple'], [datetime.date(2020, 3, 12), 255.94, 270.0, 248.0, 248.23, 247.58, 'Apple'], [datetime.date(2020, 3, 13), 264.89, 279.92, 252.95, 277.97, 277.24, 'Apple'], [datetime.date(2020, 3, 16), 241.95, 259.08, 240.0, 242.21, 241.57, 'Apple'], [datetime.date(2020, 3, 17), 247.51, 257.61, 238.4, 252.86, 252.19, 'Apple'], [datetime.date(2020, 3, 18), 239.77, 250.0, 237.12, 246.67, 246.02, 'Apple'], [datetime.date(2020, 3, 19), 247.38, 252.84, 242.61, 244.78, 244.13, 'Apple'], [datetime.date(2020, 3, 20), 247.18, 251.83, 228.0, 229.24, 228.64, 'Apple'], [datetime.date(2020, 3, 23), 228.08, 228.5, 212.61, 224.37, 223.78, 'Apple'], [datetime.date(2020, 3, 24), 236.36, 247.69, 234.3, 246.88, 246.23, 'Apple'], [datetime.date(2020, 3, 25), 250.75, 258.25, 244.3, 245.52, 244.87, 'Apple'], [datetime.date(2020, 3, 26), 246.52, 258.68, 246.36, 258.44, 257.76, 'Apple'], [datetime.date(2020, 3, 27), 252.75, 255.87, 247.05, 247.74, 247.09, 'Apple'], [datetime.date(2020, 3, 30), 250.74, 255.52, 249.4, 254.81, 254.14, 'Apple'], [datetime.date(2020, 3, 31), 255.6, 262.49, 252.0, 254.29, 253.62, 'Apple'], [datetime.date(2020, 4, 1), 246.5, 248.72, 239.13, 240.91, 240.27, 'Apple'], [datetime.date(2020, 4, 2), 240.34, 245.15, 236.9, 244.93, 244.28, 'Apple'], [datetime.date(2020, 4, 3), 242.8, 245.7, 238.97, 241.41, 240.77, 'Apple'], [datetime.date(2020, 4, 6), 250.9, 263.11, 249.38, 262.47, 261.78, 'Apple'], [datetime.date(2020, 4, 7), 270.8, 271.7, 259.0, 259.43, 258.75, 'Apple'], [datetime.date(2020, 4, 8), 262.74, 267.37, 261.23, 266.07, 265.37, 'Apple'], [datetime.date(2020, 4, 9), 268.7, 270.07, 264.7, 267.99, 267.28, 'Apple'], [datetime.date(2020, 4, 13), 268.31, 273.7, 265.83, 273.25, 272.53, 'Apple'], [datetime.date(2020, 4, 14), 280.0, 288.25, 278.05, 287.05, 286.29, 'Apple'], [datetime.date(2020, 4, 15), 282.4, 286.33, 280.63, 284.43, 283.68, 'Apple'], [datetime.date(2020, 4, 16), 287.38, 288.2, 282.35, 286.69, 285.93, 'Apple'], [datetime.date(2020, 4, 17), 284.69, 286.94, 276.86, 282.8, 282.05, 'Apple'], [datetime.date(2020, 4, 20), 277.95, 281.68, 276.85, 276.93, 276.2, 'Apple'], [datetime.date(2020, 4, 21), 276.28, 277.25, 265.43, 268.37, 267.66, 'Apple'], [datetime.date(2020, 4, 22), 273.61, 277.9, 272.2, 276.1, 275.37, 'Apple'], [datetime.date(2020, 4, 23), 275.87, 281.75, 274.87, 275.03, 274.3, 'Apple'], [datetime.date(2020, 4, 24), 277.2, 283.01, 277.0, 282.97, 282.22, 'Apple'], [datetime.date(2020, 4, 27), 281.8, 284.54, 279.95, 283.17, 282.42, 'Apple'], [datetime.date(2020, 4, 28), 285.08, 285.83, 278.2, 278.58, 277.85, 'Apple'], [datetime.date(2020, 4, 29), 284.73, 289.67, 283.89, 287.73, 286.97, 'Apple'], [datetime.date(2020, 4, 30), 289.96, 294.53, 288.35, 293.8, 293.03, 'Apple'], [datetime.date(2020, 5, 1), 286.25, 299.0, 285.85, 289.07, 288.31, 'Apple'], [datetime.date(2020, 5, 4), 289.17, 293.69, 286.32, 293.16, 292.39, 'Apple'], [datetime.date(2020, 5, 5), 295.06, 301.0, 294.46, 297.56, 296.78, 'Apple'], [datetime.date(2020, 5, 6), 300.46, 303.24, 298.87, 300.63, 299.84, 'Apple'], [datetime.date(2020, 5, 7), 303.22, 305.17, 301.97, 303.74, 302.94, 'Apple'], [datetime.date(2020, 5, 8), 305.64, 310.35, 304.29, 310.13, 310.13, 'Apple'], [datetime.date(2020, 5, 11), 308.1, 317.05, 307.24, 315.01, 315.01, 'Apple'], [datetime.date(2020, 5, 12), 317.83, 319.69, 310.91, 311.41, 311.41, 'Apple'], [datetime.date(2020, 5, 13), 312.15, 315.95, 303.21, 307.65, 307.65, 'Apple'], [datetime.date(2020, 5, 14), 304.51, 309.79, 301.53, 309.54, 309.54, 'Apple'], [datetime.date(2020, 5, 15), 300.35, 307.9, 300.21, 307.71, 307.71, 'Apple'], [datetime.date(2020, 5, 18), 313.17, 316.5, 310.32, 314.96, 314.96, 'Apple'], [datetime.date(2020, 5, 19), 315.03, 318.52, 313.01, 313.14, 313.14, 'Apple'], [datetime.date(2020, 5, 20), 316.68, 319.52, 316.2, 319.23, 319.23, 'Apple'], [datetime.date(2020, 5, 21), 318.66, 320.89, 315.87, 316.85, 316.85, 'Apple'], [datetime.date(2016, 1, 4), 656.29, 657.72, 627.51, 636.99, 636.99, 'Amazon'], [datetime.date(2016, 1, 5), 646.86, 646.91, 627.65, 633.79, 633.79, 'Amazon'], [datetime.date(2016, 1, 6), 622.0, 639.79, 620.31, 632.65, 632.65, 'Amazon'], [datetime.date(2016, 1, 7), 621.8, 630.0, 605.21, 607.94, 607.94, 'Amazon'], [datetime.date(2016, 1, 8), 619.66, 624.14, 606.0, 607.05, 607.05, 'Amazon'], [datetime.date(2016, 1, 11), 612.48, 619.85, 598.57, 617.74, 617.74, 'Amazon'], [datetime.date(2016, 1, 12), 625.25, 625.99, 612.24, 617.89, 617.89, 'Amazon'], [datetime.date(2016, 1, 13), 620.88, 620.88, 579.16, 581.81, 581.81, 'Amazon'], [datetime.date(2016, 1, 14), 580.25, 602.25, 569.88, 593.0, 593.0, 'Amazon'], [datetime.date(2016, 1, 15), 572.24, 584.62, 565.3, 570.18, 570.18, 'Amazon'], [datetime.date(2016, 1, 19), 577.09, 584.0, 566.45, 574.48, 574.48, 'Amazon'], [datetime.date(2016, 1, 20), 564.36, 578.45, 547.18, 571.77, 571.77, 'Amazon'], [datetime.date(2016, 1, 21), 573.58, 588.81, 568.22, 575.02, 575.02, 'Amazon'], [datetime.date(2016, 1, 22), 588.73, 600.1, 584.11, 596.38, 596.38, 'Amazon'], [datetime.date(2016, 1, 25), 597.99, 608.5, 594.56, 596.53, 596.53, 'Amazon'], [datetime.date(2016, 1, 26), 603.45, 604.5, 590.38, 601.25, 601.25, 'Amazon'], [datetime.date(2016, 1, 27), 601.99, 603.39, 578.78, 583.35, 583.35, 'Amazon'], [datetime.date(2016, 1, 28), 608.37, 638.06, 597.55, 635.35, 635.35, 'Amazon'], [datetime.date(2016, 1, 29), 571.98, 593.0, 570.0, 587.0, 587.0, 'Amazon'], [datetime.date(2016, 2, 1), 578.15, 581.8, 570.31, 574.81, 574.81, 'Amazon'], [datetime.date(2016, 2, 2), 570.0, 571.56, 550.09, 552.1, 552.1, 'Amazon'], [datetime.date(2016, 2, 3), 553.5, 556.0, 521.9, 531.07, 531.07, 'Amazon'], [datetime.date(2016, 2, 4), 525.0, 538.99, 519.22, 536.26, 536.26, 'Amazon'], [datetime.date(2016, 2, 5), 529.28, 529.45, 499.19, 502.13, 502.13, 'Amazon'], [datetime.date(2016, 2, 8), 486.47, 493.5, 475.21, 488.1, 488.1, 'Amazon'], [datetime.date(2016, 2, 9), 478.01, 498.38, 474.0, 482.07, 482.07, 'Amazon'], [datetime.date(2016, 2, 10), 491.76, 504.66, 486.0, 490.48, 490.48, 'Amazon'], [datetime.date(2016, 2, 11), 491.17, 509.3, 484.0, 503.82, 503.82, 'Amazon'], [datetime.date(2016, 2, 12), 510.7, 516.75, 501.49, 507.08, 507.08, 'Amazon'], [datetime.date(2016, 2, 16), 519.48, 524.45, 511.66, 521.1, 521.1, 'Amazon'], [datetime.date(2016, 2, 17), 528.74, 537.48, 519.39, 534.1, 534.1, 'Amazon'], [datetime.date(2016, 2, 18), 541.19, 541.2, 523.73, 525.0, 525.0, 'Amazon'], [datetime.date(2016, 2, 19), 520.71, 535.95, 515.35, 534.9, 534.9, 'Amazon'], [datetime.date(2016, 2, 22), 542.2, 560.65, 541.08, 559.5, 559.5, 'Amazon'], [datetime.date(2016, 2, 23), 555.55, 556.91, 545.33, 552.94, 552.94, 'Amazon'], [datetime.date(2016, 2, 24), 545.75, 554.27, 533.15, 554.04, 554.04, 'Amazon'], [datetime.date(2016, 2, 25), 555.52, 559.39, 545.29, 555.15, 555.15, 'Amazon'], [datetime.date(2016, 2, 26), 560.12, 562.5, 553.17, 555.23, 555.23, 'Amazon'], [datetime.date(2016, 2, 29), 554.0, 564.81, 552.51, 552.52, 552.52, 'Amazon'], [datetime.date(2016, 3, 1), 556.29, 579.25, 556.0, 579.04, 579.04, 'Amazon'], [datetime.date(2016, 3, 2), 581.75, 585.0, 573.7, 580.21, 580.21, 'Amazon'], [datetime.date(2016, 3, 3), 577.96, 579.87, 573.11, 577.49, 577.49, 'Amazon'], [datetime.date(2016, 3, 4), 581.07, 581.4, 571.07, 575.14, 575.14, 'Amazon'], [datetime.date(2016, 3, 7), 573.54, 573.63, 555.55, 562.8, 562.8, 'Amazon'], [datetime.date(2016, 3, 8), 557.87, 571.35, 554.74, 560.26, 560.26, 'Amazon'], [datetime.date(2016, 3, 9), 559.56, 560.35, 550.13, 559.47, 559.47, 'Amazon'], [datetime.date(2016, 3, 10), 566.74, 567.0, 547.9, 558.93, 558.93, 'Amazon'], [datetime.date(2016, 3, 11), 566.95, 570.06, 562.73, 569.61, 569.61, 'Amazon'], [datetime.date(2016, 3, 14), 567.0, 576.89, 563.05, 573.37, 573.37, 'Amazon'], [datetime.date(2016, 3, 15), 571.0, 581.52, 567.0, 577.02, 577.02, 'Amazon'], [datetime.date(2016, 3, 16), 576.64, 581.32, 571.14, 574.27, 574.27, 'Amazon'], [datetime.date(2016, 3, 17), 569.51, 571.4, 555.01, 559.44, 559.44, 'Amazon'], [datetime.date(2016, 3, 18), 560.94, 562.33, 546.09, 552.08, 552.08, 'Amazon'], [datetime.date(2016, 3, 21), 548.91, 555.24, 538.58, 553.98, 553.98, 'Amazon'], [datetime.date(2016, 3, 22), 545.11, 562.76, 545.05, 560.48, 560.48, 'Amazon'], [datetime.date(2016, 3, 23), 561.0, 572.48, 558.1, 569.63, 569.63, 'Amazon'], [datetime.date(2016, 3, 24), 567.11, 583.55, 567.08, 582.95, 582.95, 'Amazon'], [datetime.date(2016, 3, 28), 584.4, 584.75, 575.56, 579.87, 579.87, 'Amazon'], [datetime.date(2016, 3, 29), 580.15, 595.85, 576.5, 593.86, 593.86, 'Amazon'], [datetime.date(2016, 3, 30), 596.71, 603.24, 595.0, 598.69, 598.69, 'Amazon'], [datetime.date(2016, 3, 31), 599.28, 600.75, 592.21, 593.64, 593.64, 'Amazon'], [datetime.date(2016, 4, 1), 590.49, 599.03, 588.3, 598.5, 598.5, 'Amazon'], [datetime.date(2016, 4, 4), 599.0, 599.5, 590.55, 593.19, 593.19, 'Amazon'], [datetime.date(2016, 4, 5), 590.77, 593.47, 585.25, 586.14, 586.14, 'Amazon'], [datetime.date(2016, 4, 6), 587.52, 602.39, 587.5, 602.08, 602.08, 'Amazon'], [datetime.date(2016, 4, 7), 598.76, 599.6, 589.08, 591.43, 591.43, 'Amazon'], [datetime.date(2016, 4, 8), 594.32, 597.86, 589.0, 594.6, 594.6, 'Amazon'], [datetime.date(2016, 4, 11), 596.14, 604.0, 594.91, 595.93, 595.93, 'Amazon'], [datetime.date(2016, 4, 12), 598.4, 604.06, 592.31, 603.17, 603.17, 'Amazon'], [datetime.date(2016, 4, 13), 607.68, 616.81, 605.29, 614.82, 614.82, 'Amazon'], [datetime.date(2016, 4, 14), 615.07, 624.38, 615.07, 620.75, 620.75, 'Amazon'], [datetime.date(2016, 4, 15), 621.92, 626.77, 618.11, 625.89, 625.89, 'Amazon'], [datetime.date(2016, 4, 18), 625.35, 637.64, 624.96, 635.35, 635.35, 'Amazon'], [datetime.date(2016, 4, 19), 637.14, 638.01, 620.8, 627.9, 627.9, 'Amazon'], [datetime.date(2016, 4, 20), 630.0, 636.55, 623.0, 632.99, 632.99, 'Amazon'], [datetime.date(2016, 4, 21), 631.0, 637.82, 628.5, 631.0, 631.0, 'Amazon'], [datetime.date(2016, 4, 22), 624.47, 628.25, 611.56, 620.5, 620.5, 'Amazon'], [datetime.date(2016, 4, 25), 616.61, 626.98, 616.25, 626.2, 626.2, 'Amazon'], [datetime.date(2016, 4, 26), 626.17, 626.75, 614.88, 616.88, 616.88, 'Amazon'], [datetime.date(2016, 4, 27), 611.8, 615.95, 601.28, 606.57, 606.57, 'Amazon'], [datetime.date(2016, 4, 28), 615.54, 626.8, 599.2, 602.0, 602.0, 'Amazon'], [datetime.date(2016, 4, 29), 666.0, 669.98, 654.0, 659.59, 659.59, 'Amazon'], [datetime.date(2016, 5, 2), 663.92, 685.5, 662.03, 683.85, 683.85, 'Amazon'], [datetime.date(2016, 5, 3), 677.36, 680.3, 670.43, 671.32, 671.32, 'Amazon'], [datetime.date(2016, 5, 4), 662.59, 674.0, 662.14, 670.9, 670.9, 'Amazon'], [datetime.date(2016, 5, 5), 673.31, 676.49, 656.0, 659.09, 659.09, 'Amazon'], [datetime.date(2016, 5, 6), 656.05, 676.95, 656.01, 673.95, 673.95, 'Amazon'], [datetime.date(2016, 5, 9), 673.95, 686.98, 671.41, 679.75, 679.75, 'Amazon'], [datetime.date(2016, 5, 10), 694.0, 704.55, 693.5, 703.07, 703.07, 'Amazon'], [datetime.date(2016, 5, 11), 705.79, 719.0, 701.65, 713.23, 713.23, 'Amazon'], [datetime.date(2016, 5, 12), 717.38, 722.45, 711.51, 717.93, 717.93, 'Amazon'], [datetime.date(2016, 5, 13), 714.64, 719.25, 706.51, 709.92, 709.92, 'Amazon'], [datetime.date(2016, 5, 16), 710.13, 713.25, 700.28, 710.66, 710.66, 'Amazon'], [datetime.date(2016, 5, 17), 709.9, 714.47, 693.91, 695.27, 695.27, 'Amazon'], [datetime.date(2016, 5, 18), 689.56, 702.54, 688.76, 697.45, 697.45, 'Amazon'], [datetime.date(2016, 5, 19), 691.88, 699.4, 689.56, 698.52, 698.52, 'Amazon'], [datetime.date(2016, 5, 20), 701.05, 707.24, 700.0, 702.8, 702.8, 'Amazon'], [datetime.date(2016, 5, 23), 704.25, 706.0, 696.42, 696.75, 696.75, 'Amazon'], [datetime.date(2016, 5, 24), 698.01, 707.5, 698.0, 704.2, 704.2, 'Amazon'], [datetime.date(2016, 5, 25), 708.0, 710.86, 705.52, 708.35, 708.35, 'Amazon'], [datetime.date(2016, 5, 26), 708.33, 715.0, 707.29, 714.91, 714.91, 'Amazon'], [datetime.date(2016, 5, 27), 715.0, 716.6, 711.1, 712.24, 712.24, 'Amazon'], [datetime.date(2016, 5, 31), 712.33, 724.23, 711.32, 722.79, 722.79, 'Amazon'], [datetime.date(2016, 6, 1), 720.9, 726.43, 718.22, 719.44, 719.44, 'Amazon'], [datetime.date(2016, 6, 2), 720.97, 728.28, 715.5, 728.24, 728.24, 'Amazon'], [datetime.date(2016, 6, 3), 726.74, 727.0, 718.43, 725.54, 725.54, 'Amazon'], [datetime.date(2016, 6, 6), 726.5, 731.5, 724.42, 726.73, 726.73, 'Amazon'], [datetime.date(2016, 6, 7), 729.89, 730.0, 720.55, 723.74, 723.74, 'Amazon'], [datetime.date(2016, 6, 8), 726.4, 729.42, 721.6, 726.64, 726.64, 'Amazon'], [datetime.date(2016, 6, 9), 723.1, 728.91, 722.3, 727.65, 727.65, 'Amazon'], [datetime.date(2016, 6, 10), 722.35, 724.98, 714.21, 717.91, 717.91, 'Amazon'], [datetime.date(2016, 6, 13), 714.01, 721.99, 711.16, 715.24, 715.24, 'Amazon'], [datetime.date(2016, 6, 14), 712.33, 720.81, 712.27, 719.3, 719.3, 'Amazon'], [datetime.date(2016, 6, 15), 722.0, 722.56, 713.35, 714.26, 714.26, 'Amazon'], [datetime.date(2016, 6, 16), 712.05, 718.0, 705.3, 717.51, 717.51, 'Amazon'], [datetime.date(2016, 6, 17), 718.19, 718.2, 699.18, 706.39, 706.39, 'Amazon'], [datetime.date(2016, 6, 20), 713.5, 721.31, 710.81, 714.01, 714.01, 'Amazon'], [datetime.date(2016, 6, 21), 715.72, 718.4, 712.72, 715.82, 715.82, 'Amazon'], [datetime.date(2016, 6, 22), 716.58, 717.0, 707.57, 710.6, 710.6, 'Amazon'], [datetime.date(2016, 6, 23), 715.5, 722.12, 712.5, 722.08, 722.08, 'Amazon'], [datetime.date(2016, 6, 24), 693.0, 712.53, 692.2, 698.96, 698.96, 'Amazon'], [datetime.date(2016, 6, 27), 692.01, 696.82, 682.12, 691.36, 691.36, 'Amazon'], [datetime.date(2016, 6, 28), 700.0, 708.0, 698.17, 707.95, 707.95, 'Amazon'], [datetime.date(2016, 6, 29), 715.75, 719.5, 713.54, 715.6, 715.6, 'Amazon'], [datetime.date(2016, 6, 30), 717.2, 719.37, 712.54, 715.62, 715.62, 'Amazon'], [datetime.date(2016, 7, 1), 717.32, 728.0, 716.54, 725.68, 725.68, 'Amazon'], [datetime.date(2016, 7, 5), 722.8, 729.56, 719.61, 728.1, 728.1, 'Amazon'], [datetime.date(2016, 7, 6), 725.71, 737.77, 722.58, 737.61, 737.61, 'Amazon'], [datetime.date(2016, 7, 7), 739.33, 739.55, 731.63, 736.57, 736.57, 'Amazon'], [datetime.date(2016, 7, 8), 740.14, 746.1, 738.0, 745.81, 745.81, 'Amazon'], [datetime.date(2016, 7, 11), 750.0, 755.9, 747.0, 753.78, 753.78, 'Amazon'], [datetime.date(2016, 7, 12), 756.86, 757.34, 740.33, 748.21, 748.21, 'Amazon'], [datetime.date(2016, 7, 13), 746.76, 756.87, 741.25, 742.63, 742.63, 'Amazon'], [datetime.date(2016, 7, 14), 748.86, 749.04, 739.02, 741.2, 741.2, 'Amazon'], [datetime.date(2016, 7, 15), 746.55, 746.55, 734.05, 735.44, 735.44, 'Amazon'], [datetime.date(2016, 7, 18), 735.49, 741.6, 728.72, 736.07, 736.07, 'Amazon'], [datetime.date(2016, 7, 19), 732.5, 743.33, 732.31, 739.95, 739.95, 'Amazon'], [datetime.date(2016, 7, 20), 744.0, 746.25, 740.7, 745.72, 745.72, 'Amazon'], [datetime.date(2016, 7, 21), 747.5, 749.36, 742.79, 744.43, 744.43, 'Amazon'], [datetime.date(2016, 7, 22), 747.79, 751.28, 743.53, 744.86, 744.86, 'Amazon'], [datetime.date(2016, 7, 25), 746.55, 748.5, 735.35, 739.61, 739.61, 'Amazon'], [datetime.date(2016, 7, 26), 742.71, 743.13, 732.75, 735.59, 735.59, 'Amazon'], [datetime.date(2016, 7, 27), 737.97, 740.94, 733.86, 736.67, 736.67, 'Amazon'], [datetime.date(2016, 7, 28), 745.98, 753.36, 739.7, 752.61, 752.61, 'Amazon'], [datetime.date(2016, 7, 29), 765.0, 766.0, 755.0, 758.81, 758.81, 'Amazon'], [datetime.date(2016, 8, 1), 759.87, 770.5, 757.06, 767.74, 767.74, 'Amazon'], [datetime.date(2016, 8, 2), 763.81, 765.01, 757.02, 760.58, 760.58, 'Amazon'], [datetime.date(2016, 8, 3), 757.06, 758.89, 752.25, 754.64, 754.64, 'Amazon'], [datetime.date(2016, 8, 4), 753.7, 765.0, 750.35, 760.77, 760.77, 'Amazon'], [datetime.date(2016, 8, 5), 764.81, 768.47, 763.09, 765.98, 765.98, 'Amazon'], [datetime.date(2016, 8, 8), 766.81, 767.0, 761.02, 766.56, 766.56, 'Amazon'], [datetime.date(2016, 8, 9), 767.39, 772.6, 766.9, 768.31, 768.31, 'Amazon'], [datetime.date(2016, 8, 10), 769.8, 772.1, 766.19, 768.56, 768.56, 'Amazon'], [datetime.date(2016, 8, 11), 769.94, 773.75, 769.12, 771.24, 771.24, 'Amazon'], [datetime.date(2016, 8, 12), 768.46, 773.15, 768.42, 772.56, 772.56, 'Amazon'], [datetime.date(2016, 8, 15), 771.9, 772.04, 767.71, 768.49, 768.49, 'Amazon'], [datetime.date(2016, 8, 16), 768.62, 768.73, 763.82, 764.04, 764.04, 'Amazon'], [datetime.date(2016, 8, 17), 764.41, 765.22, 759.2, 764.63, 764.63, 'Amazon'], [datetime.date(2016, 8, 18), 764.0, 765.17, 760.6, 764.46, 764.46, 'Amazon'], [datetime.date(2016, 8, 19), 761.9, 762.49, 756.89, 757.31, 757.31, 'Amazon'], [datetime.date(2016, 8, 22), 757.5, 759.85, 752.1, 759.48, 759.48, 'Amazon'], [datetime.date(2016, 8, 23), 763.31, 764.7, 761.0, 762.45, 762.45, 'Amazon'], [datetime.date(2016, 8, 24), 763.0, 763.41, 755.36, 757.25, 757.25, 'Amazon'], [datetime.date(2016, 8, 25), 756.0, 760.56, 754.74, 759.22, 759.22, 'Amazon'], [datetime.date(2016, 8, 26), 760.05, 770.0, 759.8, 769.0, 769.0, 'Amazon'], [datetime.date(2016, 8, 29), 768.72, 774.98, 768.6, 771.29, 771.29, 'Amazon'], [datetime.date(2016, 8, 30), 771.05, 771.84, 765.56, 767.58, 767.58, 'Amazon'], [datetime.date(2016, 8, 31), 766.6, 769.64, 764.0, 769.16, 769.16, 'Amazon'], [datetime.date(2016, 9, 1), 770.9, 772.04, 766.75, 770.62, 770.62, 'Amazon'], [datetime.date(2016, 9, 2), 774.11, 776.0, 771.7, 772.44, 772.44, 'Amazon'], [datetime.date(2016, 9, 6), 774.04, 789.48, 770.22, 788.87, 788.87, 'Amazon'], [datetime.date(2016, 9, 7), 789.53, 790.79, 784.33, 784.48, 784.48, 'Amazon'], [datetime.date(2016, 9, 8), 783.89, 786.5, 781.44, 784.06, 784.06, 'Amazon'], [datetime.date(2016, 9, 9), 779.36, 781.0, 760.11, 760.14, 760.14, 'Amazon'], [datetime.date(2016, 9, 12), 757.35, 772.66, 756.0, 771.49, 771.49, 'Amazon'], [datetime.date(2016, 9, 13), 768.77, 769.89, 759.05, 761.01, 761.01, 'Amazon'], [datetime.date(2016, 9, 14), 762.2, 767.5, 758.85, 761.09, 761.09, 'Amazon'], [datetime.date(2016, 9, 15), 762.0, 770.87, 757.58, 769.69, 769.69, 'Amazon'], [datetime.date(2016, 9, 16), 773.28, 780.46, 771.66, 778.52, 778.52, 'Amazon'], [datetime.date(2016, 9, 19), 779.97, 781.94, 771.0, 775.1, 775.1, 'Amazon'], [datetime.date(2016, 9, 20), 776.0, 781.37, 776.0, 780.22, 780.22, 'Amazon'], [datetime.date(2016, 9, 21), 783.25, 790.69, 779.01, 789.74, 789.74, 'Amazon'], [datetime.date(2016, 9, 22), 794.27, 805.89, 794.27, 804.7, 804.7, 'Amazon'], [datetime.date(2016, 9, 23), 803.13, 807.75, 802.12, 805.75, 805.75, 'Amazon'], [datetime.date(2016, 9, 26), 801.8, 805.93, 797.15, 799.16, 799.16, 'Amazon'], [datetime.date(2016, 9, 27), 801.85, 816.64, 801.11, 816.11, 816.11, 'Amazon'], [datetime.date(2016, 9, 28), 818.0, 830.14, 817.03, 828.72, 828.72, 'Amazon'], [datetime.date(2016, 9, 29), 828.26, 837.5, 824.63, 829.05, 829.05, 'Amazon'], [datetime.date(2016, 9, 30), 832.61, 839.95, 832.4, 837.31, 837.31, 'Amazon'], [datetime.date(2016, 10, 3), 836.0, 839.86, 831.25, 836.74, 836.74, 'Amazon'], [datetime.date(2016, 10, 4), 840.91, 842.37, 830.26, 834.03, 834.03, 'Amazon'], [datetime.date(2016, 10, 5), 838.0, 845.67, 836.12, 844.36, 844.36, 'Amazon'], [datetime.date(2016, 10, 6), 843.7, 847.21, 840.6, 841.66, 841.66, 'Amazon'], [datetime.date(2016, 10, 7), 845.79, 845.95, 837.45, 839.43, 839.43, 'Amazon'], [datetime.date(2016, 10, 10), 843.25, 845.2, 840.27, 841.71, 841.71, 'Amazon'], [datetime.date(2016, 10, 11), 841.02, 841.29, 828.35, 831.0, 831.0, 'Amazon'], [datetime.date(2016, 10, 12), 834.0, 837.67, 830.1, 834.09, 834.09, 'Amazon'], [datetime.date(2016, 10, 13), 829.0, 831.8, 821.21, 829.28, 829.28, 'Amazon'], [datetime.date(2016, 10, 14), 835.08, 835.74, 822.96, 822.96, 822.96, 'Amazon'], [datetime.date(2016, 10, 17), 821.5, 822.0, 811.68, 812.95, 812.95, 'Amazon'], [datetime.date(2016, 10, 18), 822.11, 823.26, 815.02, 817.65, 817.65, 'Amazon'], [datetime.date(2016, 10, 19), 820.4, 820.67, 815.17, 817.69, 817.69, 'Amazon'], [datetime.date(2016, 10, 20), 813.99, 815.71, 803.1, 810.32, 810.32, 'Amazon'], [datetime.date(2016, 10, 21), 809.36, 819.42, 809.0, 818.99, 818.99, 'Amazon'], [datetime.date(2016, 10, 24), 824.95, 838.3, 822.21, 838.09, 838.09, 'Amazon'], [datetime.date(2016, 10, 25), 839.3, 843.09, 833.22, 835.18, 835.18, 'Amazon'], [datetime.date(2016, 10, 26), 832.76, 833.44, 820.0, 822.59, 822.59, 'Amazon'], [datetime.date(2016, 10, 27), 831.24, 831.72, 815.43, 818.36, 818.36, 'Amazon'], [datetime.date(2016, 10, 28), 782.0, 789.49, 774.61, 776.32, 776.32, 'Amazon'], [datetime.date(2016, 10, 31), 781.03, 793.7, 780.11, 789.82, 789.82, 'Amazon'], [datetime.date(2016, 11, 1), 799.0, 800.84, 776.71, 785.41, 785.41, 'Amazon'], [datetime.date(2016, 11, 2), 783.93, 784.75, 763.55, 765.56, 765.56, 'Amazon'], [datetime.date(2016, 11, 3), 765.05, 777.0, 764.0, 767.03, 767.03, 'Amazon'], [datetime.date(2016, 11, 4), 762.79, 766.0, 753.23, 755.05, 755.05, 'Amazon'], [datetime.date(2016, 11, 7), 771.64, 787.73, 770.94, 784.93, 784.93, 'Amazon'], [datetime.date(2016, 11, 8), 784.97, 791.74, 779.1, 787.75, 787.75, 'Amazon'], [datetime.date(2016, 11, 9), 764.0, 777.5, 760.09, 771.88, 771.88, 'Amazon'], [datetime.date(2016, 11, 10), 778.81, 778.83, 717.7, 742.38, 742.38, 'Amazon'], [datetime.date(2016, 11, 11), 735.73, 743.26, 728.9, 739.01, 739.01, 'Amazon'], [datetime.date(2016, 11, 14), 745.51, 746.0, 710.1, 719.07, 719.07, 'Amazon'], [datetime.date(2016, 11, 15), 730.0, 746.78, 725.99, 743.24, 743.24, 'Amazon'], [datetime.date(2016, 11, 16), 739.88, 749.87, 735.61, 746.49, 746.49, 'Amazon'], [datetime.date(2016, 11, 17), 749.32, 757.5, 748.0, 756.4, 756.4, 'Amazon'], [datetime.date(2016, 11, 18), 761.0, 767.74, 757.64, 760.16, 760.16, 'Amazon'], [datetime.date(2016, 11, 21), 766.0, 780.35, 765.11, 780.0, 780.0, 'Amazon'], [datetime.date(2016, 11, 22), 788.17, 792.4, 781.0, 785.33, 785.33, 'Amazon'], [datetime.date(2016, 11, 23), 781.73, 781.75, 773.12, 780.12, 780.12, 'Amazon'], [datetime.date(2016, 11, 25), 786.5, 786.75, 777.9, 780.37, 780.37, 'Amazon'], [datetime.date(2016, 11, 28), 776.99, 777.0, 764.24, 766.77, 766.77, 'Amazon'], [datetime.date(2016, 11, 29), 768.0, 769.89, 761.32, 762.52, 762.52, 'Amazon'], [datetime.date(2016, 11, 30), 762.0, 768.09, 750.25, 750.57, 750.57, 'Amazon'], [datetime.date(2016, 12, 1), 752.41, 753.37, 738.03, 743.65, 743.65, 'Amazon'], [datetime.date(2016, 12, 2), 743.4, 748.49, 736.7, 740.34, 740.34, 'Amazon'], [datetime.date(2016, 12, 5), 745.0, 761.49, 742.0, 759.36, 759.36, 'Amazon'], [datetime.date(2016, 12, 6), 763.99, 768.24, 757.25, 764.72, 764.72, 'Amazon'], [datetime.date(2016, 12, 7), 764.55, 770.42, 755.82, 770.42, 770.42, 'Amazon'], [datetime.date(2016, 12, 8), 771.87, 773.79, 765.19, 767.33, 767.33, 'Amazon'], [datetime.date(2016, 12, 9), 770.0, 770.25, 765.34, 768.66, 768.66, 'Amazon'], [datetime.date(2016, 12, 12), 766.4, 766.89, 757.2, 760.12, 760.12, 'Amazon'], [datetime.date(2016, 12, 13), 764.96, 782.46, 762.0, 774.34, 774.34, 'Amazon'], [datetime.date(2016, 12, 14), 778.25, 780.86, 762.81, 768.82, 768.82, 'Amazon'], [datetime.date(2016, 12, 15), 766.28, 769.1, 760.31, 761.0, 761.0, 'Amazon'], [datetime.date(2016, 12, 16), 765.0, 765.13, 754.0, 757.77, 757.77, 'Amazon'], [datetime.date(2016, 12, 19), 758.89, 770.5, 756.16, 766.0, 766.0, 'Amazon'], [datetime.date(2016, 12, 20), 768.65, 774.39, 767.71, 771.22, 771.22, 'Amazon'], [datetime.date(2016, 12, 21), 770.0, 771.22, 765.7, 770.6, 770.6, 'Amazon'], [datetime.date(2016, 12, 22), 768.12, 771.21, 763.02, 766.34, 766.34, 'Amazon'], [datetime.date(2016, 12, 23), 764.55, 766.5, 757.99, 760.59, 760.59, 'Amazon'], [datetime.date(2016, 12, 27), 763.4, 774.65, 761.2, 771.4, 771.4, 'Amazon'], [datetime.date(2016, 12, 28), 776.25, 780.0, 770.5, 772.13, 772.13, 'Amazon'], [datetime.date(2016, 12, 29), 772.4, 773.4, 760.85, 765.15, 765.15, 'Amazon'], [datetime.date(2016, 12, 30), 766.47, 767.4, 748.28, 749.87, 749.87, 'Amazon'], [datetime.date(2017, 1, 3), 757.92, 758.76, 747.7, 753.67, 753.67, 'Amazon'], [datetime.date(2017, 1, 4), 758.39, 759.68, 754.2, 757.18, 757.18, 'Amazon'], [datetime.date(2017, 1, 5), 761.55, 782.4, 760.26, 780.45, 780.45, 'Amazon'], [datetime.date(2017, 1, 6), 782.36, 799.44, 778.48, 795.99, 795.99, 'Amazon'], [datetime.date(2017, 1, 9), 798.0, 801.77, 791.77, 796.92, 796.92, 'Amazon'], [datetime.date(2017, 1, 10), 796.6, 798.0, 789.54, 795.9, 795.9, 'Amazon'], [datetime.date(2017, 1, 11), 793.66, 799.5, 789.51, 799.02, 799.02, 'Amazon'], [datetime.date(2017, 1, 12), 800.31, 814.13, 799.5, 813.64, 813.64, 'Amazon'], [datetime.date(2017, 1, 13), 814.32, 821.65, 811.4, 817.14, 817.14, 'Amazon'], [datetime.date(2017, 1, 17), 815.7, 816.0, 803.44, 809.72, 809.72, 'Amazon'], [datetime.date(2017, 1, 18), 809.5, 811.73, 804.27, 807.48, 807.48, 'Amazon'], [datetime.date(2017, 1, 19), 810.0, 813.51, 807.32, 809.04, 809.04, 'Amazon'], [datetime.date(2017, 1, 20), 815.28, 816.02, 806.26, 808.33, 808.33, 'Amazon'], [datetime.date(2017, 1, 23), 806.8, 818.5, 805.08, 817.88, 817.88, 'Amazon'], [datetime.date(2017, 1, 24), 822.0, 823.99, 814.5, 822.44, 822.44, 'Amazon'], [datetime.date(2017, 1, 25), 825.79, 837.42, 825.29, 836.52, 836.52, 'Amazon'], [datetime.date(2017, 1, 26), 835.53, 843.84, 833.0, 839.15, 839.15, 'Amazon'], [datetime.date(2017, 1, 27), 839.0, 839.7, 829.44, 835.77, 835.77, 'Amazon'], [datetime.date(2017, 1, 30), 833.0, 833.5, 816.38, 830.38, 830.38, 'Amazon'], [datetime.date(2017, 1, 31), 823.75, 826.99, 819.56, 823.48, 823.48, 'Amazon'], [datetime.date(2017, 2, 1), 829.21, 833.78, 824.94, 832.35, 832.35, 'Amazon'], [datetime.date(2017, 2, 2), 836.59, 842.49, 828.26, 839.95, 839.95, 'Amazon'], [datetime.date(2017, 2, 3), 806.72, 818.3, 804.0, 810.2, 810.2, 'Amazon'], [datetime.date(2017, 2, 6), 809.8, 810.72, 803.0, 807.64, 807.64, 'Amazon'], [datetime.date(2017, 2, 7), 809.31, 816.16, 807.5, 812.5, 812.5, 'Amazon'], [datetime.date(2017, 2, 8), 812.69, 821.48, 812.5, 819.71, 819.71, 'Amazon'], [datetime.date(2017, 2, 9), 821.6, 825.0, 819.71, 821.36, 821.36, 'Amazon'], [datetime.date(2017, 2, 10), 823.82, 828.0, 822.85, 827.46, 827.46, 'Amazon'], [datetime.date(2017, 2, 13), 831.62, 843.0, 828.55, 836.53, 836.53, 'Amazon'], [datetime.date(2017, 2, 14), 837.0, 838.31, 831.45, 836.39, 836.39, 'Amazon'], [datetime.date(2017, 2, 15), 834.0, 842.81, 832.82, 842.7, 842.7, 'Amazon'], [datetime.date(2017, 2, 16), 841.84, 845.0, 839.38, 844.14, 844.14, 'Amazon'], [datetime.date(2017, 2, 17), 842.0, 847.27, 840.73, 845.07, 845.07, 'Amazon'], [datetime.date(2017, 2, 21), 848.84, 857.98, 847.25, 856.44, 856.44, 'Amazon'], [datetime.date(2017, 2, 22), 856.95, 858.43, 852.18, 855.61, 855.61, 'Amazon'], [datetime.date(2017, 2, 23), 857.57, 860.86, 848.0, 852.19, 852.19, 'Amazon'], [datetime.date(2017, 2, 24), 844.69, 845.81, 837.75, 845.24, 845.24, 'Amazon'], [datetime.date(2017, 2, 27), 842.38, 852.5, 839.67, 848.64, 848.64, 'Amazon'], [datetime.date(2017, 2, 28), 851.45, 854.09, 842.05, 845.04, 845.04, 'Amazon'], [datetime.date(2017, 3, 1), 853.05, 854.83, 849.01, 853.08, 853.08, 'Amazon'], [datetime.date(2017, 3, 2), 853.08, 854.82, 847.28, 848.91, 848.91, 'Amazon'], [datetime.date(2017, 3, 3), 847.2, 851.99, 846.27, 849.88, 849.88, 'Amazon'], [datetime.date(2017, 3, 6), 845.23, 848.49, 841.12, 846.61, 846.61, 'Amazon'], [datetime.date(2017, 3, 7), 845.48, 848.46, 843.75, 846.02, 846.02, 'Amazon'], [datetime.date(2017, 3, 8), 848.0, 853.07, 846.79, 850.5, 850.5, 'Amazon'], [datetime.date(2017, 3, 9), 851.0, 856.4, 850.31, 853.0, 853.0, 'Amazon'], [datetime.date(2017, 3, 10), 857.0, 857.35, 851.72, 852.46, 852.46, 'Amazon'], [datetime.date(2017, 3, 13), 851.77, 855.69, 851.71, 854.59, 854.59, 'Amazon'], [datetime.date(2017, 3, 14), 853.55, 853.75, 847.55, 852.53, 852.53, 'Amazon'], [datetime.date(2017, 3, 15), 854.33, 854.45, 847.11, 852.97, 852.97, 'Amazon'], [datetime.date(2017, 3, 16), 855.3, 855.5, 850.51, 853.42, 853.42, 'Amazon'], [datetime.date(2017, 3, 17), 853.49, 853.83, 850.64, 852.31, 852.31, 'Amazon'], [datetime.date(2017, 3, 20), 851.51, 857.8, 851.01, 856.97, 856.97, 'Amazon'], [datetime.date(2017, 3, 21), 858.84, 862.8, 841.31, 843.2, 843.2, 'Amazon'], [datetime.date(2017, 3, 22), 840.43, 849.37, 839.05, 848.06, 848.06, 'Amazon'], [datetime.date(2017, 3, 23), 848.2, 850.89, 844.8, 847.38, 847.38, 'Amazon'], [datetime.date(2017, 3, 24), 851.68, 851.8, 843.53, 845.61, 845.61, 'Amazon'], [datetime.date(2017, 3, 27), 838.07, 850.3, 833.5, 846.82, 846.82, 'Amazon'], [datetime.date(2017, 3, 28), 851.75, 858.46, 850.1, 856.0, 856.0, 'Amazon'], [datetime.date(2017, 3, 29), 859.05, 876.44, 859.02, 874.32, 874.32, 'Amazon'], [datetime.date(2017, 3, 30), 874.95, 877.06, 871.66, 876.34, 876.34, 'Amazon'], [datetime.date(2017, 3, 31), 877.0, 890.35, 876.65, 886.54, 886.54, 'Amazon'], [datetime.date(2017, 4, 3), 888.0, 893.49, 885.42, 891.51, 891.51, 'Amazon'], [datetime.date(2017, 4, 4), 891.5, 908.54, 890.28, 906.83, 906.83, 'Amazon'], [datetime.date(2017, 4, 5), 910.82, 923.72, 905.62, 909.28, 909.28, 'Amazon'], [datetime.date(2017, 4, 6), 913.8, 917.19, 894.49, 898.28, 898.28, 'Amazon'], [datetime.date(2017, 4, 7), 899.65, 900.09, 889.31, 894.88, 894.88, 'Amazon'], [datetime.date(2017, 4, 10), 899.63, 908.51, 899.0, 907.04, 907.04, 'Amazon'], [datetime.date(2017, 4, 11), 907.04, 911.24, 897.5, 902.36, 902.36, 'Amazon'], [datetime.date(2017, 4, 12), 903.09, 904.09, 895.25, 896.23, 896.23, 'Amazon'], [datetime.date(2017, 4, 13), 891.45, 894.97, 884.49, 884.67, 884.67, 'Amazon'], [datetime.date(2017, 4, 17), 887.5, 902.38, 887.5, 901.99, 901.99, 'Amazon'], [datetime.date(2017, 4, 18), 900.99, 909.61, 900.78, 903.78, 903.78, 'Amazon'], [datetime.date(2017, 4, 19), 907.84, 910.5, 897.37, 899.2, 899.2, 'Amazon'], [datetime.date(2017, 4, 20), 899.7, 905.32, 896.29, 902.06, 902.06, 'Amazon'], [datetime.date(2017, 4, 21), 902.67, 903.65, 896.77, 898.53, 898.53, 'Amazon'], [datetime.date(2017, 4, 24), 908.68, 909.99, 903.82, 907.41, 907.41, 'Amazon'], [datetime.date(2017, 4, 25), 907.04, 909.48, 903.0, 907.62, 907.62, 'Amazon'], [datetime.date(2017, 4, 26), 910.3, 915.75, 907.56, 909.29, 909.29, 'Amazon'], [datetime.date(2017, 4, 27), 914.39, 921.86, 912.11, 918.38, 918.38, 'Amazon'], [datetime.date(2017, 4, 28), 948.83, 949.59, 924.33, 924.99, 924.99, 'Amazon'], [datetime.date(2017, 5, 1), 927.8, 954.4, 927.8, 948.23, 948.23, 'Amazon'], [datetime.date(2017, 5, 2), 946.65, 950.1, 941.41, 946.94, 946.94, 'Amazon'], [datetime.date(2017, 5, 3), 946.0, 946.0, 935.9, 941.03, 941.03, 'Amazon'], [datetime.date(2017, 5, 4), 944.75, 945.0, 934.22, 937.53, 937.53, 'Amazon'], [datetime.date(2017, 5, 5), 940.52, 940.79, 930.3, 934.15, 934.15, 'Amazon'], [datetime.date(2017, 5, 8), 940.95, 949.05, 939.21, 949.04, 949.04, 'Amazon'], [datetime.date(2017, 5, 9), 952.8, 957.89, 950.2, 952.82, 952.82, 'Amazon'], [datetime.date(2017, 5, 10), 953.5, 953.75, 945.0, 948.95, 948.95, 'Amazon'], [datetime.date(2017, 5, 11), 945.11, 950.29, 940.78, 947.62, 947.62, 'Amazon'], [datetime.date(2017, 5, 12), 954.5, 962.79, 951.53, 961.35, 961.35, 'Amazon'], [datetime.date(2017, 5, 15), 958.73, 963.15, 956.06, 957.97, 957.97, 'Amazon'], [datetime.date(2017, 5, 16), 961.0, 970.06, 960.91, 966.07, 966.07, 'Amazon'], [datetime.date(2017, 5, 17), 954.7, 960.4, 944.12, 944.76, 944.76, 'Amazon'], [datetime.date(2017, 5, 18), 944.8, 962.75, 944.76, 958.49, 958.49, 'Amazon'], [datetime.date(2017, 5, 19), 962.84, 968.92, 959.72, 959.84, 959.84, 'Amazon'], [datetime.date(2017, 5, 22), 964.0, 971.38, 962.9, 970.67, 970.67, 'Amazon'], [datetime.date(2017, 5, 23), 975.02, 975.2, 966.85, 971.54, 971.54, 'Amazon'], [datetime.date(2017, 5, 24), 976.0, 981.0, 970.23, 980.35, 980.35, 'Amazon'], [datetime.date(2017, 5, 25), 984.85, 999.0, 982.11, 993.38, 993.38, 'Amazon'], [datetime.date(2017, 5, 26), 995.0, 998.65, 989.25, 995.78, 995.78, 'Amazon'], [datetime.date(2017, 5, 30), 996.51, 1001.2, 995.52, 996.7, 996.7, 'Amazon'], [datetime.date(2017, 5, 31), 1000.0, 1000.12, 982.16, 994.62, 994.62, 'Amazon'], [datetime.date(2017, 6, 1), 998.59, 998.99, 991.37, 995.95, 995.95, 'Amazon'], [datetime.date(2017, 6, 2), 998.99, 1008.48, 995.67, 1006.73, 1006.73, 'Amazon'], [datetime.date(2017, 6, 5), 1007.23, 1013.21, 1003.51, 1011.34, 1011.34, 'Amazon'], [datetime.date(2017, 6, 6), 1012.0, 1016.5, 1001.25, 1003.0, 1003.0, 'Amazon'], [datetime.date(2017, 6, 7), 1005.95, 1010.25, 1002.0, 1010.07, 1010.07, 'Amazon'], [datetime.date(2017, 6, 8), 1012.06, 1013.61, 1006.11, 1010.27, 1010.27, 'Amazon'], [datetime.date(2017, 6, 9), 1012.5, 1012.99, 927.0, 978.31, 978.31, 'Amazon'], [datetime.date(2017, 6, 12), 967.0, 975.95, 945.0, 964.91, 964.91, 'Amazon'], [datetime.date(2017, 6, 13), 977.99, 984.5, 966.1, 980.79, 980.79, 'Amazon'], [datetime.date(2017, 6, 14), 988.59, 990.34, 966.71, 976.47, 976.47, 'Amazon'], [datetime.date(2017, 6, 15), 958.7, 965.73, 950.86, 964.17, 964.17, 'Amazon'], [datetime.date(2017, 6, 16), 996.0, 999.75, 982.0, 987.71, 987.71, 'Amazon'], [datetime.date(2017, 6, 19), 1017.0, 1017.0, 989.9, 995.17, 995.17, 'Amazon'], [datetime.date(2017, 6, 20), 998.0, 1004.88, 992.02, 992.59, 992.59, 'Amazon'], [datetime.date(2017, 6, 21), 998.7, 1002.72, 992.65, 1002.23, 1002.23, 'Amazon'], [datetime.date(2017, 6, 22), 1002.23, 1006.96, 997.2, 1001.3, 1001.3, 'Amazon'], [datetime.date(2017, 6, 23), 1002.54, 1004.62, 998.02, 1003.74, 1003.74, 'Amazon'], [datetime.date(2017, 6, 26), 1008.5, 1009.8, 992.0, 993.98, 993.98, 'Amazon'], [datetime.date(2017, 6, 27), 990.69, 998.8, 976.0, 976.78, 976.78, 'Amazon'], [datetime.date(2017, 6, 28), 978.55, 990.68, 969.21, 990.33, 990.33, 'Amazon'], [datetime.date(2017, 6, 29), 979.0, 987.56, 965.25, 975.93, 975.93, 'Amazon'], [datetime.date(2017, 6, 30), 980.12, 983.47, 967.61, 968.0, 968.0, 'Amazon'], [datetime.date(2017, 7, 3), 972.79, 974.49, 951.0, 953.66, 953.66, 'Amazon'], [datetime.date(2017, 7, 5), 961.53, 975.0, 955.25, 971.4, 971.4, 'Amazon'], [datetime.date(2017, 7, 6), 964.66, 974.4, 959.02, 965.14, 965.14, 'Amazon'], [datetime.date(2017, 7, 7), 969.55, 980.11, 969.14, 978.76, 978.76, 'Amazon'], [datetime.date(2017, 7, 10), 985.0, 999.44, 983.5, 996.47, 996.47, 'Amazon'], [datetime.date(2017, 7, 11), 993.0, 995.99, 983.72, 994.13, 994.13, 'Amazon'], [datetime.date(2017, 7, 12), 1000.65, 1008.55, 998.1, 1006.51, 1006.51, 'Amazon'], [datetime.date(2017, 7, 13), 1004.62, 1006.88, 995.9, 1000.63, 1000.63, 'Amazon'], [datetime.date(2017, 7, 14), 1002.4, 1004.45, 996.89, 1001.81, 1001.81, 'Amazon'], [datetime.date(2017, 7, 17), 1004.69, 1014.75, 1003.81, 1010.04, 1010.04, 'Amazon'], [datetime.date(2017, 7, 18), 1006.0, 1026.03, 1004.0, 1024.45, 1024.45, 'Amazon'], [datetime.date(2017, 7, 19), 1025.0, 1031.59, 1022.5, 1026.87, 1026.87, 'Amazon'], [datetime.date(2017, 7, 20), 1031.59, 1034.97, 1022.52, 1028.7, 1028.7, 'Amazon'], [datetime.date(2017, 7, 21), 1021.28, 1026.1, 1011.0, 1025.67, 1025.67, 'Amazon'], [datetime.date(2017, 7, 24), 1028.34, 1043.01, 1027.43, 1038.95, 1038.95, 'Amazon'], [datetime.date(2017, 7, 25), 1038.05, 1043.33, 1032.48, 1039.87, 1039.87, 'Amazon'], [datetime.date(2017, 7, 26), 1043.2, 1053.2, 1043.2, 1052.8, 1052.8, 'Amazon'], [datetime.date(2017, 7, 27), 1069.55, 1083.31, 1040.18, 1046.0, 1046.0, 'Amazon'], [datetime.date(2017, 7, 28), 1012.14, 1032.85, 1001.0, 1020.04, 1020.04, 'Amazon'], [datetime.date(2017, 7, 31), 1019.05, 1019.05, 987.02, 987.78, 987.78, 'Amazon'], [datetime.date(2017, 8, 1), 996.11, 1006.4, 991.58, 996.19, 996.19, 'Amazon'], [datetime.date(2017, 8, 2), 1001.77, 1003.21, 981.73, 995.89, 995.89, 'Amazon'], [datetime.date(2017, 8, 3), 999.47, 999.5, 984.59, 986.92, 986.92, 'Amazon'], [datetime.date(2017, 8, 4), 989.68, 991.67, 982.0, 987.58, 987.58, 'Amazon'], [datetime.date(2017, 8, 7), 990.65, 995.0, 987.14, 992.27, 992.27, 'Amazon'], [datetime.date(2017, 8, 8), 994.35, 996.28, 985.79, 989.84, 989.84, 'Amazon'], [datetime.date(2017, 8, 9), 982.6, 988.0, 975.27, 982.01, 982.01, 'Amazon'], [datetime.date(2017, 8, 10), 976.3, 979.86, 954.68, 956.92, 956.92, 'Amazon'], [datetime.date(2017, 8, 11), 960.0, 970.39, 951.38, 967.99, 967.99, 'Amazon'], [datetime.date(2017, 8, 14), 978.41, 985.5, 976.19, 983.3, 983.3, 'Amazon'], [datetime.date(2017, 8, 15), 988.9, 991.74, 982.0, 982.74, 982.74, 'Amazon'], [datetime.date(2017, 8, 16), 981.65, 986.46, 973.22, 978.18, 978.18, 'Amazon'], [datetime.date(2017, 8, 17), 977.84, 977.84, 960.32, 960.57, 960.57, 'Amazon'], [datetime.date(2017, 8, 18), 961.4, 965.43, 954.65, 958.47, 958.47, 'Amazon'], [datetime.date(2017, 8, 21), 957.57, 961.2, 945.46, 953.29, 953.29, 'Amazon'], [datetime.date(2017, 8, 22), 955.52, 967.93, 955.5, 966.9, 966.9, 'Amazon'], [datetime.date(2017, 8, 23), 959.38, 962.0, 954.2, 958.0, 958.0, 'Amazon'], [datetime.date(2017, 8, 24), 957.42, 959.0, 941.14, 952.45, 952.45, 'Amazon'], [datetime.date(2017, 8, 25), 956.0, 957.62, 944.1, 945.26, 945.26, 'Amazon'], [datetime.date(2017, 8, 28), 946.54, 953.0, 942.25, 946.02, 946.02, 'Amazon'], [datetime.date(2017, 8, 29), 940.0, 956.0, 936.33, 954.06, 954.06, 'Amazon'], [datetime.date(2017, 8, 30), 958.44, 969.41, 956.91, 967.59, 967.59, 'Amazon'], [datetime.date(2017, 8, 31), 974.7, 981.0, 972.76, 980.6, 980.6, 'Amazon'], [datetime.date(2017, 9, 1), 984.2, 984.5, 976.88, 978.25, 978.25, 'Amazon'], [datetime.date(2017, 9, 5), 975.4, 976.77, 960.37, 965.27, 965.27, 'Amazon'], [datetime.date(2017, 9, 6), 968.32, 971.84, 960.6, 967.8, 967.8, 'Amazon'], [datetime.date(2017, 9, 7), 974.0, 980.59, 972.55, 979.47, 979.47, 'Amazon'], [datetime.date(2017, 9, 8), 979.1, 979.88, 963.47, 965.9, 965.9, 'Amazon'], [datetime.date(2017, 9, 11), 974.46, 981.94, 974.22, 977.96, 977.96, 'Amazon'], [datetime.date(2017, 9, 12), 983.27, 984.67, 975.52, 982.58, 982.58, 'Amazon'], [datetime.date(2017, 9, 13), 983.97, 1000.0, 979.42, 999.6, 999.6, 'Amazon'], [datetime.date(2017, 9, 14), 996.8, 998.56, 987.74, 992.21, 992.21, 'Amazon'], [datetime.date(2017, 9, 15), 993.01, 996.25, 984.03, 986.79, 986.79, 'Amazon'], [datetime.date(2017, 9, 18), 990.4, 992.79, 968.17, 974.19, 974.19, 'Amazon'], [datetime.date(2017, 9, 19), 977.25, 978.24, 967.46, 969.86, 969.86, 'Amazon'], [datetime.date(2017, 9, 20), 971.79, 974.81, 962.16, 973.21, 973.21, 'Amazon'], [datetime.date(2017, 9, 21), 971.31, 971.7, 962.02, 964.65, 964.65, 'Amazon'], [datetime.date(2017, 9, 22), 961.01, 965.61, 954.42, 955.1, 955.1, 'Amazon'], [datetime.date(2017, 9, 25), 949.31, 949.42, 932.89, 939.79, 939.79, 'Amazon'], [datetime.date(2017, 9, 26), 945.49, 948.63, 931.75, 938.6, 938.6, 'Amazon'], [datetime.date(2017, 9, 27), 948.0, 955.3, 943.3, 950.87, 950.87, 'Amazon'], [datetime.date(2017, 9, 28), 951.86, 959.7, 950.1, 956.4, 956.4, 'Amazon'], [datetime.date(2017, 9, 29), 960.11, 964.83, 958.38, 961.35, 961.35, 'Amazon'], [datetime.date(2017, 10, 2), 964.0, 967.31, 952.12, 959.19, 959.19, 'Amazon'], [datetime.date(2017, 10, 3), 958.0, 963.69, 950.37, 957.1, 957.1, 'Amazon'], [datetime.date(2017, 10, 4), 954.21, 967.79, 954.05, 965.45, 965.45, 'Amazon'], [datetime.date(2017, 10, 5), 970.0, 981.51, 969.64, 980.85, 980.85, 'Amazon'], [datetime.date(2017, 10, 6), 975.64, 995.75, 975.64, 989.58, 989.58, 'Amazon'], [datetime.date(2017, 10, 9), 993.24, 998.5, 987.5, 990.99, 990.99, 'Amazon'], [datetime.date(2017, 10, 10), 996.67, 997.95, 980.1, 987.2, 987.2, 'Amazon'], [datetime.date(2017, 10, 11), 991.27, 995.5, 986.7, 995.0, 995.0, 'Amazon'], [datetime.date(2017, 10, 12), 996.81, 1008.44, 992.4, 1000.93, 1000.93, 'Amazon'], [datetime.date(2017, 10, 13), 1007.0, 1007.77, 1001.03, 1002.94, 1002.94, 'Amazon'], [datetime.date(2017, 10, 16), 1008.44, 1009.57, 1001.04, 1006.34, 1006.34, 'Amazon'], [datetime.date(2017, 10, 17), 1005.59, 1011.47, 1004.38, 1009.13, 1009.13, 'Amazon'], [datetime.date(2017, 10, 18), 1009.27, 1022.31, 996.55, 997.0, 997.0, 'Amazon'], [datetime.date(2017, 10, 19), 990.0, 991.05, 980.24, 986.61, 986.61, 'Amazon'], [datetime.date(2017, 10, 20), 993.53, 994.62, 982.0, 982.91, 982.91, 'Amazon'], [datetime.date(2017, 10, 23), 986.73, 986.78, 962.5, 966.3, 966.3, 'Amazon'], [datetime.date(2017, 10, 24), 969.0, 979.85, 965.0, 975.9, 975.9, 'Amazon'], [datetime.date(2017, 10, 25), 978.0, 984.44, 966.24, 972.91, 972.91, 'Amazon'], [datetime.date(2017, 10, 26), 980.33, 982.9, 968.55, 972.43, 972.43, 'Amazon'], [datetime.date(2017, 10, 27), 1058.14, 1105.58, 1050.55, 1100.95, 1100.95, 'Amazon'], [datetime.date(2017, 10, 30), 1095.01, 1122.79, 1093.56, 1110.85, 1110.85, 'Amazon'], [datetime.date(2017, 10, 31), 1109.0, 1110.54, 1101.12, 1105.28, 1105.28, 'Amazon'], [datetime.date(2017, 11, 1), 1105.4, 1108.97, 1096.74, 1103.68, 1103.68, 'Amazon'], [datetime.date(2017, 11, 2), 1097.81, 1101.94, 1086.87, 1094.22, 1094.22, 'Amazon'], [datetime.date(2017, 11, 3), 1091.15, 1112.68, 1088.52, 1111.6, 1111.6, 'Amazon'], [datetime.date(2017, 11, 6), 1109.15, 1125.41, 1108.77, 1120.66, 1120.66, 'Amazon'], [datetime.date(2017, 11, 7), 1124.74, 1130.6, 1117.5, 1123.17, 1123.17, 'Amazon'], [datetime.date(2017, 11, 8), 1122.82, 1135.54, 1119.11, 1132.88, 1132.88, 'Amazon'], [datetime.date(2017, 11, 9), 1125.96, 1129.62, 1115.77, 1129.13, 1129.13, 'Amazon'], [datetime.date(2017, 11, 10), 1126.1, 1131.75, 1124.06, 1125.35, 1125.35, 'Amazon'], [datetime.date(2017, 11, 13), 1123.0, 1139.9, 1122.34, 1129.17, 1129.17, 'Amazon'], [datetime.date(2017, 11, 14), 1130.11, 1138.0, 1123.89, 1136.84, 1136.84, 'Amazon'], [datetime.date(2017, 11, 15), 1127.01, 1131.75, 1121.63, 1126.69, 1126.69, 'Amazon'], [datetime.date(2017, 11, 16), 1130.16, 1138.16, 1130.05, 1137.29, 1137.29, 'Amazon'], [datetime.date(2017, 11, 17), 1138.28, 1138.8, 1125.81, 1129.88, 1129.88, 'Amazon'], [datetime.date(2017, 11, 20), 1129.77, 1133.42, 1122.55, 1126.31, 1126.31, 'Amazon'], [datetime.date(2017, 11, 21), 1132.86, 1140.0, 1128.2, 1139.49, 1139.49, 'Amazon'], [datetime.date(2017, 11, 22), 1141.0, 1160.27, 1141.0, 1156.16, 1156.16, 'Amazon'], [datetime.date(2017, 11, 24), 1160.7, 1186.84, 1160.7, 1186.0, 1186.0, 'Amazon'], [datetime.date(2017, 11, 27), 1202.66, 1213.41, 1191.15, 1195.83, 1195.83, 'Amazon'], [datetime.date(2017, 11, 28), 1204.88, 1205.34, 1188.52, 1193.6, 1193.6, 'Amazon'], [datetime.date(2017, 11, 29), 1194.8, 1194.8, 1145.19, 1161.27, 1161.27, 'Amazon'], [datetime.date(2017, 11, 30), 1167.1, 1178.57, 1160.0, 1176.75, 1176.75, 'Amazon'], [datetime.date(2017, 12, 1), 1172.05, 1179.65, 1152.0, 1162.35, 1162.35, 'Amazon'], [datetime.date(2017, 12, 4), 1173.85, 1175.2, 1128.0, 1133.95, 1133.95, 'Amazon'], [datetime.date(2017, 12, 5), 1128.26, 1159.27, 1124.74, 1141.57, 1141.57, 'Amazon'], [datetime.date(2017, 12, 6), 1137.99, 1155.89, 1136.08, 1152.35, 1152.35, 'Amazon'], [datetime.date(2017, 12, 7), 1156.59, 1163.19, 1151.0, 1159.79, 1159.79, 'Amazon'], [datetime.date(2017, 12, 8), 1170.4, 1172.79, 1157.1, 1162.0, 1162.0, 'Amazon'], [datetime.date(2017, 12, 11), 1164.6, 1169.9, 1157.0, 1168.92, 1168.92, 'Amazon'], [datetime.date(2017, 12, 12), 1166.51, 1173.6, 1161.61, 1165.08, 1165.08, 'Amazon'], [datetime.date(2017, 12, 13), 1170.0, 1170.87, 1160.27, 1164.13, 1164.13, 'Amazon'], [datetime.date(2017, 12, 14), 1163.71, 1177.93, 1162.45, 1174.26, 1174.26, 'Amazon'], [datetime.date(2017, 12, 15), 1179.03, 1182.75, 1169.33, 1179.14, 1179.14, 'Amazon'], [datetime.date(2017, 12, 18), 1187.37, 1194.78, 1180.91, 1190.58, 1190.58, 'Amazon'], [datetime.date(2017, 12, 19), 1189.15, 1192.97, 1179.14, 1187.38, 1187.38, 'Amazon'], [datetime.date(2017, 12, 20), 1190.5, 1191.0, 1176.0, 1177.62, 1177.62, 'Amazon'], [datetime.date(2017, 12, 21), 1175.9, 1179.17, 1167.64, 1174.76, 1174.76, 'Amazon'], [datetime.date(2017, 12, 22), 1172.08, 1174.62, 1167.83, 1168.36, 1168.36, 'Amazon'], [datetime.date(2017, 12, 26), 1168.36, 1178.32, 1160.55, 1176.76, 1176.76, 'Amazon'], [datetime.date(2017, 12, 27), 1179.91, 1187.29, 1175.61, 1182.26, 1182.26, 'Amazon'], [datetime.date(2017, 12, 28), 1189.0, 1190.1, 1184.38, 1186.1, 1186.1, 'Amazon'], [datetime.date(2017, 12, 29), 1182.35, 1184.0, 1167.5, 1169.47, 1169.47, 'Amazon'], [datetime.date(2018, 1, 2), 1172.0, 1190.0, 1170.51, 1189.01, 1189.01, 'Amazon'], [datetime.date(2018, 1, 3), 1188.3, 1205.49, 1188.3, 1204.2, 1204.2, 'Amazon'], [datetime.date(2018, 1, 4), 1205.0, 1215.87, 1204.66, 1209.59, 1209.59, 'Amazon'], [datetime.date(2018, 1, 5), 1217.51, 1229.14, 1210.0, 1229.14, 1229.14, 'Amazon'], [datetime.date(2018, 1, 8), 1236.0, 1253.08, 1232.03, 1246.87, 1246.87, 'Amazon'], [datetime.date(2018, 1, 9), 1256.9, 1259.33, 1241.76, 1252.7, 1252.7, 'Amazon'], [datetime.date(2018, 1, 10), 1245.15, 1254.33, 1237.23, 1254.33, 1254.33, 'Amazon'], [datetime.date(2018, 1, 11), 1259.74, 1276.77, 1256.46, 1276.68, 1276.68, 'Amazon'], [datetime.date(2018, 1, 12), 1273.39, 1305.76, 1273.39, 1305.2, 1305.2, 'Amazon'], [datetime.date(2018, 1, 16), 1323.0, 1339.94, 1292.3, 1304.86, 1304.86, 'Amazon'], [datetime.date(2018, 1, 17), 1312.24, 1314.0, 1280.88, 1295.0, 1295.0, 'Amazon'], [datetime.date(2018, 1, 18), 1293.95, 1304.6, 1284.02, 1293.32, 1293.32, 'Amazon'], [datetime.date(2018, 1, 19), 1312.0, 1313.0, 1292.99, 1294.58, 1294.58, 'Amazon'], [datetime.date(2018, 1, 22), 1297.17, 1327.45, 1296.66, 1327.31, 1327.31, 'Amazon'], [datetime.date(2018, 1, 23), 1338.09, 1364.9, 1337.34, 1362.54, 1362.54, 'Amazon'], [datetime.date(2018, 1, 24), 1374.82, 1388.16, 1338.0, 1357.51, 1357.51, 'Amazon'], [datetime.date(2018, 1, 25), 1368.0, 1378.34, 1357.62, 1377.95, 1377.95, 'Amazon'], [datetime.date(2018, 1, 26), 1392.01, 1402.53, 1380.91, 1402.05, 1402.05, 'Amazon'], [datetime.date(2018, 1, 29), 1409.18, 1431.39, 1400.44, 1417.68, 1417.68, 'Amazon'], [datetime.date(2018, 1, 30), 1403.17, 1439.25, 1392.0, 1437.82, 1437.82, 'Amazon'], [datetime.date(2018, 1, 31), 1451.3, 1472.58, 1450.04, 1450.89, 1450.89, 'Amazon'], [datetime.date(2018, 2, 1), 1445.0, 1459.88, 1385.14, 1390.0, 1390.0, 'Amazon'], [datetime.date(2018, 2, 2), 1477.39, 1498.0, 1414.0, 1429.95, 1429.95, 'Amazon'], [datetime.date(2018, 2, 5), 1402.62, 1458.98, 1320.72, 1390.0, 1390.0, 'Amazon'], [datetime.date(2018, 2, 6), 1361.46, 1443.99, 1351.79, 1442.84, 1442.84, 'Amazon'], [datetime.date(2018, 2, 7), 1449.0, 1460.99, 1415.15, 1416.78, 1416.78, 'Amazon'], [datetime.date(2018, 2, 8), 1429.68, 1433.75, 1349.94, 1350.5, 1350.5, 'Amazon'], [datetime.date(2018, 2, 9), 1373.49, 1383.5, 1265.93, 1339.6, 1339.6, 'Amazon'], [datetime.date(2018, 2, 12), 1364.67, 1393.81, 1344.01, 1386.23, 1386.23, 'Amazon'], [datetime.date(2018, 2, 13), 1385.93, 1419.72, 1383.53, 1414.51, 1414.51, 'Amazon'], [datetime.date(2018, 2, 14), 1406.25, 1452.06, 1403.36, 1451.05, 1451.05, 'Amazon'], [datetime.date(2018, 2, 15), 1466.89, 1468.94, 1436.84, 1461.76, 1461.76, 'Amazon'], [datetime.date(2018, 2, 16), 1457.37, 1465.8, 1446.56, 1448.69, 1448.69, 'Amazon'], [datetime.date(2018, 2, 20), 1446.49, 1488.77, 1446.49, 1468.35, 1468.35, 'Amazon'], [datetime.date(2018, 2, 21), 1485.0, 1503.49, 1478.92, 1482.92, 1482.92, 'Amazon'], [datetime.date(2018, 2, 22), 1495.36, 1502.54, 1475.76, 1485.34, 1485.34, 'Amazon'], [datetime.date(2018, 2, 23), 1495.34, 1500.0, 1486.5, 1500.0, 1500.0, 'Amazon'], [datetime.date(2018, 2, 26), 1509.2, 1522.84, 1507.0, 1521.95, 1521.95, 'Amazon'], [datetime.date(2018, 2, 27), 1524.5, 1526.78, 1507.21, 1511.98, 1511.98, 'Amazon'], [datetime.date(2018, 2, 28), 1519.51, 1528.7, 1512.0, 1512.45, 1512.45, 'Amazon'], [datetime.date(2018, 3, 1), 1513.6, 1518.49, 1465.0, 1493.45, 1493.45, 'Amazon'], [datetime.date(2018, 3, 2), 1469.1, 1501.05, 1455.01, 1500.25, 1500.25, 'Amazon'], [datetime.date(2018, 3, 5), 1494.24, 1525.38, 1481.0, 1523.61, 1523.61, 'Amazon'], [datetime.date(2018, 3, 6), 1533.2, 1542.13, 1528.0, 1537.64, 1537.64, 'Amazon'], [datetime.date(2018, 3, 7), 1526.52, 1545.9, 1522.51, 1545.0, 1545.0, 'Amazon'], [datetime.date(2018, 3, 8), 1550.0, 1554.88, 1545.25, 1551.86, 1551.86, 'Amazon'], [datetime.date(2018, 3, 9), 1563.5, 1578.94, 1559.08, 1578.89, 1578.89, 'Amazon'], [datetime.date(2018, 3, 12), 1592.6, 1605.33, 1586.7, 1598.39, 1598.39, 'Amazon'], [datetime.date(2018, 3, 13), 1615.96, 1617.54, 1578.01, 1588.18, 1588.18, 'Amazon'], [datetime.date(2018, 3, 14), 1597.0, 1606.44, 1590.89, 1591.0, 1591.0, 'Amazon'], [datetime.date(2018, 3, 15), 1595.0, 1596.91, 1578.11, 1582.32, 1582.32, 'Amazon'], [datetime.date(2018, 3, 16), 1583.45, 1589.44, 1567.5, 1571.68, 1571.68, 'Amazon'], [datetime.date(2018, 3, 19), 1554.53, 1561.66, 1525.35, 1544.93, 1544.93, 'Amazon'], [datetime.date(2018, 3, 20), 1550.34, 1587.0, 1545.41, 1586.51, 1586.51, 'Amazon'], [datetime.date(2018, 3, 21), 1586.45, 1590.0, 1563.17, 1581.86, 1581.86, 'Amazon'], [datetime.date(2018, 3, 22), 1565.47, 1573.85, 1542.4, 1544.92, 1544.92, 'Amazon'], [datetime.date(2018, 3, 23), 1539.01, 1549.02, 1495.36, 1495.56, 1495.56, 'Amazon'], [datetime.date(2018, 3, 26), 1530.0, 1556.99, 1499.25, 1555.86, 1555.86, 'Amazon'], [datetime.date(2018, 3, 27), 1572.4, 1575.97, 1482.32, 1497.05, 1497.05, 'Amazon'], [datetime.date(2018, 3, 28), 1447.0, 1455.9, 1386.17, 1431.42, 1431.42, 'Amazon'], [datetime.date(2018, 3, 29), 1406.0, 1455.47, 1365.2, 1447.34, 1447.34, 'Amazon'], [datetime.date(2018, 4, 2), 1417.62, 1421.36, 1355.0, 1371.99, 1371.99, 'Amazon'], [datetime.date(2018, 4, 3), 1391.38, 1414.0, 1355.33, 1392.05, 1392.05, 'Amazon'], [datetime.date(2018, 4, 4), 1358.24, 1415.39, 1352.88, 1410.57, 1410.57, 'Amazon'], [datetime.date(2018, 4, 5), 1441.99, 1459.56, 1427.07, 1451.75, 1451.75, 'Amazon'], [datetime.date(2018, 4, 6), 1429.97, 1452.5, 1400.26, 1405.23, 1405.23, 'Amazon'], [datetime.date(2018, 4, 9), 1425.03, 1438.48, 1402.57, 1406.08, 1406.08, 'Amazon'], [datetime.date(2018, 4, 10), 1431.99, 1438.38, 1415.7, 1436.22, 1436.22, 'Amazon'], [datetime.date(2018, 4, 11), 1439.44, 1448.78, 1424.89, 1427.05, 1427.05, 'Amazon'], [datetime.date(2018, 4, 12), 1439.5, 1452.12, 1435.06, 1448.5, 1448.5, 'Amazon'], [datetime.date(2018, 4, 13), 1449.14, 1459.78, 1424.52, 1430.79, 1430.79, 'Amazon'], [datetime.date(2018, 4, 16), 1445.0, 1447.0, 1427.48, 1441.5, 1441.5, 'Amazon'], [datetime.date(2018, 4, 17), 1462.3, 1507.19, 1457.02, 1503.83, 1503.83, 'Amazon'], [datetime.date(2018, 4, 18), 1514.65, 1533.8, 1504.11, 1527.84, 1527.84, 'Amazon'], [datetime.date(2018, 4, 19), 1543.22, 1568.52, 1539.06, 1556.91, 1556.91, 'Amazon'], [datetime.date(2018, 4, 20), 1561.2, 1561.2, 1516.09, 1527.49, 1527.49, 'Amazon'], [datetime.date(2018, 4, 23), 1546.69, 1548.0, 1503.41, 1517.86, 1517.86, 'Amazon'], [datetime.date(2018, 4, 24), 1535.8, 1539.5, 1448.45, 1460.09, 1460.09, 'Amazon'], [datetime.date(2018, 4, 25), 1458.0, 1469.99, 1415.02, 1460.17, 1460.17, 'Amazon'], [datetime.date(2018, 4, 26), 1485.01, 1529.42, 1478.5, 1517.96, 1517.96, 'Amazon'], [datetime.date(2018, 4, 27), 1634.01, 1638.1, 1567.39, 1572.62, 1572.62, 'Amazon'], [datetime.date(2018, 4, 30), 1582.5, 1596.0, 1560.94, 1566.13, 1566.13, 'Amazon'], [datetime.date(2018, 5, 1), 1563.22, 1585.0, 1552.18, 1582.26, 1582.26, 'Amazon'], [datetime.date(2018, 5, 2), 1580.98, 1588.5, 1566.36, 1569.68, 1569.68, 'Amazon'], [datetime.date(2018, 5, 3), 1560.01, 1574.8, 1546.02, 1572.08, 1572.08, 'Amazon'], [datetime.date(2018, 5, 4), 1562.45, 1584.9, 1562.19, 1580.95, 1580.95, 'Amazon'], [datetime.date(2018, 5, 7), 1589.34, 1606.95, 1587.83, 1600.14, 1600.14, 'Amazon'], [datetime.date(2018, 5, 8), 1595.0, 1596.88, 1582.51, 1592.39, 1592.39, 'Amazon'], [datetime.date(2018, 5, 9), 1600.0, 1608.0, 1592.0, 1608.0, 1608.0, 'Amazon'], [datetime.date(2018, 5, 10), 1608.48, 1615.6, 1603.44, 1609.08, 1609.08, 'Amazon'], [datetime.date(2018, 5, 11), 1610.99, 1611.1, 1597.89, 1602.91, 1602.91, 'Amazon'], [datetime.date(2018, 5, 14), 1604.0, 1611.18, 1600.05, 1601.54, 1601.54, 'Amazon'], [datetime.date(2018, 5, 15), 1587.8, 1587.8, 1565.22, 1576.12, 1576.12, 'Amazon'], [datetime.date(2018, 5, 16), 1577.5, 1594.43, 1576.67, 1587.28, 1587.28, 'Amazon'], [datetime.date(2018, 5, 17), 1580.56, 1594.04, 1573.0, 1581.76, 1581.76, 'Amazon'], [datetime.date(2018, 5, 18), 1581.33, 1583.59, 1572.1, 1574.37, 1574.37, 'Amazon'], [datetime.date(2018, 5, 21), 1585.0, 1592.05, 1575.0, 1585.46, 1585.46, 'Amazon'], [datetime.date(2018, 5, 22), 1589.89, 1589.89, 1575.25, 1581.4, 1581.4, 'Amazon'], [datetime.date(2018, 5, 23), 1571.05, 1601.86, 1566.34, 1601.86, 1601.86, 'Amazon'], [datetime.date(2018, 5, 24), 1598.03, 1608.24, 1588.38, 1603.07, 1603.07, 'Amazon'], [datetime.date(2018, 5, 25), 1603.0, 1614.12, 1600.45, 1610.15, 1610.15, 'Amazon'], [datetime.date(2018, 5, 29), 1600.71, 1621.79, 1600.15, 1612.87, 1612.87, 'Amazon'], [datetime.date(2018, 5, 30), 1618.1, 1626.0, 1612.93, 1624.89, 1624.89, 'Amazon'], [datetime.date(2018, 5, 31), 1623.0, 1635.0, 1621.35, 1629.62, 1629.62, 'Amazon'], [datetime.date(2018, 6, 1), 1637.03, 1646.73, 1635.09, 1641.54, 1641.54, 'Amazon'], [datetime.date(2018, 6, 4), 1648.9, 1665.68, 1645.49, 1665.27, 1665.27, 'Amazon'], [datetime.date(2018, 6, 5), 1672.99, 1699.0, 1670.06, 1696.35, 1696.35, 'Amazon'], [datetime.date(2018, 6, 6), 1704.51, 1714.5, 1686.47, 1695.75, 1695.75, 'Amazon'], [datetime.date(2018, 6, 7), 1698.56, 1699.9, 1676.11, 1689.3, 1689.3, 'Amazon'], [datetime.date(2018, 6, 8), 1681.12, 1689.44, 1673.01, 1683.99, 1683.99, 'Amazon'], [datetime.date(2018, 6, 11), 1681.51, 1694.24, 1680.59, 1689.12, 1689.12, 'Amazon'], [datetime.date(2018, 6, 12), 1693.0, 1699.51, 1691.52, 1698.75, 1698.75, 'Amazon'], [datetime.date(2018, 6, 13), 1702.81, 1713.75, 1700.12, 1704.86, 1704.86, 'Amazon'], [datetime.date(2018, 6, 14), 1713.48, 1724.8, 1708.87, 1723.86, 1723.86, 'Amazon'], [datetime.date(2018, 6, 15), 1714.0, 1720.87, 1708.52, 1715.97, 1715.97, 'Amazon'], [datetime.date(2018, 6, 18), 1706.26, 1726.74, 1702.56, 1723.79, 1723.79, 'Amazon'], [datetime.date(2018, 6, 19), 1709.04, 1736.11, 1700.39, 1734.78, 1734.78, 'Amazon'], [datetime.date(2018, 6, 20), 1742.5, 1762.93, 1741.36, 1750.08, 1750.08, 'Amazon'], [datetime.date(2018, 6, 21), 1760.0, 1763.1, 1717.56, 1730.22, 1730.22, 'Amazon'], [datetime.date(2018, 6, 22), 1742.62, 1743.0, 1711.9, 1715.67, 1715.67, 'Amazon'], [datetime.date(2018, 6, 25), 1702.51, 1705.0, 1646.31, 1663.15, 1663.15, 'Amazon'], [datetime.date(2018, 6, 26), 1672.37, 1701.57, 1663.34, 1691.09, 1691.09, 'Amazon'], [datetime.date(2018, 6, 27), 1708.11, 1711.95, 1660.0, 1660.51, 1660.51, 'Amazon'], [datetime.date(2018, 6, 28), 1672.54, 1705.5, 1661.17, 1701.45, 1701.45, 'Amazon'], [datetime.date(2018, 6, 29), 1717.0, 1723.41, 1694.32, 1699.8, 1699.8, 'Amazon'], [datetime.date(2018, 7, 2), 1682.7, 1713.89, 1678.06, 1713.78, 1713.78, 'Amazon'], [datetime.date(2018, 7, 3), 1723.96, 1725.0, 1692.48, 1693.96, 1693.96, 'Amazon'], [datetime.date(2018, 7, 5), 1705.38, 1710.69, 1682.15, 1699.73, 1699.73, 'Amazon'], [datetime.date(2018, 7, 6), 1696.0, 1715.27, 1691.67, 1710.63, 1710.63, 'Amazon'], [datetime.date(2018, 7, 9), 1724.05, 1739.56, 1716.23, 1739.02, 1739.02, 'Amazon'], [datetime.date(2018, 7, 10), 1738.53, 1750.0, 1731.0, 1743.07, 1743.07, 'Amazon'], [datetime.date(2018, 7, 11), 1737.99, 1756.96, 1734.0, 1755.0, 1755.0, 'Amazon'], [datetime.date(2018, 7, 12), 1764.51, 1798.0, 1762.18, 1796.62, 1796.62, 'Amazon'], [datetime.date(2018, 7, 13), 1803.93, 1815.3, 1795.23, 1813.03, 1813.03, 'Amazon'], [datetime.date(2018, 7, 16), 1821.95, 1841.95, 1814.45, 1822.49, 1822.49, 'Amazon'], [datetime.date(2018, 7, 17), 1811.56, 1851.69, 1797.38, 1843.93, 1843.93, 'Amazon'], [datetime.date(2018, 7, 18), 1848.0, 1858.88, 1831.27, 1842.92, 1842.92, 'Amazon'], [datetime.date(2018, 7, 19), 1829.46, 1841.0, 1811.27, 1812.97, 1812.97, 'Amazon'], [datetime.date(2018, 7, 20), 1825.01, 1834.84, 1810.06, 1813.7, 1813.7, 'Amazon'], [datetime.date(2018, 7, 23), 1812.21, 1819.0, 1769.99, 1802.0, 1802.0, 'Amazon'], [datetime.date(2018, 7, 24), 1829.01, 1840.0, 1809.38, 1829.24, 1829.24, 'Amazon'], [datetime.date(2018, 7, 25), 1829.3, 1863.84, 1822.64, 1863.61, 1863.61, 'Amazon'], [datetime.date(2018, 7, 26), 1839.0, 1844.68, 1804.5, 1808.0, 1808.0, 'Amazon'], [datetime.date(2018, 7, 27), 1876.05, 1880.05, 1806.53, 1817.27, 1817.27, 'Amazon'], [datetime.date(2018, 7, 30), 1827.33, 1829.5, 1766.02, 1779.22, 1779.22, 'Amazon'], [datetime.date(2018, 7, 31), 1786.49, 1801.83, 1739.32, 1777.44, 1777.44, 'Amazon'], [datetime.date(2018, 8, 1), 1784.0, 1798.44, 1776.02, 1797.17, 1797.17, 'Amazon'], [datetime.date(2018, 8, 2), 1788.77, 1836.56, 1786.0, 1834.33, 1834.33, 'Amazon'], [datetime.date(2018, 8, 3), 1837.74, 1841.0, 1821.5, 1823.29, 1823.29, 'Amazon'], [datetime.date(2018, 8, 6), 1825.81, 1847.77, 1818.92, 1847.75, 1847.75, 'Amazon'], [datetime.date(2018, 8, 7), 1854.53, 1869.72, 1846.27, 1862.48, 1862.48, 'Amazon'], [datetime.date(2018, 8, 8), 1861.0, 1891.51, 1854.5, 1886.52, 1886.52, 'Amazon'], [datetime.date(2018, 8, 9), 1882.0, 1914.57, 1877.48, 1898.52, 1898.52, 'Amazon'], [datetime.date(2018, 8, 10), 1888.51, 1899.5, 1878.21, 1886.3, 1886.3, 'Amazon'], [datetime.date(2018, 8, 13), 1898.5, 1925.0, 1893.67, 1896.2, 1896.2, 'Amazon'], [datetime.date(2018, 8, 14), 1919.39, 1921.01, 1900.0, 1919.65, 1919.65, 'Amazon'], [datetime.date(2018, 8, 15), 1909.55, 1916.21, 1869.79, 1882.62, 1882.62, 'Amazon'], [datetime.date(2018, 8, 16), 1903.94, 1905.0, 1883.55, 1886.52, 1886.52, 'Amazon'], [datetime.date(2018, 8, 17), 1885.8, 1888.0, 1855.55, 1882.22, 1882.22, 'Amazon'], [datetime.date(2018, 8, 20), 1890.57, 1891.75, 1866.06, 1876.71, 1876.71, 'Amazon'], [datetime.date(2018, 8, 21), 1880.0, 1897.75, 1874.41, 1883.42, 1883.42, 'Amazon'], [datetime.date(2018, 8, 22), 1876.64, 1905.8, 1876.64, 1904.9, 1904.9, 'Amazon'], [datetime.date(2018, 8, 23), 1907.17, 1919.5, 1900.76, 1902.9, 1902.9, 'Amazon'], [datetime.date(2018, 8, 24), 1910.51, 1916.01, 1902.54, 1905.39, 1905.39, 'Amazon'], [datetime.date(2018, 8, 27), 1915.0, 1927.7, 1909.28, 1927.68, 1927.68, 'Amazon'], [datetime.date(2018, 8, 28), 1937.73, 1941.78, 1928.82, 1932.82, 1932.82, 'Amazon'], [datetime.date(2018, 8, 29), 1953.45, 1998.69, 1948.94, 1998.1, 1998.1, 'Amazon'], [datetime.date(2018, 8, 30), 1997.42, 2025.57, 1986.9, 2002.38, 2002.38, 'Amazon'], [datetime.date(2018, 8, 31), 2007.0, 2022.38, 2004.74, 2012.71, 2012.71, 'Amazon'], [datetime.date(2018, 9, 4), 2026.5, 2050.5, 2013.0, 2039.51, 2039.51, 'Amazon'], [datetime.date(2018, 9, 5), 2038.11, 2040.38, 1989.89, 1994.82, 1994.82, 'Amazon'], [datetime.date(2018, 9, 6), 2006.51, 2007.5, 1935.21, 1958.31, 1958.31, 'Amazon'], [datetime.date(2018, 9, 7), 1938.71, 1975.2, 1937.35, 1952.07, 1952.07, 'Amazon'], [datetime.date(2018, 9, 10), 1971.0, 1973.04, 1931.52, 1939.01, 1939.01, 'Amazon'], [datetime.date(2018, 9, 11), 1928.27, 1988.88, 1917.0, 1987.15, 1987.15, 'Amazon'], [datetime.date(2018, 9, 12), 1994.0, 2000.0, 1962.44, 1990.0, 1990.0, 'Amazon'], [datetime.date(2018, 9, 13), 2000.0, 2008.76, 1982.03, 1989.87, 1989.87, 'Amazon'], [datetime.date(2018, 9, 14), 1992.93, 1993.65, 1959.22, 1970.19, 1970.19, 'Amazon'], [datetime.date(2018, 9, 17), 1954.73, 1956.82, 1887.41, 1908.03, 1908.03, 'Amazon'], [datetime.date(2018, 9, 18), 1918.65, 1958.2, 1915.44, 1941.05, 1941.05, 'Amazon'], [datetime.date(2018, 9, 19), 1940.5, 1940.83, 1904.9, 1926.42, 1926.42, 'Amazon'], [datetime.date(2018, 9, 20), 1938.58, 1955.0, 1932.25, 1944.3, 1944.3, 'Amazon'], [datetime.date(2018, 9, 21), 1954.22, 1957.31, 1910.5, 1915.01, 1915.01, 'Amazon'], [datetime.date(2018, 9, 24), 1903.79, 1936.88, 1865.0, 1934.36, 1934.36, 'Amazon'], [datetime.date(2018, 9, 25), 1942.9, 1975.91, 1938.85, 1974.55, 1974.55, 'Amazon'], [datetime.date(2018, 9, 26), 1968.5, 1995.25, 1961.52, 1974.85, 1974.85, 'Amazon'], [datetime.date(2018, 9, 27), 1993.24, 2016.16, 1988.58, 2012.98, 2012.98, 'Amazon'], [datetime.date(2018, 9, 28), 2004.41, 2026.52, 1996.46, 2003.0, 2003.0, 'Amazon'], [datetime.date(2018, 10, 1), 2021.99, 2033.19, 2003.6, 2004.36, 2004.36, 'Amazon'], [datetime.date(2018, 10, 2), 1999.99, 2013.39, 1965.77, 1971.31, 1971.31, 'Amazon'], [datetime.date(2018, 10, 3), 1981.7, 1989.7, 1949.81, 1952.76, 1952.76, 'Amazon'], [datetime.date(2018, 10, 4), 1949.0, 1956.0, 1896.57, 1909.42, 1909.42, 'Amazon'], [datetime.date(2018, 10, 5), 1917.99, 1929.08, 1862.83, 1889.65, 1889.65, 'Amazon'], [datetime.date(2018, 10, 8), 1874.0, 1902.0, 1830.66, 1864.42, 1864.42, 'Amazon'], [datetime.date(2018, 10, 9), 1859.99, 1896.68, 1852.32, 1870.32, 1870.32, 'Amazon'], [datetime.date(2018, 10, 10), 1857.89, 1858.56, 1754.41, 1755.25, 1755.25, 'Amazon'], [datetime.date(2018, 10, 11), 1724.0, 1755.4, 1685.1, 1719.36, 1719.36, 'Amazon'], [datetime.date(2018, 10, 12), 1808.0, 1808.95, 1742.53, 1788.61, 1788.61, 'Amazon'], [datetime.date(2018, 10, 15), 1795.0, 1795.05, 1734.23, 1760.95, 1760.95, 'Amazon'], [datetime.date(2018, 10, 16), 1783.5, 1823.88, 1761.55, 1819.96, 1819.96, 'Amazon'], [datetime.date(2018, 10, 17), 1842.79, 1845.0, 1807.0, 1831.73, 1831.73, 'Amazon'], [datetime.date(2018, 10, 18), 1821.49, 1830.15, 1767.87, 1770.72, 1770.72, 'Amazon'], [datetime.date(2018, 10, 19), 1785.16, 1809.1, 1753.0, 1764.03, 1764.03, 'Amazon'], [datetime.date(2018, 10, 22), 1784.0, 1809.5, 1756.0, 1789.3, 1789.3, 'Amazon'], [datetime.date(2018, 10, 23), 1742.24, 1776.34, 1714.0, 1768.7, 1768.7, 'Amazon'], [datetime.date(2018, 10, 24), 1773.7, 1777.71, 1656.56, 1664.2, 1664.2, 'Amazon'], [datetime.date(2018, 10, 25), 1703.34, 1794.81, 1692.01, 1782.17, 1782.17, 'Amazon'], [datetime.date(2018, 10, 26), 1649.59, 1698.46, 1603.0, 1642.81, 1642.81, 'Amazon'], [datetime.date(2018, 10, 29), 1660.0, 1665.74, 1495.0, 1538.88, 1538.88, 'Amazon'], [datetime.date(2018, 10, 30), 1486.16, 1540.99, 1476.36, 1530.42, 1530.42, 'Amazon'], [datetime.date(2018, 10, 31), 1569.99, 1623.91, 1565.09, 1598.01, 1598.01, 'Amazon'], [datetime.date(2018, 11, 1), 1623.53, 1670.45, 1598.44, 1665.53, 1665.53, 'Amazon'], [datetime.date(2018, 11, 2), 1678.59, 1697.44, 1651.83, 1665.53, 1665.53, 'Amazon'], [datetime.date(2018, 11, 5), 1657.57, 1658.09, 1596.36, 1627.8, 1627.8, 'Amazon'], [datetime.date(2018, 11, 6), 1618.35, 1665.0, 1614.55, 1642.81, 1642.81, 'Amazon'], [datetime.date(2018, 11, 7), 1673.0, 1759.23, 1664.08, 1755.49, 1755.49, 'Amazon'], [datetime.date(2018, 11, 8), 1755.0, 1784.0, 1725.11, 1754.91, 1754.91, 'Amazon'], [datetime.date(2018, 11, 9), 1732.5, 1743.92, 1701.87, 1712.43, 1712.43, 'Amazon'], [datetime.date(2018, 11, 12), 1698.24, 1708.55, 1630.01, 1636.85, 1636.85, 'Amazon'], [datetime.date(2018, 11, 13), 1649.29, 1677.06, 1613.75, 1631.17, 1631.17, 'Amazon'], [datetime.date(2018, 11, 14), 1656.32, 1673.0, 1597.07, 1599.01, 1599.01, 'Amazon'], [datetime.date(2018, 11, 15), 1581.01, 1624.82, 1546.51, 1619.44, 1619.44, 'Amazon'], [datetime.date(2018, 11, 16), 1587.5, 1614.48, 1573.12, 1593.41, 1593.41, 'Amazon'], [datetime.date(2018, 11, 19), 1577.01, 1581.19, 1503.36, 1512.29, 1512.29, 'Amazon'], [datetime.date(2018, 11, 20), 1437.5, 1534.75, 1420.0, 1495.46, 1495.46, 'Amazon'], [datetime.date(2018, 11, 21), 1542.99, 1550.0, 1515.0, 1516.73, 1516.73, 'Amazon'], [datetime.date(2018, 11, 23), 1517.0, 1536.2, 1501.81, 1502.06, 1502.06, 'Amazon'], [datetime.date(2018, 11, 26), 1539.0, 1584.81, 1524.22, 1581.33, 1581.33, 'Amazon'], [datetime.date(2018, 11, 27), 1575.99, 1597.65, 1558.01, 1581.42, 1581.42, 'Amazon'], [datetime.date(2018, 11, 28), 1613.92, 1681.45, 1601.22, 1677.75, 1677.75, 'Amazon'], [datetime.date(2018, 11, 29), 1674.99, 1689.99, 1652.33, 1673.57, 1673.57, 'Amazon'], [datetime.date(2018, 11, 30), 1679.5, 1696.0, 1666.5, 1690.17, 1690.17, 'Amazon'], [datetime.date(2018, 12, 3), 1769.46, 1778.34, 1730.0, 1772.36, 1772.36, 'Amazon'], [datetime.date(2018, 12, 4), 1756.0, 1770.34, 1665.0, 1668.4, 1668.4, 'Amazon'], [datetime.date(2018, 12, 6), 1614.87, 1701.05, 1609.85, 1699.19, 1699.19, 'Amazon'], [datetime.date(2018, 12, 7), 1705.07, 1718.93, 1625.46, 1629.13, 1629.13, 'Amazon'], [datetime.date(2018, 12, 10), 1623.84, 1657.99, 1590.87, 1641.03, 1641.03, 'Amazon'], [datetime.date(2018, 12, 11), 1678.0, 1679.47, 1619.6, 1643.24, 1643.24, 'Amazon'], [datetime.date(2018, 12, 12), 1669.0, 1704.99, 1660.27, 1663.54, 1663.54, 'Amazon'], [datetime.date(2018, 12, 13), 1680.0, 1692.12, 1641.5, 1658.38, 1658.38, 'Amazon'], [datetime.date(2018, 12, 14), 1638.0, 1642.57, 1585.0, 1591.91, 1591.91, 'Amazon'], [datetime.date(2018, 12, 17), 1566.0, 1576.13, 1505.01, 1520.91, 1520.91, 'Amazon'], [datetime.date(2018, 12, 18), 1540.0, 1567.55, 1523.01, 1551.48, 1551.48, 'Amazon'], [datetime.date(2018, 12, 19), 1543.05, 1584.53, 1483.18, 1495.08, 1495.08, 'Amazon'], [datetime.date(2018, 12, 20), 1484.0, 1509.5, 1432.69, 1460.83, 1460.83, 'Amazon'], [datetime.date(2018, 12, 21), 1464.99, 1480.0, 1363.96, 1377.45, 1377.45, 'Amazon'], [datetime.date(2018, 12, 24), 1346.0, 1396.03, 1307.0, 1343.96, 1343.96, 'Amazon'], [datetime.date(2018, 12, 26), 1368.89, 1473.16, 1363.01, 1470.9, 1470.9, 'Amazon'], [datetime.date(2018, 12, 27), 1454.2, 1469.0, 1390.31, 1461.64, 1461.64, 'Amazon'], [datetime.date(2018, 12, 28), 1473.35, 1513.47, 1449.0, 1478.02, 1478.02, 'Amazon'], [datetime.date(2018, 12, 31), 1510.8, 1520.76, 1487.0, 1501.97, 1501.97, 'Amazon'], [datetime.date(2019, 1, 2), 1465.2, 1553.36, 1460.93, 1539.13, 1539.13, 'Amazon'], [datetime.date(2019, 1, 3), 1520.01, 1538.0, 1497.11, 1500.28, 1500.28, 'Amazon'], [datetime.date(2019, 1, 4), 1530.0, 1594.0, 1518.31, 1575.39, 1575.39, 'Amazon'], [datetime.date(2019, 1, 7), 1602.31, 1634.56, 1589.19, 1629.51, 1629.51, 'Amazon'], [datetime.date(2019, 1, 8), 1664.69, 1676.61, 1616.61, 1656.58, 1656.58, 'Amazon'], [datetime.date(2019, 1, 9), 1652.98, 1667.8, 1641.4, 1659.42, 1659.42, 'Amazon'], [datetime.date(2019, 1, 10), 1641.01, 1663.25, 1621.62, 1656.22, 1656.22, 'Amazon'], [datetime.date(2019, 1, 11), 1640.55, 1660.29, 1636.22, 1640.56, 1640.56, 'Amazon'], [datetime.date(2019, 1, 14), 1615.0, 1648.2, 1595.15, 1617.21, 1617.21, 'Amazon'], [datetime.date(2019, 1, 15), 1632.0, 1675.16, 1626.01, 1674.56, 1674.56, 'Amazon'], [datetime.date(2019, 1, 16), 1684.22, 1705.0, 1675.88, 1683.78, 1683.78, 'Amazon'], [datetime.date(2019, 1, 17), 1680.0, 1700.17, 1677.5, 1693.22, 1693.22, 'Amazon'], [datetime.date(2019, 1, 18), 1712.0, 1716.2, 1691.54, 1696.2, 1696.2, 'Amazon'], [datetime.date(2019, 1, 22), 1681.0, 1681.87, 1610.2, 1632.17, 1632.17, 'Amazon'], [datetime.date(2019, 1, 23), 1656.0, 1657.43, 1612.0, 1640.02, 1640.02, 'Amazon'], [datetime.date(2019, 1, 24), 1641.07, 1657.26, 1631.78, 1654.93, 1654.93, 'Amazon'], [datetime.date(2019, 1, 25), 1670.5, 1683.48, 1661.61, 1670.57, 1670.57, 'Amazon'], [datetime.date(2019, 1, 28), 1643.59, 1645.0, 1614.09, 1637.89, 1637.89, 'Amazon'], [datetime.date(2019, 1, 29), 1631.27, 1632.38, 1590.72, 1593.88, 1593.88, 'Amazon'], [datetime.date(2019, 1, 30), 1623.0, 1676.95, 1619.68, 1670.43, 1670.43, 'Amazon'], [datetime.date(2019, 1, 31), 1692.85, 1736.41, 1679.08, 1718.73, 1718.73, 'Amazon'], [datetime.date(2019, 2, 1), 1638.88, 1673.06, 1622.01, 1626.23, 1626.23, 'Amazon'], [datetime.date(2019, 2, 4), 1623.0, 1649.63, 1613.5, 1633.31, 1633.31, 'Amazon'], [datetime.date(2019, 2, 5), 1643.34, 1665.26, 1642.5, 1658.81, 1658.81, 'Amazon'], [datetime.date(2019, 2, 6), 1670.75, 1672.26, 1633.34, 1640.26, 1640.26, 'Amazon'], [datetime.date(2019, 2, 7), 1625.0, 1625.54, 1592.91, 1614.37, 1614.37, 'Amazon'], [datetime.date(2019, 2, 8), 1586.0, 1588.59, 1566.76, 1588.22, 1588.22, 'Amazon'], [datetime.date(2019, 2, 11), 1600.98, 1609.29, 1586.0, 1591.0, 1591.0, 'Amazon'], [datetime.date(2019, 2, 12), 1604.0, 1639.4, 1598.88, 1638.01, 1638.01, 'Amazon'], [datetime.date(2019, 2, 13), 1647.0, 1656.38, 1637.11, 1640.0, 1640.0, 'Amazon'], [datetime.date(2019, 2, 14), 1624.5, 1637.9, 1606.06, 1622.65, 1622.65, 'Amazon'], [datetime.date(2019, 2, 15), 1627.86, 1628.91, 1604.5, 1607.95, 1607.95, 'Amazon'], [datetime.date(2019, 2, 19), 1601.0, 1634.0, 1600.56, 1627.58, 1627.58, 'Amazon'], [datetime.date(2019, 2, 20), 1630.0, 1634.93, 1610.12, 1622.1, 1622.1, 'Amazon'], [datetime.date(2019, 2, 21), 1619.85, 1623.56, 1600.91, 1619.44, 1619.44, 'Amazon'], [datetime.date(2019, 2, 22), 1623.5, 1634.94, 1621.17, 1631.56, 1631.56, 'Amazon'], [datetime.date(2019, 2, 25), 1641.45, 1654.6, 1630.39, 1633.0, 1633.0, 'Amazon'], [datetime.date(2019, 2, 26), 1625.98, 1639.99, 1616.13, 1636.4, 1636.4, 'Amazon'], [datetime.date(2019, 2, 27), 1628.18, 1641.81, 1615.1, 1641.09, 1641.09, 'Amazon'], [datetime.date(2019, 2, 28), 1635.25, 1651.77, 1633.83, 1639.83, 1639.83, 'Amazon'], [datetime.date(2019, 3, 1), 1655.13, 1674.26, 1651.0, 1671.73, 1671.73, 'Amazon'], [datetime.date(2019, 3, 4), 1685.0, 1709.43, 1674.36, 1696.17, 1696.17, 'Amazon'], [datetime.date(2019, 3, 5), 1702.95, 1707.8, 1689.01, 1692.43, 1692.43, 'Amazon'], [datetime.date(2019, 3, 6), 1695.97, 1697.75, 1668.28, 1668.95, 1668.95, 'Amazon'], [datetime.date(2019, 3, 7), 1667.37, 1669.75, 1620.51, 1625.95, 1625.95, 'Amazon'], [datetime.date(2019, 3, 8), 1604.01, 1622.72, 1586.57, 1620.8, 1620.8, 'Amazon'], [datetime.date(2019, 3, 11), 1626.12, 1672.29, 1626.01, 1670.62, 1670.62, 'Amazon'], [datetime.date(2019, 3, 12), 1669.0, 1684.27, 1660.98, 1673.1, 1673.1, 'Amazon'], [datetime.date(2019, 3, 13), 1683.0, 1700.0, 1679.35, 1690.81, 1690.81, 'Amazon'], [datetime.date(2019, 3, 14), 1691.2, 1702.0, 1684.34, 1686.22, 1686.22, 'Amazon'], [datetime.date(2019, 3, 15), 1703.0, 1718.8, 1693.13, 1712.36, 1712.36, 'Amazon'], [datetime.date(2019, 3, 18), 1712.7, 1750.0, 1712.63, 1742.15, 1742.15, 'Amazon'], [datetime.date(2019, 3, 19), 1753.51, 1784.16, 1753.51, 1761.85, 1761.85, 'Amazon'], [datetime.date(2019, 3, 20), 1769.94, 1799.5, 1767.03, 1797.27, 1797.27, 'Amazon'], [datetime.date(2019, 3, 21), 1796.26, 1823.75, 1787.28, 1819.26, 1819.26, 'Amazon'], [datetime.date(2019, 3, 22), 1810.17, 1818.98, 1763.11, 1764.77, 1764.77, 'Amazon'], [datetime.date(2019, 3, 25), 1757.79, 1782.68, 1747.5, 1774.26, 1774.26, 'Amazon'], [datetime.date(2019, 3, 26), 1793.0, 1805.77, 1773.36, 1783.76, 1783.76, 'Amazon'], [datetime.date(2019, 3, 27), 1784.13, 1787.5, 1745.68, 1765.7, 1765.7, 'Amazon'], [datetime.date(2019, 3, 28), 1770.0, 1777.93, 1753.47, 1773.42, 1773.42, 'Amazon'], [datetime.date(2019, 3, 29), 1786.58, 1792.86, 1776.63, 1780.75, 1780.75, 'Amazon'], [datetime.date(2019, 4, 1), 1800.11, 1815.67, 1798.73, 1814.19, 1814.19, 'Amazon'], [datetime.date(2019, 4, 2), 1811.02, 1820.0, 1805.12, 1813.98, 1813.98, 'Amazon'], [datetime.date(2019, 4, 3), 1826.72, 1830.0, 1809.62, 1820.7, 1820.7, 'Amazon'], [datetime.date(2019, 4, 4), 1820.65, 1828.75, 1804.2, 1818.86, 1818.86, 'Amazon'], [datetime.date(2019, 4, 5), 1829.0, 1838.58, 1825.19, 1837.28, 1837.28, 'Amazon'], [datetime.date(2019, 4, 8), 1833.23, 1850.2, 1825.11, 1849.86, 1849.86, 'Amazon'], [datetime.date(2019, 4, 9), 1845.49, 1853.09, 1831.78, 1835.84, 1835.84, 'Amazon'], [datetime.date(2019, 4, 10), 1841.0, 1848.0, 1828.81, 1847.33, 1847.33, 'Amazon'], [datetime.date(2019, 4, 11), 1848.7, 1849.95, 1840.31, 1844.07, 1844.07, 'Amazon'], [datetime.date(2019, 4, 12), 1848.4, 1851.5, 1841.3, 1843.06, 1843.06, 'Amazon'], [datetime.date(2019, 4, 15), 1842.0, 1846.85, 1818.9, 1844.87, 1844.87, 'Amazon'], [datetime.date(2019, 4, 16), 1851.35, 1869.77, 1848.0, 1863.04, 1863.04, 'Amazon'], [datetime.date(2019, 4, 17), 1872.99, 1876.47, 1860.44, 1864.82, 1864.82, 'Amazon'], [datetime.date(2019, 4, 18), 1868.79, 1870.82, 1859.48, 1861.69, 1861.69, 'Amazon'], [datetime.date(2019, 4, 22), 1855.4, 1888.42, 1845.64, 1887.31, 1887.31, 'Amazon'], [datetime.date(2019, 4, 23), 1891.2, 1929.26, 1889.58, 1923.77, 1923.77, 'Amazon'], [datetime.date(2019, 4, 24), 1925.0, 1929.69, 1898.16, 1901.75, 1901.75, 'Amazon'], [datetime.date(2019, 4, 25), 1917.0, 1922.45, 1900.31, 1902.25, 1902.25, 'Amazon'], [datetime.date(2019, 4, 26), 1929.0, 1951.0, 1898.0, 1950.63, 1950.63, 'Amazon'], [datetime.date(2019, 4, 29), 1949.0, 1956.34, 1934.09, 1938.43, 1938.43, 'Amazon'], [datetime.date(2019, 4, 30), 1930.1, 1935.71, 1906.95, 1926.52, 1926.52, 'Amazon'], [datetime.date(2019, 5, 1), 1933.09, 1943.64, 1910.55, 1911.52, 1911.52, 'Amazon'], [datetime.date(2019, 5, 2), 1913.33, 1921.55, 1881.87, 1900.82, 1900.82, 'Amazon'], [datetime.date(2019, 5, 3), 1949.0, 1964.4, 1936.0, 1962.46, 1962.46, 'Amazon'], [datetime.date(2019, 5, 6), 1917.98, 1959.0, 1910.5, 1950.55, 1950.55, 'Amazon'], [datetime.date(2019, 5, 7), 1939.99, 1949.1, 1903.38, 1921.0, 1921.0, 'Amazon'], [datetime.date(2019, 5, 8), 1918.87, 1935.37, 1910.0, 1917.77, 1917.77, 'Amazon'], [datetime.date(2019, 5, 9), 1900.0, 1909.4, 1876.0, 1899.87, 1899.87, 'Amazon'], [datetime.date(2019, 5, 10), 1898.0, 1903.79, 1856.0, 1889.98, 1889.98, 'Amazon'], [datetime.date(2019, 5, 13), 1836.56, 1846.54, 1818.0, 1822.68, 1822.68, 'Amazon'], [datetime.date(2019, 5, 14), 1839.5, 1852.44, 1815.75, 1840.12, 1840.12, 'Amazon'], [datetime.date(2019, 5, 15), 1827.95, 1874.43, 1823.0, 1871.15, 1871.15, 'Amazon'], [datetime.date(2019, 5, 16), 1885.94, 1917.51, 1882.29, 1907.57, 1907.57, 'Amazon'], [datetime.date(2019, 5, 17), 1893.05, 1910.53, 1867.33, 1869.0, 1869.0, 'Amazon'], [datetime.date(2019, 5, 20), 1852.69, 1867.78, 1835.54, 1858.97, 1858.97, 'Amazon'], [datetime.date(2019, 5, 21), 1874.79, 1879.0, 1846.0, 1857.52, 1857.52, 'Amazon'], [datetime.date(2019, 5, 22), 1851.78, 1871.49, 1851.0, 1859.68, 1859.68, 'Amazon'], [datetime.date(2019, 5, 23), 1836.59, 1844.0, 1804.2, 1815.48, 1815.48, 'Amazon'], [datetime.date(2019, 5, 24), 1835.89, 1841.76, 1817.85, 1823.28, 1823.28, 'Amazon'], [datetime.date(2019, 5, 28), 1832.75, 1849.27, 1827.35, 1836.43, 1836.43, 'Amazon'], [datetime.date(2019, 5, 29), 1823.12, 1830.0, 1807.53, 1819.19, 1819.19, 'Amazon'], [datetime.date(2019, 5, 30), 1825.49, 1829.47, 1807.83, 1816.32, 1816.32, 'Amazon'], [datetime.date(2019, 5, 31), 1790.01, 1795.59, 1772.7, 1775.07, 1775.07, 'Amazon'], [datetime.date(2019, 6, 3), 1760.01, 1766.29, 1672.0, 1692.69, 1692.69, 'Amazon'], [datetime.date(2019, 6, 4), 1699.24, 1730.82, 1680.89, 1729.56, 1729.56, 'Amazon'], [datetime.date(2019, 6, 5), 1749.6, 1752.0, 1715.25, 1738.5, 1738.5, 'Amazon'], [datetime.date(2019, 6, 6), 1737.71, 1760.0, 1726.13, 1754.36, 1754.36, 'Amazon'], [datetime.date(2019, 6, 7), 1763.7, 1806.25, 1759.49, 1804.03, 1804.03, 'Amazon'], [datetime.date(2019, 6, 10), 1822.0, 1884.87, 1818.0, 1860.63, 1860.63, 'Amazon'], [datetime.date(2019, 6, 11), 1883.25, 1893.7, 1858.0, 1863.7, 1863.7, 'Amazon'], [datetime.date(2019, 6, 12), 1853.98, 1865.0, 1844.38, 1855.32, 1855.32, 'Amazon'], [datetime.date(2019, 6, 13), 1866.72, 1883.09, 1862.22, 1870.3, 1870.3, 'Amazon'], [datetime.date(2019, 6, 14), 1864.0, 1876.0, 1859.0, 1869.67, 1869.67, 'Amazon'], [datetime.date(2019, 6, 17), 1876.5, 1895.69, 1875.45, 1886.03, 1886.03, 'Amazon'], [datetime.date(2019, 6, 18), 1901.35, 1921.67, 1899.79, 1901.37, 1901.37, 'Amazon'], [datetime.date(2019, 6, 19), 1907.84, 1919.58, 1892.47, 1908.79, 1908.79, 'Amazon'], [datetime.date(2019, 6, 20), 1933.33, 1935.2, 1905.8, 1918.19, 1918.19, 'Amazon'], [datetime.date(2019, 6, 21), 1916.1, 1925.95, 1907.58, 1911.3, 1911.3, 'Amazon'], [datetime.date(2019, 6, 24), 1912.66, 1916.86, 1901.3, 1913.9, 1913.9, 'Amazon'], [datetime.date(2019, 6, 25), 1911.84, 1916.39, 1872.42, 1878.27, 1878.27, 'Amazon'], [datetime.date(2019, 6, 26), 1892.48, 1903.8, 1887.32, 1897.83, 1897.83, 'Amazon'], [datetime.date(2019, 6, 27), 1902.0, 1911.24, 1898.04, 1904.28, 1904.28, 'Amazon'], [datetime.date(2019, 6, 28), 1909.1, 1912.94, 1884.0, 1893.63, 1893.63, 'Amazon'], [datetime.date(2019, 7, 1), 1922.98, 1929.82, 1914.66, 1922.19, 1922.19, 'Amazon'], [datetime.date(2019, 7, 2), 1919.38, 1934.79, 1906.63, 1934.31, 1934.31, 'Amazon'], [datetime.date(2019, 7, 3), 1935.89, 1941.59, 1930.5, 1939.0, 1939.0, 'Amazon'], [datetime.date(2019, 7, 5), 1928.6, 1945.9, 1925.3, 1942.91, 1942.91, 'Amazon'], [datetime.date(2019, 7, 8), 1934.12, 1956.0, 1928.25, 1952.32, 1952.32, 'Amazon'], [datetime.date(2019, 7, 9), 1947.8, 1990.01, 1943.48, 1988.3, 1988.3, 'Amazon'], [datetime.date(2019, 7, 10), 1996.51, 2024.94, 1995.4, 2017.41, 2017.41, 'Amazon'], [datetime.date(2019, 7, 11), 2025.62, 2035.8, 1995.3, 2001.07, 2001.07, 'Amazon'], [datetime.date(2019, 7, 12), 2008.27, 2017.0, 2003.87, 2011.0, 2011.0, 'Amazon'], [datetime.date(2019, 7, 15), 2021.4, 2022.9, 2001.55, 2020.99, 2020.99, 'Amazon'], [datetime.date(2019, 7, 16), 2010.58, 2026.32, 2001.22, 2009.9, 2009.9, 'Amazon'], [datetime.date(2019, 7, 17), 2007.05, 2012.0, 1992.03, 1992.03, 1992.03, 'Amazon'], [datetime.date(2019, 7, 18), 1980.01, 1987.5, 1951.55, 1977.9, 1977.9, 'Amazon'], [datetime.date(2019, 7, 19), 1991.21, 1996.0, 1962.23, 1964.52, 1964.52, 'Amazon'], [datetime.date(2019, 7, 22), 1971.14, 1989.0, 1958.26, 1985.63, 1985.63, 'Amazon'], [datetime.date(2019, 7, 23), 1995.99, 1997.79, 1973.13, 1994.49, 1994.49, 'Amazon'], [datetime.date(2019, 7, 24), 1969.3, 2001.3, 1965.87, 2000.81, 2000.81, 'Amazon'], [datetime.date(2019, 7, 25), 2001.0, 2001.2, 1972.72, 1973.82, 1973.82, 'Amazon'], [datetime.date(2019, 7, 26), 1942.0, 1950.9, 1924.51, 1943.05, 1943.05, 'Amazon'], [datetime.date(2019, 7, 29), 1930.0, 1932.23, 1890.54, 1912.45, 1912.45, 'Amazon'], [datetime.date(2019, 7, 30), 1891.12, 1909.89, 1883.48, 1898.53, 1898.53, 'Amazon'], [datetime.date(2019, 7, 31), 1898.11, 1899.55, 1849.44, 1866.78, 1866.78, 'Amazon'], [datetime.date(2019, 8, 1), 1871.72, 1897.92, 1844.01, 1855.32, 1855.32, 'Amazon'], [datetime.date(2019, 8, 2), 1845.07, 1846.36, 1808.02, 1823.24, 1823.24, 'Amazon'], [datetime.date(2019, 8, 5), 1770.22, 1788.67, 1748.78, 1765.13, 1765.13, 'Amazon'], [datetime.date(2019, 8, 6), 1792.23, 1793.77, 1753.4, 1787.83, 1787.83, 'Amazon'], [datetime.date(2019, 8, 7), 1773.99, 1798.93, 1757.0, 1793.4, 1793.4, 'Amazon'], [datetime.date(2019, 8, 8), 1806.0, 1834.26, 1798.11, 1832.89, 1832.89, 'Amazon'], [datetime.date(2019, 8, 9), 1828.95, 1831.09, 1802.22, 1807.58, 1807.58, 'Amazon'], [datetime.date(2019, 8, 12), 1795.99, 1800.98, 1777.0, 1784.92, 1784.92, 'Amazon'], [datetime.date(2019, 8, 13), 1783.0, 1831.74, 1780.0, 1824.34, 1824.34, 'Amazon'], [datetime.date(2019, 8, 14), 1793.01, 1795.65, 1757.22, 1762.96, 1762.96, 'Amazon'], [datetime.date(2019, 8, 15), 1781.99, 1788.0, 1761.96, 1776.12, 1776.12, 'Amazon'], [datetime.date(2019, 8, 16), 1792.89, 1802.91, 1784.55, 1792.57, 1792.57, 'Amazon'], [datetime.date(2019, 8, 19), 1818.08, 1826.0, 1812.61, 1816.12, 1816.12, 'Amazon'], [datetime.date(2019, 8, 20), 1814.5, 1816.82, 1799.88, 1801.38, 1801.38, 'Amazon'], [datetime.date(2019, 8, 21), 1819.39, 1829.58, 1815.0, 1823.54, 1823.54, 'Amazon'], [datetime.date(2019, 8, 22), 1828.0, 1829.41, 1800.1, 1804.66, 1804.66, 'Amazon'], [datetime.date(2019, 8, 23), 1793.03, 1804.9, 1745.23, 1749.62, 1749.62, 'Amazon'], [datetime.date(2019, 8, 26), 1766.91, 1770.0, 1743.51, 1768.87, 1768.87, 'Amazon'], [datetime.date(2019, 8, 27), 1775.73, 1779.4, 1746.68, 1761.83, 1761.83, 'Amazon'], [datetime.date(2019, 8, 28), 1755.0, 1767.86, 1744.05, 1764.25, 1764.25, 'Amazon'], [datetime.date(2019, 8, 29), 1783.0, 1798.55, 1777.25, 1786.4, 1786.4, 'Amazon'], [datetime.date(2019, 8, 30), 1797.49, 1799.74, 1764.57, 1776.29, 1776.29, 'Amazon'], [datetime.date(2019, 9, 3), 1770.0, 1800.8, 1768.0, 1789.84, 1789.84, 'Amazon'], [datetime.date(2019, 9, 4), 1805.0, 1807.63, 1796.23, 1800.62, 1800.62, 'Amazon'], [datetime.date(2019, 9, 5), 1821.95, 1842.0, 1815.58, 1840.72, 1840.72, 'Amazon'], [datetime.date(2019, 9, 6), 1838.22, 1840.65, 1826.4, 1833.51, 1833.51, 'Amazon'], [datetime.date(2019, 9, 9), 1841.0, 1850.0, 1824.61, 1831.35, 1831.35, 'Amazon'], [datetime.date(2019, 9, 10), 1822.75, 1825.81, 1805.34, 1820.55, 1820.55, 'Amazon'], [datetime.date(2019, 9, 11), 1812.14, 1833.42, 1809.08, 1822.99, 1822.99, 'Amazon'], [datetime.date(2019, 9, 12), 1837.63, 1853.66, 1834.28, 1843.55, 1843.55, 'Amazon'], [datetime.date(2019, 9, 13), 1842.01, 1846.12, 1835.17, 1839.34, 1839.34, 'Amazon'], [datetime.date(2019, 9, 16), 1824.02, 1825.69, 1800.2, 1807.84, 1807.84, 'Amazon'], [datetime.date(2019, 9, 17), 1807.08, 1823.99, 1804.1, 1822.55, 1822.55, 'Amazon'], [datetime.date(2019, 9, 18), 1817.04, 1822.06, 1795.5, 1817.46, 1817.46, 'Amazon'], [datetime.date(2019, 9, 19), 1821.02, 1832.57, 1817.9, 1821.5, 1821.5, 'Amazon'], [datetime.date(2019, 9, 20), 1821.71, 1830.63, 1780.92, 1794.16, 1794.16, 'Amazon'], [datetime.date(2019, 9, 23), 1777.0, 1792.7, 1767.32, 1785.3, 1785.3, 'Amazon'], [datetime.date(2019, 9, 24), 1790.61, 1795.71, 1735.55, 1741.61, 1741.61, 'Amazon'], [datetime.date(2019, 9, 25), 1747.36, 1773.0, 1723.0, 1768.33, 1768.33, 'Amazon'], [datetime.date(2019, 9, 26), 1762.79, 1763.37, 1731.5, 1739.84, 1739.84, 'Amazon'], [datetime.date(2019, 9, 27), 1748.0, 1749.12, 1713.82, 1725.45, 1725.45, 'Amazon'], [datetime.date(2019, 9, 30), 1726.99, 1737.46, 1709.22, 1735.91, 1735.91, 'Amazon'], [datetime.date(2019, 10, 1), 1746.0, 1755.6, 1728.41, 1735.65, 1735.65, 'Amazon'], [datetime.date(2019, 10, 2), 1727.74, 1728.89, 1705.0, 1713.23, 1713.23, 'Amazon'], [datetime.date(2019, 10, 3), 1713.0, 1725.0, 1685.06, 1724.42, 1724.42, 'Amazon'], [datetime.date(2019, 10, 4), 1726.02, 1740.58, 1719.23, 1739.65, 1739.65, 'Amazon'], [datetime.date(2019, 10, 7), 1731.63, 1747.83, 1723.7, 1732.66, 1732.66, 'Amazon'], [datetime.date(2019, 10, 8), 1722.49, 1727.0, 1705.0, 1705.51, 1705.51, 'Amazon'], [datetime.date(2019, 10, 9), 1719.61, 1729.95, 1714.36, 1721.99, 1721.99, 'Amazon'], [datetime.date(2019, 10, 10), 1725.24, 1738.29, 1713.75, 1720.26, 1720.26, 'Amazon'], [datetime.date(2019, 10, 11), 1742.92, 1745.45, 1729.86, 1731.92, 1731.92, 'Amazon'], [datetime.date(2019, 10, 14), 1728.91, 1741.89, 1722.0, 1736.43, 1736.43, 'Amazon'], [datetime.date(2019, 10, 15), 1742.14, 1776.45, 1740.62, 1767.38, 1767.38, 'Amazon'], [datetime.date(2019, 10, 16), 1773.33, 1786.24, 1770.52, 1777.43, 1777.43, 'Amazon'], [datetime.date(2019, 10, 17), 1796.49, 1798.85, 1782.02, 1787.48, 1787.48, 'Amazon'], [datetime.date(2019, 10, 18), 1787.8, 1793.98, 1749.2, 1757.51, 1757.51, 'Amazon'], [datetime.date(2019, 10, 21), 1769.66, 1785.88, 1765.0, 1785.66, 1785.66, 'Amazon'], [datetime.date(2019, 10, 22), 1788.15, 1789.78, 1762.0, 1765.73, 1765.73, 'Amazon'], [datetime.date(2019, 10, 23), 1761.3, 1770.05, 1742.0, 1762.17, 1762.17, 'Amazon'], [datetime.date(2019, 10, 24), 1771.09, 1788.34, 1760.27, 1780.78, 1780.78, 'Amazon'], [datetime.date(2019, 10, 25), 1697.55, 1764.21, 1695.0, 1761.33, 1761.33, 'Amazon'], [datetime.date(2019, 10, 28), 1748.06, 1778.7, 1742.5, 1777.08, 1777.08, 'Amazon'], [datetime.date(2019, 10, 29), 1774.81, 1777.0, 1755.81, 1762.71, 1762.71, 'Amazon'], [datetime.date(2019, 10, 30), 1760.24, 1782.38, 1759.12, 1779.99, 1779.99, 'Amazon'], [datetime.date(2019, 10, 31), 1775.99, 1792.0, 1771.48, 1776.66, 1776.66, 'Amazon'], [datetime.date(2019, 11, 1), 1788.01, 1797.45, 1785.21, 1791.44, 1791.44, 'Amazon'], [datetime.date(2019, 11, 4), 1801.01, 1815.06, 1801.01, 1804.66, 1804.66, 'Amazon'], [datetime.date(2019, 11, 5), 1809.16, 1810.25, 1794.0, 1801.71, 1801.71, 'Amazon'], [datetime.date(2019, 11, 6), 1801.0, 1802.5, 1788.58, 1795.77, 1795.77, 'Amazon'], [datetime.date(2019, 11, 7), 1803.76, 1805.9, 1783.48, 1788.2, 1788.2, 'Amazon'], [datetime.date(2019, 11, 8), 1787.89, 1789.88, 1774.04, 1785.88, 1785.88, 'Amazon'], [datetime.date(2019, 11, 11), 1778.0, 1780.0, 1767.13, 1771.65, 1771.65, 'Amazon'], [datetime.date(2019, 11, 12), 1774.66, 1786.22, 1771.91, 1778.0, 1778.0, 'Amazon'], [datetime.date(2019, 11, 13), 1773.39, 1775.0, 1747.32, 1753.11, 1753.11, 'Amazon'], [datetime.date(2019, 11, 14), 1751.43, 1766.59, 1749.56, 1754.6, 1754.6, 'Amazon'], [datetime.date(2019, 11, 15), 1760.05, 1761.68, 1732.86, 1739.49, 1739.49, 'Amazon'], [datetime.date(2019, 11, 18), 1738.3, 1753.7, 1722.71, 1752.53, 1752.53, 'Amazon'], [datetime.date(2019, 11, 19), 1756.99, 1760.68, 1743.03, 1752.79, 1752.79, 'Amazon'], [datetime.date(2019, 11, 20), 1749.14, 1762.52, 1734.12, 1745.53, 1745.53, 'Amazon'], [datetime.date(2019, 11, 21), 1743.0, 1746.87, 1730.36, 1734.71, 1734.71, 'Amazon'], [datetime.date(2019, 11, 22), 1739.02, 1746.43, 1731.0, 1745.72, 1745.72, 'Amazon'], [datetime.date(2019, 11, 25), 1753.25, 1777.42, 1753.24, 1773.84, 1773.84, 'Amazon'], [datetime.date(2019, 11, 26), 1779.92, 1797.03, 1778.35, 1796.94, 1796.94, 'Amazon'], [datetime.date(2019, 11, 27), 1801.0, 1824.5, 1797.31, 1818.51, 1818.51, 'Amazon'], [datetime.date(2019, 11, 29), 1817.78, 1824.69, 1800.79, 1800.8, 1800.8, 'Amazon'], [datetime.date(2019, 12, 2), 1804.4, 1805.55, 1762.68, 1781.6, 1781.6, 'Amazon'], [datetime.date(2019, 12, 3), 1760.0, 1772.87, 1747.23, 1769.96, 1769.96, 'Amazon'], [datetime.date(2019, 12, 4), 1774.01, 1789.09, 1760.22, 1760.69, 1760.69, 'Amazon'], [datetime.date(2019, 12, 5), 1763.5, 1763.5, 1740.0, 1740.48, 1740.48, 'Amazon'], [datetime.date(2019, 12, 6), 1751.2, 1754.4, 1740.13, 1751.6, 1751.6, 'Amazon'], [datetime.date(2019, 12, 9), 1750.66, 1766.89, 1745.61, 1749.51, 1749.51, 'Amazon'], [datetime.date(2019, 12, 10), 1747.4, 1750.67, 1735.0, 1739.21, 1739.21, 'Amazon'], [datetime.date(2019, 12, 11), 1741.67, 1750.0, 1735.71, 1748.72, 1748.72, 'Amazon'], [datetime.date(2019, 12, 12), 1750.0, 1764.0, 1745.44, 1760.33, 1760.33, 'Amazon'], [datetime.date(2019, 12, 13), 1765.0, 1768.99, 1755.0, 1760.94, 1760.94, 'Amazon'], [datetime.date(2019, 12, 16), 1767.0, 1769.5, 1757.05, 1769.21, 1769.21, 'Amazon'], [datetime.date(2019, 12, 17), 1778.01, 1792.0, 1777.39, 1790.66, 1790.66, 'Amazon'], [datetime.date(2019, 12, 18), 1795.02, 1798.2, 1782.36, 1784.03, 1784.03, 'Amazon'], [datetime.date(2019, 12, 19), 1780.5, 1792.99, 1774.06, 1792.28, 1792.28, 'Amazon'], [datetime.date(2019, 12, 20), 1799.62, 1802.97, 1782.45, 1786.5, 1786.5, 'Amazon'], [datetime.date(2019, 12, 23), 1788.26, 1793.0, 1784.51, 1793.0, 1793.0, 'Amazon'], [datetime.date(2019, 12, 24), 1793.81, 1795.57, 1787.58, 1789.21, 1789.21, 'Amazon'], [datetime.date(2019, 12, 26), 1801.01, 1870.46, 1799.5, 1868.77, 1868.77, 'Amazon'], [datetime.date(2019, 12, 27), 1882.92, 1901.4, 1866.01, 1869.8, 1869.8, 'Amazon'], [datetime.date(2019, 12, 30), 1874.0, 1884.0, 1840.62, 1846.89, 1846.89, 'Amazon'], [datetime.date(2019, 12, 31), 1842.0, 1853.26, 1832.23, 1847.84, 1847.84, 'Amazon'], [datetime.date(2020, 1, 2), 1875.0, 1898.01, 1864.15, 1898.01, 1898.01, 'Amazon'], [datetime.date(2020, 1, 3), 1864.5, 1886.2, 1864.5, 1874.97, 1874.97, 'Amazon'], [datetime.date(2020, 1, 6), 1860.0, 1903.69, 1860.0, 1902.88, 1902.88, 'Amazon'], [datetime.date(2020, 1, 7), 1904.5, 1913.89, 1892.04, 1906.86, 1906.86, 'Amazon'], [datetime.date(2020, 1, 8), 1898.04, 1911.0, 1886.44, 1891.97, 1891.97, 'Amazon'], [datetime.date(2020, 1, 9), 1909.89, 1917.82, 1895.8, 1901.05, 1901.05, 'Amazon'], [datetime.date(2020, 1, 10), 1905.37, 1906.94, 1880.0, 1883.16, 1883.16, 'Amazon'], [datetime.date(2020, 1, 13), 1891.31, 1898.0, 1880.8, 1891.3, 1891.3, 'Amazon'], [datetime.date(2020, 1, 14), 1885.88, 1887.11, 1858.55, 1869.44, 1869.44, 'Amazon'], [datetime.date(2020, 1, 15), 1872.25, 1878.86, 1855.09, 1862.02, 1862.02, 'Amazon'], [datetime.date(2020, 1, 16), 1882.99, 1885.59, 1866.02, 1877.94, 1877.94, 'Amazon'], [datetime.date(2020, 1, 17), 1885.89, 1886.64, 1857.25, 1864.72, 1864.72, 'Amazon'], [datetime.date(2020, 1, 21), 1865.0, 1894.27, 1860.0, 1892.0, 1892.0, 'Amazon'], [datetime.date(2020, 1, 22), 1896.09, 1902.5, 1883.34, 1887.46, 1887.46, 'Amazon'], [datetime.date(2020, 1, 23), 1885.11, 1889.98, 1872.76, 1884.58, 1884.58, 'Amazon'], [datetime.date(2020, 1, 24), 1891.37, 1894.99, 1847.44, 1861.64, 1861.64, 'Amazon'], [datetime.date(2020, 1, 27), 1820.0, 1841.0, 1815.34, 1828.34, 1828.34, 'Amazon'], [datetime.date(2020, 1, 28), 1840.5, 1858.11, 1830.02, 1853.25, 1853.25, 'Amazon'], [datetime.date(2020, 1, 29), 1864.0, 1874.75, 1855.02, 1858.0, 1858.0, 'Amazon'], [datetime.date(2020, 1, 30), 1858.0, 1872.87, 1850.61, 1870.68, 1870.68, 'Amazon'], [datetime.date(2020, 1, 31), 2051.47, 2055.72, 2002.27, 2008.72, 2008.72, 'Amazon'], [datetime.date(2020, 2, 3), 2010.6, 2048.5, 2000.25, 2004.2, 2004.2, 'Amazon'], [datetime.date(2020, 2, 4), 2029.88, 2059.8, 2015.37, 2049.67, 2049.67, 'Amazon'], [datetime.date(2020, 2, 5), 2071.02, 2071.02, 2032.0, 2039.87, 2039.87, 'Amazon'], [datetime.date(2020, 2, 6), 2041.02, 2056.3, 2024.8, 2050.23, 2050.23, 'Amazon'], [datetime.date(2020, 2, 7), 2041.99, 2098.53, 2038.1, 2079.28, 2079.28, 'Amazon'], [datetime.date(2020, 2, 10), 2085.01, 2135.6, 2084.96, 2133.91, 2133.91, 'Amazon'], [datetime.date(2020, 2, 11), 2150.9, 2185.95, 2136.0, 2150.8, 2150.8, 'Amazon'], [datetime.date(2020, 2, 12), 2163.2, 2180.25, 2155.29, 2160.0, 2160.0, 'Amazon'], [datetime.date(2020, 2, 13), 2144.99, 2170.28, 2142.0, 2149.87, 2149.87, 'Amazon'], [datetime.date(2020, 2, 14), 2155.68, 2159.04, 2125.89, 2134.87, 2134.87, 'Amazon'], [datetime.date(2020, 2, 18), 2125.02, 2166.07, 2124.11, 2155.67, 2155.67, 'Amazon'], [datetime.date(2020, 2, 19), 2167.8, 2185.1, 2161.12, 2170.22, 2170.22, 'Amazon'], [datetime.date(2020, 2, 20), 2173.07, 2176.79, 2127.45, 2153.1, 2153.1, 'Amazon'], [datetime.date(2020, 2, 21), 2142.15, 2144.55, 2088.0, 2095.97, 2095.97, 'Amazon'], [datetime.date(2020, 2, 24), 2003.18, 2039.3, 1987.97, 2009.29, 2009.29, 'Amazon'], [datetime.date(2020, 2, 25), 2026.42, 2034.6, 1958.42, 1972.74, 1972.74, 'Amazon'], [datetime.date(2020, 2, 26), 1970.28, 2014.67, 1960.45, 1979.59, 1979.59, 'Amazon'], [datetime.date(2020, 2, 27), 1934.38, 1975.0, 1882.76, 1884.3, 1884.3, 'Amazon'], [datetime.date(2020, 2, 28), 1814.63, 1889.76, 1811.13, 1883.75, 1883.75, 'Amazon'], [datetime.date(2020, 3, 2), 1906.49, 1954.51, 1870.0, 1953.95, 1953.95, 'Amazon'], [datetime.date(2020, 3, 3), 1975.37, 1996.33, 1888.09, 1908.99, 1908.99, 'Amazon'], [datetime.date(2020, 3, 4), 1946.57, 1978.0, 1922.0, 1975.83, 1975.83, 'Amazon'], [datetime.date(2020, 3, 5), 1933.0, 1960.72, 1910.0, 1924.03, 1924.03, 'Amazon'], [datetime.date(2020, 3, 6), 1875.0, 1910.87, 1869.5, 1901.09, 1901.09, 'Amazon'], [datetime.date(2020, 3, 9), 1773.86, 1862.77, 1761.29, 1800.61, 1800.61, 'Amazon'], [datetime.date(2020, 3, 10), 1870.88, 1894.27, 1818.17, 1891.82, 1891.82, 'Amazon'], [datetime.date(2020, 3, 11), 1857.85, 1871.32, 1801.5, 1820.86, 1820.86, 'Amazon'], [datetime.date(2020, 3, 12), 1721.98, 1765.0, 1675.0, 1676.61, 1676.61, 'Amazon'], [datetime.date(2020, 3, 13), 1755.0, 1786.31, 1680.62, 1785.0, 1785.0, 'Amazon'], [datetime.date(2020, 3, 16), 1641.51, 1759.45, 1626.03, 1689.15, 1689.15, 'Amazon'], [datetime.date(2020, 3, 17), 1775.47, 1857.78, 1689.24, 1807.84, 1807.84, 'Amazon'], [datetime.date(2020, 3, 18), 1750.0, 1841.66, 1745.0, 1830.0, 1830.0, 'Amazon'], [datetime.date(2020, 3, 19), 1860.0, 1945.0, 1832.65, 1880.93, 1880.93, 'Amazon'], [datetime.date(2020, 3, 20), 1926.31, 1957.0, 1820.73, 1846.09, 1846.09, 'Amazon'], [datetime.date(2020, 3, 23), 1827.75, 1919.4, 1812.0, 1902.83, 1902.83, 'Amazon'], [datetime.date(2020, 3, 24), 1951.5, 1955.0, 1900.34, 1940.1, 1940.1, 'Amazon'], [datetime.date(2020, 3, 25), 1920.69, 1950.26, 1885.78, 1885.84, 1885.84, 'Amazon'], [datetime.date(2020, 3, 26), 1902.0, 1956.49, 1889.29, 1955.49, 1955.49, 'Amazon'], [datetime.date(2020, 3, 27), 1930.86, 1939.79, 1899.92, 1900.1, 1900.1, 'Amazon'], [datetime.date(2020, 3, 30), 1922.83, 1973.63, 1912.34, 1963.95, 1963.95, 'Amazon'], [datetime.date(2020, 3, 31), 1964.35, 1993.02, 1944.01, 1949.72, 1949.72, 'Amazon'], [datetime.date(2020, 4, 1), 1932.97, 1944.96, 1893.0, 1907.7, 1907.7, 'Amazon'], [datetime.date(2020, 4, 2), 1901.64, 1927.53, 1890.0, 1918.83, 1918.83, 'Amazon'], [datetime.date(2020, 4, 3), 1911.15, 1926.33, 1889.15, 1906.59, 1906.59, 'Amazon'], [datetime.date(2020, 4, 6), 1936.0, 1998.52, 1930.02, 1997.59, 1997.59, 'Amazon'], [datetime.date(2020, 4, 7), 2017.11, 2035.72, 1997.62, 2011.6, 2011.6, 'Amazon'], [datetime.date(2020, 4, 8), 2021.0, 2044.0, 2011.15, 2043.0, 2043.0, 'Amazon'], [datetime.date(2020, 4, 9), 2044.3, 2053.0, 2017.66, 2042.76, 2042.76, 'Amazon'], [datetime.date(2020, 4, 13), 2040.0, 2180.0, 2038.0, 2168.87, 2168.87, 'Amazon'], [datetime.date(2020, 4, 14), 2200.47, 2292.0, 2186.21, 2283.32, 2283.32, 'Amazon'], [datetime.date(2020, 4, 15), 2257.68, 2333.37, 2245.0, 2307.68, 2307.68, 'Amazon'], [datetime.date(2020, 4, 16), 2346.0, 2461.0, 2335.0, 2408.19, 2408.19, 'Amazon'], [datetime.date(2020, 4, 17), 2372.33, 2400.0, 2316.02, 2375.0, 2375.0, 'Amazon'], [datetime.date(2020, 4, 20), 2389.95, 2444.98, 2386.05, 2393.61, 2393.61, 'Amazon'], [datetime.date(2020, 4, 21), 2416.61, 2428.31, 2279.66, 2328.12, 2328.12, 'Amazon'], [datetime.date(2020, 4, 22), 2369.0, 2394.0, 2351.0, 2363.49, 2363.49, 'Amazon'], [datetime.date(2020, 4, 23), 2399.98, 2424.22, 2382.08, 2399.45, 2399.45, 'Amazon'], [datetime.date(2020, 4, 24), 2417.0, 2420.43, 2382.0, 2410.22, 2410.22, 'Amazon'], [datetime.date(2020, 4, 27), 2443.2, 2444.88, 2363.0, 2376.0, 2376.0, 'Amazon'], [datetime.date(2020, 4, 28), 2372.1, 2373.5, 2306.0, 2314.08, 2314.08, 'Amazon'], [datetime.date(2020, 4, 29), 2330.01, 2391.89, 2310.0, 2372.71, 2372.71, 'Amazon'], [datetime.date(2020, 4, 30), 2419.84, 2475.0, 2396.01, 2474.0, 2474.0, 'Amazon'], [datetime.date(2020, 5, 1), 2336.8, 2362.44, 2258.19, 2286.04, 2286.04, 'Amazon'], [datetime.date(2020, 5, 4), 2256.38, 2326.98, 2256.38, 2315.99, 2315.99, 'Amazon'], [datetime.date(2020, 5, 5), 2340.0, 2351.0, 2307.13, 2317.8, 2317.8, 'Amazon'], [datetime.date(2020, 5, 6), 2329.44, 2357.45, 2320.0, 2351.26, 2351.26, 'Amazon'], [datetime.date(2020, 5, 7), 2374.78, 2376.0, 2343.11, 2367.61, 2367.61, 'Amazon'], [datetime.date(2020, 5, 8), 2372.14, 2387.24, 2357.0, 2379.61, 2379.61, 'Amazon'], [datetime.date(2020, 5, 11), 2374.7, 2419.67, 2372.11, 2409.0, 2409.0, 'Amazon'], [datetime.date(2020, 5, 12), 2411.85, 2419.0, 2355.0, 2356.95, 2356.95, 'Amazon'], [datetime.date(2020, 5, 13), 2366.8, 2407.7, 2337.8, 2367.92, 2367.92, 'Amazon'], [datetime.date(2020, 5, 14), 2361.01, 2391.37, 2353.21, 2388.85, 2388.85, 'Amazon'], [datetime.date(2020, 5, 15), 2368.52, 2411.0, 2356.37, 2409.78, 2409.78, 'Amazon'], [datetime.date(2020, 5, 18), 2404.35, 2433.0, 2384.01, 2426.26, 2426.26, 'Amazon'], [datetime.date(2020, 5, 19), 2429.83, 2485.0, 2428.97, 2449.33, 2449.33, 'Amazon'], [datetime.date(2020, 5, 20), 2477.87, 2500.01, 2467.27, 2497.94, 2497.94, 'Amazon'], [datetime.date(2020, 5, 21), 2500.0, 2525.45, 2442.54, 2446.74, 2446.74, 'Amazon']]\n"
     ]
    }
   ],
   "source": [
    "print(stockList)"
   ]
  },
  {
   "cell_type": "markdown",
   "metadata": {},
   "source": [
    "## Step 17:\n",
    "**Define a custom function to create reusable code:** <br>\n",
    "Below the define function is used to create custom reusable code <br>\n",
    "The maximum and minimum opening stock price for both apple and amazon are defined as separate functions <br>\n",
    "These functions can then be called e.g. appleMaxOpen() to run the custom code and return the required result"
   ]
  },
  {
   "cell_type": "code",
   "execution_count": 49,
   "metadata": {},
   "outputs": [],
   "source": [
    "def appleMaxOpen():\n",
    "    print('The highest Apple stock open is') \n",
    "    print(aaplData.max(axis=0)['Open'])"
   ]
  },
  {
   "cell_type": "code",
   "execution_count": 50,
   "metadata": {},
   "outputs": [],
   "source": [
    "def appleMaxClose():\n",
    "    print('The highest Apple stock close is') \n",
    "    print(aaplData.max(axis=0)['Close'])"
   ]
  },
  {
   "cell_type": "code",
   "execution_count": 51,
   "metadata": {},
   "outputs": [],
   "source": [
    "def amazonMaxOpen():\n",
    "    print('The highest Amazon stock open is') \n",
    "    print(amazonData.max(axis=0)['Open'])"
   ]
  },
  {
   "cell_type": "code",
   "execution_count": 52,
   "metadata": {},
   "outputs": [],
   "source": [
    "def amazonMaxClose():\n",
    "    print('The highest Amazon stock close is') \n",
    "    print(amazonData.max(axis=0)['Close'])"
   ]
  },
  {
   "cell_type": "code",
   "execution_count": 53,
   "metadata": {},
   "outputs": [],
   "source": [
    "def appleMinOpen():\n",
    "    print('The lowest Apple stock open is') \n",
    "    print(aaplData.min(axis=0)['Open'])"
   ]
  },
  {
   "cell_type": "code",
   "execution_count": 54,
   "metadata": {},
   "outputs": [],
   "source": [
    "def appleMinClose():\n",
    "    print('The lowest Apple stock close is') \n",
    "    print(aaplData.min(axis=0)['Close'])"
   ]
  },
  {
   "cell_type": "code",
   "execution_count": 55,
   "metadata": {},
   "outputs": [],
   "source": [
    "def amazonMinOpen():\n",
    "    print('The lowest Amazon stock open is') \n",
    "    print(amazonData.min(axis=0)['Open'])"
   ]
  },
  {
   "cell_type": "code",
   "execution_count": 56,
   "metadata": {},
   "outputs": [],
   "source": [
    "def amazonMinClose():\n",
    "    print('The lowest Amazon stock close is') \n",
    "    print(amazonData.min(axis=0)['Close'])"
   ]
  },
  {
   "cell_type": "code",
   "execution_count": 57,
   "metadata": {},
   "outputs": [
    {
     "name": "stdout",
     "output_type": "stream",
     "text": [
      "The highest Apple stock open is\n",
      "324.73\n"
     ]
    }
   ],
   "source": [
    "appleMaxOpen()"
   ]
  },
  {
   "cell_type": "code",
   "execution_count": 58,
   "metadata": {},
   "outputs": [
    {
     "name": "stdout",
     "output_type": "stream",
     "text": [
      "The lowest Apple stock open is\n",
      "90.0\n"
     ]
    }
   ],
   "source": [
    "appleMinOpen()"
   ]
  },
  {
   "cell_type": "code",
   "execution_count": 59,
   "metadata": {},
   "outputs": [
    {
     "name": "stdout",
     "output_type": "stream",
     "text": [
      "The highest Apple stock close is\n",
      "327.2\n"
     ]
    }
   ],
   "source": [
    "appleMaxClose()"
   ]
  },
  {
   "cell_type": "code",
   "execution_count": 60,
   "metadata": {},
   "outputs": [
    {
     "name": "stdout",
     "output_type": "stream",
     "text": [
      "The lowest Apple stock close is\n",
      "90.34\n"
     ]
    }
   ],
   "source": [
    "appleMinClose()"
   ]
  },
  {
   "cell_type": "code",
   "execution_count": 61,
   "metadata": {},
   "outputs": [
    {
     "name": "stdout",
     "output_type": "stream",
     "text": [
      "The highest Amazon stock open is\n",
      "2500.0\n"
     ]
    }
   ],
   "source": [
    "amazonMaxOpen()"
   ]
  },
  {
   "cell_type": "code",
   "execution_count": 62,
   "metadata": {},
   "outputs": [
    {
     "name": "stdout",
     "output_type": "stream",
     "text": [
      "The lowest Amazon stock open is\n",
      "478.01\n"
     ]
    }
   ],
   "source": [
    "amazonMinOpen()"
   ]
  },
  {
   "cell_type": "code",
   "execution_count": 63,
   "metadata": {},
   "outputs": [
    {
     "name": "stdout",
     "output_type": "stream",
     "text": [
      "The highest Amazon stock close is\n",
      "2497.94\n"
     ]
    }
   ],
   "source": [
    "amazonMaxClose()"
   ]
  },
  {
   "cell_type": "code",
   "execution_count": 64,
   "metadata": {},
   "outputs": [
    {
     "name": "stdout",
     "output_type": "stream",
     "text": [
      "The lowest Amazon stock close is\n",
      "482.07\n"
     ]
    }
   ],
   "source": [
    "amazonMinClose()"
   ]
  },
  {
   "cell_type": "markdown",
   "metadata": {},
   "source": [
    "# Section 5: Visualisation"
   ]
  },
  {
   "cell_type": "markdown",
   "metadata": {},
   "source": [
    "## Step 18:\n",
    "**Creating columns for month and year:** <br>\n",
    "The below code is used to create a Year and Month column for the datasets <br>\n",
    "This will then allow the datasets to be used to create more views/comparisons"
   ]
  },
  {
   "cell_type": "code",
   "execution_count": 65,
   "metadata": {},
   "outputs": [],
   "source": [
    "aaplData['Year'] = pd.DatetimeIndex(aaplData['Date']).year\n",
    "aaplData['Month'] = pd.DatetimeIndex(aaplData['Date']).month"
   ]
  },
  {
   "cell_type": "code",
   "execution_count": 66,
   "metadata": {},
   "outputs": [
    {
     "data": {
      "text/html": [
       "<div>\n",
       "<style scoped>\n",
       "    .dataframe tbody tr th:only-of-type {\n",
       "        vertical-align: middle;\n",
       "    }\n",
       "\n",
       "    .dataframe tbody tr th {\n",
       "        vertical-align: top;\n",
       "    }\n",
       "\n",
       "    .dataframe thead th {\n",
       "        text-align: right;\n",
       "    }\n",
       "</style>\n",
       "<table border=\"1\" class=\"dataframe\">\n",
       "  <thead>\n",
       "    <tr style=\"text-align: right;\">\n",
       "      <th></th>\n",
       "      <th>Date</th>\n",
       "      <th>Open</th>\n",
       "      <th>High</th>\n",
       "      <th>Low</th>\n",
       "      <th>Close</th>\n",
       "      <th>Adj Close</th>\n",
       "      <th>Stock</th>\n",
       "      <th>Year</th>\n",
       "      <th>Month</th>\n",
       "    </tr>\n",
       "  </thead>\n",
       "  <tbody>\n",
       "    <tr>\n",
       "      <th>153</th>\n",
       "      <td>2016-01-04</td>\n",
       "      <td>102.61</td>\n",
       "      <td>105.37</td>\n",
       "      <td>102.00</td>\n",
       "      <td>105.35</td>\n",
       "      <td>97.94</td>\n",
       "      <td>Apple</td>\n",
       "      <td>2016</td>\n",
       "      <td>1</td>\n",
       "    </tr>\n",
       "    <tr>\n",
       "      <th>154</th>\n",
       "      <td>2016-01-05</td>\n",
       "      <td>105.75</td>\n",
       "      <td>105.85</td>\n",
       "      <td>102.41</td>\n",
       "      <td>102.71</td>\n",
       "      <td>95.49</td>\n",
       "      <td>Apple</td>\n",
       "      <td>2016</td>\n",
       "      <td>1</td>\n",
       "    </tr>\n",
       "    <tr>\n",
       "      <th>155</th>\n",
       "      <td>2016-01-06</td>\n",
       "      <td>100.56</td>\n",
       "      <td>102.37</td>\n",
       "      <td>99.87</td>\n",
       "      <td>100.70</td>\n",
       "      <td>93.62</td>\n",
       "      <td>Apple</td>\n",
       "      <td>2016</td>\n",
       "      <td>1</td>\n",
       "    </tr>\n",
       "    <tr>\n",
       "      <th>156</th>\n",
       "      <td>2016-01-07</td>\n",
       "      <td>98.68</td>\n",
       "      <td>100.13</td>\n",
       "      <td>96.43</td>\n",
       "      <td>96.45</td>\n",
       "      <td>89.67</td>\n",
       "      <td>Apple</td>\n",
       "      <td>2016</td>\n",
       "      <td>1</td>\n",
       "    </tr>\n",
       "    <tr>\n",
       "      <th>157</th>\n",
       "      <td>2016-01-08</td>\n",
       "      <td>98.55</td>\n",
       "      <td>99.11</td>\n",
       "      <td>96.76</td>\n",
       "      <td>96.96</td>\n",
       "      <td>90.14</td>\n",
       "      <td>Apple</td>\n",
       "      <td>2016</td>\n",
       "      <td>1</td>\n",
       "    </tr>\n",
       "  </tbody>\n",
       "</table>\n",
       "</div>"
      ],
      "text/plain": [
       "           Date    Open    High     Low   Close  Adj Close  Stock  Year  Month\n",
       "153  2016-01-04  102.61  105.37  102.00  105.35      97.94  Apple  2016      1\n",
       "154  2016-01-05  105.75  105.85  102.41  102.71      95.49  Apple  2016      1\n",
       "155  2016-01-06  100.56  102.37   99.87  100.70      93.62  Apple  2016      1\n",
       "156  2016-01-07   98.68  100.13   96.43   96.45      89.67  Apple  2016      1\n",
       "157  2016-01-08   98.55   99.11   96.76   96.96      90.14  Apple  2016      1"
      ]
     },
     "execution_count": 66,
     "metadata": {},
     "output_type": "execute_result"
    }
   ],
   "source": [
    "aaplData.head()"
   ]
  },
  {
   "cell_type": "code",
   "execution_count": 67,
   "metadata": {},
   "outputs": [],
   "source": [
    "amazonData['Year'] = pd.DatetimeIndex(amazonData['Date']).year\n",
    "amazonData['Month'] = pd.DatetimeIndex(amazonData['Date']).month"
   ]
  },
  {
   "cell_type": "code",
   "execution_count": 68,
   "metadata": {},
   "outputs": [
    {
     "data": {
      "text/html": [
       "<div>\n",
       "<style scoped>\n",
       "    .dataframe tbody tr th:only-of-type {\n",
       "        vertical-align: middle;\n",
       "    }\n",
       "\n",
       "    .dataframe tbody tr th {\n",
       "        vertical-align: top;\n",
       "    }\n",
       "\n",
       "    .dataframe thead th {\n",
       "        text-align: right;\n",
       "    }\n",
       "</style>\n",
       "<table border=\"1\" class=\"dataframe\">\n",
       "  <thead>\n",
       "    <tr style=\"text-align: right;\">\n",
       "      <th></th>\n",
       "      <th>Date</th>\n",
       "      <th>Open</th>\n",
       "      <th>High</th>\n",
       "      <th>Low</th>\n",
       "      <th>Close</th>\n",
       "      <th>Adj Close</th>\n",
       "      <th>Stock</th>\n",
       "      <th>Year</th>\n",
       "      <th>Month</th>\n",
       "    </tr>\n",
       "  </thead>\n",
       "  <tbody>\n",
       "    <tr>\n",
       "      <th>4689</th>\n",
       "      <td>2016-01-04</td>\n",
       "      <td>656.29</td>\n",
       "      <td>657.72</td>\n",
       "      <td>627.51</td>\n",
       "      <td>636.99</td>\n",
       "      <td>636.99</td>\n",
       "      <td>Amazon</td>\n",
       "      <td>2016</td>\n",
       "      <td>1</td>\n",
       "    </tr>\n",
       "    <tr>\n",
       "      <th>4690</th>\n",
       "      <td>2016-01-05</td>\n",
       "      <td>646.86</td>\n",
       "      <td>646.91</td>\n",
       "      <td>627.65</td>\n",
       "      <td>633.79</td>\n",
       "      <td>633.79</td>\n",
       "      <td>Amazon</td>\n",
       "      <td>2016</td>\n",
       "      <td>1</td>\n",
       "    </tr>\n",
       "    <tr>\n",
       "      <th>4691</th>\n",
       "      <td>2016-01-06</td>\n",
       "      <td>622.00</td>\n",
       "      <td>639.79</td>\n",
       "      <td>620.31</td>\n",
       "      <td>632.65</td>\n",
       "      <td>632.65</td>\n",
       "      <td>Amazon</td>\n",
       "      <td>2016</td>\n",
       "      <td>1</td>\n",
       "    </tr>\n",
       "    <tr>\n",
       "      <th>4692</th>\n",
       "      <td>2016-01-07</td>\n",
       "      <td>621.80</td>\n",
       "      <td>630.00</td>\n",
       "      <td>605.21</td>\n",
       "      <td>607.94</td>\n",
       "      <td>607.94</td>\n",
       "      <td>Amazon</td>\n",
       "      <td>2016</td>\n",
       "      <td>1</td>\n",
       "    </tr>\n",
       "    <tr>\n",
       "      <th>4693</th>\n",
       "      <td>2016-01-08</td>\n",
       "      <td>619.66</td>\n",
       "      <td>624.14</td>\n",
       "      <td>606.00</td>\n",
       "      <td>607.05</td>\n",
       "      <td>607.05</td>\n",
       "      <td>Amazon</td>\n",
       "      <td>2016</td>\n",
       "      <td>1</td>\n",
       "    </tr>\n",
       "  </tbody>\n",
       "</table>\n",
       "</div>"
      ],
      "text/plain": [
       "            Date    Open    High     Low   Close  Adj Close   Stock  Year  \\\n",
       "4689  2016-01-04  656.29  657.72  627.51  636.99     636.99  Amazon  2016   \n",
       "4690  2016-01-05  646.86  646.91  627.65  633.79     633.79  Amazon  2016   \n",
       "4691  2016-01-06  622.00  639.79  620.31  632.65     632.65  Amazon  2016   \n",
       "4692  2016-01-07  621.80  630.00  605.21  607.94     607.94  Amazon  2016   \n",
       "4693  2016-01-08  619.66  624.14  606.00  607.05     607.05  Amazon  2016   \n",
       "\n",
       "      Month  \n",
       "4689      1  \n",
       "4690      1  \n",
       "4691      1  \n",
       "4692      1  \n",
       "4693      1  "
      ]
     },
     "execution_count": 68,
     "metadata": {},
     "output_type": "execute_result"
    }
   ],
   "source": [
    "amazonData.head()"
   ]
  },
  {
   "cell_type": "code",
   "execution_count": 69,
   "metadata": {},
   "outputs": [],
   "source": [
    "stockData['Year'] = pd.DatetimeIndex(stockData['Date']).year\n",
    "stockData['Month'] = pd.DatetimeIndex(stockData['Date']).month"
   ]
  },
  {
   "cell_type": "code",
   "execution_count": 70,
   "metadata": {},
   "outputs": [
    {
     "data": {
      "text/html": [
       "<div>\n",
       "<style scoped>\n",
       "    .dataframe tbody tr th:only-of-type {\n",
       "        vertical-align: middle;\n",
       "    }\n",
       "\n",
       "    .dataframe tbody tr th {\n",
       "        vertical-align: top;\n",
       "    }\n",
       "\n",
       "    .dataframe thead th {\n",
       "        text-align: right;\n",
       "    }\n",
       "</style>\n",
       "<table border=\"1\" class=\"dataframe\">\n",
       "  <thead>\n",
       "    <tr style=\"text-align: right;\">\n",
       "      <th></th>\n",
       "      <th>Date</th>\n",
       "      <th>Open</th>\n",
       "      <th>High</th>\n",
       "      <th>Low</th>\n",
       "      <th>Close</th>\n",
       "      <th>Adj Close</th>\n",
       "      <th>Stock</th>\n",
       "      <th>Year</th>\n",
       "      <th>Month</th>\n",
       "    </tr>\n",
       "  </thead>\n",
       "  <tbody>\n",
       "    <tr>\n",
       "      <th>153</th>\n",
       "      <td>2016-01-04</td>\n",
       "      <td>102.61</td>\n",
       "      <td>105.37</td>\n",
       "      <td>102.00</td>\n",
       "      <td>105.35</td>\n",
       "      <td>97.94</td>\n",
       "      <td>Apple</td>\n",
       "      <td>2016</td>\n",
       "      <td>1</td>\n",
       "    </tr>\n",
       "    <tr>\n",
       "      <th>154</th>\n",
       "      <td>2016-01-05</td>\n",
       "      <td>105.75</td>\n",
       "      <td>105.85</td>\n",
       "      <td>102.41</td>\n",
       "      <td>102.71</td>\n",
       "      <td>95.49</td>\n",
       "      <td>Apple</td>\n",
       "      <td>2016</td>\n",
       "      <td>1</td>\n",
       "    </tr>\n",
       "    <tr>\n",
       "      <th>155</th>\n",
       "      <td>2016-01-06</td>\n",
       "      <td>100.56</td>\n",
       "      <td>102.37</td>\n",
       "      <td>99.87</td>\n",
       "      <td>100.70</td>\n",
       "      <td>93.62</td>\n",
       "      <td>Apple</td>\n",
       "      <td>2016</td>\n",
       "      <td>1</td>\n",
       "    </tr>\n",
       "    <tr>\n",
       "      <th>156</th>\n",
       "      <td>2016-01-07</td>\n",
       "      <td>98.68</td>\n",
       "      <td>100.13</td>\n",
       "      <td>96.43</td>\n",
       "      <td>96.45</td>\n",
       "      <td>89.67</td>\n",
       "      <td>Apple</td>\n",
       "      <td>2016</td>\n",
       "      <td>1</td>\n",
       "    </tr>\n",
       "    <tr>\n",
       "      <th>157</th>\n",
       "      <td>2016-01-08</td>\n",
       "      <td>98.55</td>\n",
       "      <td>99.11</td>\n",
       "      <td>96.76</td>\n",
       "      <td>96.96</td>\n",
       "      <td>90.14</td>\n",
       "      <td>Apple</td>\n",
       "      <td>2016</td>\n",
       "      <td>1</td>\n",
       "    </tr>\n",
       "  </tbody>\n",
       "</table>\n",
       "</div>"
      ],
      "text/plain": [
       "           Date    Open    High     Low   Close  Adj Close  Stock  Year  Month\n",
       "153  2016-01-04  102.61  105.37  102.00  105.35      97.94  Apple  2016      1\n",
       "154  2016-01-05  105.75  105.85  102.41  102.71      95.49  Apple  2016      1\n",
       "155  2016-01-06  100.56  102.37   99.87  100.70      93.62  Apple  2016      1\n",
       "156  2016-01-07   98.68  100.13   96.43   96.45      89.67  Apple  2016      1\n",
       "157  2016-01-08   98.55   99.11   96.76   96.96      90.14  Apple  2016      1"
      ]
     },
     "execution_count": 70,
     "metadata": {},
     "output_type": "execute_result"
    }
   ],
   "source": [
    "stockData.head()"
   ]
  },
  {
   "cell_type": "markdown",
   "metadata": {},
   "source": [
    "## Step 19:\n",
    "**Charts:** <br>\n",
    "Below a series of charts are used to investigate the datasets further <br>\n",
    "The first eight charts look at the open and closing stock values of both Apple and Amazon stock over the time period as a line graph and dist plot<br>"
   ]
  },
  {
   "cell_type": "code",
   "execution_count": 71,
   "metadata": {},
   "outputs": [
    {
     "data": {
      "text/plain": [
       "<seaborn.axisgrid.FacetGrid at 0x1e5de2e5b20>"
      ]
     },
     "execution_count": 71,
     "metadata": {},
     "output_type": "execute_result"
    },
    {
     "data": {
      "image/png": "[encoded data removed]",
      "text/plain": [
       "<Figure size 1080x216 with 1 Axes>"
      ]
     },
     "metadata": {
      "needs_background": "light"
     },
     "output_type": "display_data"
    }
   ],
   "source": [
    "sns.relplot(x=\"Date\", y=\"Open\", data = aaplData, aspect=5, height=3)"
   ]
  },
  {
   "cell_type": "code",
   "execution_count": 72,
   "metadata": {},
   "outputs": [
    {
     "data": {
      "text/plain": [
       "<seaborn.axisgrid.FacetGrid at 0x1e5de9dd940>"
      ]
     },
     "execution_count": 72,
     "metadata": {},
     "output_type": "execute_result"
    },
    {
     "data": {
      "image/png": "[encoded data removed]",
      "text/plain": [
       "<Figure size 1080x216 with 1 Axes>"
      ]
     },
     "metadata": {
      "needs_background": "light"
     },
     "output_type": "display_data"
    }
   ],
   "source": [
    "sns.relplot(x=\"Date\", y=\"Close\", data = aaplData, aspect=5, height=3)"
   ]
  },
  {
   "cell_type": "code",
   "execution_count": 73,
   "metadata": {},
   "outputs": [
    {
     "data": {
      "text/plain": [
       "<seaborn.axisgrid.FacetGrid at 0x1e5de9c0e50>"
      ]
     },
     "execution_count": 73,
     "metadata": {},
     "output_type": "execute_result"
    },
    {
     "data": {
      "image/png": "[encoded data removed]",
      "text/plain": [
       "<Figure size 1080x216 with 1 Axes>"
      ]
     },
     "metadata": {
      "needs_background": "light"
     },
     "output_type": "display_data"
    }
   ],
   "source": [
    "sns.relplot(x=\"Date\", y=\"Open\", data = amazonData, aspect=5, height=3)"
   ]
  },
  {
   "cell_type": "code",
   "execution_count": 74,
   "metadata": {},
   "outputs": [
    {
     "data": {
      "text/plain": [
       "<seaborn.axisgrid.FacetGrid at 0x1e5ddce32e0>"
      ]
     },
     "execution_count": 74,
     "metadata": {},
     "output_type": "execute_result"
    },
    {
     "data": {
      "image/png": "[encoded data removed]",
      "text/plain": [
       "<Figure size 1080x216 with 1 Axes>"
      ]
     },
     "metadata": {
      "needs_background": "light"
     },
     "output_type": "display_data"
    }
   ],
   "source": [
    "sns.relplot(x=\"Date\", y=\"Close\", data = amazonData, aspect=5, height=3)"
   ]
  },
  {
   "cell_type": "code",
   "execution_count": 76,
   "metadata": {},
   "outputs": [
    {
     "data": {
      "text/plain": [
       "<matplotlib.axes._subplots.AxesSubplot at 0x1e5dea921f0>"
      ]
     },
     "execution_count": 76,
     "metadata": {},
     "output_type": "execute_result"
    },
    {
     "data": {
      "image/png": "[encoded data removed]",
      "text/plain": [
       "<Figure size 432x288 with 1 Axes>"
      ]
     },
     "metadata": {
      "needs_background": "light"
     },
     "output_type": "display_data"
    }
   ],
   "source": [
    "sns.distplot(aaplData.Open)"
   ]
  },
  {
   "cell_type": "code",
   "execution_count": 77,
   "metadata": {},
   "outputs": [
    {
     "data": {
      "text/plain": [
       "<matplotlib.axes._subplots.AxesSubplot at 0x1e5dfb52f10>"
      ]
     },
     "execution_count": 77,
     "metadata": {},
     "output_type": "execute_result"
    },
    {
     "data": {
      "image/png": "[encoded data removed]",
      "text/plain": [
       "<Figure size 432x288 with 1 Axes>"
      ]
     },
     "metadata": {
      "needs_background": "light"
     },
     "output_type": "display_data"
    }
   ],
   "source": [
    "sns.distplot(amazonData.Open)"
   ]
  },
  {
   "cell_type": "code",
   "execution_count": 78,
   "metadata": {},
   "outputs": [
    {
     "data": {
      "text/plain": [
       "<matplotlib.axes._subplots.AxesSubplot at 0x1e5dfbb2d00>"
      ]
     },
     "execution_count": 78,
     "metadata": {},
     "output_type": "execute_result"
    },
    {
     "data": {
      "image/png": "[encoded data removed]",
      "text/plain": [
       "<Figure size 432x288 with 1 Axes>"
      ]
     },
     "metadata": {
      "needs_background": "light"
     },
     "output_type": "display_data"
    }
   ],
   "source": [
    "sns.distplot(aaplData.Close)"
   ]
  },
  {
   "cell_type": "code",
   "execution_count": 79,
   "metadata": {
    "scrolled": true
   },
   "outputs": [
    {
     "data": {
      "text/plain": [
       "<matplotlib.axes._subplots.AxesSubplot at 0x1e5dfc352b0>"
      ]
     },
     "execution_count": 79,
     "metadata": {},
     "output_type": "execute_result"
    },
    {
     "data": {
      "image/png": "[encoded data removed]",
      "text/plain": [
       "<Figure size 432x288 with 1 Axes>"
      ]
     },
     "metadata": {
      "needs_background": "light"
     },
     "output_type": "display_data"
    }
   ],
   "source": [
    "sns.distplot(amazonData.Close)"
   ]
  },
  {
   "cell_type": "code",
   "execution_count": 80,
   "metadata": {},
   "outputs": [
    {
     "data": {
      "text/plain": [
       "<seaborn.axisgrid.FacetGrid at 0x1e5dfbb2fd0>"
      ]
     },
     "execution_count": 80,
     "metadata": {},
     "output_type": "execute_result"
    },
    {
     "data": {
      "image/png": "[encoded data removed]",
      "text/plain": [
       "<Figure size 1147.25x216 with 1 Axes>"
      ]
     },
     "metadata": {
      "needs_background": "light"
     },
     "output_type": "display_data"
    }
   ],
   "source": [
    "sns.relplot(x=\"Open\", y=\"Stock\", hue = \"Month\", data = stockData, aspect=5, height=3)"
   ]
  },
  {
   "cell_type": "code",
   "execution_count": 81,
   "metadata": {},
   "outputs": [
    {
     "data": {
      "text/plain": [
       "<seaborn.axisgrid.FacetGrid at 0x1e5de2e5340>"
      ]
     },
     "execution_count": 81,
     "metadata": {},
     "output_type": "execute_result"
    },
    {
     "data": {
      "image/png": "[encoded data removed]",
      "text/plain": [
       "<Figure size 1147.25x216 with 1 Axes>"
      ]
     },
     "metadata": {
      "needs_background": "light"
     },
     "output_type": "display_data"
    }
   ],
   "source": [
    "sns.relplot(x=\"Open\", y=\"Stock\", hue = \"Month\", data = amazonData, aspect=5, height=3)"
   ]
  },
  {
   "cell_type": "code",
   "execution_count": 82,
   "metadata": {},
   "outputs": [
    {
     "data": {
      "text/plain": [
       "<seaborn.axisgrid.FacetGrid at 0x1e5dfd19eb0>"
      ]
     },
     "execution_count": 82,
     "metadata": {},
     "output_type": "execute_result"
    },
    {
     "data": {
      "image/png": "[encoded data removed]",
      "text/plain": [
       "<Figure size 1147.25x216 with 1 Axes>"
      ]
     },
     "metadata": {
      "needs_background": "light"
     },
     "output_type": "display_data"
    }
   ],
   "source": [
    "sns.relplot(x=\"Open\", y=\"Stock\", hue = \"Month\", data = aaplData, aspect=5, height=3)"
   ]
  },
  {
   "cell_type": "markdown",
   "metadata": {},
   "source": [
    "# Section 6: Generate valuable insights"
   ]
  },
  {
   "cell_type": "markdown",
   "metadata": {},
   "source": [
    "**Insight 1:** <br>\n",
    "The first thing which is notable from the charts is that both stocks show an increase over the period being looked at (2016-2020) This result was expected as both companies have shown continuing growth over this period in terms of market share <br><br>\n",
    "**Insight 2:** <br>\n",
    "We can also see from the charts that both stock's opening and closing prices are almost identical over the period. Again this is an expected result. The growth seen in the stock prices is over a period of years, whereas the opening and closing values for each day would be expected to remain very similar with relatively minor daily rises and falls. <br><br>\n",
    "**Insight 3:** <br>\n",
    "When examining the opening and closing values of the stock prices over time, we can see that despite the vast differences in the range of stock prices for each company (Apple 90-327, Amazon 478-2500), the graphs share very similar trends over the period.<br>\n",
    "As both companies operate within the same sector, we would expect that they would be affected similarly by external market factors and show similar trends in stock price changes <br>\n",
    "This can be seen in the severe fall in both stock prices shown around the start of 2020. This fall coincides with the start of the Covid-19 pandemic. Similarly both companies have shown significant growth since this period.<br><br>\n",
    "**Insight 4:** <br>\n",
    "When plotting the opening stock prices for both companies and using the Month as hue we can see some interesting data.<br>\n",
    "The Apple opening stock price shows a good mix with low and high opening stock prices occurring during all months <br>\n",
    "The Amazon stock price however shows an interesting trend with the majority of it's highest opening stock prices occurring during the start-middle months of the year with almost no opening values over approx. 1800 occurring in the final months of the year."
   ]
  },
  {
   "cell_type": "markdown",
   "metadata": {},
   "source": [
    "## Step 19:\n",
    "**Export datasets:** <br>\n",
    "The code below is used to save the datasets we have created to new .csv files within the project folder <br>\n",
    "These can then be used separately outside of python and uploaded to the github repository"
   ]
  },
  {
   "cell_type": "code",
   "execution_count": 83,
   "metadata": {},
   "outputs": [],
   "source": [
    "aaplData.to_csv('AppleStock.csv', index = False)"
   ]
  },
  {
   "cell_type": "code",
   "execution_count": 84,
   "metadata": {},
   "outputs": [],
   "source": [
    "amazonData.to_csv('AmazonStock.csv', index = False)"
   ]
  },
  {
   "cell_type": "code",
   "execution_count": 85,
   "metadata": {},
   "outputs": [],
   "source": [
    "stockData.to_csv('CombinedStock.csv', index = False)"
   ]
  },
  {
   "cell_type": "code",
   "execution_count": null,
   "metadata": {},
   "outputs": [],
   "source": []
  }
 ],
 "metadata": {
  "kernelspec": {
   "display_name": "Python 3",
   "language": "python",
   "name": "python3"
  },
  "language_info": {
   "codemirror_mode": {
    "name": "ipython",
    "version": 3
   },
   "file_extension": ".py",
   "mimetype": "text/x-python",
   "name": "python",
   "nbconvert_exporter": "python",
   "pygments_lexer": "ipython3",
   "version": "3.8.3"
  }
 },
 "nbformat": 4,
 "nbformat_minor": 4
}
